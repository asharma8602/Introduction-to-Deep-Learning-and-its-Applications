{
 "cells": [
  {
   "cell_type": "markdown",
   "metadata": {
    "id": "rvFM645NE-D2"
   },
   "source": [
    "# Assignment 2\n",
    "In this assignment, we will go through Perceptron, Linear Classifiers, Loss Functions, Gradient Descent and Back Propagation.\n",
    "\n",
    "\n",
    "PS. this one is not from Stanford's course.\n",
    "\n",
    "\n",
    "\n",
    "\\\n",
    "\n",
    "## Instructions\n",
    "* This notebook contain blocks of code, you are required to complete those blocks(where required)\n",
    "* You are required to copy this notebook (\"copy to drive\" above) and complete the code.(DO NOT CHANGE THE NAME OF THE FUNCTIONS)"
   ]
  },
  {
   "cell_type": "markdown",
   "metadata": {
    "collapsed": true,
    "id": "QLtp15rqE-EU"
   },
   "source": [
    "# Part 1: Perceptron\n",
    "In this section, we will see how to implement a perceptron. Goal would be for you to delve into the mathematics.\n"
   ]
  },
  {
   "cell_type": "markdown",
   "metadata": {
    "id": "Zao4e-DphaGA"
   },
   "source": [
    "## Intro\n",
    "What's a perceptron? It's an algorithm modelled on biological computational model to classify things into binary classes. It's a supervides learning algorithm, meaning that you need to provide labelled data containing features and the actual classifications. A perceptron would take these features as input and spit out a binary value (0 or 1). While training the model with training data, we try to minimise the error and learn the parameters involved."
   ]
  },
  {
   "cell_type": "markdown",
   "metadata": {
    "id": "wDTUoAd6ixm-"
   },
   "source": [
    "**How does it work?**\\\n",
    "A perceptron is modelled on a biological neuron. A neuron has input dendrites and the output is carried by axons. Similarly, a perceptron takes inputs called \"features\". After processing, a perceptron gives output. For computation, it has a \"weight\" vector which is multipled with feature vector. An activation function is added to introduce some non linearities and the output is given out.\\\n",
    "It can be represented as: $$  f=\\sum_{i=1}^{m} w_ix_i +b$$\n",
    "\n",
    "Let's implement this simple function to give an output.\n",
    "\n"
   ]
  },
  {
   "cell_type": "code",
   "execution_count": 14,
   "metadata": {
    "id": "iXezofBIgzId"
   },
   "outputs": [],
   "source": [
    "import numpy as np\n",
    "\n",
    "class perceptron():\n",
    "    def __init__(self,num_input_features):\n",
    "        self.weights = np.random.randn(num_input_features)  # represents an vector of weights wi\n",
    "        self.bias = np.random.random()   # represents the bias b\n",
    "\n",
    "    def activation(self,x):\n",
    "        \n",
    "        return np.heaviside(x,0.5)\n",
    "        '''\n",
    "            Implement heavside step activation function here (google ;))\n",
    "        '''\n",
    "        pass\n",
    "            \n",
    "\n",
    "    def forward(self,x: np.ndarray):\n",
    "        '''\n",
    "            you have random initialized weights and bias\n",
    "            you can access them using `self.weights` and `self.bias`\n",
    "            you should use activation function before returning\n",
    "        \n",
    "            x : input features\n",
    "            return : a binary value as the output of the perceptron \n",
    "        '''\n",
    "        y=self.weights\n",
    "        b=self.bias\n",
    "        temp=x.dot(y)\n",
    "        myval=temp+b\n",
    "        return np.heaviside(myval,0.5)\n",
    "        # YOUR CODE HERE\n",
    "        pass\n",
    "        # YOUR CODE HERE"
   ]
  },
  {
   "cell_type": "code",
   "execution_count": 15,
   "metadata": {},
   "outputs": [
    {
     "name": "stdout",
     "output_type": "stream",
     "text": [
      "[0 1 2 3 4 5 6 7]\n"
     ]
    }
   ],
   "source": [
    "import numpy as np\n",
    "y=np.arange(8)\n",
    "print(y)"
   ]
  },
  {
   "cell_type": "code",
   "execution_count": 18,
   "metadata": {
    "id": "oSKwDFAyocVo"
   },
   "outputs": [
    {
     "name": "stdout",
     "output_type": "stream",
     "text": [
      "1.0\n"
     ]
    }
   ],
   "source": [
    "np.random.seed(0)\n",
    "perc = perceptron(8)\n",
    "assert perc.forward(np.arange(8))==1\n",
    "print(perc.forward(np.arange(8)))"
   ]
  },
  {
   "cell_type": "markdown",
   "metadata": {
    "collapsed": true,
    "id": "NWTTg1e9r7uM"
   },
   "source": [
    "# Part 2: Linear Classifier\n",
    "In this section, we will see how to implement a linear Classifier.\n"
   ]
  },
  {
   "cell_type": "markdown",
   "metadata": {
    "id": "DYDO4GcHr7uM"
   },
   "source": [
    "## Intro\n"
   ]
  },
  {
   "cell_type": "markdown",
   "metadata": {
    "id": "-HFvjH06r7uN"
   },
   "source": [
    "**How does it work?**\n",
    "\n",
    "Linear Classifier uses the following function: $$Y = WX+b$$ Where, $W$ is a 2d array of weights with shape (#features, #classes).\n",
    "\n",
    "\n",
    "Let's implement this classifier.\n",
    "\n"
   ]
  },
  {
   "cell_type": "code",
   "execution_count": 19,
   "metadata": {
    "id": "9A13CEkGr7uN"
   },
   "outputs": [],
   "source": [
    "import numpy as np\n",
    "\n",
    "class LinearClassifier():\n",
    "    def __init__(self,num_input_features=32,num_classes=5):\n",
    "        self.weights = np.random.randn(num_input_features,num_classes)\n",
    "        self.bias = np.random.rand(num_classes)\n",
    "\n",
    "    def forward(self,x: np.ndarray):\n",
    "        '''\n",
    "            x: input features\n",
    "            you have random initialized weights and bias\n",
    "            you can access then using `self.weights` and `self.bias`\n",
    "            return an output vector of num_classes size\n",
    "        '''\n",
    "        arr=np.dot(x,self.weights)\n",
    "        return arr+self.bias\n",
    "        # YOUR CODE HERE\n",
    "        pass\n",
    "        # YOUR CODE HERE"
   ]
  },
  {
   "cell_type": "code",
   "execution_count": 20,
   "metadata": {
    "id": "zgzPxyTsr7uN"
   },
   "outputs": [
    {
     "data": {
      "text/plain": [
       "array([[ 1.30208164,  5.58136003,  0.87793013, -4.7332119 ,  4.81172123]])"
      ]
     },
     "execution_count": 20,
     "metadata": {},
     "output_type": "execute_result"
    }
   ],
   "source": [
    "np.random.seed(0)\n",
    "lc = LinearClassifier()\n",
    "lc.forward(np.random.rand(1,32))\n",
    "# Should be close to:\n",
    "# array([[ 1.30208164,  5.58136003,  0.87793013, -4.7332119 ,  4.81172123]])"
   ]
  },
  {
   "cell_type": "markdown",
   "metadata": {
    "collapsed": true,
    "id": "ZVgOVzJetuqo"
   },
   "source": [
    "# Part 3: Loss Functions, Gradient descent and Backpropagation\n",
    "\n",
    "\n"
   ]
  },
  {
   "cell_type": "markdown",
   "metadata": {
    "id": "4pXryjpctuqy"
   },
   "source": [
    "## Intro\n",
    "\n",
    "Loss Functions tells how \"off\" the output od our model is. Based upon the application, you can use several different loss functions. Formally, A loss function is a function $L:(z,y)\\in\\mathbb{R}\\times Y\\longmapsto L(z,y)\\in\\mathbb{R}$ that takes as inputs the predicted value $z$ corresponding to the real data value yy and outputs how different they are We'll implement L1 loss, L2 loss, Logistic loss, hinge loss and cross entropy loss functions."
   ]
  },
  {
   "cell_type": "markdown",
   "metadata": {
    "id": "QGRb8BHotuqy"
   },
   "source": [
    "### **L1 loss**\n",
    "L1 loss is the linear loss function  $L = \\dfrac{1}{2}|y−z| $\n",
    "\n"
   ]
  },
  {
   "cell_type": "code",
   "execution_count": 61,
   "metadata": {
    "id": "YxVh6IL2tuqz"
   },
   "outputs": [],
   "source": [
    "import numpy as np\n",
    "def L1Loss(z,y):\n",
    "    '''\n",
    "        y : True output.\n",
    "        z : Predicted output.\n",
    "        return : L\n",
    "    '''\n",
    "    temp=np.absolute(y-z)\n",
    "    sm=np.sum(temp)\n",
    "    return 0.5*sm\n",
    "    pass"
   ]
  },
  {
   "cell_type": "markdown",
   "metadata": {
    "id": "2xy8ZS84cKtQ"
   },
   "source": [
    "\n",
    "### **L2 loss**\n",
    "L2 loss is the quadratic loss function or the least square error function  $L = \\dfrac{1}{2}(y−z)^2 $\n",
    "\n"
   ]
  },
  {
   "cell_type": "code",
   "execution_count": 62,
   "metadata": {
    "id": "JThp5P-KcKtS"
   },
   "outputs": [],
   "source": [
    "import numpy as np\n",
    "def L2Loss(z,y):\n",
    "    '''\n",
    "        y : True output. \n",
    "        z : Predicted output. \n",
    "        return : L\n",
    "    '''\n",
    "    temp=y-z\n",
    "    sqrd=np.square(temp)\n",
    "    sqrd=np.sum(sqrd)\n",
    "    return 0.5*sqrd\n",
    "    pass"
   ]
  },
  {
   "cell_type": "markdown",
   "metadata": {
    "id": "Z2JNLnWYcLSC"
   },
   "source": [
    "### **Hinge Loss**\n",
    "Hinge loss is: $ L = max( 0, 1 - yz ) $"
   ]
  },
  {
   "cell_type": "code",
   "execution_count": 63,
   "metadata": {
    "id": "gQ1YM4J-cLSC"
   },
   "outputs": [],
   "source": [
    "import numpy as np\n",
    "def hingeLoss(z,y):\n",
    "    '''\n",
    "        y : True output. \n",
    "        z : Predicted output. \n",
    "        return : L\n",
    "    '''\n",
    "    return max(0,1-np.dot(z,y))\n",
    "    pass"
   ]
  },
  {
   "cell_type": "markdown",
   "metadata": {
    "id": "m15_MjradMNY"
   },
   "source": [
    "### **Cross Entropy Loss**\n",
    "Another very famous loss function is Cross Entropy loss: $ L = −[ylog(z)+(1−y)log(1−z)] $."
   ]
  },
  {
   "cell_type": "code",
   "execution_count": 64,
   "metadata": {
    "id": "snJLqhszdMNY"
   },
   "outputs": [],
   "source": [
    "import numpy as np\n",
    "def CELoss(z,y):\n",
    "    '''\n",
    "        y : True output. \n",
    "        z : Predicted output. \n",
    "        return : L\n",
    "    '''\n",
    "    return -(np.dot(y,np.log(z))+np.dot((1-y),np.log(1-z)))\n",
    "    pass"
   ]
  },
  {
   "cell_type": "markdown",
   "metadata": {
    "id": "OsRPsfzxyEVL"
   },
   "source": [
    "### **0-1 Loss**\n",
    "Loss Function used by perceptron is: $ \\begin{cases} \n",
    "      0=z-y & z=y \\\\\n",
    "      1=\\dfrac{z-y}{z-y} & z\\neq y\n",
    "   \\end{cases} $."
   ]
  },
  {
   "cell_type": "code",
   "execution_count": 71,
   "metadata": {
    "id": "5sA7GxLHyEVM"
   },
   "outputs": [],
   "source": [
    "import numpy as np\n",
    "def zeroOneLoss(z,y):\n",
    "    '''\n",
    "        y : True output. \n",
    "        z : Predicted output. \n",
    "        return : L\n",
    "    '''\n",
    "    if(np.array_equal(z,y)):\n",
    "        return 1\n",
    "    else:\n",
    "        return 0\n",
    "    pass"
   ]
  },
  {
   "cell_type": "markdown",
   "metadata": {
    "id": "CWhbibHcgRR8"
   },
   "source": [
    "## Cost Function\n",
    "The cost function $J$ is commonly used to assess the performance of a model, and is defined with the loss function $L$ as follows:\n",
    "$$\\boxed{J(\\theta)=\\sum_{i=1}^mL(h_\\theta(x^{(i)}), y^{(i)})}$$\n",
    "where $h_\\theta$ is the hypothesis function i.e. the function used to predict the output."
   ]
  },
  {
   "cell_type": "code",
   "execution_count": 79,
   "metadata": {
    "id": "SSbmhW4og97t"
   },
   "outputs": [],
   "source": [
    "lossFunctions = {\n",
    "    \"l1\" : L1Loss,\n",
    "    \"l2\" : L2Loss,\n",
    "    \"hinge\" : hingeLoss,\n",
    "    \"cross-entropy\" : CELoss,\n",
    "    \"0-1\" : zeroOneLoss\n",
    "}\n",
    "\n",
    "def cost(Z : np.ndarray, Y : np.ndarray, loss : str):\n",
    "    '''\n",
    "        Z : a numpy array of predictions.\n",
    "        Y : a numpy array of true values.\n",
    "        return : A numpy array of costs calculated for each example.\n",
    "    '''\n",
    "    loss_func = lossFunctions[loss]\n",
    "    # YOUR CODE HERE\n",
    "    J=np.empty((1,5))\n",
    "    index=0\n",
    "    for i in lossFunctions:\n",
    "        print(lossFunctions[i](Z,Y))\n",
    "        J[0][index]=lossFunctions[i](Z,Y)\n",
    "        index=index+1\n",
    "    return J\n",
    "    # YOUR CODE HERE\n",
    "    pass"
   ]
  },
  {
   "cell_type": "code",
   "execution_count": 80,
   "metadata": {},
   "outputs": [
    {
     "name": "stdout",
     "output_type": "stream",
     "text": [
      "0.2\n",
      "0.02\n",
      "0.6\n",
      "2.592989556688934\n",
      "0\n"
     ]
    }
   ],
   "source": [
    "temp=cost(np.array([0.1,0.2,0.3,0.4]),np.array([0.2,0.3,0.4,0.5]),\"l1\")"
   ]
  },
  {
   "cell_type": "markdown",
   "metadata": {
    "id": "upsN7A0zjGqx"
   },
   "source": [
    "## Gradient Descent and Back Propagation\n",
    "Gradient Descent is an algorithm that minimizes the loss function by calculating it's gradient. By noting $\\alpha\\in\\mathbb{R}$ the learning rate, the update rule for gradient descent is expressed with the learning rate $\\alpha$ and the cost function $J$ as follows:\n",
    "\n",
    "$$\\boxed{ W \\longleftarrow W -\\alpha\\nabla J( W )}$$\n",
    "​\n"
   ]
  },
  {
   "cell_type": "markdown",
   "metadata": {
    "id": "AFCN-fYCqidi"
   },
   "source": [
    "But we need to find the partial derivative of Loss function wrt every parameter to know what is the slight change that we need to apply to our parameters. This becomes particularly hard if we have more than 1 layer in our algorithm. Here's where **Back Propagation** comes in. It's a way to find gradients wrt every parameter using the chain rule. Backpropagation is a method to update the weights in the neural network by taking into account the actual output and the desired output. The derivative with respect to weight ww is computed using chain rule and is of the following form:\n",
    "\n",
    "$$\\boxed{\\frac{\\partial L(z,y)}{\\partial w}=\\frac{\\partial L(z,y)}{\\partial a}\\times\\frac{\\partial a}{\\partial z}\\times\\frac{\\partial z}{\\partial w}}$$\n",
    "​\n",
    " \n",
    "As a result, the weight is updated as follows:\n",
    "\n",
    "$$\\boxed{w\\longleftarrow w-\\alpha\\frac{\\partial L(z,y)}{\\partial w}}$$\n",
    "\n",
    "So, In a neural network, weights are updated as follows:\n",
    "\n",
    "* Step 1: Take a batch of training data.\n",
    "* Step 2: Perform forward propagation to obtain the corresponding loss.\n",
    "* Step 3: Backpropagate the loss to get the gradients.\n",
    "* Step 4: Use the gradients to update the weights of the network.\n",
    "​\n",
    "\n",
    "Bonus Problem\n",
    " \n",
    "Now, Assuming that you know Back Propagation (read a bit about it, if you don't), we'll now implement an image classification model on CIFAR-10."
   ]
  },
  {
   "cell_type": "markdown",
   "metadata": {
    "id": "sJoG5kkYopRN"
   },
   "source": [
    "# **Bonus Problem**\n",
    "\n",
    "Now, Assuming that you know Back Propagation (read a bit about it, if you don't), we'll now implement an image classification model on CIFAR-10."
   ]
  },
  {
   "cell_type": "code",
   "execution_count": 1,
   "metadata": {
    "id": "_4-4RceVsor_"
   },
   "outputs": [
    {
     "name": "stdout",
     "output_type": "stream",
     "text": [
      "2.7.0\n"
     ]
    }
   ],
   "source": [
    "import tensorflow as tf  \n",
    " \n",
    "# Display the version\n",
    "print(tf.__version__)    \n",
    " \n",
    "# other imports\n",
    "import numpy as np\n",
    "import matplotlib.pyplot as plt\n",
    "from tensorflow.keras.layers import Input, Conv2D, Dense, Flatten, Dropout\n",
    "from tensorflow.keras.layers import GlobalMaxPooling2D, MaxPooling2D\n",
    "from tensorflow.keras.layers import BatchNormalization\n",
    "from tensorflow.keras.models import Model"
   ]
  },
  {
   "cell_type": "code",
   "execution_count": 2,
   "metadata": {
    "id": "yyplk5PLEUsJ"
   },
   "outputs": [
    {
     "name": "stdout",
     "output_type": "stream",
     "text": [
      "Downloading data from https://www.cs.toronto.edu/~kriz/cifar-10-python.tar.gz\n",
      "170500096/170498071 [==============================] - 94s 1us/step\n",
      "170508288/170498071 [==============================] - 94s 1us/step\n",
      "(50000, 32, 32, 3) (50000, 1) (10000, 32, 32, 3) (10000, 1)\n"
     ]
    }
   ],
   "source": [
    "# Load in the data\n",
    "cifar10 = tf.keras.datasets.cifar10\n",
    " \n",
    "# Distribute it to train and test set\n",
    "(x_train, y_train), (x_test, y_test) = cifar10.load_data()\n",
    "print(x_train.shape, y_train.shape, x_test.shape, y_test.shape)\n",
    "\n",
    "# Reduce pixel values\n",
    "x_train, x_test = x_train / 255.0, x_test / 255.0\n",
    " \n",
    "# flatten the label values\n",
    "y_train, y_test = y_train.flatten(), y_test.flatten()"
   ]
  },
  {
   "cell_type": "code",
   "execution_count": 6,
   "metadata": {
    "id": "qQhkATYhEkkC"
   },
   "outputs": [
    {
     "data": {
      "image/png": "[encoded data removed]",
      "text/plain": [
       "<Figure size 432x288 with 1 Axes>"
      ]
     },
     "metadata": {
      "needs_background": "light"
     },
     "output_type": "display_data"
    }
   ],
   "source": [
    "'''visualize data by plotting images'''\n",
    "# YOUR CODE HERE\n",
    "pass\n",
    "plt.imshow(x_train[5])\n",
    "plt.show()\n",
    "# YOUR CODE HERE"
   ]
  },
  {
   "cell_type": "code",
   "execution_count": 7,
   "metadata": {},
   "outputs": [
    {
     "name": "stdout",
     "output_type": "stream",
     "text": [
      "10\n"
     ]
    }
   ],
   "source": [
    "print(len(set(y_train)))"
   ]
  },
  {
   "cell_type": "code",
   "execution_count": 20,
   "metadata": {},
   "outputs": [],
   "source": [
    "import keras"
   ]
  },
  {
   "cell_type": "code",
   "execution_count": 34,
   "metadata": {
    "id": "yJgho2AEBFbx"
   },
   "outputs": [
    {
     "name": "stdout",
     "output_type": "stream",
     "text": [
      "number of classes: 10\n",
      "Model: \"sequential_2\"\n",
      "_________________________________________________________________\n",
      " Layer (type)                Output Shape              Param #   \n",
      "=================================================================\n",
      " flatten_2 (Flatten)         (None, 3072)              0         \n",
      "                                                                 \n",
      " dense_6 (Dense)             (None, 1000)              3073000   \n",
      "                                                                 \n",
      " dense_7 (Dense)             (None, 1000)              1001000   \n",
      "                                                                 \n",
      " dense_8 (Dense)             (None, 10)                10010     \n",
      "                                                                 \n",
      "=================================================================\n",
      "Total params: 4,084,010\n",
      "Trainable params: 4,084,010\n",
      "Non-trainable params: 0\n",
      "_________________________________________________________________\n"
     ]
    }
   ],
   "source": [
    "# number of classes\n",
    "K = len(set(y_train))\n",
    "'''\n",
    " calculate total number of classes\n",
    " for output layer\n",
    "'''\n",
    "print(\"number of classes:\", K)\n",
    "''' \n",
    " Build the model using the functional API\n",
    " input layer\n",
    "'''\n",
    "\n",
    "Model=keras.Sequential([\n",
    "    keras.layers.Flatten(input_shape=(32,32,3)),\n",
    "    keras.layers.Dense(1000,activation='relu'),\n",
    "    keras.layers.Dense(1000,activation='relu'),\n",
    "    keras.layers.Dense(10,activation='sigmoid')\n",
    "])\n",
    "\n",
    "'''Hidden layer'''\n",
    "# YOUR CODE HERE\n",
    "pass\n",
    "# YOUR CODE HERE\n",
    " \n",
    "\"\"\"last hidden layer i.e.. output layer\"\"\"\n",
    "# YOUR CODE HERE\n",
    "pass\n",
    "# YOUR CODE HERE\n",
    " \n",
    " #model description\n",
    "model.summary()"
   ]
  },
  {
   "cell_type": "code",
   "execution_count": 39,
   "metadata": {
    "id": "PLc4Bay65TyA"
   },
   "outputs": [],
   "source": [
    "# Compile\n",
    "Model.compile(optimizer='SGD',\n",
    "                loss='sparse_categorical_crossentropy',\n",
    "                metrics=['accuracy'])"
   ]
  },
  {
   "cell_type": "code",
   "execution_count": 40,
   "metadata": {
    "id": "U0fGsDCRsQrn"
   },
   "outputs": [
    {
     "name": "stdout",
     "output_type": "stream",
     "text": [
      "1563/1563 [==============================] - 28s 18ms/step - loss: 1.8319 - accuracy: 0.3471\n"
     ]
    },
    {
     "data": {
      "text/plain": [
       "<keras.callbacks.History at 0x1fc6689f6a0>"
      ]
     },
     "execution_count": 40,
     "metadata": {},
     "output_type": "execute_result"
    }
   ],
   "source": [
    "# Fit\n",
    "Model.fit(x_train,y_train,epochs=1)"
   ]
  },
  {
   "cell_type": "code",
   "execution_count": 43,
   "metadata": {
    "id": "RDq_RE6osSh8"
   },
   "outputs": [
    {
     "name": "stdout",
     "output_type": "stream",
     "text": [
      "Original label is bird and predicted label is deerdog\n"
     ]
    },
    {
     "data": {
      "image/png": "[encoded data removed]",
      "text/plain": [
       "<Figure size 432x288 with 1 Axes>"
      ]
     },
     "metadata": {
      "needs_background": "light"
     },
     "output_type": "display_data"
    }
   ],
   "source": [
    "# label mapping\n",
    " \n",
    "labels = '''airplane automobile bird cat deerdog frog horseship truck'''.split()\n",
    " \n",
    "# select the image from our test dataset\n",
    "image_number = 67\n",
    " \n",
    "# display the image\n",
    "plt.imshow(x_test[image_number])\n",
    " \n",
    "# load the image in an array\n",
    "n = np.array(x_test[image_number])\n",
    " \n",
    "# reshape it\n",
    "p = n.reshape(1, 32, 32, 3)\n",
    " \n",
    "# pass in the network for prediction and\n",
    "# save the predicted label\n",
    "predicted_label = labels[model.predict(p).argmax()]\n",
    " \n",
    "# load the original label\n",
    "original_label = labels[y_test[image_number]]\n",
    " \n",
    "# display the result\n",
    "print(\"Original label is {} and predicted label is {}\".format(\n",
    "    original_label, predicted_label))"
   ]
  },
  {
   "cell_type": "code",
   "execution_count": null,
   "metadata": {},
   "outputs": [],
   "source": []
  }
 ],
 "metadata": {
  "colab": {
   "collapsed_sections": [],
   "name": "Copy of DL_Stamatics_A2.ipynb",
   "provenance": []
  },
  "kernelspec": {
   "display_name": "Python 3 (ipykernel)",
   "language": "python",
   "name": "python3"
  },
  "language_info": {
   "codemirror_mode": {
    "name": "ipython",
    "version": 3
   },
   "file_extension": ".py",
   "mimetype": "text/x-python",
   "name": "python",
   "nbconvert_exporter": "python",
   "pygments_lexer": "ipython3",
   "version": "3.9.6"
  }
 },
 "nbformat": 4,
 "nbformat_minor": 1
}
