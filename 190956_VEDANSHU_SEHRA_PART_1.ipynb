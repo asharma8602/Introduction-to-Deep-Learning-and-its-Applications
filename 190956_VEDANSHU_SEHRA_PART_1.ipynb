{
  "nbformat": 4,
  "nbformat_minor": 0,
  "metadata": {
    "colab": {
      "name": "190956_VEDANSHU_SEHRA_PART_1.ipynb",
      "provenance": [],
      "collapsed_sections": [],
      "authorship_tag": "ABX9TyOBsOYp4vFxm9Mrditzi4d2",
      "include_colab_link": true
    },
    "kernelspec": {
      "name": "python3",
      "display_name": "Python 3"
    },
    "language_info": {
      "name": "python"
    }
  },
  "cells": [
    {
      "cell_type": "markdown",
      "metadata": {
        "id": "view-in-github",
        "colab_type": "text"
      },
      "source": [
        "<a href=\"https://colab.research.google.com/github/vedanshu786/Introduction-to-Deep-Learning-and-its-Applications/blob/main/190956_VEDANSHU_SEHRA_PART_1.ipynb\" target=\"_parent\"><img src=\"https://colab.research.google.com/assets/colab-badge.svg\" alt=\"Open In Colab\"/></a>"
      ]
    },
    {
      "cell_type": "code",
      "execution_count": null,
      "metadata": {
        "colab": {
          "base_uri": "https://localhost:8080/"
        },
        "id": "i6YvKVnpF2HO",
        "outputId": "039365d5-bd9e-41d9-fde4-b0aea0354fd5"
      },
      "outputs": [
        {
          "output_type": "stream",
          "name": "stdout",
          "text": [
            "The autoreload extension is already loaded. To reload it, use:\n",
            "  %reload_ext autoreload\n"
          ]
        }
      ],
      "source": [
        "# Imports the print function from newer versions of python\n",
        "from __future__ import print_function\n",
        "\n",
        "# Setup\n",
        "\n",
        "# The Random module implements pseudo-random number generators\n",
        "import random \n",
        "\n",
        "# Numpy is the main package for scientific computing with Python. \n",
        "# This will be one of our most used libraries in this project\n",
        "import numpy as np\n",
        "\n",
        "# The Time library helps us time code runtimes\n",
        "import time\n",
        "\n",
        "\n",
        "# Some more magic so that the notebook will reload external python modules;\n",
        "# see http://stackoverflow.com/questions/1907993/autoreload-of-modules-in-ipython\n",
        "%load_ext autoreload\n",
        "%autoreload 2\n",
        "%reload_ext autoreload\n"
      ]
    },
    {
      "cell_type": "code",
      "source": [
        "### YOUR CODE HERE\n",
        "M = None\n",
        "a = None\n",
        "b = None\n",
        "print a\n",
        "print(\"The size of M is: \", None)\n",
        "print()\n",
        "print(\"a = \", None)\n",
        "print(\"The size of a is: \", None)\n",
        "print()\n",
        "print(\"b = \", None)\n",
        "print(\"The size of b is: \", None)"
      ],
      "metadata": {
        "colab": {
          "base_uri": "https://localhost:8080/",
          "height": 130
        },
        "id": "pimgeaGsF8AU",
        "outputId": "ddf1cd95-bbd5-4e5f-a4f6-4b166a361720"
      },
      "execution_count": null,
      "outputs": [
        {
          "output_type": "error",
          "ename": "SyntaxError",
          "evalue": "ignored",
          "traceback": [
            "\u001b[0;36m  File \u001b[0;32m\"<ipython-input-51-25c3ee67e3f8>\"\u001b[0;36m, line \u001b[0;32m5\u001b[0m\n\u001b[0;31m    print a\u001b[0m\n\u001b[0m          ^\u001b[0m\n\u001b[0;31mSyntaxError\u001b[0m\u001b[0;31m:\u001b[0m Missing parentheses in call to 'print'. Did you mean print(a)?\n"
          ]
        }
      ]
    },
    {
      "cell_type": "code",
      "source": [
        ""
      ],
      "metadata": {
        "id": "27syx3emGrDL"
      },
      "execution_count": null,
      "outputs": []
    }
  ]
}