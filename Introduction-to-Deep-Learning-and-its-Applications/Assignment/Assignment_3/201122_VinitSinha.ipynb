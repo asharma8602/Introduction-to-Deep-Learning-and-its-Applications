{
  "cells": [
    {
      "cell_type": "markdown",
      "metadata": {
        "id": "view-in-github",
        "colab_type": "text"
      },
      "source": [
        "<a href=\"https://colab.research.google.com/github/vinitsinha20/Introduction-to-Deep-Learning-and-its-Applications/blob/main/Introduction-to-Deep-Learning-and-its-Applications/Assignment/Assignment_3/201122_VinitSinha.ipynb\" target=\"_parent\"><img src=\"https://colab.research.google.com/assets/colab-badge.svg\" alt=\"Open In Colab\"/></a>"
      ]
    },
    {
      "cell_type": "code",
      "execution_count": 9,
      "metadata": {
        "id": "FuUpC9xztUOd"
      },
      "outputs": [],
      "source": [
        "import torch\n",
        "import torchvision\n",
        "import numpy as np\n",
        "import torch.nn as nn\n",
        "import matplotlib.pyplot as plt\n",
        "batch_size = 128\n",
        "layers = 2\n",
        "hid_size = 128\n",
        "classes = 10\n",
        "device = torch.device('cuda' if torch.cuda.is_available() else 'cpu')"
      ]
    },
    {
      "cell_type": "code",
      "execution_count": 10,
      "metadata": {
        "id": "K_n8FDl1xVzq"
      },
      "outputs": [],
      "source": [
        "Data = torchvision.datasets.MNIST('root/', download=True, train=True, transform=torchvision.transforms.ToTensor())\n",
        "Test = torchvision.datasets.MNIST('root/', train=False, transform=torchvision.transforms.ToTensor(), download=True)"
      ]
    },
    {
      "cell_type": "code",
      "execution_count": 11,
      "metadata": {
        "colab": {
          "base_uri": "https://localhost:8080/",
          "height": 282
        },
        "id": "OEiItzvMzyel",
        "outputId": "ebc0d5fa-25f0-4b32-d46a-28867a885bee"
      },
      "outputs": [
        {
          "output_type": "stream",
          "name": "stdout",
          "text": [
            "Label: 7\n"
          ]
        },
        {
          "output_type": "display_data",
          "data": {
            "text/plain": [
              "<Figure size 432x288 with 1 Axes>"
            ],
            "image/png": "[encoded data removed]"
          },
          "metadata": {
            "needs_background": "light"
          }
        }
      ],
      "source": [
        "plt.imshow(Test[0][0][0],cmap='gray')\n",
        "print('Label:', Test[0][1])"
      ]
    },
    {
      "cell_type": "code",
      "execution_count": 12,
      "metadata": {
        "id": "V0nJiUa4H2ZV"
      },
      "outputs": [],
      "source": [
        "class RNN(nn.Module):\n",
        "  def __init__(self):\n",
        "    super(RNN,self).__init__()\n",
        "    self.num_layers = layers\n",
        "    self.hidden_size = hid_size\n",
        "    self.lstm = nn.LSTM(28,hid_size, layers, batch_first = True)\n",
        "    self.lin = nn.Linear(hid_size, classes)\n",
        "  def forward(self, x):\n",
        "    res,_ = self.lstm(x)\n",
        "    res = res[:,-1,:]\n",
        "    res=self.lin(res)\n",
        "    return res"
      ]
    },
    {
      "cell_type": "code",
      "execution_count": 13,
      "metadata": {
        "id": "ySPA0pL_Jd-z"
      },
      "outputs": [],
      "source": [
        "from torch.utils.data import DataLoader\n",
        "train_set = DataLoader(dataset = Data, batch_size = batch_size, shuffle = True)\n",
        "test_set = DataLoader(dataset = Test, batch_size = batch_size)"
      ]
    },
    {
      "cell_type": "code",
      "execution_count": 14,
      "metadata": {
        "colab": {
          "base_uri": "https://localhost:8080/"
        },
        "id": "Wz2t7fiOyoBL",
        "outputId": "4161b747-e7f1-4e7f-9d78-9f36f8b27328"
      },
      "outputs": [
        {
          "output_type": "stream",
          "name": "stdout",
          "text": [
            "Epoch - 0, Loss_test - 2.3023793697357178 , Loss_train - 2.2892582416534424\n",
            "Epoch - 1, Loss_test - 0.4152716398239136 , Loss_train - 0.43338772654533386\n",
            "Epoch - 2, Loss_test - 0.15708142518997192 , Loss_train - 0.2695874571800232\n",
            "Epoch - 3, Loss_test - 0.10443778336048126 , Loss_train - 0.2482975423336029\n",
            "Epoch - 4, Loss_test - 0.06486471742391586 , Loss_train - 0.12240510433912277\n",
            "Epoch - 5, Loss_test - 0.05064529553055763 , Loss_train - 0.11282239854335785\n",
            "Epoch - 6, Loss_test - 0.059046078473329544 , Loss_train - 0.062115445733070374\n",
            "Epoch - 7, Loss_test - 0.034778621047735214 , Loss_train - 0.05077529698610306\n",
            "Epoch - 8, Loss_test - 0.04198857769370079 , Loss_train - 0.0478961355984211\n",
            "Epoch - 9, Loss_test - 0.06669802963733673 , Loss_train - 0.07437393814325333\n",
            "Epoch - 10, Loss_test - 0.01803939789533615 , Loss_train - 0.05531184375286102\n"
          ]
        }
      ],
      "source": [
        "Digits = RNN()\n",
        "Digits = Digits.to(device)\n",
        "Optim = torch.optim.Adam(Digits.parameters(), lr= 0.00017) \n",
        "loss_fn = nn.CrossEntropyLoss()\n",
        "list1 = []\n",
        "list2 = []\n",
        "for epoch in range(11):\n",
        "  with torch.no_grad():\n",
        "    for dig, lab in test_set:\n",
        "      dig = dig.reshape(-1, 28, 28).to(device)\n",
        "      result = Digits(dig)\n",
        "      lab = lab.to(device)\n",
        "      loss = loss_fn(result, lab)\n",
        "      print(\"Epoch - \" + str(epoch) +\", Loss_test - \" + str(loss.item()), end = ' ' )\n",
        "      _, pred = torch.max(result.data, dim=1)\n",
        "      n = (pred==lab).sum().item()\n",
        "      list1.append((1.0*n)/batch_size)\n",
        "      break\n",
        "  for i, (dig, lab) in enumerate(train_set):\n",
        "    dig = dig.reshape(-1, 28, 28).to(device)\n",
        "    result = Digits(dig)\n",
        "    lab = lab.to(device)\n",
        "    loss = loss_fn(result, lab)\n",
        "    Optim.zero_grad()\n",
        "    loss.backward()\n",
        "    Optim.step()\n",
        "    if i == 0:\n",
        "      result = Digits(dig)\n",
        "      loss = loss_fn(result, lab)\n",
        "      print(\", Loss_train - \" + str(loss.item()))\n",
        "      _, pred = torch.max(result.data, dim=1)\n",
        "      n = (pred==lab).sum().item()\n",
        "      list2.append((1.0*n)/batch_size)\n"
      ]
    },
    {
      "cell_type": "code",
      "source": [
        "plt.plot(list1, label = 'Sample test cases')\n",
        "plt.plot(list2, label = 'Sample training cases')\n",
        "plt.xlabel(\"Epochs\")\n",
        "plt.legend()\n",
        "plt.ylabel(\"Accuracy\")\n",
        "plt.title(\"Accuracy with Epochs\")\n",
        "plt.show()"
      ],
      "metadata": {
        "colab": {
          "base_uri": "https://localhost:8080/",
          "height": 295
        },
        "id": "LOdQfSQSGyYb",
        "outputId": "91a22824-c80f-4b59-fd2b-2bcc238a24c8"
      },
      "execution_count": 15,
      "outputs": [
        {
          "output_type": "display_data",
          "data": {
            "text/plain": [
              "<Figure size 432x288 with 1 Axes>"
            ],
            "image/png": "[encoded data removed]"
          },
          "metadata": {
            "needs_background": "light"
          }
        }
      ]
    },
    {
      "cell_type": "code",
      "source": [
        "with torch.no_grad():\n",
        "  correct = 0\n",
        "  total = 0\n",
        "  for img, lab in test_set:\n",
        "    img=img.reshape(-1,28,28).to(device)\n",
        "    lab=lab.to(device)\n",
        "    out = Digits(img)\n",
        "    _, prediction = torch.max(out.data, dim=1)\n",
        "    correct += (prediction==lab).sum().item()\n",
        "    total += lab.size(0)\n",
        "  print((1.0 * correct)/total)\n"
      ],
      "metadata": {
        "colab": {
          "base_uri": "https://localhost:8080/"
        },
        "id": "_dlgvXLm6jea",
        "outputId": "9822562a-3376-4625-fafa-0656abb1deef"
      },
      "execution_count": 16,
      "outputs": [
        {
          "output_type": "stream",
          "name": "stdout",
          "text": [
            "0.9786\n"
          ]
        }
      ]
    }
  ],
  "metadata": {
    "accelerator": "GPU",
    "colab": {
      "collapsed_sections": [],
      "name": "201122_VinitSinha.ipynb",
      "provenance": [],
      "include_colab_link": true
    },
    "gpuClass": "standard",
    "kernelspec": {
      "display_name": "Python 3",
      "name": "python3"
    },
    "language_info": {
      "name": "python"
    }
  },
  "nbformat": 4,
  "nbformat_minor": 0
}