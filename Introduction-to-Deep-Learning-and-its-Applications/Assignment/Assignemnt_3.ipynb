{
  "nbformat": 4,
  "nbformat_minor": 0,
  "metadata": {
    "colab": {
      "name": "Assignemnt_3.ipynb",
      "provenance": [],
      "collapsed_sections": []
    },
    "kernelspec": {
      "name": "python3",
      "display_name": "Python 3"
    },
    "language_info": {
      "name": "python"
    }
  },
  "cells": [
    {
      "cell_type": "code",
      "execution_count": null,
      "metadata": {
        "id": "NJbv-RnDkUL7"
      },
      "outputs": [],
      "source": [
        "import numpy as np\n",
        "import pandas as pd\n",
        "\n",
        "import tensorflow as tf\n",
        "import tensorflow.keras.layers as KL\n",
        "import os \n",
        "os.environ[\"TF_CPP_MIN_LOG_LEVEL\"]=\"2\""
      ]
    },
    {
      "cell_type": "code",
      "source": [
        "mnist = tf.keras.datasets.mnist\n",
        "(x_train,y_train),(x_test,y_test) = mnist.load_data()\n",
        "x_train,x_test = x_train/255.0,x_test/255.0\n"
      ],
      "metadata": {
        "id": "aoJ_zH90khd_"
      },
      "execution_count": null,
      "outputs": []
    },
    {
      "cell_type": "code",
      "source": [
        "inputs = KL.Input(shape=(28,28))\n",
        "x = KL.LSTM(64,activation=\"relu\")(inputs)\n",
        "outputs = KL.Dense(10,activation=\"softmax\")(x)\n",
        "\n",
        "model = tf.keras.models.Model(inputs,outputs)\n",
        "model.summary()\n",
        "model.compile(optimizer=\"adam\",loss=\"sparse_categorical_crossentropy\",metrics=[\"acc\"])\n",
        "model.fit(x_train,y_train,epochs=5)\n",
        "test_loss,test_acc = model.evaluate(x_test,y_test)\n",
        "print(\"Loss: {0} - Acc: {1}\".format(test_loss,test_acc))"
      ],
      "metadata": {
        "colab": {
          "base_uri": "https://localhost:8080/"
        },
        "id": "ENEWObyjlNWG",
        "outputId": "b25796fc-8826-408f-f213-72b64803a751"
      },
      "execution_count": null,
      "outputs": [
        {
          "output_type": "stream",
          "name": "stdout",
          "text": [
            "Model: \"model_2\"\n",
            "_________________________________________________________________\n",
            " Layer (type)                Output Shape              Param #   \n",
            "=================================================================\n",
            " input_12 (InputLayer)       [(None, 28, 28)]          0         \n",
            "                                                                 \n",
            " lstm_1 (LSTM)               (None, 64)                23808     \n",
            "                                                                 \n",
            " dense_2 (Dense)             (None, 10)                650       \n",
            "                                                                 \n",
            "=================================================================\n",
            "Total params: 24,458\n",
            "Trainable params: 24,458\n",
            "Non-trainable params: 0\n",
            "_________________________________________________________________\n",
            "Epoch 1/5\n",
            "1875/1875 [==============================] - 32s 16ms/step - loss: 0.5443 - acc: 0.8222\n",
            "Epoch 2/5\n",
            "1875/1875 [==============================] - 29s 16ms/step - loss: 0.1471 - acc: 0.9547\n",
            "Epoch 3/5\n",
            "1875/1875 [==============================] - 27s 15ms/step - loss: 0.1041 - acc: 0.9679\n",
            "Epoch 4/5\n",
            "1875/1875 [==============================] - 28s 15ms/step - loss: 0.0804 - acc: 0.9756\n",
            "Epoch 5/5\n",
            "1875/1875 [==============================] - 27s 15ms/step - loss: 0.0684 - acc: 0.9793\n",
            "313/313 [==============================] - 2s 6ms/step - loss: 0.0550 - acc: 0.9805\n",
            "Loss: 0.05496926233172417 - Acc: 0.9804999828338623\n"
          ]
        }
      ]
    },
    {
      "cell_type": "code",
      "source": [
        "import os \n",
        "os.environ[\"TF_CPP_MIN_LOG_LEVEL\"]=\"2\""
      ],
      "metadata": {
        "id": "Hoo8-YqqmFDW"
      },
      "execution_count": null,
      "outputs": []
    },
    {
      "cell_type": "code",
      "source": [
        ""
      ],
      "metadata": {
        "id": "y2HfgHK9p_tX"
      },
      "execution_count": null,
      "outputs": []
    }
  ]
}