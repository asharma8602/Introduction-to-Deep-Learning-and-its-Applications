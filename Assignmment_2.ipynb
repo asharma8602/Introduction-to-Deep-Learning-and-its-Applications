{
  "nbformat": 4,
  "nbformat_minor": 0,
  "metadata": {
    "colab": {
      "name": "Assignmment_2.ipynb",
      "provenance": [],
      "authorship_tag": "ABX9TyNnpgI+CgFI9zFUyepioNoI",
      "include_colab_link": true
    },
    "kernelspec": {
      "name": "python3",
      "display_name": "Python 3"
    },
    "language_info": {
      "name": "python"
    }
  },
  "cells": [
    {
      "cell_type": "markdown",
      "metadata": {
        "id": "view-in-github",
        "colab_type": "text"
      },
      "source": [
        "<a href=\"https://colab.research.google.com/github/AnshulSingh404/Introduction-to-Deep-Learning-and-its-Applications/blob/main/Assignmment_2.ipynb\" target=\"_parent\"><img src=\"https://colab.research.google.com/assets/colab-badge.svg\" alt=\"Open In Colab\"/></a>"
      ]
    },
    {
      "cell_type": "markdown",
      "source": [
        "#impoting required libraries"
      ],
      "metadata": {
        "id": "hYLvMxLD4bT5"
      }
    },
    {
      "cell_type": "code",
      "source": [
        "import pandas as pd\n",
        "import matplotlib as mpl\n",
        "import matplotlib.pyplot as plt"
      ],
      "metadata": {
        "id": "JlHi1X8_4jYN"
      },
      "execution_count": 1,
      "outputs": []
    },
    {
      "cell_type": "markdown",
      "source": [
        "# read the csv file using Pandas"
      ],
      "metadata": {
        "id": "yFrhva-T47YL"
      }
    },
    {
      "cell_type": "code",
      "source": [
        "data = pd.read_csv (r'/content/House_prediction.csv', delimiter=',')\n",
        "print(data)"
      ],
      "metadata": {
        "colab": {
          "base_uri": "https://localhost:8080/"
        },
        "id": "N36hM4yuBt5s",
        "outputId": "b93d5c70-79b8-4fa3-fa32-e842e9b70eb8"
      },
      "execution_count": 3,
      "outputs": [
        {
          "output_type": "stream",
          "name": "stdout",
          "text": [
            "                 city  area  rooms  bathroom  parking spaces floor     animal  \\\n",
            "0           São Paulo    70      2         1               1     7      acept   \n",
            "1           São Paulo   320      4         4               0    20      acept   \n",
            "2        Porto Alegre    80      1         1               1     6      acept   \n",
            "3        Porto Alegre    51      2         1               0     2      acept   \n",
            "4           São Paulo    25      1         1               0     1  not acept   \n",
            "...               ...   ...    ...       ...             ...   ...        ...   \n",
            "10687    Porto Alegre    63      2         1               1     5  not acept   \n",
            "10688       São Paulo   285      4         4               4    17      acept   \n",
            "10689  Rio de Janeiro    70      3         3               0     8  not acept   \n",
            "10690  Rio de Janeiro   120      2         2               2     8      acept   \n",
            "10691       São Paulo    80      2         1               0     -      acept   \n",
            "\n",
            "           furniture  hoa (R$)  rent amount (R$)  property tax (R$)  \\\n",
            "0          furnished      2065              3300                211   \n",
            "1      not furnished      1200              4960               1750   \n",
            "2      not furnished      1000              2800                  0   \n",
            "3      not furnished       270              1112                 22   \n",
            "4      not furnished         0               800                 25   \n",
            "...              ...       ...               ...                ...   \n",
            "10687      furnished       402              1478                 24   \n",
            "10688  not furnished      3100             15000                973   \n",
            "10689      furnished       980              6000                332   \n",
            "10690      furnished      1585             12000                279   \n",
            "10691  not furnished         0              1400                165   \n",
            "\n",
            "       fire insurance (R$)  total (R$)  \n",
            "0                       42        5618  \n",
            "1                       63        7973  \n",
            "2                       41        3841  \n",
            "3                       17        1421  \n",
            "4                       11         836  \n",
            "...                    ...         ...  \n",
            "10687                   22        1926  \n",
            "10688                  191       19260  \n",
            "10689                   78        7390  \n",
            "10690                  155       14020  \n",
            "10691                   22        1587  \n",
            "\n",
            "[10692 rows x 13 columns]\n"
          ]
        }
      ]
    },
    {
      "cell_type": "markdown",
      "source": [
        "# Sorting on the basis of city name"
      ],
      "metadata": {
        "id": "b9kj4e4gUkas"
      }
    },
    {
      "cell_type": "code",
      "source": [
        "data.sort_values(by=['city'])"
      ],
      "metadata": {
        "colab": {
          "base_uri": "https://localhost:8080/",
          "height": 624
        },
        "id": "xg55Uw4wg18w",
        "outputId": "da33b097-9996-4887-8e1f-c02570ab95d9"
      },
      "execution_count": 4,
      "outputs": [
        {
          "output_type": "execute_result",
          "data": {
            "text/plain": [
              "                 city  area  rooms  bathroom  parking spaces floor     animal  \\\n",
              "3755   Belo Horizonte    46      2         1               1     2      acept   \n",
              "10088  Belo Horizonte   476      3         2               2     -  not acept   \n",
              "7693   Belo Horizonte    44      1         1               1    15      acept   \n",
              "5611   Belo Horizonte   308      4         5               4    18      acept   \n",
              "6131   Belo Horizonte   320      4         5               4     6  not acept   \n",
              "...               ...   ...    ...       ...             ...   ...        ...   \n",
              "4553        São Paulo    16      1         1               0     1  not acept   \n",
              "4552        São Paulo   170      3         2               2     4      acept   \n",
              "4549        São Paulo   280      3         5               2     -      acept   \n",
              "4565        São Paulo    41      1         1               1     3      acept   \n",
              "10691       São Paulo    80      2         1               0     -      acept   \n",
              "\n",
              "           furniture  hoa (R$)  rent amount (R$)  property tax (R$)  \\\n",
              "3755   not furnished       200              1050                 27   \n",
              "10088  not furnished         0              6100                202   \n",
              "7693   not furnished       550              3400                222   \n",
              "5611       furnished      1750             15000                167   \n",
              "6131   not furnished      3480              5000                940   \n",
              "...              ...       ...               ...                ...   \n",
              "4553   not furnished         0               850                  9   \n",
              "4552       furnished      1970              9000                900   \n",
              "4549   not furnished         0              7000                625   \n",
              "4565       furnished       534              2800                133   \n",
              "10691  not furnished         0              1400                165   \n",
              "\n",
              "       fire insurance (R$)  total (R$)  \n",
              "3755                    14        1291  \n",
              "10088                  101        6403  \n",
              "7693                    46        4218  \n",
              "5611                   200       17120  \n",
              "6131                    67        9487  \n",
              "...                    ...         ...  \n",
              "4553                    11         870  \n",
              "4552                   115       11990  \n",
              "4549                   106        7731  \n",
              "4565                    36        3503  \n",
              "10691                   22        1587  \n",
              "\n",
              "[10692 rows x 13 columns]"
            ],
            "text/html": [
              "\n",
              "  <div id=\"df-378eb32d-9182-440b-8a00-03349c3b9379\">\n",
              "    <div class=\"colab-df-container\">\n",
              "      <div>\n",
              "<style scoped>\n",
              "    .dataframe tbody tr th:only-of-type {\n",
              "        vertical-align: middle;\n",
              "    }\n",
              "\n",
              "    .dataframe tbody tr th {\n",
              "        vertical-align: top;\n",
              "    }\n",
              "\n",
              "    .dataframe thead th {\n",
              "        text-align: right;\n",
              "    }\n",
              "</style>\n",
              "<table border=\"1\" class=\"dataframe\">\n",
              "  <thead>\n",
              "    <tr style=\"text-align: right;\">\n",
              "      <th></th>\n",
              "      <th>city</th>\n",
              "      <th>area</th>\n",
              "      <th>rooms</th>\n",
              "      <th>bathroom</th>\n",
              "      <th>parking spaces</th>\n",
              "      <th>floor</th>\n",
              "      <th>animal</th>\n",
              "      <th>furniture</th>\n",
              "      <th>hoa (R$)</th>\n",
              "      <th>rent amount (R$)</th>\n",
              "      <th>property tax (R$)</th>\n",
              "      <th>fire insurance (R$)</th>\n",
              "      <th>total (R$)</th>\n",
              "    </tr>\n",
              "  </thead>\n",
              "  <tbody>\n",
              "    <tr>\n",
              "      <th>3755</th>\n",
              "      <td>Belo Horizonte</td>\n",
              "      <td>46</td>\n",
              "      <td>2</td>\n",
              "      <td>1</td>\n",
              "      <td>1</td>\n",
              "      <td>2</td>\n",
              "      <td>acept</td>\n",
              "      <td>not furnished</td>\n",
              "      <td>200</td>\n",
              "      <td>1050</td>\n",
              "      <td>27</td>\n",
              "      <td>14</td>\n",
              "      <td>1291</td>\n",
              "    </tr>\n",
              "    <tr>\n",
              "      <th>10088</th>\n",
              "      <td>Belo Horizonte</td>\n",
              "      <td>476</td>\n",
              "      <td>3</td>\n",
              "      <td>2</td>\n",
              "      <td>2</td>\n",
              "      <td>-</td>\n",
              "      <td>not acept</td>\n",
              "      <td>not furnished</td>\n",
              "      <td>0</td>\n",
              "      <td>6100</td>\n",
              "      <td>202</td>\n",
              "      <td>101</td>\n",
              "      <td>6403</td>\n",
              "    </tr>\n",
              "    <tr>\n",
              "      <th>7693</th>\n",
              "      <td>Belo Horizonte</td>\n",
              "      <td>44</td>\n",
              "      <td>1</td>\n",
              "      <td>1</td>\n",
              "      <td>1</td>\n",
              "      <td>15</td>\n",
              "      <td>acept</td>\n",
              "      <td>not furnished</td>\n",
              "      <td>550</td>\n",
              "      <td>3400</td>\n",
              "      <td>222</td>\n",
              "      <td>46</td>\n",
              "      <td>4218</td>\n",
              "    </tr>\n",
              "    <tr>\n",
              "      <th>5611</th>\n",
              "      <td>Belo Horizonte</td>\n",
              "      <td>308</td>\n",
              "      <td>4</td>\n",
              "      <td>5</td>\n",
              "      <td>4</td>\n",
              "      <td>18</td>\n",
              "      <td>acept</td>\n",
              "      <td>furnished</td>\n",
              "      <td>1750</td>\n",
              "      <td>15000</td>\n",
              "      <td>167</td>\n",
              "      <td>200</td>\n",
              "      <td>17120</td>\n",
              "    </tr>\n",
              "    <tr>\n",
              "      <th>6131</th>\n",
              "      <td>Belo Horizonte</td>\n",
              "      <td>320</td>\n",
              "      <td>4</td>\n",
              "      <td>5</td>\n",
              "      <td>4</td>\n",
              "      <td>6</td>\n",
              "      <td>not acept</td>\n",
              "      <td>not furnished</td>\n",
              "      <td>3480</td>\n",
              "      <td>5000</td>\n",
              "      <td>940</td>\n",
              "      <td>67</td>\n",
              "      <td>9487</td>\n",
              "    </tr>\n",
              "    <tr>\n",
              "      <th>...</th>\n",
              "      <td>...</td>\n",
              "      <td>...</td>\n",
              "      <td>...</td>\n",
              "      <td>...</td>\n",
              "      <td>...</td>\n",
              "      <td>...</td>\n",
              "      <td>...</td>\n",
              "      <td>...</td>\n",
              "      <td>...</td>\n",
              "      <td>...</td>\n",
              "      <td>...</td>\n",
              "      <td>...</td>\n",
              "      <td>...</td>\n",
              "    </tr>\n",
              "    <tr>\n",
              "      <th>4553</th>\n",
              "      <td>São Paulo</td>\n",
              "      <td>16</td>\n",
              "      <td>1</td>\n",
              "      <td>1</td>\n",
              "      <td>0</td>\n",
              "      <td>1</td>\n",
              "      <td>not acept</td>\n",
              "      <td>not furnished</td>\n",
              "      <td>0</td>\n",
              "      <td>850</td>\n",
              "      <td>9</td>\n",
              "      <td>11</td>\n",
              "      <td>870</td>\n",
              "    </tr>\n",
              "    <tr>\n",
              "      <th>4552</th>\n",
              "      <td>São Paulo</td>\n",
              "      <td>170</td>\n",
              "      <td>3</td>\n",
              "      <td>2</td>\n",
              "      <td>2</td>\n",
              "      <td>4</td>\n",
              "      <td>acept</td>\n",
              "      <td>furnished</td>\n",
              "      <td>1970</td>\n",
              "      <td>9000</td>\n",
              "      <td>900</td>\n",
              "      <td>115</td>\n",
              "      <td>11990</td>\n",
              "    </tr>\n",
              "    <tr>\n",
              "      <th>4549</th>\n",
              "      <td>São Paulo</td>\n",
              "      <td>280</td>\n",
              "      <td>3</td>\n",
              "      <td>5</td>\n",
              "      <td>2</td>\n",
              "      <td>-</td>\n",
              "      <td>acept</td>\n",
              "      <td>not furnished</td>\n",
              "      <td>0</td>\n",
              "      <td>7000</td>\n",
              "      <td>625</td>\n",
              "      <td>106</td>\n",
              "      <td>7731</td>\n",
              "    </tr>\n",
              "    <tr>\n",
              "      <th>4565</th>\n",
              "      <td>São Paulo</td>\n",
              "      <td>41</td>\n",
              "      <td>1</td>\n",
              "      <td>1</td>\n",
              "      <td>1</td>\n",
              "      <td>3</td>\n",
              "      <td>acept</td>\n",
              "      <td>furnished</td>\n",
              "      <td>534</td>\n",
              "      <td>2800</td>\n",
              "      <td>133</td>\n",
              "      <td>36</td>\n",
              "      <td>3503</td>\n",
              "    </tr>\n",
              "    <tr>\n",
              "      <th>10691</th>\n",
              "      <td>São Paulo</td>\n",
              "      <td>80</td>\n",
              "      <td>2</td>\n",
              "      <td>1</td>\n",
              "      <td>0</td>\n",
              "      <td>-</td>\n",
              "      <td>acept</td>\n",
              "      <td>not furnished</td>\n",
              "      <td>0</td>\n",
              "      <td>1400</td>\n",
              "      <td>165</td>\n",
              "      <td>22</td>\n",
              "      <td>1587</td>\n",
              "    </tr>\n",
              "  </tbody>\n",
              "</table>\n",
              "<p>10692 rows × 13 columns</p>\n",
              "</div>\n",
              "      <button class=\"colab-df-convert\" onclick=\"convertToInteractive('df-378eb32d-9182-440b-8a00-03349c3b9379')\"\n",
              "              title=\"Convert this dataframe to an interactive table.\"\n",
              "              style=\"display:none;\">\n",
              "        \n",
              "  <svg xmlns=\"http://www.w3.org/2000/svg\" height=\"24px\"viewBox=\"0 0 24 24\"\n",
              "       width=\"24px\">\n",
              "    <path d=\"M0 0h24v24H0V0z\" fill=\"none\"/>\n",
              "    <path d=\"M18.56 5.44l.94 2.06.94-2.06 2.06-.94-2.06-.94-.94-2.06-.94 2.06-2.06.94zm-11 1L8.5 8.5l.94-2.06 2.06-.94-2.06-.94L8.5 2.5l-.94 2.06-2.06.94zm10 10l.94 2.06.94-2.06 2.06-.94-2.06-.94-.94-2.06-.94 2.06-2.06.94z\"/><path d=\"M17.41 7.96l-1.37-1.37c-.4-.4-.92-.59-1.43-.59-.52 0-1.04.2-1.43.59L10.3 9.45l-7.72 7.72c-.78.78-.78 2.05 0 2.83L4 21.41c.39.39.9.59 1.41.59.51 0 1.02-.2 1.41-.59l7.78-7.78 2.81-2.81c.8-.78.8-2.07 0-2.86zM5.41 20L4 18.59l7.72-7.72 1.47 1.35L5.41 20z\"/>\n",
              "  </svg>\n",
              "      </button>\n",
              "      \n",
              "  <style>\n",
              "    .colab-df-container {\n",
              "      display:flex;\n",
              "      flex-wrap:wrap;\n",
              "      gap: 12px;\n",
              "    }\n",
              "\n",
              "    .colab-df-convert {\n",
              "      background-color: #E8F0FE;\n",
              "      border: none;\n",
              "      border-radius: 50%;\n",
              "      cursor: pointer;\n",
              "      display: none;\n",
              "      fill: #1967D2;\n",
              "      height: 32px;\n",
              "      padding: 0 0 0 0;\n",
              "      width: 32px;\n",
              "    }\n",
              "\n",
              "    .colab-df-convert:hover {\n",
              "      background-color: #E2EBFA;\n",
              "      box-shadow: 0px 1px 2px rgba(60, 64, 67, 0.3), 0px 1px 3px 1px rgba(60, 64, 67, 0.15);\n",
              "      fill: #174EA6;\n",
              "    }\n",
              "\n",
              "    [theme=dark] .colab-df-convert {\n",
              "      background-color: #3B4455;\n",
              "      fill: #D2E3FC;\n",
              "    }\n",
              "\n",
              "    [theme=dark] .colab-df-convert:hover {\n",
              "      background-color: #434B5C;\n",
              "      box-shadow: 0px 1px 3px 1px rgba(0, 0, 0, 0.15);\n",
              "      filter: drop-shadow(0px 1px 2px rgba(0, 0, 0, 0.3));\n",
              "      fill: #FFFFFF;\n",
              "    }\n",
              "  </style>\n",
              "\n",
              "      <script>\n",
              "        const buttonEl =\n",
              "          document.querySelector('#df-378eb32d-9182-440b-8a00-03349c3b9379 button.colab-df-convert');\n",
              "        buttonEl.style.display =\n",
              "          google.colab.kernel.accessAllowed ? 'block' : 'none';\n",
              "\n",
              "        async function convertToInteractive(key) {\n",
              "          const element = document.querySelector('#df-378eb32d-9182-440b-8a00-03349c3b9379');\n",
              "          const dataTable =\n",
              "            await google.colab.kernel.invokeFunction('convertToInteractive',\n",
              "                                                     [key], {});\n",
              "          if (!dataTable) return;\n",
              "\n",
              "          const docLinkHtml = 'Like what you see? Visit the ' +\n",
              "            '<a target=\"_blank\" href=https://colab.research.google.com/notebooks/data_table.ipynb>data table notebook</a>'\n",
              "            + ' to learn more about interactive tables.';\n",
              "          element.innerHTML = '';\n",
              "          dataTable['output_type'] = 'display_data';\n",
              "          await google.colab.output.renderOutput(dataTable, element);\n",
              "          const docLink = document.createElement('div');\n",
              "          docLink.innerHTML = docLinkHtml;\n",
              "          element.appendChild(docLink);\n",
              "        }\n",
              "      </script>\n",
              "    </div>\n",
              "  </div>\n",
              "  "
            ]
          },
          "metadata": {},
          "execution_count": 4
        }
      ]
    },
    {
      "cell_type": "markdown",
      "source": [
        "# A combined intiutive analysis of area of house available in cities"
      ],
      "metadata": {
        "id": "_Pf5L26XU4gN"
      }
    },
    {
      "cell_type": "code",
      "source": [
        "data.plot(x = 'city', y = 'area', kind ='scatter', ylim=(0,2500))\n",
        "plt.show()"
      ],
      "metadata": {
        "colab": {
          "base_uri": "https://localhost:8080/",
          "height": 283
        },
        "id": "0TWgfjKEogsB",
        "outputId": "f245e931-0530-4492-f60e-cb1131f7280a"
      },
      "execution_count": 5,
      "outputs": [
        {
          "output_type": "display_data",
          "data": {
            "text/plain": [
              "<Figure size 432x288 with 1 Axes>"
            ],
            "image/png": "[encoded data removed]"
          },
          "metadata": {
            "needs_background": "light"
          }
        }
      ]
    },
    {
      "cell_type": "markdown",
      "source": [
        "# Fire insurance and property tax  dependency"
      ],
      "metadata": {
        "id": "XUeUvOQTVAGX"
      }
    },
    {
      "cell_type": "code",
      "source": [
        "data.plot(x = 'property tax (R$)', y = 'fire insurance (R$)', kind ='bar', xlim=(0,50000), ylim=(0,300))\n",
        "plt.show()"
      ],
      "metadata": {
        "colab": {
          "base_uri": "https://localhost:8080/",
          "height": 311
        },
        "id": "BUe0g9shyVw-",
        "outputId": "24b8d119-2122-4a6d-a192-e1896a717f54"
      },
      "execution_count": 6,
      "outputs": [
        {
          "output_type": "display_data",
          "data": {
            "text/plain": [
              "<Figure size 432x288 with 1 Axes>"
            ],
            "image/png": "[encoded data removed]"
          },
          "metadata": {
            "needs_background": "light"
          }
        }
      ]
    },
    {
      "cell_type": "markdown",
      "source": [
        "# San Paulo"
      ],
      "metadata": {
        "id": "rBg03SaTWY8b"
      }
    },
    {
      "cell_type": "markdown",
      "source": [
        "Sorting data city wise, with there features "
      ],
      "metadata": {
        "id": "40_SqJiqVx5n"
      }
    },
    {
      "cell_type": "code",
      "source": [
        "san_paulo = data.loc[data['city'] == 'São Paulo']\n",
        "print(san_paulo)"
      ],
      "metadata": {
        "colab": {
          "base_uri": "https://localhost:8080/"
        },
        "id": "SNf-fjw1OGKq",
        "outputId": "c8142885-c04b-47d9-c2a9-a1fd08ac3ebe"
      },
      "execution_count": 8,
      "outputs": [
        {
          "output_type": "stream",
          "name": "stdout",
          "text": [
            "            city  area  rooms  bathroom  parking spaces floor     animal  \\\n",
            "0      São Paulo    70      2         1               1     7      acept   \n",
            "1      São Paulo   320      4         4               0    20      acept   \n",
            "4      São Paulo    25      1         1               0     1  not acept   \n",
            "5      São Paulo   376      3         3               7     -      acept   \n",
            "7      São Paulo   213      4         4               4     4      acept   \n",
            "...          ...   ...    ...       ...             ...   ...        ...   \n",
            "10683  São Paulo   280      4         4               2     5      acept   \n",
            "10685  São Paulo    83      3         2               2    11      acept   \n",
            "10686  São Paulo   150      3         3               2     8  not acept   \n",
            "10688  São Paulo   285      4         4               4    17      acept   \n",
            "10691  São Paulo    80      2         1               0     -      acept   \n",
            "\n",
            "           furniture  hoa (R$)  rent amount (R$)  property tax (R$)  \\\n",
            "0          furnished      2065              3300                211   \n",
            "1      not furnished      1200              4960               1750   \n",
            "4      not furnished         0               800                 25   \n",
            "5      not furnished         0              8000                834   \n",
            "7      not furnished      2254              3223               1735   \n",
            "...              ...       ...               ...                ...   \n",
            "10683  not furnished      4200              4000               1042   \n",
            "10685  not furnished       888              7521                221   \n",
            "10686      furnished         0             13500                  0   \n",
            "10688  not furnished      3100             15000                973   \n",
            "10691  not furnished         0              1400                165   \n",
            "\n",
            "       fire insurance (R$)  total (R$)  \n",
            "0                       42        5618  \n",
            "1                       63        7973  \n",
            "4                       11         836  \n",
            "5                      121        8955  \n",
            "7                       41        7253  \n",
            "...                    ...         ...  \n",
            "10683                   51        9293  \n",
            "10685                   96        8726  \n",
            "10686                  172       13670  \n",
            "10688                  191       19260  \n",
            "10691                   22        1587  \n",
            "\n",
            "[5887 rows x 13 columns]\n"
          ]
        }
      ]
    },
    {
      "cell_type": "markdown",
      "source": [
        ""
      ],
      "metadata": {
        "id": "2lCxRtzA8P9J"
      }
    },
    {
      "cell_type": "code",
      "source": [
        "mean1 = san_paulo[['area','rooms','bathroom', 'floor', 'rent amount (R$)', 'property tax (R$)', 'fire insurance (R$)', 'total (R$)']].mean().fillna(0)\n",
        "print(mean1)"
      ],
      "metadata": {
        "colab": {
          "base_uri": "https://localhost:8080/"
        },
        "id": "G7Gee-vbOqLK",
        "outputId": "179f4cf6-8af4-49cb-b62c-a3f85022f551"
      },
      "execution_count": 12,
      "outputs": [
        {
          "output_type": "stream",
          "name": "stdout",
          "text": [
            "area                    158.899439\n",
            "rooms                     2.558859\n",
            "bathroom                  2.467641\n",
            "rent amount (R$)       4652.793783\n",
            "property tax (R$)       495.701716\n",
            "fire insurance (R$)      62.428911\n",
            "total (R$)             6380.831833\n",
            "dtype: float64\n"
          ]
        },
        {
          "output_type": "stream",
          "name": "stderr",
          "text": [
            "/usr/local/lib/python3.7/dist-packages/ipykernel_launcher.py:1: FutureWarning: Dropping of nuisance columns in DataFrame reductions (with 'numeric_only=None') is deprecated; in a future version this will raise TypeError.  Select only valid columns before calling the reduction.\n",
            "  \"\"\"Entry point for launching an IPython kernel.\n"
          ]
        }
      ]
    },
    {
      "cell_type": "markdown",
      "source": [
        "# Porto Alegre"
      ],
      "metadata": {
        "id": "SXlis_aCWViX"
      }
    },
    {
      "cell_type": "code",
      "source": [
        "porto_alegre = data.loc[data['city'] == 'Porto Alegre']\n",
        "print(porto_alegre)"
      ],
      "metadata": {
        "colab": {
          "base_uri": "https://localhost:8080/"
        },
        "id": "aSdac5HtQr-E",
        "outputId": "18279c8e-8b02-429d-9d95-a14c3582bb2a"
      },
      "execution_count": 13,
      "outputs": [
        {
          "output_type": "stream",
          "name": "stdout",
          "text": [
            "               city  area  rooms  bathroom  parking spaces floor     animal  \\\n",
            "2      Porto Alegre    80      1         1               1     6      acept   \n",
            "3      Porto Alegre    51      2         1               0     2      acept   \n",
            "35     Porto Alegre    38      1         1               2    11  not acept   \n",
            "39     Porto Alegre    40      1         1               1     6      acept   \n",
            "47     Porto Alegre    42      1         1               2     2      acept   \n",
            "...             ...   ...    ...       ...             ...   ...        ...   \n",
            "10645  Porto Alegre   400      4         2               2    15      acept   \n",
            "10673  Porto Alegre   220      3         2               2    15      acept   \n",
            "10676  Porto Alegre    40      1         1               0     1      acept   \n",
            "10682  Porto Alegre   160      3         2               3     4      acept   \n",
            "10687  Porto Alegre    63      2         1               1     5  not acept   \n",
            "\n",
            "           furniture  hoa (R$)  rent amount (R$)  property tax (R$)  \\\n",
            "2      not furnished      1000              2800                  0   \n",
            "3      not furnished       270              1112                 22   \n",
            "35     not furnished       450              1750                  0   \n",
            "39         furnished       390              2990                  0   \n",
            "47         furnished       190              1770                 17   \n",
            "...              ...       ...               ...                ...   \n",
            "10645      furnished      2250              6300                500   \n",
            "10673  not furnished       842              2400                117   \n",
            "10676  not furnished       330              1200                159   \n",
            "10682      furnished       850              3300                220   \n",
            "10687      furnished       402              1478                 24   \n",
            "\n",
            "       fire insurance (R$)  total (R$)  \n",
            "2                       41        3841  \n",
            "3                       17        1421  \n",
            "35                      26        2226  \n",
            "39                      44        3424  \n",
            "47                      26        2003  \n",
            "...                    ...         ...  \n",
            "10645                   92        9142  \n",
            "10673                   36        3395  \n",
            "10676                   18        1707  \n",
            "10682                   49        4419  \n",
            "10687                   22        1926  \n",
            "\n",
            "[1193 rows x 13 columns]\n"
          ]
        }
      ]
    },
    {
      "cell_type": "code",
      "source": [
        "mean2 = porto_alegre[['area','rooms','bathroom', 'floor', 'rent amount (R$)', 'property tax (R$)', 'fire insurance (R$)', 'total (R$)']].mean().fillna(0)\n",
        "print(mean2)"
      ],
      "metadata": {
        "colab": {
          "base_uri": "https://localhost:8080/"
        },
        "id": "45l8mg2VRYCR",
        "outputId": "71907dfc-1688-42ad-807a-d90cf8da874a"
      },
      "execution_count": 14,
      "outputs": [
        {
          "output_type": "stream",
          "name": "stdout",
          "text": [
            "area                    103.609388\n",
            "rooms                     2.140821\n",
            "bathroom                  1.725901\n",
            "rent amount (R$)       2337.699916\n",
            "property tax (R$)       124.021794\n",
            "fire insurance (R$)      36.425817\n",
            "total (R$)             2989.782900\n",
            "dtype: float64\n"
          ]
        },
        {
          "output_type": "stream",
          "name": "stderr",
          "text": [
            "/usr/local/lib/python3.7/dist-packages/ipykernel_launcher.py:1: FutureWarning: Dropping of nuisance columns in DataFrame reductions (with 'numeric_only=None') is deprecated; in a future version this will raise TypeError.  Select only valid columns before calling the reduction.\n",
            "  \"\"\"Entry point for launching an IPython kernel.\n"
          ]
        }
      ]
    },
    {
      "cell_type": "markdown",
      "source": [
        " # Rio de Janeiro"
      ],
      "metadata": {
        "id": "Nu5Aqh1rWQZj"
      }
    },
    {
      "cell_type": "code",
      "source": [
        "rio_de_janeiro = data.loc[data['city'] == 'Rio de Janeiro']\n",
        "print(rio_de_janeiro)"
      ],
      "metadata": {
        "colab": {
          "base_uri": "https://localhost:8080/"
        },
        "id": "dZoQK3MGRlgF",
        "outputId": "db28dac6-a88c-4a3d-e4a0-052ffd8d010c"
      },
      "execution_count": 16,
      "outputs": [
        {
          "output_type": "stream",
          "name": "stdout",
          "text": [
            "                 city  area  rooms  bathroom  parking spaces floor     animal  \\\n",
            "6      Rio de Janeiro    72      2         1               0     7      acept   \n",
            "9      Rio de Janeiro    35      1         1               0     2      acept   \n",
            "17     Rio de Janeiro    88      2         3               1     9  not acept   \n",
            "18     Rio de Janeiro    56      2         1               0     8      acept   \n",
            "24     Rio de Janeiro    90      3         2               1     7      acept   \n",
            "...               ...   ...    ...       ...             ...   ...        ...   \n",
            "10674  Rio de Janeiro   135      4         2               1     -      acept   \n",
            "10675  Rio de Janeiro   250      3         2               1    11      acept   \n",
            "10684  Rio de Janeiro    98      2         1               0     1      acept   \n",
            "10689  Rio de Janeiro    70      3         3               0     8  not acept   \n",
            "10690  Rio de Janeiro   120      2         2               2     8      acept   \n",
            "\n",
            "           furniture  hoa (R$)  rent amount (R$)  property tax (R$)  \\\n",
            "6      not furnished       740              1900                 85   \n",
            "9          furnished       590              2300                 35   \n",
            "17         furnished      1614              3500                221   \n",
            "18     not furnished       800              1220                  0   \n",
            "24     not furnished       800              1800                118   \n",
            "...              ...       ...               ...                ...   \n",
            "10674  not furnished         0              3300                115   \n",
            "10675  not furnished      2000              2700                500   \n",
            "10684  not furnished       560              3900                184   \n",
            "10689      furnished       980              6000                332   \n",
            "10690      furnished      1585             12000                279   \n",
            "\n",
            "       fire insurance (R$)  total (R$)  \n",
            "6                       25        2750  \n",
            "9                       30        2955  \n",
            "17                      16        5351  \n",
            "18                      16        2036  \n",
            "24                      24        2742  \n",
            "...                    ...         ...  \n",
            "10674                   51        3466  \n",
            "10675                   35        5235  \n",
            "10684                   51        4695  \n",
            "10689                   78        7390  \n",
            "10690                  155       14020  \n",
            "\n",
            "[1501 rows x 13 columns]\n"
          ]
        }
      ]
    },
    {
      "cell_type": "code",
      "source": [
        "mean3 = rio_de_janeiro[['area','rooms','bathroom', 'floor', 'rent amount (R$)', 'property tax (R$)', 'fire insurance (R$)', 'total (R$)']].mean().fillna(0)\n",
        "print(mean3)"
      ],
      "metadata": {
        "colab": {
          "base_uri": "https://localhost:8080/"
        },
        "id": "WKWK86XoSkqu",
        "outputId": "47a8d776-fcd9-4fa7-e626-6a3a5b3d8f34"
      },
      "execution_count": 19,
      "outputs": [
        {
          "output_type": "stream",
          "name": "stdout",
          "text": [
            "area                    105.347768\n",
            "rooms                     2.243837\n",
            "bathroom                  1.756163\n",
            "rent amount (R$)       3232.904064\n",
            "property tax (R$)       256.853431\n",
            "fire insurance (R$)      42.483011\n",
            "total (R$)             4611.684877\n",
            "dtype: float64\n"
          ]
        },
        {
          "output_type": "stream",
          "name": "stderr",
          "text": [
            "/usr/local/lib/python3.7/dist-packages/ipykernel_launcher.py:1: FutureWarning: Dropping of nuisance columns in DataFrame reductions (with 'numeric_only=None') is deprecated; in a future version this will raise TypeError.  Select only valid columns before calling the reduction.\n",
            "  \"\"\"Entry point for launching an IPython kernel.\n"
          ]
        }
      ]
    },
    {
      "cell_type": "markdown",
      "source": [
        "# Campinas"
      ],
      "metadata": {
        "id": "L-bb1iMZWMzE"
      }
    },
    {
      "cell_type": "code",
      "source": [
        "Campinas = data.loc[data['city'] == 'Campinas']\n",
        "print(Campinas)"
      ],
      "metadata": {
        "colab": {
          "base_uri": "https://localhost:8080/"
        },
        "id": "gRAwuT7vS1WI",
        "outputId": "ca2a1f4e-f320-4e60-fa7c-ab2da7eb275b"
      },
      "execution_count": 20,
      "outputs": [
        {
          "output_type": "stream",
          "name": "stdout",
          "text": [
            "           city  area  rooms  bathroom  parking spaces floor animal  \\\n",
            "11     Campinas    46      1         1               1    10  acept   \n",
            "15     Campinas   330      4         6               6     -  acept   \n",
            "28     Campinas   208      3         2               4     -  acept   \n",
            "48     Campinas   250      3         3               2     1  acept   \n",
            "49     Campinas    48      1         1               1     2  acept   \n",
            "...         ...   ...    ...       ...             ...   ...    ...   \n",
            "10625  Campinas    92      3         3               2    11  acept   \n",
            "10629  Campinas    83      2         2               2     1  acept   \n",
            "10656  Campinas   140      1         2               2    15  acept   \n",
            "10659  Campinas   150      3         2               4     -  acept   \n",
            "10661  Campinas   250      1         2               2     -  acept   \n",
            "\n",
            "           furniture  hoa (R$)  rent amount (R$)  property tax (R$)  \\\n",
            "11     not furnished       550               580                 43   \n",
            "15         furnished       680              8000                328   \n",
            "28     not furnished         0              3180                100   \n",
            "48     not furnished      2200              1700                256   \n",
            "49         furnished       505              1600                 59   \n",
            "...              ...       ...               ...                ...   \n",
            "10625  not furnished       780              1700                167   \n",
            "10629      furnished       800              3700                234   \n",
            "10656  not furnished      1462              5200                284   \n",
            "10659      furnished         0              3500                186   \n",
            "10661  not furnished         0              2200                602   \n",
            "\n",
            "       fire insurance (R$)  total (R$)  \n",
            "11                       8        1181  \n",
            "15                     121        9129  \n",
            "28                      48        3328  \n",
            "48                      22        4178  \n",
            "49                      21        2185  \n",
            "...                    ...         ...  \n",
            "10625                   22        2669  \n",
            "10629                   47        4781  \n",
            "10656                   66        7012  \n",
            "10659                   53        3739  \n",
            "10661                   34        2836  \n",
            "\n",
            "[853 rows x 13 columns]\n"
          ]
        }
      ]
    },
    {
      "cell_type": "code",
      "source": [
        "mean4 = Campinas[['area','rooms','bathroom', 'floor', 'rent amount (R$)', 'property tax (R$)', 'fire insurance (R$)', 'total (R$)']].mean().fillna(0)\n",
        "print(mean4)"
      ],
      "metadata": {
        "colab": {
          "base_uri": "https://localhost:8080/"
        },
        "id": "PzVNOFdWThzG",
        "outputId": "d2249618-e46f-42e1-c43d-52ba31d190c7"
      },
      "execution_count": 21,
      "outputs": [
        {
          "output_type": "stream",
          "name": "stdout",
          "text": [
            "area                    137.561547\n",
            "rooms                     2.355217\n",
            "bathroom                  1.960141\n",
            "rent amount (R$)       2364.290739\n",
            "property tax (R$)       147.657679\n",
            "fire insurance (R$)      32.388042\n",
            "total (R$)             3173.276671\n",
            "dtype: float64\n"
          ]
        },
        {
          "output_type": "stream",
          "name": "stderr",
          "text": [
            "/usr/local/lib/python3.7/dist-packages/ipykernel_launcher.py:1: FutureWarning: Dropping of nuisance columns in DataFrame reductions (with 'numeric_only=None') is deprecated; in a future version this will raise TypeError.  Select only valid columns before calling the reduction.\n",
            "  \"\"\"Entry point for launching an IPython kernel.\n"
          ]
        }
      ]
    },
    {
      "cell_type": "markdown",
      "source": [
        "# Belo Horizonte"
      ],
      "metadata": {
        "id": "ulIkJ74tWDq9"
      }
    },
    {
      "cell_type": "code",
      "source": [
        "belo_horizonte = data.loc[data['city'] == 'Belo Horizonte']\n",
        "print(belo_horizonte)\n",
        "mean5 = belo_horizonte[['area','rooms','bathroom', 'floor', 'rent amount (R$)', 'property tax (R$)', 'fire insurance (R$)', 'total (R$)']].mean().fillna(0)\n",
        "print(mean5)"
      ],
      "metadata": {
        "colab": {
          "base_uri": "https://localhost:8080/"
        },
        "id": "Ax-O87IvTwZK",
        "outputId": "eb6320d1-f63d-47b8-9a50-9afa3d9cb06d"
      },
      "execution_count": 23,
      "outputs": [
        {
          "output_type": "stream",
          "name": "stdout",
          "text": [
            "                 city  area  rooms  bathroom  parking spaces floor     animal  \\\n",
            "21     Belo Horizonte    42      1         1               1    17  not acept   \n",
            "27     Belo Horizonte    64      2         2               1    11      acept   \n",
            "37     Belo Horizonte    80      3         2               1     -      acept   \n",
            "42     Belo Horizonte   200      4         2               1     7  not acept   \n",
            "43     Belo Horizonte    45      1         1               1     5      acept   \n",
            "...               ...   ...    ...       ...             ...   ...        ...   \n",
            "10644  Belo Horizonte    65      2         1               1     1      acept   \n",
            "10648  Belo Horizonte    80      2         1               1     3  not acept   \n",
            "10651  Belo Horizonte    95      3         2               2     7      acept   \n",
            "10665  Belo Horizonte    55      2         1               1     2  not acept   \n",
            "10667  Belo Horizonte    75      2         1               1     3  not acept   \n",
            "\n",
            "           furniture  hoa (R$)  rent amount (R$)  property tax (R$)  \\\n",
            "21         furnished       470              2690                172   \n",
            "27     not furnished       352              1500                 80   \n",
            "37     not furnished         0             11000                425   \n",
            "42     not furnished       850              2550                  9   \n",
            "43     not furnished       500              1631                192   \n",
            "...              ...       ...               ...                ...   \n",
            "10644  not furnished       200              1100                 70   \n",
            "10648  not furnished       240              1200                 67   \n",
            "10651  not furnished       525              3100                219   \n",
            "10665      furnished       200              1600                 75   \n",
            "10667  not furnished       180              1250                  0   \n",
            "\n",
            "       fire insurance (R$)  total (R$)  \n",
            "21                      36        3368  \n",
            "27                      20        1952  \n",
            "37                     181       11610  \n",
            "42                      34        3443  \n",
            "43                      12        2335  \n",
            "...                    ...         ...  \n",
            "10644                   15        1385  \n",
            "10648                   16        1523  \n",
            "10651                   42        3886  \n",
            "10665                   22        1897  \n",
            "10667                   17        1447  \n",
            "\n",
            "[1258 rows x 13 columns]\n",
            "area                    207.411765\n",
            "rooms                     3.020668\n",
            "bathroom                  2.402226\n",
            "rent amount (R$)       3664.127981\n",
            "property tax (R$)       272.782194\n",
            "fire insurance (R$)      53.675676\n",
            "total (R$)             6315.242448\n",
            "dtype: float64\n"
          ]
        },
        {
          "output_type": "stream",
          "name": "stderr",
          "text": [
            "/usr/local/lib/python3.7/dist-packages/ipykernel_launcher.py:3: FutureWarning: Dropping of nuisance columns in DataFrame reductions (with 'numeric_only=None') is deprecated; in a future version this will raise TypeError.  Select only valid columns before calling the reduction.\n",
            "  This is separate from the ipykernel package so we can avoid doing imports until\n"
          ]
        }
      ]
    }
  ]
}