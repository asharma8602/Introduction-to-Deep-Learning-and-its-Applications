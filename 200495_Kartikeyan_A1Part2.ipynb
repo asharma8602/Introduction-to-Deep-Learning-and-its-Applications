{
  "nbformat": 4,
  "nbformat_minor": 0,
  "metadata": {
    "colab": {
      "name": "200495_Kartikeyan_A1Part2.ipynb",
      "provenance": [],
      "collapsed_sections": [],
      "authorship_tag": "ABX9TyMvHFc48Xo4aP1f89hQ11im",
      "include_colab_link": true
    },
    "kernelspec": {
      "name": "python3",
      "display_name": "Python 3"
    },
    "language_info": {
      "name": "python"
    }
  },
  "cells": [
    {
      "cell_type": "markdown",
      "metadata": {
        "id": "view-in-github",
        "colab_type": "text"
      },
      "source": [
        "<a href=\"https://colab.research.google.com/github/kartechkeyan98/Introduction-to-Deep-Learning-and-its-Applications/blob/main/200495_Kartikeyan_A1Part2.ipynb\" target=\"_parent\"><img src=\"https://colab.research.google.com/assets/colab-badge.svg\" alt=\"Open In Colab\"/></a>"
      ]
    },
    {
      "cell_type": "markdown",
      "source": [
        "# **Assignment 1, Part 2: Pandas and Matplotlib**\n"
      ],
      "metadata": {
        "id": "M1wmaQNB8qm7"
      }
    },
    {
      "cell_type": "code",
      "source": [
        "import pandas as pd\n",
        "import matplotlib.pyplot as plt"
      ],
      "metadata": {
        "id": "GDGSIhdD-ah7"
      },
      "execution_count": 1,
      "outputs": []
    },
    {
      "cell_type": "code",
      "source": [
        "from google.colab import drive\n",
        "drive.mount('/content/gdrive')"
      ],
      "metadata": {
        "colab": {
          "base_uri": "https://localhost:8080/"
        },
        "id": "IVYFUZ5cHenQ",
        "outputId": "044b4225-ef46-4fd7-c025-3e1351d1f2ea"
      },
      "execution_count": 6,
      "outputs": [
        {
          "output_type": "stream",
          "name": "stdout",
          "text": [
            "Mounted at /content/gdrive\n"
          ]
        }
      ]
    },
    {
      "cell_type": "code",
      "source": [
        "df = pd.read_csv('gdrive/My Drive/House_prediction.csv', delimiter=',')\n",
        "print(df.head())"
      ],
      "metadata": {
        "colab": {
          "base_uri": "https://localhost:8080/"
        },
        "id": "R887Al75IJXG",
        "outputId": "59956de9-d344-4038-9c64-c272ada27540"
      },
      "execution_count": 9,
      "outputs": [
        {
          "output_type": "stream",
          "name": "stdout",
          "text": [
            "           city  area  rooms  bathroom  parking spaces floor     animal  \\\n",
            "0     São Paulo    70      2         1               1     7      acept   \n",
            "1     São Paulo   320      4         4               0    20      acept   \n",
            "2  Porto Alegre    80      1         1               1     6      acept   \n",
            "3  Porto Alegre    51      2         1               0     2      acept   \n",
            "4     São Paulo    25      1         1               0     1  not acept   \n",
            "\n",
            "       furniture  hoa (R$)  rent amount (R$)  property tax (R$)  \\\n",
            "0      furnished      2065              3300                211   \n",
            "1  not furnished      1200              4960               1750   \n",
            "2  not furnished      1000              2800                  0   \n",
            "3  not furnished       270              1112                 22   \n",
            "4  not furnished         0               800                 25   \n",
            "\n",
            "   fire insurance (R$)  total (R$)  \n",
            "0                   42        5618  \n",
            "1                   63        7973  \n",
            "2                   41        3841  \n",
            "3                   17        1421  \n",
            "4                   11         836  \n"
          ]
        }
      ]
    },
    {
      "cell_type": "code",
      "source": [
        "df.sort_values(by='city') # sorted dataframe citywise"
      ],
      "metadata": {
        "colab": {
          "base_uri": "https://localhost:8080/",
          "height": 424
        },
        "id": "qNfqWTwBJWZe",
        "outputId": "6e8f25fc-772b-4f72-8ab8-66cd3ef5db6a"
      },
      "execution_count": 10,
      "outputs": [
        {
          "output_type": "execute_result",
          "data": {
            "text/plain": [
              "                 city  area  rooms  bathroom  parking spaces floor     animal  \\\n",
              "3755   Belo Horizonte    46      2         1               1     2      acept   \n",
              "10088  Belo Horizonte   476      3         2               2     -  not acept   \n",
              "7693   Belo Horizonte    44      1         1               1    15      acept   \n",
              "5611   Belo Horizonte   308      4         5               4    18      acept   \n",
              "6131   Belo Horizonte   320      4         5               4     6  not acept   \n",
              "...               ...   ...    ...       ...             ...   ...        ...   \n",
              "4553        São Paulo    16      1         1               0     1  not acept   \n",
              "4552        São Paulo   170      3         2               2     4      acept   \n",
              "4549        São Paulo   280      3         5               2     -      acept   \n",
              "4565        São Paulo    41      1         1               1     3      acept   \n",
              "10691       São Paulo    80      2         1               0     -      acept   \n",
              "\n",
              "           furniture  hoa (R$)  rent amount (R$)  property tax (R$)  \\\n",
              "3755   not furnished       200              1050                 27   \n",
              "10088  not furnished         0              6100                202   \n",
              "7693   not furnished       550              3400                222   \n",
              "5611       furnished      1750             15000                167   \n",
              "6131   not furnished      3480              5000                940   \n",
              "...              ...       ...               ...                ...   \n",
              "4553   not furnished         0               850                  9   \n",
              "4552       furnished      1970              9000                900   \n",
              "4549   not furnished         0              7000                625   \n",
              "4565       furnished       534              2800                133   \n",
              "10691  not furnished         0              1400                165   \n",
              "\n",
              "       fire insurance (R$)  total (R$)  \n",
              "3755                    14        1291  \n",
              "10088                  101        6403  \n",
              "7693                    46        4218  \n",
              "5611                   200       17120  \n",
              "6131                    67        9487  \n",
              "...                    ...         ...  \n",
              "4553                    11         870  \n",
              "4552                   115       11990  \n",
              "4549                   106        7731  \n",
              "4565                    36        3503  \n",
              "10691                   22        1587  \n",
              "\n",
              "[10692 rows x 13 columns]"
            ],
            "text/html": [
              "\n",
              "  <div id=\"df-2685d466-7e01-4b2e-882a-c90703fcc987\">\n",
              "    <div class=\"colab-df-container\">\n",
              "      <div>\n",
              "<style scoped>\n",
              "    .dataframe tbody tr th:only-of-type {\n",
              "        vertical-align: middle;\n",
              "    }\n",
              "\n",
              "    .dataframe tbody tr th {\n",
              "        vertical-align: top;\n",
              "    }\n",
              "\n",
              "    .dataframe thead th {\n",
              "        text-align: right;\n",
              "    }\n",
              "</style>\n",
              "<table border=\"1\" class=\"dataframe\">\n",
              "  <thead>\n",
              "    <tr style=\"text-align: right;\">\n",
              "      <th></th>\n",
              "      <th>city</th>\n",
              "      <th>area</th>\n",
              "      <th>rooms</th>\n",
              "      <th>bathroom</th>\n",
              "      <th>parking spaces</th>\n",
              "      <th>floor</th>\n",
              "      <th>animal</th>\n",
              "      <th>furniture</th>\n",
              "      <th>hoa (R$)</th>\n",
              "      <th>rent amount (R$)</th>\n",
              "      <th>property tax (R$)</th>\n",
              "      <th>fire insurance (R$)</th>\n",
              "      <th>total (R$)</th>\n",
              "    </tr>\n",
              "  </thead>\n",
              "  <tbody>\n",
              "    <tr>\n",
              "      <th>3755</th>\n",
              "      <td>Belo Horizonte</td>\n",
              "      <td>46</td>\n",
              "      <td>2</td>\n",
              "      <td>1</td>\n",
              "      <td>1</td>\n",
              "      <td>2</td>\n",
              "      <td>acept</td>\n",
              "      <td>not furnished</td>\n",
              "      <td>200</td>\n",
              "      <td>1050</td>\n",
              "      <td>27</td>\n",
              "      <td>14</td>\n",
              "      <td>1291</td>\n",
              "    </tr>\n",
              "    <tr>\n",
              "      <th>10088</th>\n",
              "      <td>Belo Horizonte</td>\n",
              "      <td>476</td>\n",
              "      <td>3</td>\n",
              "      <td>2</td>\n",
              "      <td>2</td>\n",
              "      <td>-</td>\n",
              "      <td>not acept</td>\n",
              "      <td>not furnished</td>\n",
              "      <td>0</td>\n",
              "      <td>6100</td>\n",
              "      <td>202</td>\n",
              "      <td>101</td>\n",
              "      <td>6403</td>\n",
              "    </tr>\n",
              "    <tr>\n",
              "      <th>7693</th>\n",
              "      <td>Belo Horizonte</td>\n",
              "      <td>44</td>\n",
              "      <td>1</td>\n",
              "      <td>1</td>\n",
              "      <td>1</td>\n",
              "      <td>15</td>\n",
              "      <td>acept</td>\n",
              "      <td>not furnished</td>\n",
              "      <td>550</td>\n",
              "      <td>3400</td>\n",
              "      <td>222</td>\n",
              "      <td>46</td>\n",
              "      <td>4218</td>\n",
              "    </tr>\n",
              "    <tr>\n",
              "      <th>5611</th>\n",
              "      <td>Belo Horizonte</td>\n",
              "      <td>308</td>\n",
              "      <td>4</td>\n",
              "      <td>5</td>\n",
              "      <td>4</td>\n",
              "      <td>18</td>\n",
              "      <td>acept</td>\n",
              "      <td>furnished</td>\n",
              "      <td>1750</td>\n",
              "      <td>15000</td>\n",
              "      <td>167</td>\n",
              "      <td>200</td>\n",
              "      <td>17120</td>\n",
              "    </tr>\n",
              "    <tr>\n",
              "      <th>6131</th>\n",
              "      <td>Belo Horizonte</td>\n",
              "      <td>320</td>\n",
              "      <td>4</td>\n",
              "      <td>5</td>\n",
              "      <td>4</td>\n",
              "      <td>6</td>\n",
              "      <td>not acept</td>\n",
              "      <td>not furnished</td>\n",
              "      <td>3480</td>\n",
              "      <td>5000</td>\n",
              "      <td>940</td>\n",
              "      <td>67</td>\n",
              "      <td>9487</td>\n",
              "    </tr>\n",
              "    <tr>\n",
              "      <th>...</th>\n",
              "      <td>...</td>\n",
              "      <td>...</td>\n",
              "      <td>...</td>\n",
              "      <td>...</td>\n",
              "      <td>...</td>\n",
              "      <td>...</td>\n",
              "      <td>...</td>\n",
              "      <td>...</td>\n",
              "      <td>...</td>\n",
              "      <td>...</td>\n",
              "      <td>...</td>\n",
              "      <td>...</td>\n",
              "      <td>...</td>\n",
              "    </tr>\n",
              "    <tr>\n",
              "      <th>4553</th>\n",
              "      <td>São Paulo</td>\n",
              "      <td>16</td>\n",
              "      <td>1</td>\n",
              "      <td>1</td>\n",
              "      <td>0</td>\n",
              "      <td>1</td>\n",
              "      <td>not acept</td>\n",
              "      <td>not furnished</td>\n",
              "      <td>0</td>\n",
              "      <td>850</td>\n",
              "      <td>9</td>\n",
              "      <td>11</td>\n",
              "      <td>870</td>\n",
              "    </tr>\n",
              "    <tr>\n",
              "      <th>4552</th>\n",
              "      <td>São Paulo</td>\n",
              "      <td>170</td>\n",
              "      <td>3</td>\n",
              "      <td>2</td>\n",
              "      <td>2</td>\n",
              "      <td>4</td>\n",
              "      <td>acept</td>\n",
              "      <td>furnished</td>\n",
              "      <td>1970</td>\n",
              "      <td>9000</td>\n",
              "      <td>900</td>\n",
              "      <td>115</td>\n",
              "      <td>11990</td>\n",
              "    </tr>\n",
              "    <tr>\n",
              "      <th>4549</th>\n",
              "      <td>São Paulo</td>\n",
              "      <td>280</td>\n",
              "      <td>3</td>\n",
              "      <td>5</td>\n",
              "      <td>2</td>\n",
              "      <td>-</td>\n",
              "      <td>acept</td>\n",
              "      <td>not furnished</td>\n",
              "      <td>0</td>\n",
              "      <td>7000</td>\n",
              "      <td>625</td>\n",
              "      <td>106</td>\n",
              "      <td>7731</td>\n",
              "    </tr>\n",
              "    <tr>\n",
              "      <th>4565</th>\n",
              "      <td>São Paulo</td>\n",
              "      <td>41</td>\n",
              "      <td>1</td>\n",
              "      <td>1</td>\n",
              "      <td>1</td>\n",
              "      <td>3</td>\n",
              "      <td>acept</td>\n",
              "      <td>furnished</td>\n",
              "      <td>534</td>\n",
              "      <td>2800</td>\n",
              "      <td>133</td>\n",
              "      <td>36</td>\n",
              "      <td>3503</td>\n",
              "    </tr>\n",
              "    <tr>\n",
              "      <th>10691</th>\n",
              "      <td>São Paulo</td>\n",
              "      <td>80</td>\n",
              "      <td>2</td>\n",
              "      <td>1</td>\n",
              "      <td>0</td>\n",
              "      <td>-</td>\n",
              "      <td>acept</td>\n",
              "      <td>not furnished</td>\n",
              "      <td>0</td>\n",
              "      <td>1400</td>\n",
              "      <td>165</td>\n",
              "      <td>22</td>\n",
              "      <td>1587</td>\n",
              "    </tr>\n",
              "  </tbody>\n",
              "</table>\n",
              "<p>10692 rows × 13 columns</p>\n",
              "</div>\n",
              "      <button class=\"colab-df-convert\" onclick=\"convertToInteractive('df-2685d466-7e01-4b2e-882a-c90703fcc987')\"\n",
              "              title=\"Convert this dataframe to an interactive table.\"\n",
              "              style=\"display:none;\">\n",
              "        \n",
              "  <svg xmlns=\"http://www.w3.org/2000/svg\" height=\"24px\"viewBox=\"0 0 24 24\"\n",
              "       width=\"24px\">\n",
              "    <path d=\"M0 0h24v24H0V0z\" fill=\"none\"/>\n",
              "    <path d=\"M18.56 5.44l.94 2.06.94-2.06 2.06-.94-2.06-.94-.94-2.06-.94 2.06-2.06.94zm-11 1L8.5 8.5l.94-2.06 2.06-.94-2.06-.94L8.5 2.5l-.94 2.06-2.06.94zm10 10l.94 2.06.94-2.06 2.06-.94-2.06-.94-.94-2.06-.94 2.06-2.06.94z\"/><path d=\"M17.41 7.96l-1.37-1.37c-.4-.4-.92-.59-1.43-.59-.52 0-1.04.2-1.43.59L10.3 9.45l-7.72 7.72c-.78.78-.78 2.05 0 2.83L4 21.41c.39.39.9.59 1.41.59.51 0 1.02-.2 1.41-.59l7.78-7.78 2.81-2.81c.8-.78.8-2.07 0-2.86zM5.41 20L4 18.59l7.72-7.72 1.47 1.35L5.41 20z\"/>\n",
              "  </svg>\n",
              "      </button>\n",
              "      \n",
              "  <style>\n",
              "    .colab-df-container {\n",
              "      display:flex;\n",
              "      flex-wrap:wrap;\n",
              "      gap: 12px;\n",
              "    }\n",
              "\n",
              "    .colab-df-convert {\n",
              "      background-color: #E8F0FE;\n",
              "      border: none;\n",
              "      border-radius: 50%;\n",
              "      cursor: pointer;\n",
              "      display: none;\n",
              "      fill: #1967D2;\n",
              "      height: 32px;\n",
              "      padding: 0 0 0 0;\n",
              "      width: 32px;\n",
              "    }\n",
              "\n",
              "    .colab-df-convert:hover {\n",
              "      background-color: #E2EBFA;\n",
              "      box-shadow: 0px 1px 2px rgba(60, 64, 67, 0.3), 0px 1px 3px 1px rgba(60, 64, 67, 0.15);\n",
              "      fill: #174EA6;\n",
              "    }\n",
              "\n",
              "    [theme=dark] .colab-df-convert {\n",
              "      background-color: #3B4455;\n",
              "      fill: #D2E3FC;\n",
              "    }\n",
              "\n",
              "    [theme=dark] .colab-df-convert:hover {\n",
              "      background-color: #434B5C;\n",
              "      box-shadow: 0px 1px 3px 1px rgba(0, 0, 0, 0.15);\n",
              "      filter: drop-shadow(0px 1px 2px rgba(0, 0, 0, 0.3));\n",
              "      fill: #FFFFFF;\n",
              "    }\n",
              "  </style>\n",
              "\n",
              "      <script>\n",
              "        const buttonEl =\n",
              "          document.querySelector('#df-2685d466-7e01-4b2e-882a-c90703fcc987 button.colab-df-convert');\n",
              "        buttonEl.style.display =\n",
              "          google.colab.kernel.accessAllowed ? 'block' : 'none';\n",
              "\n",
              "        async function convertToInteractive(key) {\n",
              "          const element = document.querySelector('#df-2685d466-7e01-4b2e-882a-c90703fcc987');\n",
              "          const dataTable =\n",
              "            await google.colab.kernel.invokeFunction('convertToInteractive',\n",
              "                                                     [key], {});\n",
              "          if (!dataTable) return;\n",
              "\n",
              "          const docLinkHtml = 'Like what you see? Visit the ' +\n",
              "            '<a target=\"_blank\" href=https://colab.research.google.com/notebooks/data_table.ipynb>data table notebook</a>'\n",
              "            + ' to learn more about interactive tables.';\n",
              "          element.innerHTML = '';\n",
              "          dataTable['output_type'] = 'display_data';\n",
              "          await google.colab.output.renderOutput(dataTable, element);\n",
              "          const docLink = document.createElement('div');\n",
              "          docLink.innerHTML = docLinkHtml;\n",
              "          element.appendChild(docLink);\n",
              "        }\n",
              "      </script>\n",
              "    </div>\n",
              "  </div>\n",
              "  "
            ]
          },
          "metadata": {},
          "execution_count": 10
        }
      ]
    },
    {
      "cell_type": "code",
      "source": [
        "df.plot.scatter(x='city',y='area',ylim=(0,2500),title='area for different houses in a city')\n",
        "df.plot.scatter(x='city',y='rooms',ylim=(0,20),title='#rooms for different houses in a city')\n",
        "df.plot.scatter(x='city',y='bathroom',ylim=(0,15),title='#bathrooms for different houses in a city')  # awesome place, hmare halls mn isse kam bathrooms mn chla lete h hum, 10 bathrooms, raees log XD\n",
        "df.plot.scatter(x='city',y='hoa (R$)',ylim=(0,16000),title='hoa(R$) for different houses in a city')\n",
        "df.plot.scatter(x='city',y='rent amount (R$)',ylim=(0,35000),title='rent for different houses in a city')\n",
        "df.plot.scatter(x='city',y='property tax (R$)',ylim=(0,14000),title='property tax for different houses in a city')\n",
        "df.plot.scatter(x='city',y='fire insurance (R$)',ylim=(0,800),title='fire insurance for different houses in a city')\n",
        "df.plot.scatter(x='city',y='total (R$)',ylim=(0,120000),title='total cost for different houses in a city')\n",
        "plt.show()"
      ],
      "metadata": {
        "colab": {
          "base_uri": "https://localhost:8080/",
          "height": 1000
        },
        "id": "ZOPdz3M7J7os",
        "outputId": "9da34197-219b-4a35-8cec-e6b342ab5141"
      },
      "execution_count": 39,
      "outputs": [
        {
          "output_type": "display_data",
          "data": {
            "text/plain": [
              "<Figure size 432x288 with 1 Axes>"
            ],
            "image/png": "[encoded data removed]"
          },
          "metadata": {
            "needs_background": "light"
          }
        },
        {
          "output_type": "display_data",
          "data": {
            "text/plain": [
              "<Figure size 432x288 with 1 Axes>"
            ],
            "image/png": "[encoded data removed]"
          },
          "metadata": {
            "needs_background": "light"
          }
        },
        {
          "output_type": "display_data",
          "data": {
            "text/plain": [
              "<Figure size 432x288 with 1 Axes>"
            ],
            "image/png": "[encoded data removed]"
          },
          "metadata": {
            "needs_background": "light"
          }
        },
        {
          "output_type": "display_data",
          "data": {
            "text/plain": [
              "<Figure size 432x288 with 1 Axes>"
            ],
            "image/png": "[encoded data removed]"
          },
          "metadata": {
            "needs_background": "light"
          }
        },
        {
          "output_type": "display_data",
          "data": {
            "text/plain": [
              "<Figure size 432x288 with 1 Axes>"
            ],
            "image/png": "[encoded data removed]"
          },
          "metadata": {
            "needs_background": "light"
          }
        },
        {
          "output_type": "display_data",
          "data": {
            "text/plain": [
              "<Figure size 432x288 with 1 Axes>"
            ],
            "image/png": "[encoded data removed]"
          },
          "metadata": {
            "needs_background": "light"
          }
        },
        {
          "output_type": "display_data",
          "data": {
            "text/plain": [
              "<Figure size 432x288 with 1 Axes>"
            ],
            "image/png": "[encoded data removed]"
          },
          "metadata": {
            "needs_background": "light"
          }
        },
        {
          "output_type": "display_data",
          "data": {
            "text/plain": [
              "<Figure size 432x288 with 1 Axes>"
            ],
            "image/png": "[encoded data removed]"
          },
          "metadata": {
            "needs_background": "light"
          }
        }
      ]
    },
    {
      "cell_type": "markdown",
      "source": [
        "# **City wise mean of Features**"
      ],
      "metadata": {
        "id": "YrHcEdxVPMEq"
      }
    },
    {
      "cell_type": "code",
      "source": [
        "## San Paulo\n",
        "san_paulo = df.loc[df['city'] == 'São Paulo']\n",
        "sp_mean = san_paulo[['area','rooms','bathroom', 'floor', 'rent amount (R$)', 'property tax (R$)', 'fire insurance (R$)', 'total (R$)']].fillna(0).mean()\n",
        "print(sp_mean)"
      ],
      "metadata": {
        "colab": {
          "base_uri": "https://localhost:8080/"
        },
        "id": "6xFPxor9PULt",
        "outputId": "8fdbf013-a904-4b16-adfb-66fbca7fcc51"
      },
      "execution_count": 43,
      "outputs": [
        {
          "output_type": "stream",
          "name": "stdout",
          "text": [
            "area                    158.899439\n",
            "rooms                     2.558859\n",
            "bathroom                  2.467641\n",
            "rent amount (R$)       4652.793783\n",
            "property tax (R$)       495.701716\n",
            "fire insurance (R$)      62.428911\n",
            "total (R$)             6380.831833\n",
            "dtype: float64\n"
          ]
        },
        {
          "output_type": "stream",
          "name": "stderr",
          "text": [
            "/usr/local/lib/python3.7/dist-packages/ipykernel_launcher.py:2: FutureWarning: Dropping of nuisance columns in DataFrame reductions (with 'numeric_only=None') is deprecated; in a future version this will raise TypeError.  Select only valid columns before calling the reduction.\n",
            "  \n"
          ]
        }
      ]
    },
    {
      "cell_type": "code",
      "source": [
        "# Porto Alegre\n",
        "porto_alegre = df.loc[df['city'] == 'Porto Alegre']\n",
        "pa_mean = porto_alegre[['area','rooms','bathroom', 'floor', 'rent amount (R$)', 'property tax (R$)', 'fire insurance (R$)', 'total (R$)']].fillna(0).mean()\n",
        "print(pa_mean)"
      ],
      "metadata": {
        "colab": {
          "base_uri": "https://localhost:8080/"
        },
        "id": "6cZwU6TVPl_e",
        "outputId": "09f17a45-24b1-440e-e0c6-33f1d56630b3"
      },
      "execution_count": 44,
      "outputs": [
        {
          "output_type": "stream",
          "name": "stdout",
          "text": [
            "area                    103.609388\n",
            "rooms                     2.140821\n",
            "bathroom                  1.725901\n",
            "rent amount (R$)       2337.699916\n",
            "property tax (R$)       124.021794\n",
            "fire insurance (R$)      36.425817\n",
            "total (R$)             2989.782900\n",
            "dtype: float64\n"
          ]
        },
        {
          "output_type": "stream",
          "name": "stderr",
          "text": [
            "/usr/local/lib/python3.7/dist-packages/ipykernel_launcher.py:3: FutureWarning: Dropping of nuisance columns in DataFrame reductions (with 'numeric_only=None') is deprecated; in a future version this will raise TypeError.  Select only valid columns before calling the reduction.\n",
            "  This is separate from the ipykernel package so we can avoid doing imports until\n"
          ]
        }
      ]
    },
    {
      "cell_type": "code",
      "source": [
        "## Rio di jenario\n",
        "rio = df.loc[df['city'] == 'Rio de Janeiro']\n",
        "rio_mean = rio[['area','rooms','bathroom', 'floor', 'rent amount (R$)', 'property tax (R$)', 'fire insurance (R$)', 'total (R$)']].fillna(0).mean()\n",
        "print(rio_mean)"
      ],
      "metadata": {
        "colab": {
          "base_uri": "https://localhost:8080/"
        },
        "id": "4tzz9yt0Qln7",
        "outputId": "3126c361-72c1-411e-8426-2f9fcf42126c"
      },
      "execution_count": 47,
      "outputs": [
        {
          "output_type": "stream",
          "name": "stdout",
          "text": [
            "area                    105.347768\n",
            "rooms                     2.243837\n",
            "bathroom                  1.756163\n",
            "rent amount (R$)       3232.904064\n",
            "property tax (R$)       256.853431\n",
            "fire insurance (R$)      42.483011\n",
            "total (R$)             4611.684877\n",
            "dtype: float64\n"
          ]
        },
        {
          "output_type": "stream",
          "name": "stderr",
          "text": [
            "/usr/local/lib/python3.7/dist-packages/ipykernel_launcher.py:3: FutureWarning: Dropping of nuisance columns in DataFrame reductions (with 'numeric_only=None') is deprecated; in a future version this will raise TypeError.  Select only valid columns before calling the reduction.\n",
            "  This is separate from the ipykernel package so we can avoid doing imports until\n"
          ]
        }
      ]
    },
    {
      "cell_type": "code",
      "source": [
        "# campinas\n",
        "camp = df.loc[df['city'] == 'Campinas']\n",
        "cam_mean = camp[['area','rooms','bathroom', 'floor', 'rent amount (R$)', 'property tax (R$)', 'fire insurance (R$)', 'total (R$)']].fillna(0).mean()\n",
        "print(cam_mean)"
      ],
      "metadata": {
        "colab": {
          "base_uri": "https://localhost:8080/"
        },
        "id": "j1kvTM3xQzuN",
        "outputId": "7cc9cedb-d400-4d1a-cb4a-a39b5d8fcf00"
      },
      "execution_count": 48,
      "outputs": [
        {
          "output_type": "stream",
          "name": "stdout",
          "text": [
            "area                    137.561547\n",
            "rooms                     2.355217\n",
            "bathroom                  1.960141\n",
            "rent amount (R$)       2364.290739\n",
            "property tax (R$)       147.657679\n",
            "fire insurance (R$)      32.388042\n",
            "total (R$)             3173.276671\n",
            "dtype: float64\n"
          ]
        },
        {
          "output_type": "stream",
          "name": "stderr",
          "text": [
            "/usr/local/lib/python3.7/dist-packages/ipykernel_launcher.py:3: FutureWarning: Dropping of nuisance columns in DataFrame reductions (with 'numeric_only=None') is deprecated; in a future version this will raise TypeError.  Select only valid columns before calling the reduction.\n",
            "  This is separate from the ipykernel package so we can avoid doing imports until\n"
          ]
        }
      ]
    },
    {
      "cell_type": "code",
      "source": [
        "# Belo Horizonte\n",
        "belo = df.loc[df['city'] == 'Belo Horizonte']\n",
        "belo_mean = belo[['area','rooms','bathroom', 'floor', 'rent amount (R$)', 'property tax (R$)', 'fire insurance (R$)', 'total (R$)']].fillna(0).mean()\n",
        "print(belo_mean)"
      ],
      "metadata": {
        "colab": {
          "base_uri": "https://localhost:8080/"
        },
        "id": "6FIYly79RO29",
        "outputId": "a75cbb2a-8eff-480a-886e-6bbdc60b5361"
      },
      "execution_count": 49,
      "outputs": [
        {
          "output_type": "stream",
          "name": "stdout",
          "text": [
            "area                    207.411765\n",
            "rooms                     3.020668\n",
            "bathroom                  2.402226\n",
            "rent amount (R$)       3664.127981\n",
            "property tax (R$)       272.782194\n",
            "fire insurance (R$)      53.675676\n",
            "total (R$)             6315.242448\n",
            "dtype: float64\n"
          ]
        },
        {
          "output_type": "stream",
          "name": "stderr",
          "text": [
            "/usr/local/lib/python3.7/dist-packages/ipykernel_launcher.py:3: FutureWarning: Dropping of nuisance columns in DataFrame reductions (with 'numeric_only=None') is deprecated; in a future version this will raise TypeError.  Select only valid columns before calling the reduction.\n",
            "  This is separate from the ipykernel package so we can avoid doing imports until\n"
          ]
        }
      ]
    },
    {
      "cell_type": "code",
      "source": [
        ""
      ],
      "metadata": {
        "id": "F1BR3farRcVa"
      },
      "execution_count": null,
      "outputs": []
    }
  ]
}