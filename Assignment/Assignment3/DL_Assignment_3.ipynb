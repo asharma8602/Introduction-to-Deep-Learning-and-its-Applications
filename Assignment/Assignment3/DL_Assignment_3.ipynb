{
  "nbformat": 4,
  "nbformat_minor": 0,
  "metadata": {
    "colab": {
      "name": "DL_Assignment_3.ipynb",
      "provenance": []
    },
    "kernelspec": {
      "name": "python3",
      "display_name": "Python 3"
    },
    "language_info": {
      "name": "python"
    },
    "accelerator": "GPU",
    "gpuClass": "standard"
  },
  "cells": [
    {
      "cell_type": "markdown",
      "source": [
        "Importing tensorflow"
      ],
      "metadata": {
        "id": "S07TSoqxDKjm"
      }
    },
    {
      "cell_type": "code",
      "execution_count": 1,
      "metadata": {
        "colab": {
          "base_uri": "https://localhost:8080/"
        },
        "id": "kAeFpk-7Bz-q",
        "outputId": "38d11f86-c811-4dad-e90b-41373f73dc7c"
      },
      "outputs": [
        {
          "output_type": "stream",
          "name": "stdout",
          "text": [
            "Found GPU at: /device:GPU:0\n"
          ]
        }
      ],
      "source": [
        "%tensorflow_version 2.x\n",
        "import tensorflow as tf\n",
        "device_name = tf.test.gpu_device_name()\n",
        "if device_name != '/device:GPU:0':\n",
        "  raise SystemError('GPU device not found')\n",
        "print('Found GPU at: {}'.format(device_name))"
      ]
    },
    {
      "cell_type": "markdown",
      "source": [
        "Importing keras, layers and dataset"
      ],
      "metadata": {
        "id": "2lqBgJ62DN7v"
      }
    },
    {
      "cell_type": "code",
      "source": [
        "from tensorflow import keras\n",
        "from tensorflow.keras import layers\n",
        "from tensorflow.keras.datasets import mnist"
      ],
      "metadata": {
        "id": "nvxO5FFVCF1k"
      },
      "execution_count": 2,
      "outputs": []
    },
    {
      "cell_type": "markdown",
      "source": [
        "Splitting test and train datasets"
      ],
      "metadata": {
        "id": "GHrB6KeCDbaX"
      }
    },
    {
      "cell_type": "code",
      "source": [
        "(x_train,y_train), (x_test, y_test) = mnist.load_data()\n",
        "print(x_train.shape)\n",
        "#we have 60000 datasets of 28 * 28 images\n",
        "#normalising the data\n",
        "x_train = x_train.reshape([-1, 28, 28]).astype(\"float32\") / 255.0\n",
        "x_test = x_test.reshape([-1, 28, 28]).astype(\"float32\") / 255.0"
      ],
      "metadata": {
        "colab": {
          "base_uri": "https://localhost:8080/"
        },
        "id": "pWX29ZZICmkb",
        "outputId": "750e20ad-9b6c-4504-df87-64ac67df3a70"
      },
      "execution_count": 8,
      "outputs": [
        {
          "output_type": "stream",
          "name": "stdout",
          "text": [
            "(60000, 28, 28)\n"
          ]
        }
      ]
    },
    {
      "cell_type": "markdown",
      "source": [
        "Building model LSTM (using sequential)"
      ],
      "metadata": {
        "id": "DbEoIEEMDin3"
      }
    },
    {
      "cell_type": "code",
      "source": [
        "model = keras.Sequential()\n",
        "model.add(keras.Input(shape=(None, 28)))\n",
        "model.add(layers.LSTM(256, return_sequences=True, activation=\"relu\"))\n",
        "model.add(layers.LSTM(256))\n",
        "model.add(layers.Dense(10))\n",
        "\n",
        "print(model.summary())\n",
        "\n",
        "model.compile(\n",
        "    loss = keras.losses.SparseCategoricalCrossentropy(from_logits = True),\n",
        "    optimizer = keras.optimizers.Adam(learning_rate = 0.003),\n",
        "    metrics = [\"accuracy\"],\n",
        ")\n",
        "\n",
        "model.fit(x_train, y_train, batch_size = 64, epochs = 10, verbose = 2)\n",
        "model.evaluate(x_test, y_test, batch_size = 64, verbose = 2)"
      ],
      "metadata": {
        "colab": {
          "base_uri": "https://localhost:8080/"
        },
        "id": "HHgRpzX7DP0A",
        "outputId": "4b14c427-059b-40d2-ee3b-f392df699ee8"
      },
      "execution_count": 9,
      "outputs": [
        {
          "output_type": "stream",
          "name": "stdout",
          "text": [
            "WARNING:tensorflow:Layer lstm_6 will not use cuDNN kernels since it doesn't meet the criteria. It will use a generic GPU kernel as fallback when running on GPU.\n",
            "Model: \"sequential_3\"\n",
            "_________________________________________________________________\n",
            " Layer (type)                Output Shape              Param #   \n",
            "=================================================================\n",
            " lstm_6 (LSTM)               (None, None, 256)         291840    \n",
            "                                                                 \n",
            " lstm_7 (LSTM)               (None, 256)               525312    \n",
            "                                                                 \n",
            " dense_4 (Dense)             (None, 10)                2570      \n",
            "                                                                 \n",
            "=================================================================\n",
            "Total params: 819,722\n",
            "Trainable params: 819,722\n",
            "Non-trainable params: 0\n",
            "_________________________________________________________________\n",
            "None\n",
            "Epoch 1/10\n",
            "938/938 - 90s - loss: 0.2631 - accuracy: 0.9163 - 90s/epoch - 96ms/step\n",
            "Epoch 2/10\n",
            "938/938 - 46s - loss: 0.0754 - accuracy: 0.9781 - 46s/epoch - 49ms/step\n",
            "Epoch 3/10\n",
            "938/938 - 46s - loss: 0.0540 - accuracy: 0.9834 - 46s/epoch - 49ms/step\n",
            "Epoch 4/10\n",
            "938/938 - 45s - loss: 0.0428 - accuracy: 0.9863 - 45s/epoch - 48ms/step\n",
            "Epoch 5/10\n",
            "938/938 - 47s - loss: 0.0347 - accuracy: 0.9891 - 47s/epoch - 51ms/step\n",
            "Epoch 6/10\n",
            "938/938 - 45s - loss: 0.0295 - accuracy: 0.9907 - 45s/epoch - 48ms/step\n",
            "Epoch 7/10\n",
            "938/938 - 52s - loss: 0.0260 - accuracy: 0.9921 - 52s/epoch - 55ms/step\n",
            "Epoch 8/10\n",
            "938/938 - 58s - loss: 0.0236 - accuracy: 0.9924 - 58s/epoch - 62ms/step\n",
            "Epoch 9/10\n",
            "938/938 - 46s - loss: 0.0212 - accuracy: 0.9935 - 46s/epoch - 49ms/step\n",
            "Epoch 10/10\n",
            "938/938 - 48s - loss: 0.0191 - accuracy: 0.9939 - 48s/epoch - 51ms/step\n",
            "157/157 - 2s - loss: 0.0351 - accuracy: 0.9907 - 2s/epoch - 11ms/step\n"
          ]
        },
        {
          "output_type": "execute_result",
          "data": {
            "text/plain": [
              "[0.03508976846933365, 0.9907000064849854]"
            ]
          },
          "metadata": {},
          "execution_count": 9
        }
      ]
    },
    {
      "cell_type": "markdown",
      "source": [
        "Testing it on some random image number (code used from previous assignments)"
      ],
      "metadata": {
        "id": "vnCxP5iYDpiU"
      }
    },
    {
      "cell_type": "code",
      "source": [
        "import matplotlib.pyplot as plt\n",
        "import numpy as np\n",
        "labels = '''0 1 2 3 4 5 6 7 8 9'''.split()\n",
        "image_number = 0\n",
        "plt.imshow(x_test[image_number])\n",
        "n = np.array(x_test[image_number])\n",
        "p = n.reshape(1, 28, 28, 1)\n",
        "print(model.predict(p).argmax())\n",
        "predicted_label = labels[model.predict(p).argmax()]\n",
        "original_label = labels[y_test[image_number]]\n",
        "print(\"Original label is {} and predicted label is {}\".format(\n",
        "    original_label, predicted_label))"
      ],
      "metadata": {
        "id": "MNBjQ41lGgd2",
        "colab": {
          "base_uri": "https://localhost:8080/",
          "height": 301
        },
        "outputId": "e8aa2fa6-6d4e-425e-b33c-ecd78e7ead9b"
      },
      "execution_count": 12,
      "outputs": [
        {
          "output_type": "stream",
          "name": "stdout",
          "text": [
            "7\n",
            "Original label is 7 and predicted label is 7\n"
          ]
        },
        {
          "output_type": "display_data",
          "data": {
            "text/plain": [
              "<Figure size 432x288 with 1 Axes>"
            ],
            "image/png": "[encoded data removed]"
          },
          "metadata": {
            "needs_background": "light"
          }
        }
      ]
    },
    {
      "cell_type": "code",
      "source": [
        "image_number = 3\n",
        "plt.imshow(x_test[image_number])\n",
        "n = np.array(x_test[image_number])\n",
        "p = n.reshape(1, 28, 28, 1)\n",
        "print(model.predict(p).argmax())\n",
        "predicted_label = labels[model.predict(p).argmax()]\n",
        "original_label = labels[y_test[image_number]]\n",
        "print(\"Original label is {} and predicted label is {}\".format(\n",
        "    original_label, predicted_label))"
      ],
      "metadata": {
        "colab": {
          "base_uri": "https://localhost:8080/",
          "height": 301
        },
        "id": "1KwdcQXjCdn0",
        "outputId": "de9567a2-38df-463f-ac29-ef8f83e557da"
      },
      "execution_count": 13,
      "outputs": [
        {
          "output_type": "stream",
          "name": "stdout",
          "text": [
            "0\n",
            "Original label is 0 and predicted label is 0\n"
          ]
        },
        {
          "output_type": "display_data",
          "data": {
            "text/plain": [
              "<Figure size 432x288 with 1 Axes>"
            ],
            "image/png": "[encoded data removed]"
          },
          "metadata": {
            "needs_background": "light"
          }
        }
      ]
    },
    {
      "cell_type": "code",
      "source": [
        ""
      ],
      "metadata": {
        "id": "ZOgTXyarDFOY"
      },
      "execution_count": null,
      "outputs": []
    }
  ]
}