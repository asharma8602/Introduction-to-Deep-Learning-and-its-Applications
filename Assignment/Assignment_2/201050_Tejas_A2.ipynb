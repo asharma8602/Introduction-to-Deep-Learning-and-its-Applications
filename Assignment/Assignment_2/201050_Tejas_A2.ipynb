{
  "cells": [
    {
      "cell_type": "markdown",
      "metadata": {
        "id": "rvFM645NE-D2"
      },
      "source": [
        "# Assignment 2\n",
        "In this assignment, we will go through Perceptron, Linear Classifiers, Loss Functions, Gradient Descent and Back Propagation.\n",
        "\n",
        "\n",
        "PS. this one is not from Stanford's course.\n",
        "\n",
        "\n",
        "\n",
        "\\\n",
        "\n",
        "## Instructions\n",
        "* This notebook contain blocks of code, you are required to complete those blocks(where required)\n",
        "* You are required to copy this notebook (\"copy to drive\" above) and complete the code.(DO NOT CHANGE THE NAME OF THE FUNCTIONS)"
      ]
    },
    {
      "cell_type": "markdown",
      "metadata": {
        "collapsed": true,
        "id": "QLtp15rqE-EU"
      },
      "source": [
        "# Part 1: Perceptron\n",
        "In this section, we will see how to implement a perceptron. Goal would be for you to delve into the mathematics.\n"
      ]
    },
    {
      "cell_type": "markdown",
      "metadata": {
        "id": "Zao4e-DphaGA"
      },
      "source": [
        "## Intro\n",
        "What's a perceptron? It's an algorithm modelled on biological computational model to classify things into binary classes. It's a supervides learning algorithm, meaning that you need to provide labelled data containing features and the actual classifications. A perceptron would take these features as input and spit out a binary value (0 or 1). While training the model with training data, we try to minimise the error and learn the parameters involved."
      ]
    },
    {
      "cell_type": "markdown",
      "metadata": {
        "id": "wDTUoAd6ixm-"
      },
      "source": [
        "**How does it work?**\\\n",
        "A perceptron is modelled on a biological neuron. A neuron has input dendrites and the output is carried by axons. Similarly, a perceptron takes inputs called \"features\". After processing, a perceptron gives output. For computation, it has a \"weight\" vector which is multipled with feature vector. An activation function is added to introduce some non linearities and the output is given out.\\\n",
        "It can be represented as: $$  f=\\sum_{i=1}^{m} w_ix_i +b$$\n",
        "\n",
        "Let's implement this simple function to give an output.\n",
        "\n"
      ]
    },
    {
      "cell_type": "code",
      "execution_count": 2,
      "metadata": {
        "id": "iXezofBIgzId"
      },
      "outputs": [],
      "source": [
        "import numpy as np\n",
        "\n",
        "class perceptron():\n",
        "    def __init__(self,num_input_features=8):\n",
        "        self.weights = np.random.randn(num_input_features) #gives a row vector \n",
        "        self.bias = np.random.random()\n",
        "\n",
        "    def activation(self,x):\n",
        "        '''\n",
        "            Implement heavside step activation function here (google ;))\n",
        "        '''\n",
        "        if(x>=0):\n",
        "           return 1\n",
        "        else:\n",
        "           return 0\n",
        "        pass\n",
        "\n",
        "    def forward(self,x: np.ndarray):\n",
        "        '''\n",
        "\n",
        "            you have random initialized weights and bias\n",
        "            you can access then using `self.weights` and `self.bias`\n",
        "            you should use activation function before returning\n",
        "        \n",
        "            x : input features\n",
        "            return : a binary value as the output of the perceptron \n",
        "        '''\n",
        "        # YOUR CODE HERE\n",
        "        f= np.dot((self.weights).T, x) + self.bias\n",
        "        t= self.activation(f)\n",
        "        return t\n",
        "        pass\n",
        "        # YOUR CODE HERE"
      ]
    },
    {
      "cell_type": "code",
      "execution_count": 3,
      "metadata": {
        "id": "oSKwDFAyocVo"
      },
      "outputs": [],
      "source": [
        "np.random.seed(0)\n",
        "perc = perceptron(8) \n",
        "# print(perc.forward(np.arange(8)))\n",
        "assert perc.forward(np.arange(8))==1 #check what this does "
      ]
    },
    {
      "cell_type": "markdown",
      "metadata": {
        "collapsed": true,
        "id": "NWTTg1e9r7uM"
      },
      "source": [
        "# Part 2: Linear Classifier\n",
        "In this section, we will see how to implement a linear Classifier.\n"
      ]
    },
    {
      "cell_type": "markdown",
      "metadata": {
        "id": "DYDO4GcHr7uM"
      },
      "source": [
        "## Intro\n"
      ]
    },
    {
      "cell_type": "markdown",
      "metadata": {
        "id": "-HFvjH06r7uN"
      },
      "source": [
        "**How does it work?**\n",
        "\n",
        "Linear Classifier uses the following function: $$Y = WX+b$$ Where, $W$ is a 2d array of weights with shape (#features, #classes).\n",
        "\n",
        "\n",
        "Let's implement this classifier.\n",
        "\n"
      ]
    },
    {
      "cell_type": "code",
      "execution_count": 4,
      "metadata": {
        "id": "9A13CEkGr7uN"
      },
      "outputs": [],
      "source": [
        "import numpy as np\n",
        "#classes= This is not a binary classification problem- I guess 5 classes is the default here- so we output a probability vector Y , shape (5,1), bias (5,1)\n",
        "class LinearClassifier():\n",
        "    def __init__(self,num_input_features=32,num_classes=5):\n",
        "        self.weights = np.random.randn(num_input_features,num_classes) # (32,5) ( 32 features, if it was binary classification W would have been (32,1))\n",
        "        self.bias = np.random.rand(num_classes)  # (1,5) => flexible if you give only one dimension-> b.shape is (5,)\n",
        "\n",
        "    def forward(self,x: np.ndarray):\n",
        "        '''\n",
        "            x: input features\n",
        "            you have random initialized weights and bias\n",
        "            you can access then using `self.weights` and `self.bias`\n",
        "            return an output vector of num_classes size\n",
        "        '''\n",
        "        # YOUR CODE HERE \n",
        "        Y= np.dot(x,self.weights)+self.bias # x is of shape (1,32) -> one value for each feature  , Y is (1,5) apparently \n",
        "        # Y= np.dot( self.weights,x)+self.bias\n",
        "        return Y\n",
        "        pass\n",
        "        # YOUR CODE HERE"
      ]
    },
    {
      "cell_type": "code",
      "execution_count": 5,
      "metadata": {
        "colab": {
          "base_uri": "https://localhost:8080/"
        },
        "id": "zgzPxyTsr7uN",
        "outputId": "c0868437-90ad-4f22-e8be-856673a53b24"
      },
      "outputs": [
        {
          "output_type": "execute_result",
          "data": {
            "text/plain": [
              "array([[ 1.30208164,  5.58136003,  0.87793013, -4.7332119 ,  4.81172123]])"
            ]
          },
          "metadata": {},
          "execution_count": 5
        }
      ],
      "source": [
        "\n",
        "np.random.seed(0)\n",
        "lc = LinearClassifier()\n",
        "# print(lc)\n",
        "(lc.forward(np.random.rand(1,32))) # passing a feature vector randomly of size (1,32)\n",
        "# bias = np.random.rand(5) \n",
        "# print(np.shape(bias))\n",
        "# Should be close to:\n",
        "# array([[ 1.30208164,  5.58136003,  0.87793013, -4.7332119 ,  4.81172123]])"
      ]
    },
    {
      "cell_type": "markdown",
      "metadata": {
        "collapsed": true,
        "id": "ZVgOVzJetuqo"
      },
      "source": [
        "# Part 3: Loss Functions, Gradient descent and Backpropagation\n",
        "\n",
        "\n"
      ]
    },
    {
      "cell_type": "markdown",
      "metadata": {
        "id": "4pXryjpctuqy"
      },
      "source": [
        "## Intro\n",
        "\n",
        "Loss Functions tells how \"off\" the output od our model is. Based upon the application, you can use several different loss functions. Formally, A loss function is a function $L:(z,y)\\in\\mathbb{R}\\times Y\\longmapsto L(z,y)\\in\\mathbb{R}$ that takes as inputs the predicted value $z$ corresponding to the real data value yy and outputs how different they are We'll implement L1 loss, L2 loss, Logistic loss, hinge loss and cross entropy loss functions."
      ]
    },
    {
      "cell_type": "markdown",
      "metadata": {
        "id": "QGRb8BHotuqy"
      },
      "source": [
        "### **L1 loss**\n",
        "L1 loss is the linear loss function  $L = \\dfrac{1}{2}(y−z) $\n",
        "\n"
      ]
    },
    {
      "cell_type": "code",
      "execution_count": 6,
      "metadata": {
        "id": "YxVh6IL2tuqz"
      },
      "outputs": [],
      "source": [
        "import numpy as np\n",
        "def L1Loss(z,y):\n",
        "    '''\n",
        "        y : True output.\n",
        "        z : Predicted output.\n",
        "        return : L\n",
        "    '''\n",
        "    L= 1/2*(y-z)\n",
        "    return L\n",
        "    pass"
      ]
    },
    {
      "cell_type": "markdown",
      "metadata": {
        "id": "2xy8ZS84cKtQ"
      },
      "source": [
        "### **L2 loss**\n",
        "L2 loss is the quadratic loss function or the least square error function  $L = \\dfrac{1}{2}(y−z)^2 $\n",
        "\n"
      ]
    },
    {
      "cell_type": "code",
      "execution_count": 7,
      "metadata": {
        "id": "JThp5P-KcKtS"
      },
      "outputs": [],
      "source": [
        "import numpy as np\n",
        "def L2Loss(z,y):\n",
        "    '''\n",
        "        y : True output. \n",
        "        z : Predicted output. \n",
        "        return : L\n",
        "    '''\n",
        "    L= 1/2*(y-z)**2\n",
        "    pass"
      ]
    },
    {
      "cell_type": "markdown",
      "metadata": {
        "id": "Z2JNLnWYcLSC"
      },
      "source": [
        "### **Hinge Loss**\n",
        "Hinge loss is: $ L = max( 0, 1 - yz ) $"
      ]
    },
    {
      "cell_type": "code",
      "execution_count": 8,
      "metadata": {
        "id": "gQ1YM4J-cLSC"
      },
      "outputs": [],
      "source": [
        "import numpy as np\n",
        "def hingeLoss(z,y):\n",
        "    '''\n",
        "        y : True output. \n",
        "        z : Predicted output. \n",
        "        return : L\n",
        "    '''\n",
        "    t= max(0, 1-y*z)\n",
        "    return t\n",
        "    pass"
      ]
    },
    {
      "cell_type": "markdown",
      "metadata": {
        "id": "m15_MjradMNY"
      },
      "source": [
        "### **Cross Entropy Loss**\n",
        "Another very famous loss function is Cross Entropy loss: $ L = −[ylog(z)+(1−y)log(1−z)] $."
      ]
    },
    {
      "cell_type": "code",
      "execution_count": 9,
      "metadata": {
        "id": "snJLqhszdMNY"
      },
      "outputs": [],
      "source": [
        "import numpy as np # We used cross entropy loss in binary classification problems- if y is 1 and z is close to zero/ vice versa there is huge loss \n",
        "def CELoss(z,y):\n",
        "    '''\n",
        "        y : True output. \n",
        "        z : Predicted output. \n",
        "        return : L\n",
        "    '''\n",
        "    L= -1*(y*np.log(z)+(1-y)*np.log(1-z))\n",
        "    return L\n",
        "    pass"
      ]
    },
    {
      "cell_type": "markdown",
      "metadata": {
        "id": "OsRPsfzxyEVL"
      },
      "source": [
        "### **0-1 Loss**\n",
        "Loss Function used by perceptron is: $ \\begin{cases} \n",
        "      0=z-y & z=y \\\\\n",
        "      1=\\dfrac{z-y}{z-y} & z\\neq y\n",
        "   \\end{cases} $."
      ]
    },
    {
      "cell_type": "code",
      "execution_count": 10,
      "metadata": {
        "id": "5sA7GxLHyEVM"
      },
      "outputs": [],
      "source": [
        "import numpy as np\n",
        "def zeroOneLoss(z,y):\n",
        "    '''\n",
        "        y : True output. \n",
        "        z : Predicted output. \n",
        "        return : L\n",
        "    '''\n",
        "    # essentially it seems loss is 1 if your prediction is not completely accurate?\n",
        "    if(z==y):\n",
        "       return 0\n",
        "    else:\n",
        "      return 1\n",
        "    pass"
      ]
    },
    {
      "cell_type": "markdown",
      "metadata": {
        "id": "CWhbibHcgRR8"
      },
      "source": [
        "## Cost Function\n",
        "The cost function $J$ is commonly used to assess the performance of a model, and is defined with the loss function $L$ as follows:\n",
        "$$\\boxed{J(\\theta)=\\sum_{i=1}^mL(h_\\theta(x^{(i)}), y^{(i)})}$$\n",
        "where $h_\\theta$ is the hypothesis function i.e. the function used to predict the output."
      ]
    },
    {
      "cell_type": "code",
      "execution_count": 11,
      "metadata": {
        "id": "SSbmhW4og97t"
      },
      "outputs": [],
      "source": [
        "lossFunctions = {\n",
        "    \"l1\" : L1Loss,\n",
        "    \"l2\" : L2Loss,\n",
        "    \"hinge\" : hingeLoss,\n",
        "    \"cross-entropy\" : CELoss,\n",
        "    \"0-1\" : zeroOneLoss\n",
        "} #dictionary \n",
        "\n",
        "def cost(Z : np.ndarray, Y : np.ndarray, loss : str):\n",
        "    '''\n",
        "        Z : a numpy array of predictions.\n",
        "        Y : a numpy array of true values.\n",
        "        return : A numpy array of costs calculated for each example.\n",
        "    '''\n",
        "    loss_func = lossFunctions[loss]\n",
        "    # YOUR CODE HERE\n",
        "    J = None\n",
        "    for i in range(len(Y)):\n",
        "      J+=loss_func(Z[i],Y[i])\n",
        "    # YOUR CODE HERE\n",
        "    return J\n",
        "    pass"
      ]
    },
    {
      "cell_type": "markdown",
      "metadata": {
        "id": "upsN7A0zjGqx"
      },
      "source": [
        "## Gradient Descent and Back Propagation\n",
        "Gradient Descent is an algorithm that minimizes the loss function by calculating it's gradient. By noting $\\alpha\\in\\mathbb{R}$ the learning rate, the update rule for gradient descent is expressed with the learning rate $\\alpha$ and the cost function $J$ as follows:\n",
        "\n",
        "$$\\boxed{ W \\longleftarrow W -\\alpha\\nabla J( W )}$$\n",
        "​\n"
      ]
    },
    {
      "cell_type": "markdown",
      "metadata": {
        "id": "AFCN-fYCqidi"
      },
      "source": [
        "But we need to find the partial derivative of Loss function wrt every parameter to know what is the slight change that we need to apply to our parameters. This becomes particularly hard if we have more than 1 layer in our algorithm. Here's where **Back Propagation** comes in. It's a way to find gradients wrt every parameter using the chain rule. Backpropagation is a method to update the weights in the neural network by taking into account the actual output and the desired output. The derivative with respect to weight ww is computed using chain rule and is of the following form:\n",
        "\n",
        "$$\\boxed{\\frac{\\partial L(z,y)}{\\partial w}=\\frac{\\partial L(z,y)}{\\partial a}\\times\\frac{\\partial a}{\\partial z}\\times\\frac{\\partial z}{\\partial w}}$$\n",
        "​\n",
        " \n",
        "As a result, the weight is updated as follows:\n",
        "\n",
        "$$\\boxed{w\\longleftarrow w-\\alpha\\frac{\\partial L(z,y)}{\\partial w}}$$\n",
        "\n",
        "So, In a neural network, weights are updated as follows:\n",
        "\n",
        "* Step 1: Take a batch of training data.\n",
        "* Step 2: Perform forward propagation to obtain the corresponding loss.\n",
        "* Step 3: Backpropagate the loss to get the gradients.\n",
        "* Step 4: Use the gradients to update the weights of the network.\n",
        "​\n",
        "\n",
        "Bonus Problem\n",
        " \n",
        "Now, Assuming that you know Back Propagation (read a bit about it, if you don't), we'll now implement an image classification model on CIFAR-10."
      ]
    },
    {
      "cell_type": "markdown",
      "metadata": {
        "id": "sJoG5kkYopRN"
      },
      "source": [
        "# **Bonus Problem**\n",
        "\n",
        "Now, Assuming that you know Back Propagation (read a bit about it, if you don't), we'll now implement an image classification model on CIFAR-10."
      ]
    },
    {
      "cell_type": "code",
      "execution_count": 12,
      "metadata": {
        "colab": {
          "base_uri": "https://localhost:8080/"
        },
        "id": "_4-4RceVsor_",
        "outputId": "1b70e75f-b529-475d-9d48-489272c9502d"
      },
      "outputs": [
        {
          "output_type": "stream",
          "name": "stdout",
          "text": [
            "2.8.0\n"
          ]
        }
      ],
      "source": [
        "import tensorflow as tf  \n",
        " \n",
        "# Display the version\n",
        "print(tf.__version__)    \n",
        " \n",
        "# other imports\n",
        "import numpy as np\n",
        "import matplotlib.pyplot as plt\n",
        "from tensorflow.keras.layers import Input, Conv2D, Dense, Flatten, Dropout\n",
        "from tensorflow.keras.layers import GlobalMaxPooling2D, MaxPooling2D\n",
        "from tensorflow.keras.layers import BatchNormalization\n",
        "from tensorflow.keras.models import Model"
      ]
    },
    {
      "cell_type": "code",
      "execution_count": 13,
      "metadata": {
        "colab": {
          "base_uri": "https://localhost:8080/"
        },
        "id": "yyplk5PLEUsJ",
        "outputId": "2ea88acf-7d99-4b3a-ad1f-5e52c49256fd"
      },
      "outputs": [
        {
          "output_type": "stream",
          "name": "stdout",
          "text": [
            "Downloading data from https://www.cs.toronto.edu/~kriz/cifar-10-python.tar.gz\n",
            "170500096/170498071 [==============================] - 12s 0us/step\n",
            "170508288/170498071 [==============================] - 12s 0us/step\n",
            "(50000, 32, 32, 3) (50000, 1) (10000, 32, 32, 3) (10000, 1)\n"
          ]
        }
      ],
      "source": [
        "# Load in the data\n",
        "cifar10 = tf.keras.datasets.cifar10 \n",
        "#The CIFAR-10 dataset consists of 60000 32x32 colour images in 10 classes, with 6000 images per class. There are 50000 training images and 10000 test images. \n",
        " \n",
        "# Distribute it to train and test set\n",
        "(x_train, y_train), (x_test, y_test) = cifar10.load_data() \n",
        "# x is (no_of_images, image size in pixels(32,32), 3( red, blue, green)) => y is the corresponding classification into one of the ten classes ?\n",
        "print(x_train.shape, y_train.shape, x_test.shape, y_test.shape)\n",
        "\n",
        "# Reduce pixel values\n",
        "x_train, x_test = x_train / 255.0, x_test / 255.0\n",
        " \n",
        "# flatten the label values\n",
        "y_train, y_test = y_train.flatten(), y_test.flatten()"
      ]
    },
    {
      "cell_type": "code",
      "execution_count": 14,
      "metadata": {
        "colab": {
          "base_uri": "https://localhost:8080/",
          "height": 309
        },
        "id": "a4gbmOEdfyKD",
        "outputId": "1c7d8383-8c14-4c4b-b9a2-7f30c6d0958e"
      },
      "outputs": [
        {
          "output_type": "display_data",
          "data": {
            "text/plain": [
              "<Figure size 432x288 with 9 Axes>"
            ],
            "image/png": "[encoded data removed]"
          },
          "metadata": {
            "needs_background": "light"
          }
        }
      ],
      "source": [
        "\n",
        "'''visualize data by plotting images''' \n",
        "import matplotlib.pyplot as plt\n",
        "key= {0:'airplane', 1:'automobile', 2:'bird',\t3:'cat',4:'deer',\t\t5:'dog',6:'frog',\t7:'horse',8:'ship',\t9:'truck'}\n",
        "# YOUR CODE HERE\n",
        "f, axarr = plt.subplots(3,3)\n",
        "f.tight_layout()\n",
        "for i in range(0,3):\n",
        "  for j in range(0,3):\n",
        "    axarr[i][j].imshow(x_train[3*(i)+j])\n",
        "    axarr[i][j].set_title(key[y_train[3*i+j]])\n",
        "# YOUR CODE HERE"
      ]
    },
    {
      "cell_type": "code",
      "execution_count": 16,
      "metadata": {
        "colab": {
          "base_uri": "https://localhost:8080/"
        },
        "id": "yJgho2AEBFbx",
        "outputId": "d862bc4b-7c9e-491c-9947-ace29e5a9e8a"
      },
      "outputs": [
        {
          "output_type": "stream",
          "name": "stdout",
          "text": [
            "number of classes: 10\n",
            "Model: \"model\"\n",
            "_________________________________________________________________\n",
            " Layer (type)                Output Shape              Param #   \n",
            "=================================================================\n",
            " input_1 (InputLayer)        [(None, 32, 32, 3)]       0         \n",
            "                                                                 \n",
            " conv2d (Conv2D)             (None, 30, 30, 32)        896       \n",
            "                                                                 \n",
            " max_pooling2d (MaxPooling2D  (None, 15, 15, 32)       0         \n",
            " )                                                               \n",
            "                                                                 \n",
            " conv2d_1 (Conv2D)           (None, 13, 13, 64)        18496     \n",
            "                                                                 \n",
            " max_pooling2d_1 (MaxPooling  (None, 6, 6, 64)         0         \n",
            " 2D)                                                             \n",
            "                                                                 \n",
            " flatten (Flatten)           (None, 2304)              0         \n",
            "                                                                 \n",
            " dense (Dense)               (None, 10)                23050     \n",
            "                                                                 \n",
            " dense_1 (Dense)             (None, 10)                110       \n",
            "                                                                 \n",
            "=================================================================\n",
            "Total params: 42,552\n",
            "Trainable params: 42,552\n",
            "Non-trainable params: 0\n",
            "_________________________________________________________________\n"
          ]
        }
      ],
      "source": [
        "()\n",
        "# number of classes\n",
        "K = len(set(y_train)) #set() method is used to convert any of the iterable to sequence of iterable elements with distinct elements\n",
        "#set(y_train) will most liekly be the set s={0,1,..9}\n",
        "'''\n",
        " calculate total number of classes\n",
        " for output layer\n",
        "'''\n",
        "print(\"number of classes:\", K)\n",
        "''' \n",
        " Build the model using the functional API\n",
        " input layer\n",
        "'''\n",
        "'''\n",
        "  YOUR CODE HERE\n",
        "'''\n",
        " \n",
        "'''Hidden layer'''\n",
        "# YOUR CODE HERE\n",
        "pass\n",
        "visible = Input(shape=x_train[0].shape) # (32,32,3)\n",
        "conv1 = Conv2D(32, (3,3), activation='relu')(visible)\n",
        "pool1 = MaxPooling2D(pool_size=(2, 2))(conv1)\n",
        "conv2 = Conv2D(64,(3,3),activation='relu')(pool1)\n",
        "pool2 = MaxPooling2D(pool_size=(2, 2))(conv2)\n",
        "conv3 = Conv2D(128,(3,3),activation='relu')(pool1)\n",
        "pool3 = MaxPooling2D(pool_size=(2, 2))(conv2)\n",
        "flat = Flatten()(pool2)\n",
        "hidden1 = Dense(10, activation='relu')(flat)\n",
        "\n",
        "# YOUR CODE HERE\n",
        " \n",
        "\"\"\"last hidden layer i.e.. output layer\"\"\"\n",
        "# YOUR CODE HERE\n",
        "output = Dense(10, activation='softmax')(hidden1)\n",
        "model = Model(inputs=visible, outputs=output)\n",
        "pass\n",
        "# YOUR CODE HERE\n",
        " \n",
        "'''model description'''\n",
        "model.summary()"
      ]
    },
    {
      "cell_type": "code",
      "execution_count": 17,
      "metadata": {
        "id": "PLc4Bay65TyA"
      },
      "outputs": [],
      "source": [
        "# Compile\n",
        "'''\n",
        "  YOUR CODE HERE\n",
        "'''\n",
        "model.compile(optimizer='adam',\n",
        "              loss='sparse_categorical_crossentropy',\n",
        "              metrics=['accuracy'])"
      ]
    },
    {
      "cell_type": "code",
      "execution_count": null,
      "metadata": {
        "colab": {
          "base_uri": "https://localhost:8080/"
        },
        "id": "U0fGsDCRsQrn",
        "outputId": "dba01b2c-438d-40c8-8b23-d2ed47348c6b"
      },
      "outputs": [
        {
          "output_type": "stream",
          "name": "stdout",
          "text": [
            "Epoch 1/50\n",
            "1563/1563 [==============================] - 66s 42ms/step - loss: 1.7323 - accuracy: 0.3531 - val_loss: 1.4692 - val_accuracy: 0.4593\n",
            "Epoch 2/50\n",
            "1563/1563 [==============================] - 64s 41ms/step - loss: 1.4196 - accuracy: 0.4759 - val_loss: 1.3474 - val_accuracy: 0.5011\n",
            "Epoch 3/50\n",
            "1563/1563 [==============================] - 64s 41ms/step - loss: 1.3043 - accuracy: 0.5190 - val_loss: 1.2650 - val_accuracy: 0.5349\n",
            "Epoch 4/50\n",
            "1563/1563 [==============================] - 63s 41ms/step - loss: 1.2301 - accuracy: 0.5452 - val_loss: 1.2137 - val_accuracy: 0.5570\n",
            "Epoch 5/50\n",
            "1563/1563 [==============================] - 63s 40ms/step - loss: 1.1710 - accuracy: 0.5705 - val_loss: 1.1862 - val_accuracy: 0.5702\n",
            "Epoch 6/50\n",
            "1563/1563 [==============================] - 63s 40ms/step - loss: 1.1214 - accuracy: 0.5873 - val_loss: 1.1861 - val_accuracy: 0.5733\n",
            "Epoch 7/50\n",
            "1563/1563 [==============================] - 63s 40ms/step - loss: 1.0811 - accuracy: 0.6043 - val_loss: 1.1200 - val_accuracy: 0.5905\n",
            "Epoch 8/50\n",
            "1563/1563 [==============================] - 63s 40ms/step - loss: 1.0517 - accuracy: 0.6149 - val_loss: 1.0898 - val_accuracy: 0.6027\n",
            "Epoch 9/50\n",
            "1563/1563 [==============================] - 63s 40ms/step - loss: 1.0182 - accuracy: 0.6263 - val_loss: 1.0966 - val_accuracy: 0.6031\n",
            "Epoch 10/50\n",
            "1563/1563 [==============================] - 62s 40ms/step - loss: 0.9975 - accuracy: 0.6360 - val_loss: 1.0835 - val_accuracy: 0.6082\n",
            "Epoch 11/50\n",
            "1563/1563 [==============================] - 62s 40ms/step - loss: 0.9774 - accuracy: 0.6430 - val_loss: 1.0664 - val_accuracy: 0.6211\n",
            "Epoch 12/50\n",
            "1563/1563 [==============================] - 62s 40ms/step - loss: 0.9573 - accuracy: 0.6501 - val_loss: 1.0489 - val_accuracy: 0.6255\n",
            "Epoch 13/50\n",
            "1563/1563 [==============================] - 62s 40ms/step - loss: 0.9350 - accuracy: 0.6576 - val_loss: 1.0746 - val_accuracy: 0.6233\n",
            "Epoch 14/50\n",
            "1563/1563 [==============================] - 62s 40ms/step - loss: 0.9212 - accuracy: 0.6622 - val_loss: 1.0336 - val_accuracy: 0.6384\n",
            "Epoch 15/50\n",
            "1563/1563 [==============================] - 62s 40ms/step - loss: 0.9069 - accuracy: 0.6675 - val_loss: 1.0467 - val_accuracy: 0.6305\n",
            "Epoch 16/50\n",
            "1563/1563 [==============================] - 62s 40ms/step - loss: 0.8918 - accuracy: 0.6744 - val_loss: 1.0304 - val_accuracy: 0.6312\n",
            "Epoch 17/50\n",
            "1563/1563 [==============================] - 63s 40ms/step - loss: 0.8801 - accuracy: 0.6791 - val_loss: 1.0254 - val_accuracy: 0.6370\n",
            "Epoch 18/50\n",
            "1563/1563 [==============================] - 62s 40ms/step - loss: 0.8679 - accuracy: 0.6831 - val_loss: 1.0184 - val_accuracy: 0.6392\n",
            "Epoch 19/50\n",
            "1563/1563 [==============================] - 63s 40ms/step - loss: 0.8544 - accuracy: 0.6868 - val_loss: 1.1225 - val_accuracy: 0.6222\n",
            "Epoch 20/50\n",
            "1563/1563 [==============================] - 63s 40ms/step - loss: 0.8466 - accuracy: 0.6914 - val_loss: 1.0388 - val_accuracy: 0.6328\n",
            "Epoch 21/50\n",
            "1563/1563 [==============================] - 63s 40ms/step - loss: 0.8297 - accuracy: 0.6958 - val_loss: 1.0181 - val_accuracy: 0.6418\n",
            "Epoch 22/50\n",
            "1563/1563 [==============================] - 63s 40ms/step - loss: 0.8222 - accuracy: 0.6987 - val_loss: 1.0307 - val_accuracy: 0.6401\n",
            "Epoch 23/50\n",
            "1563/1563 [==============================] - 62s 40ms/step - loss: 0.8180 - accuracy: 0.7007 - val_loss: 1.0310 - val_accuracy: 0.6439\n",
            "Epoch 24/50\n",
            "1563/1563 [==============================] - 62s 40ms/step - loss: 0.8049 - accuracy: 0.7052 - val_loss: 1.0461 - val_accuracy: 0.6341\n",
            "Epoch 25/50\n",
            "1563/1563 [==============================] - 63s 40ms/step - loss: 0.7983 - accuracy: 0.7070 - val_loss: 1.0432 - val_accuracy: 0.6411\n",
            "Epoch 26/50\n",
            "1563/1563 [==============================] - 63s 40ms/step - loss: 0.7916 - accuracy: 0.7116 - val_loss: 1.0347 - val_accuracy: 0.6439\n",
            "Epoch 27/50\n",
            "1563/1563 [==============================] - 63s 40ms/step - loss: 0.7816 - accuracy: 0.7135 - val_loss: 1.0814 - val_accuracy: 0.6300\n",
            "Epoch 28/50\n",
            "1563/1563 [==============================] - 63s 41ms/step - loss: 0.7763 - accuracy: 0.7178 - val_loss: 1.0354 - val_accuracy: 0.6500\n",
            "Epoch 29/50\n",
            "1563/1563 [==============================] - 63s 41ms/step - loss: 0.7692 - accuracy: 0.7182 - val_loss: 1.0428 - val_accuracy: 0.6473\n",
            "Epoch 30/50\n",
            "1563/1563 [==============================] - 64s 41ms/step - loss: 0.7603 - accuracy: 0.7201 - val_loss: 1.0590 - val_accuracy: 0.6435\n",
            "Epoch 31/50\n",
            "1563/1563 [==============================] - 64s 41ms/step - loss: 0.7528 - accuracy: 0.7243 - val_loss: 1.0498 - val_accuracy: 0.6509\n",
            "Epoch 32/50\n",
            "1563/1563 [==============================] - 64s 41ms/step - loss: 0.7473 - accuracy: 0.7252 - val_loss: 1.0959 - val_accuracy: 0.6316\n",
            "Epoch 33/50\n",
            "1563/1563 [==============================] - 64s 41ms/step - loss: 0.7462 - accuracy: 0.7249 - val_loss: 1.0841 - val_accuracy: 0.6359\n",
            "Epoch 34/50\n",
            "1563/1563 [==============================] - 63s 40ms/step - loss: 0.7369 - accuracy: 0.7289 - val_loss: 1.0814 - val_accuracy: 0.6388\n",
            "Epoch 35/50\n",
            "1563/1563 [==============================] - 63s 41ms/step - loss: 0.7287 - accuracy: 0.7315 - val_loss: 1.0593 - val_accuracy: 0.6459\n",
            "Epoch 36/50\n",
            "1563/1563 [==============================] - 63s 40ms/step - loss: 0.7255 - accuracy: 0.7350 - val_loss: 1.0535 - val_accuracy: 0.6532\n",
            "Epoch 37/50\n",
            "1563/1563 [==============================] - 63s 40ms/step - loss: 0.7183 - accuracy: 0.7357 - val_loss: 1.0714 - val_accuracy: 0.6474\n",
            "Epoch 38/50\n",
            "1563/1563 [==============================] - 63s 40ms/step - loss: 0.7138 - accuracy: 0.7381 - val_loss: 1.0699 - val_accuracy: 0.6470\n",
            "Epoch 39/50\n",
            "1563/1563 [==============================] - 63s 40ms/step - loss: 0.7058 - accuracy: 0.7393 - val_loss: 1.0864 - val_accuracy: 0.6468\n",
            "Epoch 40/50\n",
            "1563/1563 [==============================] - 63s 40ms/step - loss: 0.7033 - accuracy: 0.7404 - val_loss: 1.0904 - val_accuracy: 0.6413\n",
            "Epoch 41/50\n",
            "1563/1563 [==============================] - 63s 40ms/step - loss: 0.6999 - accuracy: 0.7420 - val_loss: 1.1323 - val_accuracy: 0.6451\n",
            "Epoch 42/50\n",
            "1563/1563 [==============================] - 63s 40ms/step - loss: 0.6904 - accuracy: 0.7440 - val_loss: 1.0680 - val_accuracy: 0.6539\n",
            "Epoch 43/50\n",
            "1563/1563 [==============================] - 64s 41ms/step - loss: 0.6854 - accuracy: 0.7448 - val_loss: 1.0869 - val_accuracy: 0.6483\n",
            "Epoch 44/50\n",
            "1563/1563 [==============================] - 64s 41ms/step - loss: 0.6857 - accuracy: 0.7465 - val_loss: 1.1113 - val_accuracy: 0.6442\n",
            "Epoch 45/50\n",
            "1563/1563 [==============================] - 63s 41ms/step - loss: 0.6802 - accuracy: 0.7480 - val_loss: 1.0838 - val_accuracy: 0.6474\n",
            "Epoch 46/50\n",
            "1563/1563 [==============================] - 64s 41ms/step - loss: 0.6781 - accuracy: 0.7507 - val_loss: 1.1039 - val_accuracy: 0.6472\n",
            "Epoch 47/50\n",
            "1563/1563 [==============================] - 64s 41ms/step - loss: 0.6673 - accuracy: 0.7518 - val_loss: 1.1137 - val_accuracy: 0.6500\n",
            "Epoch 48/50\n",
            "1563/1563 [==============================] - 64s 41ms/step - loss: 0.6655 - accuracy: 0.7544 - val_loss: 1.1335 - val_accuracy: 0.6410\n",
            "Epoch 49/50\n",
            "1563/1563 [==============================] - 64s 41ms/step - loss: 0.6588 - accuracy: 0.7549 - val_loss: 1.1107 - val_accuracy: 0.6471\n",
            "Epoch 50/50\n",
            "1563/1563 [==============================] - 64s 41ms/step - loss: 0.6582 - accuracy: 0.7560 - val_loss: 1.1022 - val_accuracy: 0.6497\n"
          ]
        }
      ],
      "source": [
        "# Fit\n",
        "'''\n",
        "  YOUR CODE HERE\n",
        "'''\n",
        "r = model.fit(x_train, y_train, validation_data=(x_test, y_test), epochs=50)"
      ]
    },
    {
      "cell_type": "code",
      "execution_count": 18,
      "metadata": {
        "id": "RDq_RE6osSh8",
        "colab": {
          "base_uri": "https://localhost:8080/",
          "height": 283
        },
        "outputId": "6015ee91-cae4-48a6-ae5f-357dc16e6636"
      },
      "outputs": [
        {
          "output_type": "stream",
          "name": "stdout",
          "text": [
            "Original label is cat and predicted label is cat\n"
          ]
        },
        {
          "output_type": "display_data",
          "data": {
            "text/plain": [
              "<Figure size 432x288 with 1 Axes>"
            ],
            "image/png": "[encoded data removed]"
          },
          "metadata": {
            "needs_background": "light"
          }
        }
      ],
      "source": [
        "# label mapping\n",
        " \n",
        "labels = '''airplane automobile bird cat deer dog frog horse ship truck'''.split()\n",
        " \n",
        "# select the image from our test dataset\n",
        "image_number = 0\n",
        " \n",
        "# display the image\n",
        "plt.imshow(x_test[image_number])\n",
        " \n",
        "# load the image in an array\n",
        "n = np.array(x_test[image_number])\n",
        " \n",
        "# reshape it\n",
        "p = n.reshape(1, 32, 32, 3)\n",
        " \n",
        "# pass in the network for prediction and\n",
        "# save the predicted label\n",
        "predicted_label = labels[model.predict(p).argmax()]\n",
        " \n",
        "# load the original label\n",
        "original_label = labels[y_test[image_number]]\n",
        " \n",
        "# display the result\n",
        "print(\"Original label is {} and predicted label is {}\".format(\n",
        "    original_label, predicted_label))"
      ]
    },
    {
      "cell_type": "code",
      "source": [
        ""
      ],
      "metadata": {
        "id": "5VIj4PyVxG7G"
      },
      "execution_count": null,
      "outputs": []
    }
  ],
  "metadata": {
    "colab": {
      "collapsed_sections": [],
      "name": "201050_Tejas_A2.ipynb",
      "provenance": []
    },
    "kernelspec": {
      "display_name": "Python 3",
      "name": "python3"
    },
    "language_info": {
      "name": "python"
    }
  },
  "nbformat": 4,
  "nbformat_minor": 0
}