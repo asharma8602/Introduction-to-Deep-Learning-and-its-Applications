{
  "nbformat": 4,
  "nbformat_minor": 0,
  "metadata": {
    "colab": {
      "name": "A2_200537.ipynb",
      "provenance": [],
      "collapsed_sections": []
    },
    "kernelspec": {
      "name": "python3",
      "display_name": "Python 3"
    },
    "language_info": {
      "name": "python"
    }
  },
  "cells": [
    {
      "cell_type": "markdown",
      "source": [
        "# Assigment 2: Deep Learning"
      ],
      "metadata": {
        "id": "UxcaEbrCy1g_"
      }
    },
    {
      "cell_type": "markdown",
      "source": [
        "## Generate Dataset\n",
        "\n",
        "This is the same code from Assignment 1"
      ],
      "metadata": {
        "id": "h2JON-_Oy79w"
      }
    },
    {
      "cell_type": "code",
      "execution_count": 23,
      "metadata": {
        "id": "hgpG3WDuypfa"
      },
      "outputs": [],
      "source": [
        "from sklearn import datasets\n",
        "from sklearn.model_selection import train_test_split\n",
        "\n",
        "# Generate the data\n",
        "X, y = datasets.make_regression(n_samples=100, n_features=5, noise=5, random_state=4)\n",
        "\n",
        "# Split the data\n",
        "X_train, X_test, y_train, y_test = train_test_split(X, y, test_size=0.2, random_state=1234)\n",
        "X_train, X_val, y_train, y_val = train_test_split(X_train, y_train, test_size=0.2, random_state=1)\n"
      ]
    },
    {
      "cell_type": "markdown",
      "source": [
        "## Visualize Dataset\n",
        "This is the same code from Assignment 1"
      ],
      "metadata": {
        "id": "r6it-Rm7zD1Y"
      }
    },
    {
      "cell_type": "code",
      "source": [
        "import matplotlib.pyplot as plt\n",
        "import numpy as np\n",
        "# Your code here\n",
        "\n",
        "for i in range(1,5):\n",
        "   plt.scatter(X[:,1-i],y)\n"
      ],
      "metadata": {
        "id": "UautPVj1yzaQ",
        "colab": {
          "base_uri": "https://localhost:8080/",
          "height": 265
        },
        "outputId": "4c23907a-0285-45c4-c111-6cf067b4939b"
      },
      "execution_count": 19,
      "outputs": [
        {
          "output_type": "display_data",
          "data": {
            "text/plain": [
              "<Figure size 432x288 with 1 Axes>"
            ],
            "image/png": "[encoded data removed]"
          },
          "metadata": {
            "needs_background": "light"
          }
        }
      ]
    },
    {
      "cell_type": "markdown",
      "source": [
        "## Model Definition\n",
        "\n",
        "Using TensorFlow, build a model with the following definition:\n",
        "> Input of shape 5 \\\\\n",
        "> Dense of shape 5 \\\\\n",
        "> Dense of shape 5 \\\\\n",
        "> Dense of shape 1 \\\\\n",
        "\n",
        "Use Mean Square Error Loss and Stochaistic Gradient Descent (SGD) Optimizer\n",
        "\n",
        "Use Gradient Decay with appropriate parameters"
      ],
      "metadata": {
        "id": "XMXb9lTyzGHE"
      }
    },
    {
      "cell_type": "code",
      "source": [
        "import tensorflow as tf\n",
        "\n",
        "# Your code here\n",
        "from tensorflow.keras.layers import Input\n",
        "from tensorflow.keras import Model\n",
        "from tensorflow.keras import Sequential\n",
        "from tensorflow.keras.layers import Dense\n",
        "from tensorflow.keras.layers import Activation\n",
        "\n",
        "model = Sequential()\n",
        "model.add(Dense(5, activation='relu', input_shape=(5,),  kernel_regularizer=tf.keras.regularizers.l1_l2(l1=0.1, l2=0.01)))\n",
        "model.add(Dense(5, activation='relu',  kernel_regularizer=tf.keras.regularizers.l1_l2(l1=0.1, l2=0.01)))\n",
        "model.add(Dense(1,  kernel_regularizer=tf.keras.regularizers.l1_l2(l1=0.1, l2=0.01)))\n",
        "\n",
        "model.summary()\n"
      ],
      "metadata": {
        "id": "r32N1xK2ziOs",
        "colab": {
          "base_uri": "https://localhost:8080/"
        },
        "outputId": "0c0ddd57-7b54-425d-95f9-ac54147c9dc2"
      },
      "execution_count": 20,
      "outputs": [
        {
          "output_type": "stream",
          "name": "stdout",
          "text": [
            "Model: \"sequential_4\"\n",
            "_________________________________________________________________\n",
            " Layer (type)                Output Shape              Param #   \n",
            "=================================================================\n",
            " dense_12 (Dense)            (None, 5)                 30        \n",
            "                                                                 \n",
            " dense_13 (Dense)            (None, 5)                 30        \n",
            "                                                                 \n",
            " dense_14 (Dense)            (None, 1)                 6         \n",
            "                                                                 \n",
            "=================================================================\n",
            "Total params: 66\n",
            "Trainable params: 66\n",
            "Non-trainable params: 0\n",
            "_________________________________________________________________\n"
          ]
        }
      ]
    },
    {
      "cell_type": "code",
      "source": [
        "opt = tf.keras.optimizers.SGD(learning_rate=0.001)\n",
        "model.compile(optimizer=opt,loss='mse',metrics=['mse'])\n",
        "\n",
        "history = model.fit(X_train, y_train,epochs=95,validation_data = (X_val, y_val))\n"
      ],
      "metadata": {
        "colab": {
          "base_uri": "https://localhost:8080/"
        },
        "id": "6h1jSKiztVv_",
        "outputId": "68457f88-8048-4fd8-d33d-1a949dc3d5b7"
      },
      "execution_count": 24,
      "outputs": [
        {
          "output_type": "stream",
          "name": "stdout",
          "text": [
            "Epoch 1/95\n",
            "2/2 [==============================] - 1s 224ms/step - loss: 11445.3506 - mse: 11443.0117 - val_loss: 11751.5928 - val_mse: 11749.2617\n",
            "Epoch 2/95\n",
            "2/2 [==============================] - 0s 25ms/step - loss: 11388.5547 - mse: 11386.2109 - val_loss: 11676.2852 - val_mse: 11673.9004\n",
            "Epoch 3/95\n",
            "2/2 [==============================] - 0s 31ms/step - loss: 11312.9395 - mse: 11310.5254 - val_loss: 11543.0605 - val_mse: 11540.5566\n",
            "Epoch 4/95\n",
            "2/2 [==============================] - 0s 28ms/step - loss: 11171.5371 - mse: 11168.9863 - val_loss: 11249.1045 - val_mse: 11246.3613\n",
            "Epoch 5/95\n",
            "2/2 [==============================] - 0s 37ms/step - loss: 10828.3564 - mse: 10825.5156 - val_loss: 10504.0205 - val_mse: 10500.8379\n",
            "Epoch 6/95\n",
            "2/2 [==============================] - 0s 27ms/step - loss: 9788.3818 - mse: 9785.0439 - val_loss: 8203.6611 - val_mse: 8199.5762\n",
            "Epoch 7/95\n",
            "2/2 [==============================] - 0s 29ms/step - loss: 6859.7881 - mse: 6855.3271 - val_loss: 3277.5273 - val_mse: 3271.9292\n",
            "Epoch 8/95\n",
            "2/2 [==============================] - 0s 30ms/step - loss: 1905.1204 - mse: 1899.0813 - val_loss: 1462.0841 - val_mse: 1455.0677\n",
            "Epoch 9/95\n",
            "2/2 [==============================] - 0s 50ms/step - loss: 1570.6221 - mse: 1563.8430 - val_loss: 1293.4424 - val_mse: 1286.8306\n",
            "Epoch 10/95\n",
            "2/2 [==============================] - 0s 28ms/step - loss: 552.1232 - mse: 545.3245 - val_loss: 356.2802 - val_mse: 349.4565\n",
            "Epoch 11/95\n",
            "2/2 [==============================] - 0s 26ms/step - loss: 269.0609 - mse: 262.0952 - val_loss: 342.9100 - val_mse: 336.0621\n",
            "Epoch 12/95\n",
            "2/2 [==============================] - 0s 27ms/step - loss: 238.4305 - mse: 231.4429 - val_loss: 280.2965 - val_mse: 273.3500\n",
            "Epoch 13/95\n",
            "2/2 [==============================] - 0s 28ms/step - loss: 291.7264 - mse: 284.6765 - val_loss: 526.9612 - val_mse: 520.0465\n",
            "Epoch 14/95\n",
            "2/2 [==============================] - 0s 30ms/step - loss: 1162.9539 - mse: 1155.8962 - val_loss: 2433.0210 - val_mse: 2426.5725\n",
            "Epoch 15/95\n",
            "2/2 [==============================] - 0s 27ms/step - loss: 1241.0713 - mse: 1234.4658 - val_loss: 463.3801 - val_mse: 456.0370\n",
            "Epoch 16/95\n",
            "2/2 [==============================] - 0s 29ms/step - loss: 451.9839 - mse: 444.7234 - val_loss: 782.6995 - val_mse: 775.2946\n",
            "Epoch 17/95\n",
            "2/2 [==============================] - 0s 29ms/step - loss: 841.8239 - mse: 834.5342 - val_loss: 600.0387 - val_mse: 592.8920\n",
            "Epoch 18/95\n",
            "2/2 [==============================] - 0s 28ms/step - loss: 476.6931 - mse: 469.3985 - val_loss: 226.0948 - val_mse: 218.8207\n",
            "Epoch 19/95\n",
            "2/2 [==============================] - 0s 35ms/step - loss: 167.6739 - mse: 160.3227 - val_loss: 328.2549 - val_mse: 320.7343\n",
            "Epoch 20/95\n",
            "2/2 [==============================] - 0s 27ms/step - loss: 230.8028 - mse: 223.3934 - val_loss: 342.3618 - val_mse: 334.7542\n",
            "Epoch 21/95\n",
            "2/2 [==============================] - 0s 28ms/step - loss: 250.3768 - mse: 242.9408 - val_loss: 223.0818 - val_mse: 215.6438\n",
            "Epoch 22/95\n",
            "2/2 [==============================] - 0s 25ms/step - loss: 140.7116 - mse: 133.2605 - val_loss: 224.5720 - val_mse: 216.8740\n",
            "Epoch 23/95\n",
            "2/2 [==============================] - 0s 31ms/step - loss: 165.4846 - mse: 157.9150 - val_loss: 184.6354 - val_mse: 177.0224\n",
            "Epoch 24/95\n",
            "2/2 [==============================] - 0s 30ms/step - loss: 226.6035 - mse: 218.9915 - val_loss: 293.7636 - val_mse: 286.0834\n",
            "Epoch 25/95\n",
            "2/2 [==============================] - 0s 28ms/step - loss: 213.7111 - mse: 206.1077 - val_loss: 238.7178 - val_mse: 230.9396\n",
            "Epoch 26/95\n",
            "2/2 [==============================] - 0s 39ms/step - loss: 270.3688 - mse: 262.6675 - val_loss: 344.7960 - val_mse: 337.0027\n",
            "Epoch 27/95\n",
            "2/2 [==============================] - 0s 27ms/step - loss: 317.2616 - mse: 309.5304 - val_loss: 441.0321 - val_mse: 433.1375\n",
            "Epoch 28/95\n",
            "2/2 [==============================] - 0s 27ms/step - loss: 361.6331 - mse: 353.9205 - val_loss: 287.1340 - val_mse: 279.1777\n",
            "Epoch 29/95\n",
            "2/2 [==============================] - 0s 35ms/step - loss: 200.4810 - mse: 192.6652 - val_loss: 258.2727 - val_mse: 250.2918\n",
            "Epoch 30/95\n",
            "2/2 [==============================] - 0s 29ms/step - loss: 282.4129 - mse: 274.6664 - val_loss: 119.1537 - val_mse: 111.3006\n",
            "Epoch 31/95\n",
            "2/2 [==============================] - 0s 28ms/step - loss: 54.6420 - mse: 46.7987 - val_loss: 109.2017 - val_mse: 101.2852\n",
            "Epoch 32/95\n",
            "2/2 [==============================] - 0s 29ms/step - loss: 125.5185 - mse: 117.6665 - val_loss: 99.1956 - val_mse: 91.3008\n",
            "Epoch 33/95\n",
            "2/2 [==============================] - 0s 26ms/step - loss: 85.0719 - mse: 77.1871 - val_loss: 97.5748 - val_mse: 89.7542\n",
            "Epoch 34/95\n",
            "2/2 [==============================] - 0s 27ms/step - loss: 58.7805 - mse: 50.9431 - val_loss: 80.0499 - val_mse: 72.0513\n",
            "Epoch 35/95\n",
            "2/2 [==============================] - 0s 26ms/step - loss: 49.9100 - mse: 41.9617 - val_loss: 86.1823 - val_mse: 78.2023\n",
            "Epoch 36/95\n",
            "2/2 [==============================] - 0s 30ms/step - loss: 44.4728 - mse: 36.5244 - val_loss: 63.7547 - val_mse: 55.7360\n",
            "Epoch 37/95\n",
            "2/2 [==============================] - 0s 31ms/step - loss: 41.6102 - mse: 33.6294 - val_loss: 70.7809 - val_mse: 62.8337\n",
            "Epoch 38/95\n",
            "2/2 [==============================] - 0s 36ms/step - loss: 34.9957 - mse: 27.0233 - val_loss: 63.5221 - val_mse: 55.5739\n",
            "Epoch 39/95\n",
            "2/2 [==============================] - 0s 32ms/step - loss: 33.4156 - mse: 25.4475 - val_loss: 66.9104 - val_mse: 58.9336\n",
            "Epoch 40/95\n",
            "2/2 [==============================] - 0s 27ms/step - loss: 39.2205 - mse: 31.2402 - val_loss: 72.0073 - val_mse: 64.0748\n",
            "Epoch 41/95\n",
            "2/2 [==============================] - 0s 28ms/step - loss: 40.8713 - mse: 32.8903 - val_loss: 77.6775 - val_mse: 69.7538\n",
            "Epoch 42/95\n",
            "2/2 [==============================] - 0s 28ms/step - loss: 38.6144 - mse: 30.6335 - val_loss: 63.6087 - val_mse: 55.6536\n",
            "Epoch 43/95\n",
            "2/2 [==============================] - 0s 27ms/step - loss: 34.2326 - mse: 26.2591 - val_loss: 61.4039 - val_mse: 53.3879\n",
            "Epoch 44/95\n",
            "2/2 [==============================] - 0s 37ms/step - loss: 43.5421 - mse: 35.5621 - val_loss: 59.2462 - val_mse: 51.1895\n",
            "Epoch 45/95\n",
            "2/2 [==============================] - 0s 30ms/step - loss: 50.5838 - mse: 42.5943 - val_loss: 78.1214 - val_mse: 69.9911\n",
            "Epoch 46/95\n",
            "2/2 [==============================] - 0s 29ms/step - loss: 47.8971 - mse: 39.8575 - val_loss: 53.2256 - val_mse: 45.1564\n",
            "Epoch 47/95\n",
            "2/2 [==============================] - 0s 32ms/step - loss: 44.0773 - mse: 36.0601 - val_loss: 63.9864 - val_mse: 55.9096\n",
            "Epoch 48/95\n",
            "2/2 [==============================] - 0s 29ms/step - loss: 37.5402 - mse: 29.5163 - val_loss: 50.6000 - val_mse: 42.5501\n",
            "Epoch 49/95\n",
            "2/2 [==============================] - 0s 30ms/step - loss: 30.7168 - mse: 22.6807 - val_loss: 57.4853 - val_mse: 49.4946\n",
            "Epoch 50/95\n",
            "2/2 [==============================] - 0s 26ms/step - loss: 32.2120 - mse: 24.1914 - val_loss: 55.7863 - val_mse: 47.7736\n",
            "Epoch 51/95\n",
            "2/2 [==============================] - 0s 28ms/step - loss: 31.5037 - mse: 23.4870 - val_loss: 59.4838 - val_mse: 51.4652\n",
            "Epoch 52/95\n",
            "2/2 [==============================] - 0s 30ms/step - loss: 34.3170 - mse: 26.3108 - val_loss: 49.9319 - val_mse: 41.8776\n",
            "Epoch 53/95\n",
            "2/2 [==============================] - 0s 31ms/step - loss: 34.4644 - mse: 26.4442 - val_loss: 50.6084 - val_mse: 42.5387\n",
            "Epoch 54/95\n",
            "2/2 [==============================] - 0s 32ms/step - loss: 39.8905 - mse: 31.8724 - val_loss: 52.4254 - val_mse: 44.3493\n",
            "Epoch 55/95\n",
            "2/2 [==============================] - 0s 39ms/step - loss: 34.4173 - mse: 26.3869 - val_loss: 49.1306 - val_mse: 41.0879\n",
            "Epoch 56/95\n",
            "2/2 [==============================] - 0s 28ms/step - loss: 30.7927 - mse: 22.7712 - val_loss: 51.7057 - val_mse: 43.6592\n",
            "Epoch 57/95\n",
            "2/2 [==============================] - 0s 28ms/step - loss: 31.2000 - mse: 23.1694 - val_loss: 48.7004 - val_mse: 40.6648\n",
            "Epoch 58/95\n",
            "2/2 [==============================] - 0s 27ms/step - loss: 31.0659 - mse: 23.0437 - val_loss: 51.5504 - val_mse: 43.4781\n",
            "Epoch 59/95\n",
            "2/2 [==============================] - 0s 36ms/step - loss: 41.6317 - mse: 33.6145 - val_loss: 59.9077 - val_mse: 51.8005\n",
            "Epoch 60/95\n",
            "2/2 [==============================] - 0s 28ms/step - loss: 42.0451 - mse: 34.0032 - val_loss: 57.8127 - val_mse: 49.7213\n",
            "Epoch 61/95\n",
            "2/2 [==============================] - 0s 29ms/step - loss: 45.8674 - mse: 37.8360 - val_loss: 57.0680 - val_mse: 49.0564\n",
            "Epoch 62/95\n",
            "2/2 [==============================] - 0s 30ms/step - loss: 36.6409 - mse: 28.6464 - val_loss: 55.1803 - val_mse: 47.0858\n",
            "Epoch 63/95\n",
            "2/2 [==============================] - 0s 29ms/step - loss: 34.1124 - mse: 26.0634 - val_loss: 56.7321 - val_mse: 48.6625\n",
            "Epoch 64/95\n",
            "2/2 [==============================] - 0s 30ms/step - loss: 33.4615 - mse: 25.4035 - val_loss: 65.4360 - val_mse: 57.4179\n",
            "Epoch 65/95\n",
            "2/2 [==============================] - 0s 29ms/step - loss: 31.4123 - mse: 23.3734 - val_loss: 52.7160 - val_mse: 44.6884\n",
            "Epoch 66/95\n",
            "2/2 [==============================] - 0s 31ms/step - loss: 43.7786 - mse: 35.7449 - val_loss: 59.1461 - val_mse: 51.0781\n",
            "Epoch 67/95\n",
            "2/2 [==============================] - 0s 45ms/step - loss: 47.1163 - mse: 39.0845 - val_loss: 48.1505 - val_mse: 40.0910\n",
            "Epoch 68/95\n",
            "2/2 [==============================] - 0s 30ms/step - loss: 32.0769 - mse: 24.0358 - val_loss: 48.5654 - val_mse: 40.5121\n",
            "Epoch 69/95\n",
            "2/2 [==============================] - 0s 29ms/step - loss: 31.6393 - mse: 23.6062 - val_loss: 53.1491 - val_mse: 45.1159\n",
            "Epoch 70/95\n",
            "2/2 [==============================] - 0s 26ms/step - loss: 30.6043 - mse: 22.5688 - val_loss: 51.1511 - val_mse: 43.1080\n",
            "Epoch 71/95\n",
            "2/2 [==============================] - 0s 32ms/step - loss: 29.4102 - mse: 21.3639 - val_loss: 60.3446 - val_mse: 52.3437\n",
            "Epoch 72/95\n",
            "2/2 [==============================] - 0s 53ms/step - loss: 36.8305 - mse: 28.7976 - val_loss: 79.9315 - val_mse: 71.9428\n",
            "Epoch 73/95\n",
            "2/2 [==============================] - 0s 49ms/step - loss: 33.5243 - mse: 25.5091 - val_loss: 53.2747 - val_mse: 45.2445\n",
            "Epoch 74/95\n",
            "2/2 [==============================] - 0s 30ms/step - loss: 29.5178 - mse: 21.4885 - val_loss: 49.1370 - val_mse: 41.0984\n",
            "Epoch 75/95\n",
            "2/2 [==============================] - 0s 34ms/step - loss: 31.0804 - mse: 23.0447 - val_loss: 50.5328 - val_mse: 42.4863\n",
            "Epoch 76/95\n",
            "2/2 [==============================] - 0s 28ms/step - loss: 35.1479 - mse: 27.0989 - val_loss: 74.1688 - val_mse: 66.2219\n",
            "Epoch 77/95\n",
            "2/2 [==============================] - 0s 31ms/step - loss: 45.2853 - mse: 37.2813 - val_loss: 55.9121 - val_mse: 47.9106\n",
            "Epoch 78/95\n",
            "2/2 [==============================] - 0s 28ms/step - loss: 42.2833 - mse: 34.2543 - val_loss: 63.5481 - val_mse: 55.5680\n",
            "Epoch 79/95\n",
            "2/2 [==============================] - 0s 29ms/step - loss: 35.3603 - mse: 27.3483 - val_loss: 54.5990 - val_mse: 46.5788\n",
            "Epoch 80/95\n",
            "2/2 [==============================] - 0s 30ms/step - loss: 32.7467 - mse: 24.7349 - val_loss: 55.4660 - val_mse: 47.4036\n",
            "Epoch 81/95\n",
            "2/2 [==============================] - 0s 30ms/step - loss: 31.1140 - mse: 23.0835 - val_loss: 53.5352 - val_mse: 45.4834\n",
            "Epoch 82/95\n",
            "2/2 [==============================] - 0s 30ms/step - loss: 30.0835 - mse: 22.0505 - val_loss: 57.3523 - val_mse: 49.3166\n",
            "Epoch 83/95\n",
            "2/2 [==============================] - 0s 26ms/step - loss: 28.2788 - mse: 20.2467 - val_loss: 56.1653 - val_mse: 48.1545\n",
            "Epoch 84/95\n",
            "2/2 [==============================] - 0s 30ms/step - loss: 39.7653 - mse: 31.7276 - val_loss: 59.7977 - val_mse: 51.8065\n",
            "Epoch 85/95\n",
            "2/2 [==============================] - 0s 31ms/step - loss: 48.0764 - mse: 40.0410 - val_loss: 51.3592 - val_mse: 43.2914\n",
            "Epoch 86/95\n",
            "2/2 [==============================] - 0s 28ms/step - loss: 38.7013 - mse: 30.6868 - val_loss: 56.4985 - val_mse: 48.4188\n",
            "Epoch 87/95\n",
            "2/2 [==============================] - 0s 26ms/step - loss: 44.3299 - mse: 36.3073 - val_loss: 78.0858 - val_mse: 70.0498\n",
            "Epoch 88/95\n",
            "2/2 [==============================] - 0s 31ms/step - loss: 63.9663 - mse: 55.9265 - val_loss: 111.6683 - val_mse: 103.6525\n",
            "Epoch 89/95\n",
            "2/2 [==============================] - 0s 27ms/step - loss: 97.8563 - mse: 89.8769 - val_loss: 77.4839 - val_mse: 69.4859\n",
            "Epoch 90/95\n",
            "2/2 [==============================] - 0s 30ms/step - loss: 43.0715 - mse: 35.0165 - val_loss: 86.7982 - val_mse: 78.8389\n",
            "Epoch 91/95\n",
            "2/2 [==============================] - 0s 30ms/step - loss: 43.8674 - mse: 35.8513 - val_loss: 92.3767 - val_mse: 84.3065\n",
            "Epoch 92/95\n",
            "2/2 [==============================] - 0s 34ms/step - loss: 40.3631 - mse: 32.3015 - val_loss: 66.9431 - val_mse: 58.9270\n",
            "Epoch 93/95\n",
            "2/2 [==============================] - 0s 27ms/step - loss: 32.6527 - mse: 24.6130 - val_loss: 66.4576 - val_mse: 58.4313\n",
            "Epoch 94/95\n",
            "2/2 [==============================] - 0s 27ms/step - loss: 31.8188 - mse: 23.7802 - val_loss: 63.5672 - val_mse: 55.5666\n",
            "Epoch 95/95\n",
            "2/2 [==============================] - 0s 27ms/step - loss: 33.4158 - mse: 25.3866 - val_loss: 70.9500 - val_mse: 62.9934\n"
          ]
        }
      ]
    },
    {
      "cell_type": "markdown",
      "source": [
        "## Plot Loss\n",
        "\n",
        "Using matplotlib visualise how the loss (both validation and training) is changing, use this information to retrain the model with appropriate parameters.<br>We ideally want the loss to be constant over the last few iterations."
      ],
      "metadata": {
        "id": "jmeP6vt3z0oA"
      }
    },
    {
      "cell_type": "code",
      "source": [
        "# Your code here\n",
        "loss , mse = model. evaluate(X_test , y_test, verbose = 1)\n",
        "y_pred = model.predict(X_test)\n",
        "plt.xlabel('Epochs')\n",
        "plt.ylabel('Loss')\n",
        "plt.plot(history.history['loss'])             \n",
        "plt.plot(history.history['val_loss'])\n",
        "plt.figure(figsize=(10, 8)) \n",
        "plt.legend(['train_loss', 'validation_loss'], loc='upper right')\n",
        "print(history.history.keys())\n",
        "plt.show()"
      ],
      "metadata": {
        "id": "RQTNqPHm0mOi",
        "colab": {
          "base_uri": "https://localhost:8080/",
          "height": 784
        },
        "outputId": "7c0c98fe-2ee4-4dad-9c08-df6c9296dbaa"
      },
      "execution_count": 27,
      "outputs": [
        {
          "output_type": "stream",
          "name": "stdout",
          "text": [
            "1/1 [==============================] - 0s 20ms/step - loss: 65.9450 - mse: 57.9884\n",
            "dict_keys(['loss', 'mse', 'val_loss', 'val_mse'])\n"
          ]
        },
        {
          "output_type": "display_data",
          "data": {
            "text/plain": [
              "<Figure size 432x288 with 1 Axes>"
            ],
            "image/png": "[encoded data removed]"
          },
          "metadata": {
            "needs_background": "light"
          }
        },
        {
          "output_type": "display_data",
          "data": {
            "text/plain": [
              "<Figure size 720x576 with 1 Axes>"
            ],
            "image/png": "[encoded data removed]"
          },
          "metadata": {
            "needs_background": "light"
          }
        }
      ]
    },
    {
      "cell_type": "markdown",
      "source": [
        "## Evaluation Metrics\n",
        "Use the R2 Score function implemented in the first assignment to evaluate the performance of the model."
      ],
      "metadata": {
        "id": "IVrR_vXA7kOt"
      }
    },
    {
      "cell_type": "code",
      "source": [
        "# Insert the function for R2 Score\n",
        "from sklearn.metrics import r2_score\n",
        "accu = r2_score(y_test, y_pred) # Pass appropriate parts of dataset\n",
        "print(\"Accuracy:\", accu)"
      ],
      "metadata": {
        "id": "-lOHpD8-7ggm",
        "colab": {
          "base_uri": "https://localhost:8080/"
        },
        "outputId": "e807538d-b809-46ef-c5b4-e77462e6c2f4"
      },
      "execution_count": 28,
      "outputs": [
        {
          "output_type": "stream",
          "name": "stdout",
          "text": [
            "Accuracy: 0.9942988171707029\n"
          ]
        }
      ]
    },
    {
      "cell_type": "markdown",
      "source": [
        "## Your own custom model\n",
        "Build a custom model of your own choice.<br>\n",
        "Describe it in detail in Markdown/Latex in the cell below.<br>\n",
        "Visualise the loss, as before."
      ],
      "metadata": {
        "id": "CHqzF1OU0pBg"
      }
    },
    {
      "cell_type": "markdown",
      "source": [
        "Your text here"
      ],
      "metadata": {
        "id": "jF8oTUqq0y0g"
      }
    },
    {
      "cell_type": "code",
      "source": [
        "# Your code here\n",
        "from tensorflow.keras import layers\n",
        "Model = Sequential(\n",
        "[\n",
        "  layers.Dense(5, activation='relu', input_shape=(5,),  kernel_regularizer=tf.keras.regularizers.l1_l2(l1=0.1, l2=0.01)),  \n",
        "  layers.Dense(4, activation='relu',  kernel_regularizer=tf.keras.regularizers.l1_l2(l1=0.1, l2=0.01)),\n",
        "  layers.Dense(4, activation='relu',  kernel_regularizer=tf.keras.regularizers.l1_l2(l1=0.1, l2=0.01)),\n",
        "  layers.Dense(4, activation='relu',  kernel_regularizer=tf.keras.regularizers.l1_l2(l1=0.1, l2=0.01)),\n",
        "  layers.Dense(4, activation='relu',  kernel_regularizer=tf.keras.regularizers.l1_l2(l1=0.1, l2=0.01)),\n",
        "  layers.Dense(4, activation='relu',  kernel_regularizer=tf.keras.regularizers.l1_l2(l1=0.1, l2=0.01)),\n",
        "  layers.Dense(4, activation='relu',  kernel_regularizer=tf.keras.regularizers.l1_l2(l1=0.1, l2=0.01)),\n",
        "  layers.Dense(8, activation='relu',  kernel_regularizer=tf.keras.regularizers.l1_l2(l1=0.1, l2=0.01)),\n",
        " \n",
        "  layers.Dense(1,  kernel_regularizer=tf.keras.regularizers.l1_l2(l1=0.1, l2=0.01))\n",
        "])\n",
        "model.summary()"
      ],
      "metadata": {
        "id": "1XOk5hJu0oSQ",
        "colab": {
          "base_uri": "https://localhost:8080/"
        },
        "outputId": "ca03decf-82b4-4d5d-a19c-8a49683e755e"
      },
      "execution_count": 33,
      "outputs": [
        {
          "output_type": "stream",
          "name": "stdout",
          "text": [
            "Model: \"sequential_4\"\n",
            "_________________________________________________________________\n",
            " Layer (type)                Output Shape              Param #   \n",
            "=================================================================\n",
            " dense_12 (Dense)            (None, 5)                 30        \n",
            "                                                                 \n",
            " dense_13 (Dense)            (None, 5)                 30        \n",
            "                                                                 \n",
            " dense_14 (Dense)            (None, 1)                 6         \n",
            "                                                                 \n",
            "=================================================================\n",
            "Total params: 66\n",
            "Trainable params: 66\n",
            "Non-trainable params: 0\n",
            "_________________________________________________________________\n"
          ]
        }
      ]
    },
    {
      "cell_type": "markdown",
      "source": [
        "**Fitting the model with learning rate**\n",
        "\n",
        "\n",
        "\n",
        " \n",
        "\n",
        "\n",
        "\n",
        "\n",
        "learning rate = 0.1\n",
        "\n",
        "Total_number_of_iterations = 128"
      ],
      "metadata": {
        "id": "gQuOxhsZw-EI"
      }
    },
    {
      "cell_type": "code",
      "source": [
        "opt = tf.keras.optimizers.Adam(learning_rate=0.1) \n",
        "Model.compile(optimizer=opt,loss='mse',metrics=['mse'])\n",
        "history = Model.fit(X_train, y_train,epochs=128,validation_data = (X_val, y_val))"
      ],
      "metadata": {
        "id": "aS0ROZa402Lo",
        "colab": {
          "base_uri": "https://localhost:8080/"
        },
        "outputId": "9b4490e6-b596-4aaf-8755-b8e25fc59c63"
      },
      "execution_count": 34,
      "outputs": [
        {
          "output_type": "stream",
          "name": "stdout",
          "text": [
            "Epoch 1/128\n",
            "2/2 [==============================] - 1s 300ms/step - loss: 11436.9512 - mse: 11430.6016 - val_loss: 11803.1855 - val_mse: 11798.6035\n",
            "Epoch 2/128\n",
            "2/2 [==============================] - 0s 29ms/step - loss: 11428.8115 - mse: 11424.6836 - val_loss: 11761.7373 - val_mse: 11758.6123\n",
            "Epoch 3/128\n",
            "2/2 [==============================] - 0s 27ms/step - loss: 11403.5254 - mse: 11400.5156 - val_loss: 11713.0098 - val_mse: 11710.1172\n",
            "Epoch 4/128\n",
            "2/2 [==============================] - 0s 31ms/step - loss: 11375.1133 - mse: 11372.1641 - val_loss: 11547.2207 - val_mse: 11543.9336\n",
            "Epoch 5/128\n",
            "2/2 [==============================] - 0s 29ms/step - loss: 11219.4688 - mse: 11216.0098 - val_loss: 11034.4443 - val_mse: 11030.5508\n",
            "Epoch 6/128\n",
            "2/2 [==============================] - 0s 33ms/step - loss: 10622.3730 - mse: 10618.3438 - val_loss: 9435.9277 - val_mse: 9431.4277\n",
            "Epoch 7/128\n",
            "2/2 [==============================] - 0s 28ms/step - loss: 8676.5771 - mse: 8671.8604 - val_loss: 5997.8911 - val_mse: 5992.5303\n",
            "Epoch 8/128\n",
            "2/2 [==============================] - 0s 31ms/step - loss: 7354.0820 - mse: 7348.5049 - val_loss: 5536.3262 - val_mse: 5530.4521\n",
            "Epoch 9/128\n",
            "2/2 [==============================] - 0s 31ms/step - loss: 6324.5718 - mse: 6318.6826 - val_loss: 6671.6152 - val_mse: 6665.7090\n",
            "Epoch 10/128\n",
            "2/2 [==============================] - 0s 36ms/step - loss: 7024.7949 - mse: 7018.8857 - val_loss: 5250.2295 - val_mse: 5244.2856\n",
            "Epoch 11/128\n",
            "2/2 [==============================] - 0s 28ms/step - loss: 5860.3892 - mse: 5854.4150 - val_loss: 5378.9863 - val_mse: 5372.9609\n",
            "Epoch 12/128\n",
            "2/2 [==============================] - 0s 27ms/step - loss: 5757.9385 - mse: 5751.9185 - val_loss: 5030.5693 - val_mse: 5024.5894\n",
            "Epoch 13/128\n",
            "2/2 [==============================] - 0s 40ms/step - loss: 5665.6924 - mse: 5659.7275 - val_loss: 5124.2754 - val_mse: 5118.3418\n",
            "Epoch 14/128\n",
            "2/2 [==============================] - 0s 30ms/step - loss: 5587.5664 - mse: 5581.6279 - val_loss: 4866.8560 - val_mse: 4860.8794\n",
            "Epoch 15/128\n",
            "2/2 [==============================] - 0s 29ms/step - loss: 5535.2871 - mse: 5529.2827 - val_loss: 4942.6289 - val_mse: 4936.5874\n",
            "Epoch 16/128\n",
            "2/2 [==============================] - 0s 26ms/step - loss: 5463.8672 - mse: 5457.8301 - val_loss: 4997.0371 - val_mse: 4990.9971\n",
            "Epoch 17/128\n",
            "2/2 [==============================] - 0s 30ms/step - loss: 5527.8564 - mse: 5521.8027 - val_loss: 5026.6494 - val_mse: 5020.5449\n",
            "Epoch 18/128\n",
            "2/2 [==============================] - 0s 29ms/step - loss: 5398.2710 - mse: 5392.1436 - val_loss: 4897.6992 - val_mse: 4891.5161\n",
            "Epoch 19/128\n",
            "2/2 [==============================] - 0s 28ms/step - loss: 5420.7202 - mse: 5414.5312 - val_loss: 4858.3838 - val_mse: 4852.2158\n",
            "Epoch 20/128\n",
            "2/2 [==============================] - 0s 29ms/step - loss: 5320.3262 - mse: 5314.1670 - val_loss: 4922.4790 - val_mse: 4916.3281\n",
            "Epoch 21/128\n",
            "2/2 [==============================] - 0s 29ms/step - loss: 5322.3696 - mse: 5316.2197 - val_loss: 4859.4331 - val_mse: 4853.2720\n",
            "Epoch 22/128\n",
            "2/2 [==============================] - 0s 28ms/step - loss: 5270.0371 - mse: 5263.8701 - val_loss: 4779.5479 - val_mse: 4773.3647\n",
            "Epoch 23/128\n",
            "2/2 [==============================] - 0s 30ms/step - loss: 5284.3154 - mse: 5278.1396 - val_loss: 4728.8545 - val_mse: 4722.7051\n",
            "Epoch 24/128\n",
            "2/2 [==============================] - 0s 28ms/step - loss: 5229.1270 - mse: 5222.9814 - val_loss: 4765.8892 - val_mse: 4759.7686\n",
            "Epoch 25/128\n",
            "2/2 [==============================] - 0s 26ms/step - loss: 5229.6001 - mse: 5223.4971 - val_loss: 4713.9219 - val_mse: 4707.8540\n",
            "Epoch 26/128\n",
            "2/2 [==============================] - 0s 32ms/step - loss: 5194.7783 - mse: 5188.7129 - val_loss: 4678.9795 - val_mse: 4672.9272\n",
            "Epoch 27/128\n",
            "2/2 [==============================] - 0s 29ms/step - loss: 5179.7666 - mse: 5173.7207 - val_loss: 4693.7744 - val_mse: 4687.7593\n",
            "Epoch 28/128\n",
            "2/2 [==============================] - 0s 29ms/step - loss: 5153.8809 - mse: 5147.8828 - val_loss: 4711.7891 - val_mse: 4705.7803\n",
            "Epoch 29/128\n",
            "2/2 [==============================] - 0s 29ms/step - loss: 5134.8555 - mse: 5128.8125 - val_loss: 4660.5425 - val_mse: 4654.4634\n",
            "Epoch 30/128\n",
            "2/2 [==============================] - 0s 30ms/step - loss: 5123.2988 - mse: 5117.2534 - val_loss: 4677.6567 - val_mse: 4671.7085\n",
            "Epoch 31/128\n",
            "2/2 [==============================] - 0s 29ms/step - loss: 5113.0044 - mse: 5107.0654 - val_loss: 4633.3140 - val_mse: 4627.3560\n",
            "Epoch 32/128\n",
            "2/2 [==============================] - 0s 27ms/step - loss: 5090.4766 - mse: 5084.5000 - val_loss: 4613.6558 - val_mse: 4607.6426\n",
            "Epoch 33/128\n",
            "2/2 [==============================] - 0s 27ms/step - loss: 5066.4023 - mse: 5060.3896 - val_loss: 4633.3809 - val_mse: 4627.3813\n",
            "Epoch 34/128\n",
            "2/2 [==============================] - 0s 29ms/step - loss: 5059.9102 - mse: 5053.9141 - val_loss: 4606.2280 - val_mse: 4600.2310\n",
            "Epoch 35/128\n",
            "2/2 [==============================] - 0s 27ms/step - loss: 5028.8496 - mse: 5022.8447 - val_loss: 4571.5029 - val_mse: 4565.4741\n",
            "Epoch 36/128\n",
            "2/2 [==============================] - 0s 26ms/step - loss: 5022.6904 - mse: 5016.6621 - val_loss: 4571.0972 - val_mse: 4565.0923\n",
            "Epoch 37/128\n",
            "2/2 [==============================] - 0s 35ms/step - loss: 5008.4258 - mse: 5002.4321 - val_loss: 4577.4692 - val_mse: 4571.5015\n",
            "Epoch 38/128\n",
            "2/2 [==============================] - 0s 27ms/step - loss: 4988.1143 - mse: 4982.1455 - val_loss: 4543.2095 - val_mse: 4537.2383\n",
            "Epoch 39/128\n",
            "2/2 [==============================] - 0s 34ms/step - loss: 4973.9541 - mse: 4967.9863 - val_loss: 4536.7393 - val_mse: 4530.7808\n",
            "Epoch 40/128\n",
            "2/2 [==============================] - 0s 31ms/step - loss: 4956.2363 - mse: 4950.2793 - val_loss: 4529.2261 - val_mse: 4523.2832\n",
            "Epoch 41/128\n",
            "2/2 [==============================] - 0s 30ms/step - loss: 4935.8447 - mse: 4929.9053 - val_loss: 4500.3999 - val_mse: 4494.4512\n",
            "Epoch 42/128\n",
            "2/2 [==============================] - 0s 27ms/step - loss: 4929.0566 - mse: 4923.1064 - val_loss: 4498.5234 - val_mse: 4492.5981\n",
            "Epoch 43/128\n",
            "2/2 [==============================] - 0s 27ms/step - loss: 4907.6123 - mse: 4901.6934 - val_loss: 4507.1045 - val_mse: 4501.2070\n",
            "Epoch 44/128\n",
            "2/2 [==============================] - 0s 30ms/step - loss: 4895.8701 - mse: 4889.9717 - val_loss: 4470.6167 - val_mse: 4464.7124\n",
            "Epoch 45/128\n",
            "2/2 [==============================] - 0s 29ms/step - loss: 4879.3374 - mse: 4873.4351 - val_loss: 4464.9019 - val_mse: 4459.0024\n",
            "Epoch 46/128\n",
            "2/2 [==============================] - 0s 35ms/step - loss: 4864.2500 - mse: 4858.3589 - val_loss: 4465.3569 - val_mse: 4459.4961\n",
            "Epoch 47/128\n",
            "2/2 [==============================] - 0s 28ms/step - loss: 4849.6567 - mse: 4843.8032 - val_loss: 4441.2017 - val_mse: 4435.3491\n",
            "Epoch 48/128\n",
            "2/2 [==============================] - 0s 28ms/step - loss: 4837.4429 - mse: 4831.5923 - val_loss: 4436.4634 - val_mse: 4430.6372\n",
            "Epoch 49/128\n",
            "2/2 [==============================] - 0s 28ms/step - loss: 4821.8984 - mse: 4816.0776 - val_loss: 4432.7051 - val_mse: 4426.8999\n",
            "Epoch 50/128\n",
            "2/2 [==============================] - 0s 27ms/step - loss: 4805.5200 - mse: 4799.7163 - val_loss: 4407.4395 - val_mse: 4401.6367\n",
            "Epoch 51/128\n",
            "2/2 [==============================] - 0s 35ms/step - loss: 4802.6523 - mse: 4796.8467 - val_loss: 4408.2563 - val_mse: 4402.4624\n",
            "Epoch 52/128\n",
            "2/2 [==============================] - 0s 28ms/step - loss: 4787.1157 - mse: 4781.3296 - val_loss: 4422.8623 - val_mse: 4417.1074\n",
            "Epoch 53/128\n",
            "2/2 [==============================] - 0s 27ms/step - loss: 4770.3247 - mse: 4764.5737 - val_loss: 4384.2134 - val_mse: 4378.4521\n",
            "Epoch 54/128\n",
            "2/2 [==============================] - 0s 28ms/step - loss: 4759.2139 - mse: 4753.4370 - val_loss: 4396.3359 - val_mse: 4390.5039\n",
            "Epoch 55/128\n",
            "2/2 [==============================] - 0s 30ms/step - loss: 4742.9634 - mse: 4737.1455 - val_loss: 4371.4727 - val_mse: 4365.6943\n",
            "Epoch 56/128\n",
            "2/2 [==============================] - 0s 28ms/step - loss: 4728.1211 - mse: 4722.3462 - val_loss: 4355.9238 - val_mse: 4350.1460\n",
            "Epoch 57/128\n",
            "2/2 [==============================] - 0s 26ms/step - loss: 4712.3198 - mse: 4706.5386 - val_loss: 4364.6055 - val_mse: 4358.8169\n",
            "Epoch 58/128\n",
            "2/2 [==============================] - 0s 38ms/step - loss: 4699.4565 - mse: 4693.6680 - val_loss: 4340.1299 - val_mse: 4334.3345\n",
            "Epoch 59/128\n",
            "2/2 [==============================] - 0s 30ms/step - loss: 4687.4116 - mse: 4681.6133 - val_loss: 4336.4028 - val_mse: 4330.5840\n",
            "Epoch 60/128\n",
            "2/2 [==============================] - 0s 33ms/step - loss: 4671.8794 - mse: 4666.0532 - val_loss: 4332.7568 - val_mse: 4326.9243\n",
            "Epoch 61/128\n",
            "2/2 [==============================] - 0s 28ms/step - loss: 4658.6514 - mse: 4652.8140 - val_loss: 4310.4985 - val_mse: 4304.6548\n",
            "Epoch 62/128\n",
            "2/2 [==============================] - 0s 28ms/step - loss: 4644.9424 - mse: 4639.1030 - val_loss: 4301.2173 - val_mse: 4295.3940\n",
            "Epoch 63/128\n",
            "2/2 [==============================] - 0s 30ms/step - loss: 4632.7939 - mse: 4626.9727 - val_loss: 4290.6025 - val_mse: 4284.7866\n",
            "Epoch 64/128\n",
            "2/2 [==============================] - 0s 27ms/step - loss: 4618.8643 - mse: 4613.0562 - val_loss: 4283.0342 - val_mse: 4277.2578\n",
            "Epoch 65/128\n",
            "2/2 [==============================] - 0s 28ms/step - loss: 4606.5400 - mse: 4600.7754 - val_loss: 4276.4653 - val_mse: 4270.7104\n",
            "Epoch 66/128\n",
            "2/2 [==============================] - 0s 34ms/step - loss: 4594.3696 - mse: 4588.6147 - val_loss: 4261.5933 - val_mse: 4255.8477\n",
            "Epoch 67/128\n",
            "2/2 [==============================] - 0s 29ms/step - loss: 4581.8887 - mse: 4576.1465 - val_loss: 4254.1958 - val_mse: 4248.4746\n",
            "Epoch 68/128\n",
            "2/2 [==============================] - 0s 27ms/step - loss: 4570.7007 - mse: 4564.9917 - val_loss: 4246.7109 - val_mse: 4241.0229\n",
            "Epoch 69/128\n",
            "2/2 [==============================] - 0s 30ms/step - loss: 4557.0703 - mse: 4551.3799 - val_loss: 4234.7861 - val_mse: 4229.0903\n",
            "Epoch 70/128\n",
            "2/2 [==============================] - 0s 27ms/step - loss: 4546.3828 - mse: 4540.6987 - val_loss: 4247.4863 - val_mse: 4241.8364\n",
            "Epoch 71/128\n",
            "2/2 [==============================] - 0s 31ms/step - loss: 4534.8374 - mse: 4529.1929 - val_loss: 4216.2451 - val_mse: 4210.5977\n",
            "Epoch 72/128\n",
            "2/2 [==============================] - 0s 31ms/step - loss: 4521.0283 - mse: 4515.3770 - val_loss: 4211.1738 - val_mse: 4205.5312\n",
            "Epoch 73/128\n",
            "2/2 [==============================] - 0s 28ms/step - loss: 4506.6089 - mse: 4500.9756 - val_loss: 4208.3442 - val_mse: 4202.7305\n",
            "Epoch 74/128\n",
            "2/2 [==============================] - 0s 28ms/step - loss: 4493.1680 - mse: 4487.5615 - val_loss: 4188.4697 - val_mse: 4182.8784\n",
            "Epoch 75/128\n",
            "2/2 [==============================] - 0s 31ms/step - loss: 4481.0156 - mse: 4475.4297 - val_loss: 4190.7134 - val_mse: 4185.1392\n",
            "Epoch 76/128\n",
            "2/2 [==============================] - 0s 34ms/step - loss: 4469.1572 - mse: 4463.5874 - val_loss: 4181.3037 - val_mse: 4175.7578\n",
            "Epoch 77/128\n",
            "2/2 [==============================] - 0s 29ms/step - loss: 4456.0957 - mse: 4450.5547 - val_loss: 4174.2378 - val_mse: 4168.7065\n",
            "Epoch 78/128\n",
            "2/2 [==============================] - 0s 28ms/step - loss: 4443.6743 - mse: 4438.1455 - val_loss: 4157.3638 - val_mse: 4151.8442\n",
            "Epoch 79/128\n",
            "2/2 [==============================] - 0s 36ms/step - loss: 4432.5308 - mse: 4427.0161 - val_loss: 4153.6997 - val_mse: 4148.1982\n",
            "Epoch 80/128\n",
            "2/2 [==============================] - 0s 29ms/step - loss: 4421.5977 - mse: 4416.0967 - val_loss: 4142.0186 - val_mse: 4136.5254\n",
            "Epoch 81/128\n",
            "2/2 [==============================] - 0s 29ms/step - loss: 4408.7573 - mse: 4403.2676 - val_loss: 4136.3682 - val_mse: 4130.8838\n",
            "Epoch 82/128\n",
            "2/2 [==============================] - 0s 37ms/step - loss: 4394.6494 - mse: 4389.1660 - val_loss: 4126.1958 - val_mse: 4120.7334\n",
            "Epoch 83/128\n",
            "2/2 [==============================] - 0s 27ms/step - loss: 4385.2651 - mse: 4379.8096 - val_loss: 4126.9292 - val_mse: 4121.4697\n",
            "Epoch 84/128\n",
            "2/2 [==============================] - 0s 30ms/step - loss: 4373.6128 - mse: 4368.1484 - val_loss: 4116.4443 - val_mse: 4110.9839\n",
            "Epoch 85/128\n",
            "2/2 [==============================] - 0s 31ms/step - loss: 4361.6021 - mse: 4356.1489 - val_loss: 4108.2144 - val_mse: 4102.7661\n",
            "Epoch 86/128\n",
            "2/2 [==============================] - 0s 29ms/step - loss: 4354.3857 - mse: 4348.9404 - val_loss: 4102.4565 - val_mse: 4097.0269\n",
            "Epoch 87/128\n",
            "2/2 [==============================] - 0s 35ms/step - loss: 4339.8037 - mse: 4334.3750 - val_loss: 4094.9526 - val_mse: 4089.5190\n",
            "Epoch 88/128\n",
            "2/2 [==============================] - 0s 29ms/step - loss: 4325.2334 - mse: 4319.8013 - val_loss: 4074.5237 - val_mse: 4069.1030\n",
            "Epoch 89/128\n",
            "2/2 [==============================] - 0s 29ms/step - loss: 4319.2695 - mse: 4313.8545 - val_loss: 4104.4014 - val_mse: 4098.9985\n",
            "Epoch 90/128\n",
            "2/2 [==============================] - 0s 30ms/step - loss: 4315.2407 - mse: 4309.8374 - val_loss: 4060.0952 - val_mse: 4054.6875\n",
            "Epoch 91/128\n",
            "2/2 [==============================] - 0s 29ms/step - loss: 4305.6113 - mse: 4300.2017 - val_loss: 4077.8811 - val_mse: 4072.4849\n",
            "Epoch 92/128\n",
            "2/2 [==============================] - 0s 27ms/step - loss: 4290.4902 - mse: 4285.0996 - val_loss: 4076.5142 - val_mse: 4071.1230\n",
            "Epoch 93/128\n",
            "2/2 [==============================] - 0s 27ms/step - loss: 4275.8008 - mse: 4270.4072 - val_loss: 4039.2065 - val_mse: 4033.8210\n",
            "Epoch 94/128\n",
            "2/2 [==============================] - 0s 31ms/step - loss: 4267.0078 - mse: 4261.6333 - val_loss: 4076.2820 - val_mse: 4070.9285\n",
            "Epoch 95/128\n",
            "2/2 [==============================] - 0s 28ms/step - loss: 4254.0854 - mse: 4248.7354 - val_loss: 4025.1128 - val_mse: 4019.7512\n",
            "Epoch 96/128\n",
            "2/2 [==============================] - 0s 30ms/step - loss: 4245.4023 - mse: 4240.0381 - val_loss: 4058.3806 - val_mse: 4053.0154\n",
            "Epoch 97/128\n",
            "2/2 [==============================] - 0s 27ms/step - loss: 4229.0654 - mse: 4223.7021 - val_loss: 4029.1255 - val_mse: 4023.7710\n",
            "Epoch 98/128\n",
            "2/2 [==============================] - 0s 31ms/step - loss: 4218.6274 - mse: 4213.2773 - val_loss: 4040.8650 - val_mse: 4035.5298\n",
            "Epoch 99/128\n",
            "2/2 [==============================] - 0s 27ms/step - loss: 4208.7339 - mse: 4203.4004 - val_loss: 4006.9802 - val_mse: 4001.6389\n",
            "Epoch 100/128\n",
            "2/2 [==============================] - 0s 32ms/step - loss: 4203.7642 - mse: 4198.4238 - val_loss: 4004.2571 - val_mse: 3998.9451\n",
            "Epoch 101/128\n",
            "2/2 [==============================] - 0s 30ms/step - loss: 4189.3340 - mse: 4184.0298 - val_loss: 3984.7781 - val_mse: 3979.4626\n",
            "Epoch 102/128\n",
            "2/2 [==============================] - 0s 28ms/step - loss: 4173.7578 - mse: 4168.4316 - val_loss: 3970.0815 - val_mse: 3964.7551\n",
            "Epoch 103/128\n",
            "2/2 [==============================] - 0s 31ms/step - loss: 4163.5215 - mse: 4158.2031 - val_loss: 3992.4539 - val_mse: 3987.1484\n",
            "Epoch 104/128\n",
            "2/2 [==============================] - 0s 27ms/step - loss: 4155.1040 - mse: 4149.7920 - val_loss: 3966.6931 - val_mse: 3961.3738\n",
            "Epoch 105/128\n",
            "2/2 [==============================] - 0s 28ms/step - loss: 4146.5605 - mse: 4141.2441 - val_loss: 4011.1287 - val_mse: 4005.8098\n",
            "Epoch 106/128\n",
            "2/2 [==============================] - 0s 28ms/step - loss: 4130.9224 - mse: 4125.6025 - val_loss: 3971.6238 - val_mse: 3966.3032\n",
            "Epoch 107/128\n",
            "2/2 [==============================] - 0s 29ms/step - loss: 4127.1074 - mse: 4121.7920 - val_loss: 4018.2056 - val_mse: 4012.9072\n",
            "Epoch 108/128\n",
            "2/2 [==============================] - 0s 41ms/step - loss: 4125.6978 - mse: 4120.3984 - val_loss: 3943.8816 - val_mse: 3938.5662\n",
            "Epoch 109/128\n",
            "2/2 [==============================] - 0s 30ms/step - loss: 4114.7832 - mse: 4109.4658 - val_loss: 3974.0791 - val_mse: 3968.7866\n",
            "Epoch 110/128\n",
            "2/2 [==============================] - 0s 29ms/step - loss: 4110.1699 - mse: 4104.8833 - val_loss: 3925.7029 - val_mse: 3920.3989\n",
            "Epoch 111/128\n",
            "2/2 [==============================] - 0s 27ms/step - loss: 4103.5127 - mse: 4098.2026 - val_loss: 3962.3147 - val_mse: 3957.0273\n",
            "Epoch 112/128\n",
            "2/2 [==============================] - 0s 32ms/step - loss: 4102.0723 - mse: 4096.7949 - val_loss: 3935.1843 - val_mse: 3929.8955\n",
            "Epoch 113/128\n",
            "2/2 [==============================] - 0s 30ms/step - loss: 4097.1294 - mse: 4091.8374 - val_loss: 3951.4988 - val_mse: 3946.2329\n",
            "Epoch 114/128\n",
            "2/2 [==============================] - 0s 30ms/step - loss: 4061.7339 - mse: 4056.4658 - val_loss: 3932.2217 - val_mse: 3926.9419\n",
            "Epoch 115/128\n",
            "2/2 [==============================] - 0s 27ms/step - loss: 4041.2925 - mse: 4036.0105 - val_loss: 3887.0381 - val_mse: 3881.7583\n",
            "Epoch 116/128\n",
            "2/2 [==============================] - 0s 42ms/step - loss: 4036.5110 - mse: 4031.2439 - val_loss: 3970.5859 - val_mse: 3965.3384\n",
            "Epoch 117/128\n",
            "2/2 [==============================] - 0s 27ms/step - loss: 4037.7175 - mse: 4032.4495 - val_loss: 3920.8359 - val_mse: 3915.5222\n",
            "Epoch 118/128\n",
            "2/2 [==============================] - 0s 30ms/step - loss: 4050.2583 - mse: 4044.9624 - val_loss: 4002.2964 - val_mse: 3997.0530\n",
            "Epoch 119/128\n",
            "2/2 [==============================] - 0s 27ms/step - loss: 4028.8113 - mse: 4023.5566 - val_loss: 3891.9407 - val_mse: 3886.5881\n",
            "Epoch 120/128\n",
            "2/2 [==============================] - 0s 28ms/step - loss: 4024.6084 - mse: 4019.2761 - val_loss: 3985.9336 - val_mse: 3980.6951\n",
            "Epoch 121/128\n",
            "2/2 [==============================] - 0s 30ms/step - loss: 4018.6187 - mse: 4013.3718 - val_loss: 3878.2263 - val_mse: 3872.9045\n",
            "Epoch 122/128\n",
            "2/2 [==============================] - 0s 45ms/step - loss: 4001.9187 - mse: 3996.5776 - val_loss: 3909.4238 - val_mse: 3904.0740\n",
            "Epoch 123/128\n",
            "2/2 [==============================] - 0s 30ms/step - loss: 3980.8208 - mse: 3975.4612 - val_loss: 3876.7058 - val_mse: 3871.3022\n",
            "Epoch 124/128\n",
            "2/2 [==============================] - 0s 32ms/step - loss: 3968.8865 - mse: 3963.4644 - val_loss: 3853.1606 - val_mse: 3847.7217\n",
            "Epoch 125/128\n",
            "2/2 [==============================] - 0s 31ms/step - loss: 3955.2593 - mse: 3949.8281 - val_loss: 3863.4734 - val_mse: 3858.0254\n",
            "Epoch 126/128\n",
            "2/2 [==============================] - 0s 30ms/step - loss: 3950.7139 - mse: 3945.2380 - val_loss: 3840.0002 - val_mse: 3834.4729\n",
            "Epoch 127/128\n",
            "2/2 [==============================] - 0s 34ms/step - loss: 3948.2090 - mse: 3942.6919 - val_loss: 3946.6526 - val_mse: 3941.1619\n",
            "Epoch 128/128\n",
            "2/2 [==============================] - 0s 31ms/step - loss: 3949.8181 - mse: 3944.3103 - val_loss: 3848.4363 - val_mse: 3842.8701\n"
          ]
        }
      ]
    },
    {
      "cell_type": "markdown",
      "source": [
        "**LOSSE's**"
      ],
      "metadata": {
        "id": "uEU58QWaxZSP"
      }
    },
    {
      "cell_type": "code",
      "source": [
        "loss , mse = model. evaluate(X_test , y_test, verbose = 1)\n",
        "print('MSE : %.3f' % mse)\n",
        "plt.xlabel('Epochs')\n",
        "plt.ylabel('Loss')\n",
        "plt.plot(history.history['loss'])             \n",
        "plt.plot(history.history['val_loss'])\n",
        "plt.figure(figsize=(10, 8)) \n",
        "plt.legend(['train_loss', 'validation_loss'], loc='upper right')\n",
        "print(history.history.keys())\n",
        "plt.show()"
      ],
      "metadata": {
        "colab": {
          "base_uri": "https://localhost:8080/",
          "height": 801
        },
        "id": "on-rHfFtxfsB",
        "outputId": "f15fb1df-a48c-4a74-cd45-dfd27c71d498"
      },
      "execution_count": 36,
      "outputs": [
        {
          "output_type": "stream",
          "name": "stdout",
          "text": [
            "1/1 [==============================] - 0s 120ms/step - loss: 65.9450 - mse: 57.9884\n",
            "MSE : 57.988\n",
            "dict_keys(['loss', 'mse', 'val_loss', 'val_mse'])\n"
          ]
        },
        {
          "output_type": "display_data",
          "data": {
            "text/plain": [
              "<Figure size 432x288 with 1 Axes>"
            ],
            "image/png": "[encoded data removed]"
          },
          "metadata": {
            "needs_background": "light"
          }
        },
        {
          "output_type": "display_data",
          "data": {
            "text/plain": [
              "<Figure size 720x576 with 1 Axes>"
            ],
            "image/png": "[encoded data removed]"
          },
          "metadata": {
            "needs_background": "light"
          }
        }
      ]
    },
    {
      "cell_type": "markdown",
      "source": [
        "**Accuracy and r2 score**"
      ],
      "metadata": {
        "id": "ijwJuiUPxx6H"
      }
    },
    {
      "cell_type": "code",
      "source": [
        "accu = r2_score(y_test, y_pred) \n",
        "print(\"Accuracy:\", accu)"
      ],
      "metadata": {
        "colab": {
          "base_uri": "https://localhost:8080/"
        },
        "id": "pTpeIq3sx22S",
        "outputId": "9e68bfe4-bf52-4d16-daad-db2582da6bac"
      },
      "execution_count": 37,
      "outputs": [
        {
          "output_type": "stream",
          "name": "stdout",
          "text": [
            "Accuracy: 0.9942988171707029\n"
          ]
        }
      ]
    }
  ]
}