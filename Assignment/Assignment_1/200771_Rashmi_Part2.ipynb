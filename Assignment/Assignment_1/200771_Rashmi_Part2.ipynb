{
 "cells": [
  {
   "cell_type": "code",
   "execution_count": 11,
   "metadata": {},
   "outputs": [
    {
     "name": "stdout",
     "output_type": "stream",
     "text": [
      "                 city  area  rooms  bathroom  parking spaces floor     animal  \\\n",
      "0           São Paulo    70      2         1               1     7      acept   \n",
      "1           São Paulo   320      4         4               0    20      acept   \n",
      "2        Porto Alegre    80      1         1               1     6      acept   \n",
      "3        Porto Alegre    51      2         1               0     2      acept   \n",
      "4           São Paulo    25      1         1               0     1  not acept   \n",
      "...               ...   ...    ...       ...             ...   ...        ...   \n",
      "10687    Porto Alegre    63      2         1               1     5  not acept   \n",
      "10688       São Paulo   285      4         4               4    17      acept   \n",
      "10689  Rio de Janeiro    70      3         3               0     8  not acept   \n",
      "10690  Rio de Janeiro   120      2         2               2     8      acept   \n",
      "10691       São Paulo    80      2         1               0     -      acept   \n",
      "\n",
      "           furniture  hoa (R$)  rent amount (R$)  property tax (R$)  \\\n",
      "0          furnished      2065              3300                211   \n",
      "1      not furnished      1200              4960               1750   \n",
      "2      not furnished      1000              2800                  0   \n",
      "3      not furnished       270              1112                 22   \n",
      "4      not furnished         0               800                 25   \n",
      "...              ...       ...               ...                ...   \n",
      "10687      furnished       402              1478                 24   \n",
      "10688  not furnished      3100             15000                973   \n",
      "10689      furnished       980              6000                332   \n",
      "10690      furnished      1585             12000                279   \n",
      "10691  not furnished         0              1400                165   \n",
      "\n",
      "       fire insurance (R$)  total (R$)  \n",
      "0                       42        5618  \n",
      "1                       63        7973  \n",
      "2                       41        3841  \n",
      "3                       17        1421  \n",
      "4                       11         836  \n",
      "...                    ...         ...  \n",
      "10687                   22        1926  \n",
      "10688                  191       19260  \n",
      "10689                   78        7390  \n",
      "10690                  155       14020  \n",
      "10691                   22        1587  \n",
      "\n",
      "[10692 rows x 13 columns]\n"
     ]
    }
   ],
   "source": [
    "import numpy as np\n",
    "import pandas as pd\n",
    "import matplotlib as mat\n",
    "df = pd.read_csv (r'C:\\Users\\wrash\\Downloads\\House_prediction.csv')\n",
    "print (df)"
   ]
  },
  {
   "cell_type": "code",
   "execution_count": 12,
   "metadata": {},
   "outputs": [],
   "source": [
    "def mean(t):\n",
    "    return(float(sum(t)) / len(t))"
   ]
  },
  {
   "cell_type": "code",
   "execution_count": 13,
   "metadata": {},
   "outputs": [],
   "source": [
    "df_copy = df.set_index('city')"
   ]
  },
  {
   "cell_type": "code",
   "execution_count": 14,
   "metadata": {},
   "outputs": [],
   "source": [
    "df_grouped = df_copy.groupby('city')"
   ]
  },
  {
   "cell_type": "code",
   "execution_count": 16,
   "metadata": {},
   "outputs": [
    {
     "data": {
      "text/html": [
       "<div>\n",
       "<style scoped>\n",
       "    .dataframe tbody tr th:only-of-type {\n",
       "        vertical-align: middle;\n",
       "    }\n",
       "\n",
       "    .dataframe tbody tr th {\n",
       "        vertical-align: top;\n",
       "    }\n",
       "\n",
       "    .dataframe thead th {\n",
       "        text-align: right;\n",
       "    }\n",
       "</style>\n",
       "<table border=\"1\" class=\"dataframe\">\n",
       "  <thead>\n",
       "    <tr style=\"text-align: right;\">\n",
       "      <th></th>\n",
       "      <th>area</th>\n",
       "      <th>rooms</th>\n",
       "      <th>bathroom</th>\n",
       "      <th>parking spaces</th>\n",
       "      <th>hoa (R$)</th>\n",
       "      <th>rent amount (R$)</th>\n",
       "      <th>property tax (R$)</th>\n",
       "      <th>fire insurance (R$)</th>\n",
       "      <th>total (R$)</th>\n",
       "    </tr>\n",
       "    <tr>\n",
       "      <th>city</th>\n",
       "      <th></th>\n",
       "      <th></th>\n",
       "      <th></th>\n",
       "      <th></th>\n",
       "      <th></th>\n",
       "      <th></th>\n",
       "      <th></th>\n",
       "      <th></th>\n",
       "      <th></th>\n",
       "    </tr>\n",
       "  </thead>\n",
       "  <tbody>\n",
       "    <tr>\n",
       "      <th>Belo Horizonte</th>\n",
       "      <td>207.411765</td>\n",
       "      <td>3.020668</td>\n",
       "      <td>2.402226</td>\n",
       "      <td>1.955485</td>\n",
       "      <td>2324.197138</td>\n",
       "      <td>3664.127981</td>\n",
       "      <td>272.782194</td>\n",
       "      <td>53.675676</td>\n",
       "      <td>6315.242448</td>\n",
       "    </tr>\n",
       "    <tr>\n",
       "      <th>Campinas</th>\n",
       "      <td>137.561547</td>\n",
       "      <td>2.355217</td>\n",
       "      <td>1.960141</td>\n",
       "      <td>1.558030</td>\n",
       "      <td>628.922626</td>\n",
       "      <td>2364.290739</td>\n",
       "      <td>147.657679</td>\n",
       "      <td>32.388042</td>\n",
       "      <td>3173.276671</td>\n",
       "    </tr>\n",
       "    <tr>\n",
       "      <th>Porto Alegre</th>\n",
       "      <td>103.609388</td>\n",
       "      <td>2.140821</td>\n",
       "      <td>1.725901</td>\n",
       "      <td>1.044426</td>\n",
       "      <td>491.618609</td>\n",
       "      <td>2337.699916</td>\n",
       "      <td>124.021794</td>\n",
       "      <td>36.425817</td>\n",
       "      <td>2989.782900</td>\n",
       "    </tr>\n",
       "    <tr>\n",
       "      <th>Rio de Janeiro</th>\n",
       "      <td>105.347768</td>\n",
       "      <td>2.243837</td>\n",
       "      <td>1.756163</td>\n",
       "      <td>0.744171</td>\n",
       "      <td>1079.432378</td>\n",
       "      <td>3232.904064</td>\n",
       "      <td>256.853431</td>\n",
       "      <td>42.483011</td>\n",
       "      <td>4611.684877</td>\n",
       "    </tr>\n",
       "    <tr>\n",
       "      <th>São Paulo</th>\n",
       "      <td>158.899439</td>\n",
       "      <td>2.558859</td>\n",
       "      <td>2.467641</td>\n",
       "      <td>1.877527</td>\n",
       "      <td>1169.627994</td>\n",
       "      <td>4652.793783</td>\n",
       "      <td>495.701716</td>\n",
       "      <td>62.428911</td>\n",
       "      <td>6380.831833</td>\n",
       "    </tr>\n",
       "  </tbody>\n",
       "</table>\n",
       "</div>"
      ],
      "text/plain": [
       "                      area     rooms  bathroom  parking spaces     hoa (R$)  \\\n",
       "city                                                                          \n",
       "Belo Horizonte  207.411765  3.020668  2.402226        1.955485  2324.197138   \n",
       "Campinas        137.561547  2.355217  1.960141        1.558030   628.922626   \n",
       "Porto Alegre    103.609388  2.140821  1.725901        1.044426   491.618609   \n",
       "Rio de Janeiro  105.347768  2.243837  1.756163        0.744171  1079.432378   \n",
       "São Paulo       158.899439  2.558859  2.467641        1.877527  1169.627994   \n",
       "\n",
       "                rent amount (R$)  property tax (R$)  fire insurance (R$)  \\\n",
       "city                                                                       \n",
       "Belo Horizonte       3664.127981         272.782194            53.675676   \n",
       "Campinas             2364.290739         147.657679            32.388042   \n",
       "Porto Alegre         2337.699916         124.021794            36.425817   \n",
       "Rio de Janeiro       3232.904064         256.853431            42.483011   \n",
       "São Paulo            4652.793783         495.701716            62.428911   \n",
       "\n",
       "                 total (R$)  \n",
       "city                         \n",
       "Belo Horizonte  6315.242448  \n",
       "Campinas        3173.276671  \n",
       "Porto Alegre    2989.782900  \n",
       "Rio de Janeiro  4611.684877  \n",
       "São Paulo       6380.831833  "
      ]
     },
     "execution_count": 16,
     "metadata": {},
     "output_type": "execute_result"
    }
   ],
   "source": [
    "df_grouped.mean()"
   ]
  },
  {
   "cell_type": "code",
   "execution_count": 17,
   "metadata": {},
   "outputs": [],
   "source": [
    "df1 = df_grouped.mean()\n",
    "import matplotlib.pyplot as plt\n",
    "df1.reset_index(inplace=True)"
   ]
  },
  {
   "cell_type": "code",
   "execution_count": 18,
   "metadata": {},
   "outputs": [
    {
     "data": {
      "text/html": [
       "<div>\n",
       "<style scoped>\n",
       "    .dataframe tbody tr th:only-of-type {\n",
       "        vertical-align: middle;\n",
       "    }\n",
       "\n",
       "    .dataframe tbody tr th {\n",
       "        vertical-align: top;\n",
       "    }\n",
       "\n",
       "    .dataframe thead th {\n",
       "        text-align: right;\n",
       "    }\n",
       "</style>\n",
       "<table border=\"1\" class=\"dataframe\">\n",
       "  <thead>\n",
       "    <tr style=\"text-align: right;\">\n",
       "      <th></th>\n",
       "      <th>city</th>\n",
       "      <th>area</th>\n",
       "      <th>rooms</th>\n",
       "      <th>bathroom</th>\n",
       "      <th>parking spaces</th>\n",
       "      <th>hoa (R$)</th>\n",
       "      <th>rent amount (R$)</th>\n",
       "      <th>property tax (R$)</th>\n",
       "      <th>fire insurance (R$)</th>\n",
       "      <th>total (R$)</th>\n",
       "    </tr>\n",
       "  </thead>\n",
       "  <tbody>\n",
       "    <tr>\n",
       "      <th>0</th>\n",
       "      <td>Belo Horizonte</td>\n",
       "      <td>207.411765</td>\n",
       "      <td>3.020668</td>\n",
       "      <td>2.402226</td>\n",
       "      <td>1.955485</td>\n",
       "      <td>2324.197138</td>\n",
       "      <td>3664.127981</td>\n",
       "      <td>272.782194</td>\n",
       "      <td>53.675676</td>\n",
       "      <td>6315.242448</td>\n",
       "    </tr>\n",
       "    <tr>\n",
       "      <th>1</th>\n",
       "      <td>Campinas</td>\n",
       "      <td>137.561547</td>\n",
       "      <td>2.355217</td>\n",
       "      <td>1.960141</td>\n",
       "      <td>1.558030</td>\n",
       "      <td>628.922626</td>\n",
       "      <td>2364.290739</td>\n",
       "      <td>147.657679</td>\n",
       "      <td>32.388042</td>\n",
       "      <td>3173.276671</td>\n",
       "    </tr>\n",
       "    <tr>\n",
       "      <th>2</th>\n",
       "      <td>Porto Alegre</td>\n",
       "      <td>103.609388</td>\n",
       "      <td>2.140821</td>\n",
       "      <td>1.725901</td>\n",
       "      <td>1.044426</td>\n",
       "      <td>491.618609</td>\n",
       "      <td>2337.699916</td>\n",
       "      <td>124.021794</td>\n",
       "      <td>36.425817</td>\n",
       "      <td>2989.782900</td>\n",
       "    </tr>\n",
       "    <tr>\n",
       "      <th>3</th>\n",
       "      <td>Rio de Janeiro</td>\n",
       "      <td>105.347768</td>\n",
       "      <td>2.243837</td>\n",
       "      <td>1.756163</td>\n",
       "      <td>0.744171</td>\n",
       "      <td>1079.432378</td>\n",
       "      <td>3232.904064</td>\n",
       "      <td>256.853431</td>\n",
       "      <td>42.483011</td>\n",
       "      <td>4611.684877</td>\n",
       "    </tr>\n",
       "    <tr>\n",
       "      <th>4</th>\n",
       "      <td>São Paulo</td>\n",
       "      <td>158.899439</td>\n",
       "      <td>2.558859</td>\n",
       "      <td>2.467641</td>\n",
       "      <td>1.877527</td>\n",
       "      <td>1169.627994</td>\n",
       "      <td>4652.793783</td>\n",
       "      <td>495.701716</td>\n",
       "      <td>62.428911</td>\n",
       "      <td>6380.831833</td>\n",
       "    </tr>\n",
       "  </tbody>\n",
       "</table>\n",
       "</div>"
      ],
      "text/plain": [
       "             city        area     rooms  bathroom  parking spaces  \\\n",
       "0  Belo Horizonte  207.411765  3.020668  2.402226        1.955485   \n",
       "1        Campinas  137.561547  2.355217  1.960141        1.558030   \n",
       "2    Porto Alegre  103.609388  2.140821  1.725901        1.044426   \n",
       "3  Rio de Janeiro  105.347768  2.243837  1.756163        0.744171   \n",
       "4       São Paulo  158.899439  2.558859  2.467641        1.877527   \n",
       "\n",
       "      hoa (R$)  rent amount (R$)  property tax (R$)  fire insurance (R$)  \\\n",
       "0  2324.197138       3664.127981         272.782194            53.675676   \n",
       "1   628.922626       2364.290739         147.657679            32.388042   \n",
       "2   491.618609       2337.699916         124.021794            36.425817   \n",
       "3  1079.432378       3232.904064         256.853431            42.483011   \n",
       "4  1169.627994       4652.793783         495.701716            62.428911   \n",
       "\n",
       "    total (R$)  \n",
       "0  6315.242448  \n",
       "1  3173.276671  \n",
       "2  2989.782900  \n",
       "3  4611.684877  \n",
       "4  6380.831833  "
      ]
     },
     "execution_count": 18,
     "metadata": {},
     "output_type": "execute_result"
    }
   ],
   "source": [
    "df1"
   ]
  },
  {
   "cell_type": "code",
   "execution_count": 23,
   "metadata": {},
   "outputs": [
    {
     "data": {
      "text/plain": [
       "Index(['city', 'area', 'rooms', 'bathroom', 'parking spaces', 'hoa (R$)',\n",
       "       'rent amount (R$)', 'property tax (R$)', 'fire insurance (R$)',\n",
       "       'total (R$)'],\n",
       "      dtype='object')"
      ]
     },
     "execution_count": 23,
     "metadata": {},
     "output_type": "execute_result"
    },
    {
     "data": {
      "image/png": "[encoded data removed]",
      "text/plain": [
       "<Figure size 432x288 with 1 Axes>"
      ]
     },
     "metadata": {
      "needs_background": "light"
     },
     "output_type": "display_data"
    }
   ],
   "source": [
    "plt.plot(df1['city'],df1['area'],color = 'blue')\n",
    "plt.xlabel('city')\n",
    "plt.ylabel('area')\n",
    "plt.title('city Vs area')\n",
    "df1.columns"
   ]
  },
  {
   "cell_type": "code",
   "execution_count": 29,
   "metadata": {},
   "outputs": [
    {
     "data": {
      "text/plain": [
       "Index(['city', 'area', 'rooms', 'bathroom', 'parking spaces', 'hoa (R$)',\n",
       "       'rent amount (R$)', 'property tax (R$)', 'fire insurance (R$)',\n",
       "       'total (R$)'],\n",
       "      dtype='object')"
      ]
     },
     "execution_count": 29,
     "metadata": {},
     "output_type": "execute_result"
    },
    {
     "data": {
      "image/png": "[encoded data removed]",
      "text/plain": [
       "<Figure size 432x288 with 1 Axes>"
      ]
     },
     "metadata": {
      "needs_background": "light"
     },
     "output_type": "display_data"
    }
   ],
   "source": [
    "plt.plot(df1['city'],df1['rooms'],color = 'blue')\n",
    "plt.xlabel('city')\n",
    "plt.ylabel('rooms')\n",
    "plt.title('city Vs rooms')\n",
    "df1.columns"
   ]
  },
  {
   "cell_type": "code",
   "execution_count": 30,
   "metadata": {},
   "outputs": [
    {
     "data": {
      "text/plain": [
       "Index(['city', 'area', 'rooms', 'bathroom', 'parking spaces', 'hoa (R$)',\n",
       "       'rent amount (R$)', 'property tax (R$)', 'fire insurance (R$)',\n",
       "       'total (R$)'],\n",
       "      dtype='object')"
      ]
     },
     "execution_count": 30,
     "metadata": {},
     "output_type": "execute_result"
    },
    {
     "data": {
      "image/png": "[encoded data removed]",
      "text/plain": [
       "<Figure size 432x288 with 1 Axes>"
      ]
     },
     "metadata": {
      "needs_background": "light"
     },
     "output_type": "display_data"
    }
   ],
   "source": [
    "plt.plot(df1['city'],df1['bathroom'],color = 'blue')\n",
    "plt.xlabel('city')\n",
    "plt.ylabel('bathroom')\n",
    "plt.title('city Vs bathroom')\n",
    "df1.columns"
   ]
  },
  {
   "cell_type": "code",
   "execution_count": 34,
   "metadata": {},
   "outputs": [
    {
     "data": {
      "text/plain": [
       "Index(['city', 'area', 'rooms', 'bathroom', 'parking spaces', 'hoa (R$)',\n",
       "       'rent amount (R$)', 'property tax (R$)', 'fire insurance (R$)',\n",
       "       'total (R$)'],\n",
       "      dtype='object')"
      ]
     },
     "execution_count": 34,
     "metadata": {},
     "output_type": "execute_result"
    },
    {
     "data": {
      "image/png": "[encoded data removed]",
      "text/plain": [
       "<Figure size 432x288 with 1 Axes>"
      ]
     },
     "metadata": {
      "needs_background": "light"
     },
     "output_type": "display_data"
    }
   ],
   "source": [
    "plt.plot(df1['city'],df1['parking spaces'],color = 'blue')\n",
    "plt.xlabel('city')\n",
    "plt.ylabel('parking spaces')\n",
    "plt.title('city Vs parking spaces')\n",
    "df1.columns"
   ]
  },
  {
   "cell_type": "code",
   "execution_count": 35,
   "metadata": {
    "scrolled": true
   },
   "outputs": [
    {
     "data": {
      "text/plain": [
       "Index(['city', 'area', 'rooms', 'bathroom', 'parking spaces', 'hoa (R$)',\n",
       "       'rent amount (R$)', 'property tax (R$)', 'fire insurance (R$)',\n",
       "       'total (R$)'],\n",
       "      dtype='object')"
      ]
     },
     "execution_count": 35,
     "metadata": {},
     "output_type": "execute_result"
    },
    {
     "data": {
      "image/png": "[encoded data removed]",
      "text/plain": [
       "<Figure size 432x288 with 1 Axes>"
      ]
     },
     "metadata": {
      "needs_background": "light"
     },
     "output_type": "display_data"
    }
   ],
   "source": [
    "plt.plot(df1['city'],df1['rent amount (R$)'],color = 'blue')\n",
    "plt.xlabel('city')\n",
    "plt.ylabel('rent amount (R$)')\n",
    "plt.title('city vs rent amount (R$)')\n",
    "df1.columns"
   ]
  },
  {
   "cell_type": "code",
   "execution_count": 37,
   "metadata": {},
   "outputs": [
    {
     "data": {
      "text/plain": [
       "Index(['city', 'area', 'rooms', 'bathroom', 'parking spaces', 'hoa (R$)',\n",
       "       'rent amount (R$)', 'property tax (R$)', 'fire insurance (R$)',\n",
       "       'total (R$)'],\n",
       "      dtype='object')"
      ]
     },
     "execution_count": 37,
     "metadata": {},
     "output_type": "execute_result"
    },
    {
     "data": {
      "image/png": "[encoded data removed]",
      "text/plain": [
       "<Figure size 432x288 with 1 Axes>"
      ]
     },
     "metadata": {
      "needs_background": "light"
     },
     "output_type": "display_data"
    }
   ],
   "source": [
    "plt.plot(df1['city'],df1['hoa (R$)'],color = 'blue')\n",
    "plt.xlabel('city')\n",
    "plt.ylabel('hoa (R$)')\n",
    "plt.title('city Vs hoa (R$)')\n",
    "df1.columns"
   ]
  },
  {
   "cell_type": "code",
   "execution_count": 38,
   "metadata": {},
   "outputs": [
    {
     "data": {
      "text/plain": [
       "Index(['city', 'area', 'rooms', 'bathroom', 'parking spaces', 'hoa (R$)',\n",
       "       'rent amount (R$)', 'property tax (R$)', 'fire insurance (R$)',\n",
       "       'total (R$)'],\n",
       "      dtype='object')"
      ]
     },
     "execution_count": 38,
     "metadata": {},
     "output_type": "execute_result"
    },
    {
     "data": {
      "image/png": "[encoded data removed]",
      "text/plain": [
       "<Figure size 432x288 with 1 Axes>"
      ]
     },
     "metadata": {
      "needs_background": "light"
     },
     "output_type": "display_data"
    }
   ],
   "source": [
    "plt.plot(df1['city'],df1['property tax (R$)'],color = 'blue')\n",
    "plt.xlabel('city')\n",
    "plt.ylabel('property tax (R$)')\n",
    "plt.title('city Vs property tax (R$)')\n",
    "df1.columns"
   ]
  },
  {
   "cell_type": "code",
   "execution_count": 39,
   "metadata": {},
   "outputs": [
    {
     "data": {
      "text/plain": [
       "Index(['city', 'area', 'rooms', 'bathroom', 'parking spaces', 'hoa (R$)',\n",
       "       'rent amount (R$)', 'property tax (R$)', 'fire insurance (R$)',\n",
       "       'total (R$)'],\n",
       "      dtype='object')"
      ]
     },
     "execution_count": 39,
     "metadata": {},
     "output_type": "execute_result"
    },
    {
     "data": {
      "image/png": "[encoded data removed]",
      "text/plain": [
       "<Figure size 432x288 with 1 Axes>"
      ]
     },
     "metadata": {
      "needs_background": "light"
     },
     "output_type": "display_data"
    }
   ],
   "source": [
    "plt.plot(df1['city'],df1['fire insurance (R$)'],color = 'blue')\n",
    "plt.xlabel('city')\n",
    "plt.ylabel('fire insurance (R$)')\n",
    "plt.title('city Vs fire insurance (R$)')\n",
    "df1.columns"
   ]
  },
  {
   "cell_type": "code",
   "execution_count": 40,
   "metadata": {},
   "outputs": [
    {
     "data": {
      "text/plain": [
       "Index(['city', 'area', 'rooms', 'bathroom', 'parking spaces', 'hoa (R$)',\n",
       "       'rent amount (R$)', 'property tax (R$)', 'fire insurance (R$)',\n",
       "       'total (R$)'],\n",
       "      dtype='object')"
      ]
     },
     "execution_count": 40,
     "metadata": {},
     "output_type": "execute_result"
    },
    {
     "data": {
      "image/png": "[encoded data removed]",
      "text/plain": [
       "<Figure size 432x288 with 1 Axes>"
      ]
     },
     "metadata": {
      "needs_background": "light"
     },
     "output_type": "display_data"
    }
   ],
   "source": [
    "plt.plot(df1['city'],df1['total (R$)'],color = 'blue')\n",
    "plt.xlabel('city')\n",
    "plt.ylabel('total (R$)')\n",
    "plt.title('city Vs total (R$)')\n",
    "df1.columns"
   ]
  },
  {
   "cell_type": "code",
   "execution_count": 41,
   "metadata": {},
   "outputs": [
    {
     "data": {
      "text/html": [
       "<div>\n",
       "<style scoped>\n",
       "    .dataframe tbody tr th:only-of-type {\n",
       "        vertical-align: middle;\n",
       "    }\n",
       "\n",
       "    .dataframe tbody tr th {\n",
       "        vertical-align: top;\n",
       "    }\n",
       "\n",
       "    .dataframe thead th {\n",
       "        text-align: right;\n",
       "    }\n",
       "</style>\n",
       "<table border=\"1\" class=\"dataframe\">\n",
       "  <thead>\n",
       "    <tr style=\"text-align: right;\">\n",
       "      <th></th>\n",
       "      <th>area</th>\n",
       "      <th>rooms</th>\n",
       "      <th>bathroom</th>\n",
       "      <th>parking spaces</th>\n",
       "      <th>hoa (R$)</th>\n",
       "      <th>rent amount (R$)</th>\n",
       "      <th>property tax (R$)</th>\n",
       "      <th>fire insurance (R$)</th>\n",
       "      <th>total (R$)</th>\n",
       "    </tr>\n",
       "  </thead>\n",
       "  <tbody>\n",
       "    <tr>\n",
       "      <th>area</th>\n",
       "      <td>1.000000</td>\n",
       "      <td>0.193796</td>\n",
       "      <td>0.226766</td>\n",
       "      <td>0.193983</td>\n",
       "      <td>0.006890</td>\n",
       "      <td>0.180742</td>\n",
       "      <td>0.039059</td>\n",
       "      <td>0.188078</td>\n",
       "      <td>0.051799</td>\n",
       "    </tr>\n",
       "    <tr>\n",
       "      <th>rooms</th>\n",
       "      <td>0.193796</td>\n",
       "      <td>1.000000</td>\n",
       "      <td>0.733763</td>\n",
       "      <td>0.617510</td>\n",
       "      <td>0.007139</td>\n",
       "      <td>0.541758</td>\n",
       "      <td>0.075252</td>\n",
       "      <td>0.565148</td>\n",
       "      <td>0.134597</td>\n",
       "    </tr>\n",
       "    <tr>\n",
       "      <th>bathroom</th>\n",
       "      <td>0.226766</td>\n",
       "      <td>0.733763</td>\n",
       "      <td>1.000000</td>\n",
       "      <td>0.697379</td>\n",
       "      <td>0.050271</td>\n",
       "      <td>0.668504</td>\n",
       "      <td>0.109253</td>\n",
       "      <td>0.676399</td>\n",
       "      <td>0.208339</td>\n",
       "    </tr>\n",
       "    <tr>\n",
       "      <th>parking spaces</th>\n",
       "      <td>0.193983</td>\n",
       "      <td>0.617510</td>\n",
       "      <td>0.697379</td>\n",
       "      <td>1.000000</td>\n",
       "      <td>0.009321</td>\n",
       "      <td>0.578361</td>\n",
       "      <td>0.098378</td>\n",
       "      <td>0.597348</td>\n",
       "      <td>0.148684</td>\n",
       "    </tr>\n",
       "    <tr>\n",
       "      <th>hoa (R$)</th>\n",
       "      <td>0.006890</td>\n",
       "      <td>0.007139</td>\n",
       "      <td>0.050271</td>\n",
       "      <td>0.009321</td>\n",
       "      <td>1.000000</td>\n",
       "      <td>0.036490</td>\n",
       "      <td>0.007627</td>\n",
       "      <td>0.029535</td>\n",
       "      <td>0.955024</td>\n",
       "    </tr>\n",
       "    <tr>\n",
       "      <th>rent amount (R$)</th>\n",
       "      <td>0.180742</td>\n",
       "      <td>0.541758</td>\n",
       "      <td>0.668504</td>\n",
       "      <td>0.578361</td>\n",
       "      <td>0.036490</td>\n",
       "      <td>1.000000</td>\n",
       "      <td>0.107884</td>\n",
       "      <td>0.987343</td>\n",
       "      <td>0.264490</td>\n",
       "    </tr>\n",
       "    <tr>\n",
       "      <th>property tax (R$)</th>\n",
       "      <td>0.039059</td>\n",
       "      <td>0.075252</td>\n",
       "      <td>0.109253</td>\n",
       "      <td>0.098378</td>\n",
       "      <td>0.007627</td>\n",
       "      <td>0.107884</td>\n",
       "      <td>1.000000</td>\n",
       "      <td>0.105661</td>\n",
       "      <td>0.218344</td>\n",
       "    </tr>\n",
       "    <tr>\n",
       "      <th>fire insurance (R$)</th>\n",
       "      <td>0.188078</td>\n",
       "      <td>0.565148</td>\n",
       "      <td>0.676399</td>\n",
       "      <td>0.597348</td>\n",
       "      <td>0.029535</td>\n",
       "      <td>0.987343</td>\n",
       "      <td>0.105661</td>\n",
       "      <td>1.000000</td>\n",
       "      <td>0.254911</td>\n",
       "    </tr>\n",
       "    <tr>\n",
       "      <th>total (R$)</th>\n",
       "      <td>0.051799</td>\n",
       "      <td>0.134597</td>\n",
       "      <td>0.208339</td>\n",
       "      <td>0.148684</td>\n",
       "      <td>0.955024</td>\n",
       "      <td>0.264490</td>\n",
       "      <td>0.218344</td>\n",
       "      <td>0.254911</td>\n",
       "      <td>1.000000</td>\n",
       "    </tr>\n",
       "  </tbody>\n",
       "</table>\n",
       "</div>"
      ],
      "text/plain": [
       "                         area     rooms  bathroom  parking spaces  hoa (R$)  \\\n",
       "area                 1.000000  0.193796  0.226766        0.193983  0.006890   \n",
       "rooms                0.193796  1.000000  0.733763        0.617510  0.007139   \n",
       "bathroom             0.226766  0.733763  1.000000        0.697379  0.050271   \n",
       "parking spaces       0.193983  0.617510  0.697379        1.000000  0.009321   \n",
       "hoa (R$)             0.006890  0.007139  0.050271        0.009321  1.000000   \n",
       "rent amount (R$)     0.180742  0.541758  0.668504        0.578361  0.036490   \n",
       "property tax (R$)    0.039059  0.075252  0.109253        0.098378  0.007627   \n",
       "fire insurance (R$)  0.188078  0.565148  0.676399        0.597348  0.029535   \n",
       "total (R$)           0.051799  0.134597  0.208339        0.148684  0.955024   \n",
       "\n",
       "                     rent amount (R$)  property tax (R$)  fire insurance (R$)  \\\n",
       "area                         0.180742           0.039059             0.188078   \n",
       "rooms                        0.541758           0.075252             0.565148   \n",
       "bathroom                     0.668504           0.109253             0.676399   \n",
       "parking spaces               0.578361           0.098378             0.597348   \n",
       "hoa (R$)                     0.036490           0.007627             0.029535   \n",
       "rent amount (R$)             1.000000           0.107884             0.987343   \n",
       "property tax (R$)            0.107884           1.000000             0.105661   \n",
       "fire insurance (R$)          0.987343           0.105661             1.000000   \n",
       "total (R$)                   0.264490           0.218344             0.254911   \n",
       "\n",
       "                     total (R$)  \n",
       "area                   0.051799  \n",
       "rooms                  0.134597  \n",
       "bathroom               0.208339  \n",
       "parking spaces         0.148684  \n",
       "hoa (R$)               0.955024  \n",
       "rent amount (R$)       0.264490  \n",
       "property tax (R$)      0.218344  \n",
       "fire insurance (R$)    0.254911  \n",
       "total (R$)             1.000000  "
      ]
     },
     "execution_count": 41,
     "metadata": {},
     "output_type": "execute_result"
    }
   ],
   "source": [
    "df.corr()"
   ]
  },
  {
   "cell_type": "code",
   "execution_count": null,
   "metadata": {},
   "outputs": [],
   "source": []
  }
 ],
 "metadata": {
  "kernelspec": {
   "display_name": "Python 3",
   "language": "python",
   "name": "python3"
  },
  "language_info": {
   "codemirror_mode": {
    "name": "ipython",
    "version": 3
   },
   "file_extension": ".py",
   "mimetype": "text/x-python",
   "name": "python",
   "nbconvert_exporter": "python",
   "pygments_lexer": "ipython3",
   "version": "3.8.5"
  }
 },
 "nbformat": 4,
 "nbformat_minor": 4
}
