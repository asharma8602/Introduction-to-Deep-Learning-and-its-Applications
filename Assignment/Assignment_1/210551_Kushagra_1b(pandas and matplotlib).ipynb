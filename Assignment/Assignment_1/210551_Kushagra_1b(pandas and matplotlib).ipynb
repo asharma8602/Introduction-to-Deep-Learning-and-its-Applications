{
 "cells": [
  {
   "cell_type": "code",
   "execution_count": 46,
   "id": "48645166",
   "metadata": {},
   "outputs": [],
   "source": [
    "import pandas as pd\n",
    "import numpy as np\n",
    "import csv"
   ]
  },
  {
   "cell_type": "code",
   "execution_count": 47,
   "id": "8a07e324",
   "metadata": {},
   "outputs": [],
   "source": [
    "df=pd.read_csv(\"/Users/kushagragupta/Downloads/House_prediction.csv\")"
   ]
  },
  {
   "cell_type": "code",
   "execution_count": 48,
   "id": "1d642e41",
   "metadata": {},
   "outputs": [
    {
     "data": {
      "text/html": [
       "<div>\n",
       "<style scoped>\n",
       "    .dataframe tbody tr th:only-of-type {\n",
       "        vertical-align: middle;\n",
       "    }\n",
       "\n",
       "    .dataframe tbody tr th {\n",
       "        vertical-align: top;\n",
       "    }\n",
       "\n",
       "    .dataframe thead th {\n",
       "        text-align: right;\n",
       "    }\n",
       "</style>\n",
       "<table border=\"1\" class=\"dataframe\">\n",
       "  <thead>\n",
       "    <tr style=\"text-align: right;\">\n",
       "      <th></th>\n",
       "      <th>city</th>\n",
       "      <th>area</th>\n",
       "      <th>rooms</th>\n",
       "      <th>bathroom</th>\n",
       "      <th>parking spaces</th>\n",
       "      <th>floor</th>\n",
       "      <th>animal</th>\n",
       "      <th>furniture</th>\n",
       "      <th>hoa (R$)</th>\n",
       "      <th>rent amount (R$)</th>\n",
       "      <th>property tax (R$)</th>\n",
       "      <th>fire insurance (R$)</th>\n",
       "      <th>total (R$)</th>\n",
       "    </tr>\n",
       "  </thead>\n",
       "  <tbody>\n",
       "    <tr>\n",
       "      <th>0</th>\n",
       "      <td>São Paulo</td>\n",
       "      <td>70</td>\n",
       "      <td>2</td>\n",
       "      <td>1</td>\n",
       "      <td>1</td>\n",
       "      <td>7</td>\n",
       "      <td>acept</td>\n",
       "      <td>furnished</td>\n",
       "      <td>2065</td>\n",
       "      <td>3300</td>\n",
       "      <td>211</td>\n",
       "      <td>42</td>\n",
       "      <td>5618</td>\n",
       "    </tr>\n",
       "    <tr>\n",
       "      <th>1</th>\n",
       "      <td>São Paulo</td>\n",
       "      <td>320</td>\n",
       "      <td>4</td>\n",
       "      <td>4</td>\n",
       "      <td>0</td>\n",
       "      <td>20</td>\n",
       "      <td>acept</td>\n",
       "      <td>not furnished</td>\n",
       "      <td>1200</td>\n",
       "      <td>4960</td>\n",
       "      <td>1750</td>\n",
       "      <td>63</td>\n",
       "      <td>7973</td>\n",
       "    </tr>\n",
       "    <tr>\n",
       "      <th>2</th>\n",
       "      <td>Porto Alegre</td>\n",
       "      <td>80</td>\n",
       "      <td>1</td>\n",
       "      <td>1</td>\n",
       "      <td>1</td>\n",
       "      <td>6</td>\n",
       "      <td>acept</td>\n",
       "      <td>not furnished</td>\n",
       "      <td>1000</td>\n",
       "      <td>2800</td>\n",
       "      <td>0</td>\n",
       "      <td>41</td>\n",
       "      <td>3841</td>\n",
       "    </tr>\n",
       "    <tr>\n",
       "      <th>3</th>\n",
       "      <td>Porto Alegre</td>\n",
       "      <td>51</td>\n",
       "      <td>2</td>\n",
       "      <td>1</td>\n",
       "      <td>0</td>\n",
       "      <td>2</td>\n",
       "      <td>acept</td>\n",
       "      <td>not furnished</td>\n",
       "      <td>270</td>\n",
       "      <td>1112</td>\n",
       "      <td>22</td>\n",
       "      <td>17</td>\n",
       "      <td>1421</td>\n",
       "    </tr>\n",
       "    <tr>\n",
       "      <th>4</th>\n",
       "      <td>São Paulo</td>\n",
       "      <td>25</td>\n",
       "      <td>1</td>\n",
       "      <td>1</td>\n",
       "      <td>0</td>\n",
       "      <td>1</td>\n",
       "      <td>not acept</td>\n",
       "      <td>not furnished</td>\n",
       "      <td>0</td>\n",
       "      <td>800</td>\n",
       "      <td>25</td>\n",
       "      <td>11</td>\n",
       "      <td>836</td>\n",
       "    </tr>\n",
       "  </tbody>\n",
       "</table>\n",
       "</div>"
      ],
      "text/plain": [
       "           city  area  rooms  bathroom  parking spaces floor     animal  \\\n",
       "0     São Paulo    70      2         1               1     7      acept   \n",
       "1     São Paulo   320      4         4               0    20      acept   \n",
       "2  Porto Alegre    80      1         1               1     6      acept   \n",
       "3  Porto Alegre    51      2         1               0     2      acept   \n",
       "4     São Paulo    25      1         1               0     1  not acept   \n",
       "\n",
       "       furniture  hoa (R$)  rent amount (R$)  property tax (R$)  \\\n",
       "0      furnished      2065              3300                211   \n",
       "1  not furnished      1200              4960               1750   \n",
       "2  not furnished      1000              2800                  0   \n",
       "3  not furnished       270              1112                 22   \n",
       "4  not furnished         0               800                 25   \n",
       "\n",
       "   fire insurance (R$)  total (R$)  \n",
       "0                   42        5618  \n",
       "1                   63        7973  \n",
       "2                   41        3841  \n",
       "3                   17        1421  \n",
       "4                   11         836  "
      ]
     },
     "execution_count": 48,
     "metadata": {},
     "output_type": "execute_result"
    }
   ],
   "source": [
    "df.head()"
   ]
  },
  {
   "cell_type": "code",
   "execution_count": 49,
   "id": "28cc0529",
   "metadata": {},
   "outputs": [
    {
     "data": {
      "text/html": [
       "<div>\n",
       "<style scoped>\n",
       "    .dataframe tbody tr th:only-of-type {\n",
       "        vertical-align: middle;\n",
       "    }\n",
       "\n",
       "    .dataframe tbody tr th {\n",
       "        vertical-align: top;\n",
       "    }\n",
       "\n",
       "    .dataframe thead th {\n",
       "        text-align: right;\n",
       "    }\n",
       "</style>\n",
       "<table border=\"1\" class=\"dataframe\">\n",
       "  <thead>\n",
       "    <tr style=\"text-align: right;\">\n",
       "      <th></th>\n",
       "      <th>city</th>\n",
       "      <th>area</th>\n",
       "      <th>rooms</th>\n",
       "      <th>bathroom</th>\n",
       "      <th>parking spaces</th>\n",
       "      <th>floor</th>\n",
       "      <th>animal</th>\n",
       "      <th>furniture</th>\n",
       "      <th>hoa (R$)</th>\n",
       "      <th>rent amount (R$)</th>\n",
       "      <th>property tax (R$)</th>\n",
       "      <th>fire insurance (R$)</th>\n",
       "      <th>total (R$)</th>\n",
       "    </tr>\n",
       "  </thead>\n",
       "  <tbody>\n",
       "    <tr>\n",
       "      <th>10687</th>\n",
       "      <td>Porto Alegre</td>\n",
       "      <td>63</td>\n",
       "      <td>2</td>\n",
       "      <td>1</td>\n",
       "      <td>1</td>\n",
       "      <td>5</td>\n",
       "      <td>not acept</td>\n",
       "      <td>furnished</td>\n",
       "      <td>402</td>\n",
       "      <td>1478</td>\n",
       "      <td>24</td>\n",
       "      <td>22</td>\n",
       "      <td>1926</td>\n",
       "    </tr>\n",
       "    <tr>\n",
       "      <th>10688</th>\n",
       "      <td>São Paulo</td>\n",
       "      <td>285</td>\n",
       "      <td>4</td>\n",
       "      <td>4</td>\n",
       "      <td>4</td>\n",
       "      <td>17</td>\n",
       "      <td>acept</td>\n",
       "      <td>not furnished</td>\n",
       "      <td>3100</td>\n",
       "      <td>15000</td>\n",
       "      <td>973</td>\n",
       "      <td>191</td>\n",
       "      <td>19260</td>\n",
       "    </tr>\n",
       "    <tr>\n",
       "      <th>10689</th>\n",
       "      <td>Rio de Janeiro</td>\n",
       "      <td>70</td>\n",
       "      <td>3</td>\n",
       "      <td>3</td>\n",
       "      <td>0</td>\n",
       "      <td>8</td>\n",
       "      <td>not acept</td>\n",
       "      <td>furnished</td>\n",
       "      <td>980</td>\n",
       "      <td>6000</td>\n",
       "      <td>332</td>\n",
       "      <td>78</td>\n",
       "      <td>7390</td>\n",
       "    </tr>\n",
       "    <tr>\n",
       "      <th>10690</th>\n",
       "      <td>Rio de Janeiro</td>\n",
       "      <td>120</td>\n",
       "      <td>2</td>\n",
       "      <td>2</td>\n",
       "      <td>2</td>\n",
       "      <td>8</td>\n",
       "      <td>acept</td>\n",
       "      <td>furnished</td>\n",
       "      <td>1585</td>\n",
       "      <td>12000</td>\n",
       "      <td>279</td>\n",
       "      <td>155</td>\n",
       "      <td>14020</td>\n",
       "    </tr>\n",
       "    <tr>\n",
       "      <th>10691</th>\n",
       "      <td>São Paulo</td>\n",
       "      <td>80</td>\n",
       "      <td>2</td>\n",
       "      <td>1</td>\n",
       "      <td>0</td>\n",
       "      <td>-</td>\n",
       "      <td>acept</td>\n",
       "      <td>not furnished</td>\n",
       "      <td>0</td>\n",
       "      <td>1400</td>\n",
       "      <td>165</td>\n",
       "      <td>22</td>\n",
       "      <td>1587</td>\n",
       "    </tr>\n",
       "  </tbody>\n",
       "</table>\n",
       "</div>"
      ],
      "text/plain": [
       "                 city  area  rooms  bathroom  parking spaces floor     animal  \\\n",
       "10687    Porto Alegre    63      2         1               1     5  not acept   \n",
       "10688       São Paulo   285      4         4               4    17      acept   \n",
       "10689  Rio de Janeiro    70      3         3               0     8  not acept   \n",
       "10690  Rio de Janeiro   120      2         2               2     8      acept   \n",
       "10691       São Paulo    80      2         1               0     -      acept   \n",
       "\n",
       "           furniture  hoa (R$)  rent amount (R$)  property tax (R$)  \\\n",
       "10687      furnished       402              1478                 24   \n",
       "10688  not furnished      3100             15000                973   \n",
       "10689      furnished       980              6000                332   \n",
       "10690      furnished      1585             12000                279   \n",
       "10691  not furnished         0              1400                165   \n",
       "\n",
       "       fire insurance (R$)  total (R$)  \n",
       "10687                   22        1926  \n",
       "10688                  191       19260  \n",
       "10689                   78        7390  \n",
       "10690                  155       14020  \n",
       "10691                   22        1587  "
      ]
     },
     "execution_count": 49,
     "metadata": {},
     "output_type": "execute_result"
    }
   ],
   "source": [
    "df.tail()"
   ]
  },
  {
   "cell_type": "code",
   "execution_count": 50,
   "id": "d78a08aa",
   "metadata": {},
   "outputs": [],
   "source": [
    "import matplotlib.pyplot as plt"
   ]
  },
  {
   "cell_type": "code",
   "execution_count": 51,
   "id": "d5e507ec",
   "metadata": {},
   "outputs": [
    {
     "name": "stdout",
     "output_type": "stream",
     "text": [
      "<class 'pandas.core.frame.DataFrame'>\n",
      "RangeIndex: 10692 entries, 0 to 10691\n",
      "Data columns (total 13 columns):\n",
      " #   Column               Non-Null Count  Dtype \n",
      "---  ------               --------------  ----- \n",
      " 0   city                 10692 non-null  object\n",
      " 1   area                 10692 non-null  int64 \n",
      " 2   rooms                10692 non-null  int64 \n",
      " 3   bathroom             10692 non-null  int64 \n",
      " 4   parking spaces       10692 non-null  int64 \n",
      " 5   floor                10692 non-null  object\n",
      " 6   animal               10692 non-null  object\n",
      " 7   furniture            10692 non-null  object\n",
      " 8   hoa (R$)             10692 non-null  int64 \n",
      " 9   rent amount (R$)     10692 non-null  int64 \n",
      " 10  property tax (R$)    10692 non-null  int64 \n",
      " 11  fire insurance (R$)  10692 non-null  int64 \n",
      " 12  total (R$)           10692 non-null  int64 \n",
      "dtypes: int64(9), object(4)\n",
      "memory usage: 1.1+ MB\n"
     ]
    }
   ],
   "source": [
    "df.info()"
   ]
  },
  {
   "cell_type": "code",
   "execution_count": 52,
   "id": "dd3911a5",
   "metadata": {
    "scrolled": false
   },
   "outputs": [
    {
     "data": {
      "text/html": [
       "<div>\n",
       "<style scoped>\n",
       "    .dataframe tbody tr th:only-of-type {\n",
       "        vertical-align: middle;\n",
       "    }\n",
       "\n",
       "    .dataframe tbody tr th {\n",
       "        vertical-align: top;\n",
       "    }\n",
       "\n",
       "    .dataframe thead th {\n",
       "        text-align: right;\n",
       "    }\n",
       "</style>\n",
       "<table border=\"1\" class=\"dataframe\">\n",
       "  <thead>\n",
       "    <tr style=\"text-align: right;\">\n",
       "      <th></th>\n",
       "      <th>area</th>\n",
       "      <th>rooms</th>\n",
       "      <th>bathroom</th>\n",
       "      <th>parking spaces</th>\n",
       "      <th>hoa (R$)</th>\n",
       "      <th>rent amount (R$)</th>\n",
       "      <th>property tax (R$)</th>\n",
       "      <th>fire insurance (R$)</th>\n",
       "      <th>total (R$)</th>\n",
       "    </tr>\n",
       "  </thead>\n",
       "  <tbody>\n",
       "    <tr>\n",
       "      <th>count</th>\n",
       "      <td>10692.000000</td>\n",
       "      <td>10692.000000</td>\n",
       "      <td>10692.000000</td>\n",
       "      <td>10692.000000</td>\n",
       "      <td>1.069200e+04</td>\n",
       "      <td>10692.000000</td>\n",
       "      <td>10692.000000</td>\n",
       "      <td>10692.000000</td>\n",
       "      <td>1.069200e+04</td>\n",
       "    </tr>\n",
       "    <tr>\n",
       "      <th>mean</th>\n",
       "      <td>149.217920</td>\n",
       "      <td>2.506079</td>\n",
       "      <td>2.236813</td>\n",
       "      <td>1.609147</td>\n",
       "      <td>1.174022e+03</td>\n",
       "      <td>3896.247194</td>\n",
       "      <td>366.704358</td>\n",
       "      <td>53.300879</td>\n",
       "      <td>5.490487e+03</td>\n",
       "    </tr>\n",
       "    <tr>\n",
       "      <th>std</th>\n",
       "      <td>537.016942</td>\n",
       "      <td>1.171266</td>\n",
       "      <td>1.407198</td>\n",
       "      <td>1.589521</td>\n",
       "      <td>1.559231e+04</td>\n",
       "      <td>3408.545518</td>\n",
       "      <td>3107.832321</td>\n",
       "      <td>47.768031</td>\n",
       "      <td>1.648473e+04</td>\n",
       "    </tr>\n",
       "    <tr>\n",
       "      <th>min</th>\n",
       "      <td>11.000000</td>\n",
       "      <td>1.000000</td>\n",
       "      <td>1.000000</td>\n",
       "      <td>0.000000</td>\n",
       "      <td>0.000000e+00</td>\n",
       "      <td>450.000000</td>\n",
       "      <td>0.000000</td>\n",
       "      <td>3.000000</td>\n",
       "      <td>4.990000e+02</td>\n",
       "    </tr>\n",
       "    <tr>\n",
       "      <th>25%</th>\n",
       "      <td>56.000000</td>\n",
       "      <td>2.000000</td>\n",
       "      <td>1.000000</td>\n",
       "      <td>0.000000</td>\n",
       "      <td>1.700000e+02</td>\n",
       "      <td>1530.000000</td>\n",
       "      <td>38.000000</td>\n",
       "      <td>21.000000</td>\n",
       "      <td>2.061750e+03</td>\n",
       "    </tr>\n",
       "    <tr>\n",
       "      <th>50%</th>\n",
       "      <td>90.000000</td>\n",
       "      <td>2.000000</td>\n",
       "      <td>2.000000</td>\n",
       "      <td>1.000000</td>\n",
       "      <td>5.600000e+02</td>\n",
       "      <td>2661.000000</td>\n",
       "      <td>125.000000</td>\n",
       "      <td>36.000000</td>\n",
       "      <td>3.581500e+03</td>\n",
       "    </tr>\n",
       "    <tr>\n",
       "      <th>75%</th>\n",
       "      <td>182.000000</td>\n",
       "      <td>3.000000</td>\n",
       "      <td>3.000000</td>\n",
       "      <td>2.000000</td>\n",
       "      <td>1.237500e+03</td>\n",
       "      <td>5000.000000</td>\n",
       "      <td>375.000000</td>\n",
       "      <td>68.000000</td>\n",
       "      <td>6.768000e+03</td>\n",
       "    </tr>\n",
       "    <tr>\n",
       "      <th>max</th>\n",
       "      <td>46335.000000</td>\n",
       "      <td>13.000000</td>\n",
       "      <td>10.000000</td>\n",
       "      <td>12.000000</td>\n",
       "      <td>1.117000e+06</td>\n",
       "      <td>45000.000000</td>\n",
       "      <td>313700.000000</td>\n",
       "      <td>677.000000</td>\n",
       "      <td>1.120000e+06</td>\n",
       "    </tr>\n",
       "  </tbody>\n",
       "</table>\n",
       "</div>"
      ],
      "text/plain": [
       "               area         rooms      bathroom  parking spaces      hoa (R$)  \\\n",
       "count  10692.000000  10692.000000  10692.000000    10692.000000  1.069200e+04   \n",
       "mean     149.217920      2.506079      2.236813        1.609147  1.174022e+03   \n",
       "std      537.016942      1.171266      1.407198        1.589521  1.559231e+04   \n",
       "min       11.000000      1.000000      1.000000        0.000000  0.000000e+00   \n",
       "25%       56.000000      2.000000      1.000000        0.000000  1.700000e+02   \n",
       "50%       90.000000      2.000000      2.000000        1.000000  5.600000e+02   \n",
       "75%      182.000000      3.000000      3.000000        2.000000  1.237500e+03   \n",
       "max    46335.000000     13.000000     10.000000       12.000000  1.117000e+06   \n",
       "\n",
       "       rent amount (R$)  property tax (R$)  fire insurance (R$)    total (R$)  \n",
       "count      10692.000000       10692.000000         10692.000000  1.069200e+04  \n",
       "mean        3896.247194         366.704358            53.300879  5.490487e+03  \n",
       "std         3408.545518        3107.832321            47.768031  1.648473e+04  \n",
       "min          450.000000           0.000000             3.000000  4.990000e+02  \n",
       "25%         1530.000000          38.000000            21.000000  2.061750e+03  \n",
       "50%         2661.000000         125.000000            36.000000  3.581500e+03  \n",
       "75%         5000.000000         375.000000            68.000000  6.768000e+03  \n",
       "max        45000.000000      313700.000000           677.000000  1.120000e+06  "
      ]
     },
     "execution_count": 52,
     "metadata": {},
     "output_type": "execute_result"
    }
   ],
   "source": [
    "df.describe()"
   ]
  },
  {
   "cell_type": "code",
   "execution_count": 53,
   "id": "74ae69a2",
   "metadata": {},
   "outputs": [],
   "source": [
    "city1_room=[]\n",
    "city2_room=[]\n",
    "city3_room=[]\n",
    "city4_room=[]\n",
    "city5_room=[]"
   ]
  },
  {
   "cell_type": "code",
   "execution_count": 54,
   "id": "f7f84495",
   "metadata": {},
   "outputs": [],
   "source": [
    "for index, row in df.iterrows() :\n",
    "    if row['city']=='Belo Horizonte':\n",
    "        city1_room.append(row['rooms'])\n",
    "    elif row['city']=='Campinas':\n",
    "        city2_room.append(row['rooms'])\n",
    "    elif row['city']=='Porto Alegre':\n",
    "        city3_room.append(row['rooms'])\n",
    "    elif row['city']=='Rio de Janeiro':\n",
    "        city4_room.append(row['rooms'])\n",
    "    elif row['city']=='São Paulo':\n",
    "        city5_room.append(row['rooms'])\n",
    "mean_rooms1=sum(city1_room)/len(city1_room)\n",
    "mean_rooms2=sum(city2_room)/len(city2_room)\n",
    "mean_rooms3=sum(city3_room)/len(city3_room)\n",
    "mean_rooms4=sum(city4_room)/len(city4_room)\n",
    "mean_rooms5=sum(city5_room)/len(city5_room)\n",
    "list_meanrooms=[mean_rooms1,mean_rooms2,mean_rooms3,mean_rooms4,mean_rooms5]\n",
    "list_city=['Belo Horizonte','Campinas','Porto Alegre','Rio de Janeiro','São Paulo']"
   ]
  },
  {
   "cell_type": "code",
   "execution_count": 55,
   "id": "4771f894",
   "metadata": {},
   "outputs": [
    {
     "data": {
      "image/png": "[encoded data removed]",
      "text/plain": [
       "<Figure size 432x288 with 1 Axes>"
      ]
     },
     "metadata": {
      "needs_background": "light"
     },
     "output_type": "display_data"
    }
   ],
   "source": [
    "plt.bar(list_city,list_meanrooms, color ='maroon',width = 0.4)\n",
    " \n",
    "plt.xlabel(\"CITY-->\")\n",
    "plt.ylabel(\"mean number of rooms-->\")\n",
    "plt.title(\"plot of mean number of rooms with city\")\n",
    "plt.show()"
   ]
  },
  {
   "cell_type": "code",
   "execution_count": 56,
   "id": "645afe18",
   "metadata": {},
   "outputs": [],
   "source": [
    "city1_rent=[]\n",
    "city2_rent=[]\n",
    "city3_rent=[]\n",
    "city4_rent=[]\n",
    "city5_rent=[]"
   ]
  },
  {
   "cell_type": "code",
   "execution_count": 57,
   "id": "cdd74de0",
   "metadata": {},
   "outputs": [],
   "source": [
    "for index, row in df.iterrows() :\n",
    "    if row['city']=='Belo Horizonte':\n",
    "        city1_rent.append(row['rent amount (R$)'])\n",
    "    elif row['city']=='Campinas':\n",
    "        city2_rent.append(row['rent amount (R$)'])\n",
    "    elif row['city']=='Porto Alegre':\n",
    "        city3_rent.append(row['rent amount (R$)'])\n",
    "    elif row['city']=='Rio de Janeiro':\n",
    "        city4_rent.append(row['rent amount (R$)'])\n",
    "    elif row['city']=='São Paulo':\n",
    "        city5_rent.append(row['rent amount (R$)'])\n"
   ]
  },
  {
   "cell_type": "code",
   "execution_count": 58,
   "id": "d4d56829",
   "metadata": {},
   "outputs": [],
   "source": [
    "mean_rent1=sum(city1_rent)/len(city1_rent)\n",
    "mean_rent2=sum(city2_rent)/len(city2_rent)\n",
    "mean_rent3=sum(city3_rent)/len(city3_rent)\n",
    "mean_rent4=sum(city4_rent)/len(city4_rent)\n",
    "mean_rent5=sum(city5_rent)/len(city5_rent)\n",
    "list_meanrent=[mean_rent1,mean_rent2,mean_rent3,mean_rent4,mean_rent5]\n"
   ]
  },
  {
   "cell_type": "code",
   "execution_count": 59,
   "id": "c073ad54",
   "metadata": {},
   "outputs": [
    {
     "data": {
      "image/png": "[encoded data removed]",
      "text/plain": [
       "<Figure size 432x288 with 1 Axes>"
      ]
     },
     "metadata": {
      "needs_background": "light"
     },
     "output_type": "display_data"
    }
   ],
   "source": [
    "plt.bar(list_city,list_meanrent, color ='blue',width = 0.4)\n",
    " \n",
    "plt.xlabel(\"CITY-->\")\n",
    "plt.ylabel(\"mean rent (R$)-->\")\n",
    "plt.title(\"plot of mean rent with city\")\n",
    "plt.show()"
   ]
  },
  {
   "cell_type": "code",
   "execution_count": 60,
   "id": "20b43416",
   "metadata": {},
   "outputs": [],
   "source": [
    "city1_area=[]\n",
    "city2_area=[]\n",
    "city3_area=[]\n",
    "city4_area=[]\n",
    "city5_area=[]"
   ]
  },
  {
   "cell_type": "code",
   "execution_count": 61,
   "id": "6d19ca52",
   "metadata": {},
   "outputs": [],
   "source": [
    "for index, row in df.iterrows() :\n",
    "    if row['city']=='Belo Horizonte':\n",
    "        city1_area.append(row['area'])\n",
    "    elif row['city']=='Campinas':\n",
    "        city2_area.append(row['area'])\n",
    "    elif row['city']=='Porto Alegre':\n",
    "        city3_area.append(row['area'])\n",
    "    elif row['city']=='Rio de Janeiro':\n",
    "        city4_area.append(row['area'])\n",
    "    elif row['city']=='São Paulo':\n",
    "        city5_area.append(row['area'])\n",
    "\n",
    "mean_area1=sum(city1_area)/len(city1_area)\n",
    "mean_area2=sum(city2_area)/len(city2_area)\n",
    "mean_area3=sum(city3_area)/len(city3_area)\n",
    "mean_area4=sum(city4_area)/len(city4_area)\n",
    "mean_area5=sum(city5_area)/len(city5_area)\n",
    "list_meanarea=[mean_area1,mean_area2,mean_area3,mean_area4,mean_area5]\n"
   ]
  },
  {
   "cell_type": "code",
   "execution_count": 62,
   "id": "0923509d",
   "metadata": {},
   "outputs": [
    {
     "data": {
      "image/png": "[encoded data removed]",
      "text/plain": [
       "<Figure size 432x288 with 1 Axes>"
      ]
     },
     "metadata": {
      "needs_background": "light"
     },
     "output_type": "display_data"
    }
   ],
   "source": [
    "plt.bar(list_city,list_meanarea, color ='red',width = 0.4)\n",
    " \n",
    "plt.xlabel(\"CITY-->\")\n",
    "plt.ylabel(\"mean area-->\")\n",
    "plt.title(\"plot of mean area with city\")\n",
    "plt.show()"
   ]
  },
  {
   "cell_type": "code",
   "execution_count": 63,
   "id": "63821c75",
   "metadata": {},
   "outputs": [],
   "source": [
    "city1_floor=[]\n",
    "city2_floor=[]\n",
    "city3_floor=[]\n",
    "city4_floor=[]\n",
    "city5_floor=[]"
   ]
  },
  {
   "cell_type": "code",
   "execution_count": 64,
   "id": "4e1df8c7",
   "metadata": {},
   "outputs": [],
   "source": [
    "for index, row in df.iterrows() :\n",
    "    if row['city']=='Belo Horizonte':\n",
    "        if row['floor']!='-':\n",
    "            city1_floor.append(int(row['floor']))\n",
    "    elif row['city']=='Campinas':\n",
    "        if row['floor']!='-':\n",
    "            city2_floor.append(int(row['floor']))\n",
    "    elif row['city']=='Porto Alegre':\n",
    "        if row['floor']!='-':\n",
    "            city3_floor.append(int(row['floor']))\n",
    "    elif row['city']=='Rio de Janeiro':\n",
    "        if row['floor']!='-':\n",
    "            city4_floor.append(int(row['floor']))\n",
    "    elif row['city']=='São Paulo':\n",
    "        if row['floor']!='-':\n",
    "            city5_floor.append(int(row['floor']))\n",
    "    "
   ]
  },
  {
   "cell_type": "code",
   "execution_count": 20,
   "id": "f580793f",
   "metadata": {},
   "outputs": [],
   "source": [
    "mean_floor1=sum(city1_floor)/len(city1_floor)\n",
    "mean_floor2=sum(city2_floor)/len(city2_floor)\n",
    "mean_floor3=sum(city3_floor)/len(city3_floor)\n",
    "mean_floor4=sum(city4_floor)/len(city4_floor)\n",
    "mean_floor5=sum(city5_floor)/len(city5_floor)\n",
    "list_meanfloor=[mean_floor1,mean_floor2,mean_floor3,mean_floor4,mean_floor5]"
   ]
  },
  {
   "cell_type": "code",
   "execution_count": 21,
   "id": "dcdc5656",
   "metadata": {},
   "outputs": [
    {
     "data": {
      "image/png": "[encoded data removed]",
      "text/plain": [
       "<Figure size 432x288 with 1 Axes>"
      ]
     },
     "metadata": {
      "needs_background": "light"
     },
     "output_type": "display_data"
    }
   ],
   "source": [
    "plt.bar(list_city,list_meanfloor, color ='brown',width = 0.4)\n",
    " \n",
    "plt.xlabel(\"CITY-->\")\n",
    "plt.ylabel(\"mean floor-->\")\n",
    "plt.title(\"plot of mean floor with city\")\n",
    "plt.show()"
   ]
  },
  {
   "cell_type": "code",
   "execution_count": 22,
   "id": "ec4294c2",
   "metadata": {},
   "outputs": [
    {
     "data": {
      "text/plain": [
       "Text(0.5, 1.0, '2d Diagram')"
      ]
     },
     "execution_count": 22,
     "metadata": {},
     "output_type": "execute_result"
    },
    {
     "data": {
      "image/png": "[encoded data removed]",
      "text/plain": [
       "<Figure size 432x288 with 1 Axes>"
      ]
     },
     "metadata": {
      "needs_background": "light"
     },
     "output_type": "display_data"
    }
   ],
   "source": [
    "plt.plot(df.loc[:,'rooms'],df.loc[:,'hoa (R$)'],linestyle='dashed',linewidth=2, markersize=12)\n",
    "plt.xlabel('rooms')\n",
    "plt.ylabel('hoa')\n",
    "plt.title('2d Diagram')"
   ]
  },
  {
   "cell_type": "code",
   "execution_count": 23,
   "id": "a51ab348",
   "metadata": {},
   "outputs": [
    {
     "data": {
      "text/plain": [
       "'this means that hoa does not depend on no of rooms '"
      ]
     },
     "execution_count": 23,
     "metadata": {},
     "output_type": "execute_result"
    }
   ],
   "source": [
    "'''this means that hoa does not depend on no of rooms '''"
   ]
  },
  {
   "cell_type": "code",
   "execution_count": 24,
   "id": "990b455c",
   "metadata": {},
   "outputs": [
    {
     "data": {
      "text/plain": [
       "Text(0.5, 1.0, '2d Diagram')"
      ]
     },
     "execution_count": 24,
     "metadata": {},
     "output_type": "execute_result"
    },
    {
     "data": {
      "image/png": "[encoded data removed]",
      "text/plain": [
       "<Figure size 432x288 with 1 Axes>"
      ]
     },
     "metadata": {
      "needs_background": "light"
     },
     "output_type": "display_data"
    }
   ],
   "source": [
    "plt.plot(df.loc[:,'floor'],df.loc[:,'hoa (R$)'],linestyle='dashed',linewidth=2, markersize=12)\n",
    "plt.xlabel('floor')\n",
    "plt.ylabel('hoa')\n",
    "plt.title('2d Diagram')"
   ]
  },
  {
   "cell_type": "code",
   "execution_count": 25,
   "id": "7960fea7",
   "metadata": {},
   "outputs": [
    {
     "data": {
      "text/plain": [
       "Text(0.5, 1.0, '2d Diagram')"
      ]
     },
     "execution_count": 25,
     "metadata": {},
     "output_type": "execute_result"
    },
    {
     "data": {
      "image/png": "[encoded data removed]",
      "text/plain": [
       "<Figure size 432x288 with 1 Axes>"
      ]
     },
     "metadata": {
      "needs_background": "light"
     },
     "output_type": "display_data"
    }
   ],
   "source": [
    "plt.plot(df.loc[:,'area'],df.loc[:,'hoa (R$)'],'r*',linestyle='dashed',linewidth=2, markersize=12)\n",
    "plt.xlabel('rooms')\n",
    "plt.ylabel('hoa')\n",
    "plt.title('2d Diagram')"
   ]
  },
  {
   "cell_type": "code",
   "execution_count": 26,
   "id": "529d26c7",
   "metadata": {},
   "outputs": [
    {
     "data": {
      "image/png": "[encoded data removed]",
      "text/plain": [
       "<Figure size 432x288 with 1 Axes>"
      ]
     },
     "metadata": {
      "needs_background": "light"
     },
     "output_type": "display_data"
    }
   ],
   "source": [
    "plt.plot(df.loc[:,'parking spaces'],df.loc[:,'hoa (R$)'],'r*',linestyle='dashed',linewidth=2, markersize=12)\n",
    "plt.xlabel('parking spaces')\n",
    "plt.ylabel('hoa')\n",
    "plt.title('2d Diagram')\n",
    "plt.show()\n"
   ]
  },
  {
   "cell_type": "code",
   "execution_count": 27,
   "id": "c350f6e7",
   "metadata": {},
   "outputs": [
    {
     "data": {
      "text/html": [
       "<div>\n",
       "<style scoped>\n",
       "    .dataframe tbody tr th:only-of-type {\n",
       "        vertical-align: middle;\n",
       "    }\n",
       "\n",
       "    .dataframe tbody tr th {\n",
       "        vertical-align: top;\n",
       "    }\n",
       "\n",
       "    .dataframe thead th {\n",
       "        text-align: right;\n",
       "    }\n",
       "</style>\n",
       "<table border=\"1\" class=\"dataframe\">\n",
       "  <thead>\n",
       "    <tr style=\"text-align: right;\">\n",
       "      <th></th>\n",
       "      <th>area</th>\n",
       "      <th>rooms</th>\n",
       "      <th>bathroom</th>\n",
       "      <th>parking spaces</th>\n",
       "      <th>hoa (R$)</th>\n",
       "      <th>rent amount (R$)</th>\n",
       "      <th>property tax (R$)</th>\n",
       "      <th>fire insurance (R$)</th>\n",
       "      <th>total (R$)</th>\n",
       "    </tr>\n",
       "    <tr>\n",
       "      <th>furniture</th>\n",
       "      <th></th>\n",
       "      <th></th>\n",
       "      <th></th>\n",
       "      <th></th>\n",
       "      <th></th>\n",
       "      <th></th>\n",
       "      <th></th>\n",
       "      <th></th>\n",
       "      <th></th>\n",
       "    </tr>\n",
       "  </thead>\n",
       "  <tbody>\n",
       "    <tr>\n",
       "      <th>furnished</th>\n",
       "      <td>156.950883</td>\n",
       "      <td>2.339601</td>\n",
       "      <td>2.281274</td>\n",
       "      <td>1.595932</td>\n",
       "      <td>1267.761704</td>\n",
       "      <td>4882.28703</td>\n",
       "      <td>372.097467</td>\n",
       "      <td>65.229087</td>\n",
       "      <td>6587.506907</td>\n",
       "    </tr>\n",
       "    <tr>\n",
       "      <th>not furnished</th>\n",
       "      <td>146.725699</td>\n",
       "      <td>2.559733</td>\n",
       "      <td>2.222483</td>\n",
       "      <td>1.613406</td>\n",
       "      <td>1143.810660</td>\n",
       "      <td>3578.46092</td>\n",
       "      <td>364.966238</td>\n",
       "      <td>49.456592</td>\n",
       "      <td>5136.933465</td>\n",
       "    </tr>\n",
       "  </tbody>\n",
       "</table>\n",
       "</div>"
      ],
      "text/plain": [
       "                     area     rooms  bathroom  parking spaces     hoa (R$)  \\\n",
       "furniture                                                                    \n",
       "furnished      156.950883  2.339601  2.281274        1.595932  1267.761704   \n",
       "not furnished  146.725699  2.559733  2.222483        1.613406  1143.810660   \n",
       "\n",
       "               rent amount (R$)  property tax (R$)  fire insurance (R$)  \\\n",
       "furniture                                                                 \n",
       "furnished            4882.28703         372.097467            65.229087   \n",
       "not furnished        3578.46092         364.966238            49.456592   \n",
       "\n",
       "                total (R$)  \n",
       "furniture                   \n",
       "furnished      6587.506907  \n",
       "not furnished  5136.933465  "
      ]
     },
     "execution_count": 27,
     "metadata": {},
     "output_type": "execute_result"
    }
   ],
   "source": [
    "df_furniture = df.groupby(\"furniture\").agg(np.mean)\n",
    "df_furniture\n",
    "                                     "
   ]
  },
  {
   "cell_type": "code",
   "execution_count": 28,
   "id": "31bb7976",
   "metadata": {},
   "outputs": [
    {
     "data": {
      "text/plain": [
       "<AxesSubplot:title={'center':'hoa'}, ylabel='furniture'>"
      ]
     },
     "execution_count": 28,
     "metadata": {},
     "output_type": "execute_result"
    },
    {
     "data": {
      "image/png": "[encoded data removed]",
      "text/plain": [
       "<Figure size 432x288 with 1 Axes>"
      ]
     },
     "metadata": {
      "needs_background": "light"
     },
     "output_type": "display_data"
    }
   ],
   "source": [
    "hoa_mean=df_furniture['hoa (R$)']\n",
    "hoa_mean.plot(kind = \"barh\",  legend = False,\n",
    "            title = \"hoa\")"
   ]
  },
  {
   "cell_type": "code",
   "execution_count": 29,
   "id": "119b8465",
   "metadata": {},
   "outputs": [
    {
     "data": {
      "text/plain": [
       "Text(0.5, 1.0, '2d Diagram')"
      ]
     },
     "execution_count": 29,
     "metadata": {},
     "output_type": "execute_result"
    },
    {
     "data": {
      "image/png": "[encoded data removed]",
      "text/plain": [
       "<Figure size 432x288 with 1 Axes>"
      ]
     },
     "metadata": {
      "needs_background": "light"
     },
     "output_type": "display_data"
    }
   ],
   "source": [
    "plt.plot(df.loc[:,'rooms'],df.loc[:,'property tax (R$)'],linestyle='dashed',linewidth=2, markersize=12)\n",
    "plt.xlabel('rooms')\n",
    "plt.ylabel('property tax')\n",
    "plt.title('2d Diagram')"
   ]
  },
  {
   "cell_type": "code",
   "execution_count": 30,
   "id": "804218d0",
   "metadata": {},
   "outputs": [
    {
     "data": {
      "text/plain": [
       "Text(0.5, 1.0, '2d Diagram')"
      ]
     },
     "execution_count": 30,
     "metadata": {},
     "output_type": "execute_result"
    },
    {
     "data": {
      "image/png": "[encoded data removed]",
      "text/plain": [
       "<Figure size 432x288 with 1 Axes>"
      ]
     },
     "metadata": {
      "needs_background": "light"
     },
     "output_type": "display_data"
    }
   ],
   "source": [
    "plt.plot(df.loc[:,'area'],df.loc[:,'property tax (R$)'])\n",
    "plt.xlabel('area')\n",
    "plt.ylabel('property tax')\n",
    "plt.title('2d Diagram')"
   ]
  },
  {
   "cell_type": "code",
   "execution_count": 31,
   "id": "f88ed9be",
   "metadata": {},
   "outputs": [
    {
     "data": {
      "text/html": [
       "<div>\n",
       "<style scoped>\n",
       "    .dataframe tbody tr th:only-of-type {\n",
       "        vertical-align: middle;\n",
       "    }\n",
       "\n",
       "    .dataframe tbody tr th {\n",
       "        vertical-align: top;\n",
       "    }\n",
       "\n",
       "    .dataframe thead th {\n",
       "        text-align: right;\n",
       "    }\n",
       "</style>\n",
       "<table border=\"1\" class=\"dataframe\">\n",
       "  <thead>\n",
       "    <tr style=\"text-align: right;\">\n",
       "      <th></th>\n",
       "      <th>area</th>\n",
       "      <th>rooms</th>\n",
       "      <th>bathroom</th>\n",
       "      <th>parking spaces</th>\n",
       "      <th>hoa (R$)</th>\n",
       "      <th>rent amount (R$)</th>\n",
       "      <th>property tax (R$)</th>\n",
       "      <th>fire insurance (R$)</th>\n",
       "      <th>total (R$)</th>\n",
       "    </tr>\n",
       "    <tr>\n",
       "      <th>city</th>\n",
       "      <th></th>\n",
       "      <th></th>\n",
       "      <th></th>\n",
       "      <th></th>\n",
       "      <th></th>\n",
       "      <th></th>\n",
       "      <th></th>\n",
       "      <th></th>\n",
       "      <th></th>\n",
       "    </tr>\n",
       "  </thead>\n",
       "  <tbody>\n",
       "    <tr>\n",
       "      <th>Belo Horizonte</th>\n",
       "      <td>207.411765</td>\n",
       "      <td>3.020668</td>\n",
       "      <td>2.402226</td>\n",
       "      <td>1.955485</td>\n",
       "      <td>2324.197138</td>\n",
       "      <td>3664.127981</td>\n",
       "      <td>272.782194</td>\n",
       "      <td>53.675676</td>\n",
       "      <td>6315.242448</td>\n",
       "    </tr>\n",
       "    <tr>\n",
       "      <th>Campinas</th>\n",
       "      <td>137.561547</td>\n",
       "      <td>2.355217</td>\n",
       "      <td>1.960141</td>\n",
       "      <td>1.558030</td>\n",
       "      <td>628.922626</td>\n",
       "      <td>2364.290739</td>\n",
       "      <td>147.657679</td>\n",
       "      <td>32.388042</td>\n",
       "      <td>3173.276671</td>\n",
       "    </tr>\n",
       "    <tr>\n",
       "      <th>Porto Alegre</th>\n",
       "      <td>103.609388</td>\n",
       "      <td>2.140821</td>\n",
       "      <td>1.725901</td>\n",
       "      <td>1.044426</td>\n",
       "      <td>491.618609</td>\n",
       "      <td>2337.699916</td>\n",
       "      <td>124.021794</td>\n",
       "      <td>36.425817</td>\n",
       "      <td>2989.782900</td>\n",
       "    </tr>\n",
       "    <tr>\n",
       "      <th>Rio de Janeiro</th>\n",
       "      <td>105.347768</td>\n",
       "      <td>2.243837</td>\n",
       "      <td>1.756163</td>\n",
       "      <td>0.744171</td>\n",
       "      <td>1079.432378</td>\n",
       "      <td>3232.904064</td>\n",
       "      <td>256.853431</td>\n",
       "      <td>42.483011</td>\n",
       "      <td>4611.684877</td>\n",
       "    </tr>\n",
       "    <tr>\n",
       "      <th>São Paulo</th>\n",
       "      <td>158.899439</td>\n",
       "      <td>2.558859</td>\n",
       "      <td>2.467641</td>\n",
       "      <td>1.877527</td>\n",
       "      <td>1169.627994</td>\n",
       "      <td>4652.793783</td>\n",
       "      <td>495.701716</td>\n",
       "      <td>62.428911</td>\n",
       "      <td>6380.831833</td>\n",
       "    </tr>\n",
       "  </tbody>\n",
       "</table>\n",
       "</div>"
      ],
      "text/plain": [
       "                      area     rooms  bathroom  parking spaces     hoa (R$)  \\\n",
       "city                                                                          \n",
       "Belo Horizonte  207.411765  3.020668  2.402226        1.955485  2324.197138   \n",
       "Campinas        137.561547  2.355217  1.960141        1.558030   628.922626   \n",
       "Porto Alegre    103.609388  2.140821  1.725901        1.044426   491.618609   \n",
       "Rio de Janeiro  105.347768  2.243837  1.756163        0.744171  1079.432378   \n",
       "São Paulo       158.899439  2.558859  2.467641        1.877527  1169.627994   \n",
       "\n",
       "                rent amount (R$)  property tax (R$)  fire insurance (R$)  \\\n",
       "city                                                                       \n",
       "Belo Horizonte       3664.127981         272.782194            53.675676   \n",
       "Campinas             2364.290739         147.657679            32.388042   \n",
       "Porto Alegre         2337.699916         124.021794            36.425817   \n",
       "Rio de Janeiro       3232.904064         256.853431            42.483011   \n",
       "São Paulo            4652.793783         495.701716            62.428911   \n",
       "\n",
       "                 total (R$)  \n",
       "city                         \n",
       "Belo Horizonte  6315.242448  \n",
       "Campinas        3173.276671  \n",
       "Porto Alegre    2989.782900  \n",
       "Rio de Janeiro  4611.684877  \n",
       "São Paulo       6380.831833  "
      ]
     },
     "execution_count": 31,
     "metadata": {},
     "output_type": "execute_result"
    }
   ],
   "source": [
    "df_city= df.groupby(\"city\").agg(np.mean)\n",
    "df_city"
   ]
  },
  {
   "cell_type": "code",
   "execution_count": 32,
   "id": "4ad5b275",
   "metadata": {},
   "outputs": [
    {
     "data": {
      "text/plain": [
       "<AxesSubplot:title={'center':'property tax'}, ylabel='city'>"
      ]
     },
     "execution_count": 32,
     "metadata": {},
     "output_type": "execute_result"
    },
    {
     "data": {
      "image/png": "[encoded data removed]",
      "text/plain": [
       "<Figure size 432x288 with 1 Axes>"
      ]
     },
     "metadata": {
      "needs_background": "light"
     },
     "output_type": "display_data"
    }
   ],
   "source": [
    "city_pt_mean=df_city[\"property tax (R$)\"]\n",
    "city_pt_mean.plot(kind = \"barh\",  legend = False,\n",
    "            title = \"property tax\")\n"
   ]
  },
  {
   "cell_type": "code",
   "execution_count": 33,
   "id": "0e8f3bf4",
   "metadata": {},
   "outputs": [
    {
     "data": {
      "text/plain": [
       "<AxesSubplot:title={'center':'property tax'}, ylabel='furniture'>"
      ]
     },
     "execution_count": 33,
     "metadata": {},
     "output_type": "execute_result"
    },
    {
     "data": {
      "image/png": "[encoded data removed]",
      "text/plain": [
       "<Figure size 432x288 with 1 Axes>"
      ]
     },
     "metadata": {
      "needs_background": "light"
     },
     "output_type": "display_data"
    }
   ],
   "source": [
    "furniture_pt_mean=df_furniture['property tax (R$)']\n",
    "furniture_pt_mean.plot(kind='barh',legend=False, title='property tax')"
   ]
  },
  {
   "cell_type": "code",
   "execution_count": 34,
   "id": "140aa51d",
   "metadata": {},
   "outputs": [
    {
     "data": {
      "text/plain": [
       "'nearly same property tax for furnished and non furshied house'"
      ]
     },
     "execution_count": 34,
     "metadata": {},
     "output_type": "execute_result"
    }
   ],
   "source": [
    "'''nearly same property tax for furnished and non furshied house'''"
   ]
  },
  {
   "cell_type": "code",
   "execution_count": 35,
   "id": "1cd058af",
   "metadata": {},
   "outputs": [
    {
     "data": {
      "text/plain": [
       "<AxesSubplot:title={'center':'fire insurance'}, ylabel='furniture'>"
      ]
     },
     "execution_count": 35,
     "metadata": {},
     "output_type": "execute_result"
    },
    {
     "data": {
      "image/png": "[encoded data removed]",
      "text/plain": [
       "<Figure size 432x288 with 1 Axes>"
      ]
     },
     "metadata": {
      "needs_background": "light"
     },
     "output_type": "display_data"
    }
   ],
   "source": [
    "furniture_fi_mean=df_furniture['fire insurance (R$)']\n",
    "furniture_fi_mean.plot(kind='barh',legend=False, title='fire insurance')"
   ]
  },
  {
   "cell_type": "code",
   "execution_count": 36,
   "id": "a5dc3567",
   "metadata": {},
   "outputs": [
    {
     "data": {
      "image/png": "[encoded data removed]",
      "text/plain": [
       "<Figure size 432x288 with 1 Axes>"
      ]
     },
     "metadata": {
      "needs_background": "light"
     },
     "output_type": "display_data"
    }
   ],
   "source": [
    "plt.plot(df.loc[:,'rooms'],df.loc[:,'fire insurance (R$)'],linestyle='dashed',linewidth=2, markersize=12)\n",
    "plt.xlabel('rooms')\n",
    "plt.ylabel('fire insurance')\n",
    "plt.title('2d Diagram')\n",
    "plt.show()\n"
   ]
  },
  {
   "cell_type": "code",
   "execution_count": 37,
   "id": "79ee2dac",
   "metadata": {},
   "outputs": [
    {
     "data": {
      "text/plain": [
       "'fire insurance increasing with number of rooms'"
      ]
     },
     "execution_count": 37,
     "metadata": {},
     "output_type": "execute_result"
    }
   ],
   "source": [
    "'''fire insurance increasing with number of rooms'''"
   ]
  },
  {
   "cell_type": "code",
   "execution_count": 38,
   "id": "832b0cf9",
   "metadata": {},
   "outputs": [
    {
     "data": {
      "image/png": "[encoded data removed]",
      "text/plain": [
       "<Figure size 432x288 with 1 Axes>"
      ]
     },
     "metadata": {
      "needs_background": "light"
     },
     "output_type": "display_data"
    }
   ],
   "source": [
    "plt.plot(df.loc[:,'area'],df.loc[:,'fire insurance (R$)'],linestyle='dashed',linewidth=2, markersize=12)\n",
    "plt.xlabel('area')\n",
    "plt.ylabel('fire insurance')\n",
    "plt.title('2d Diagram')\n",
    "plt.show()\n"
   ]
  },
  {
   "cell_type": "code",
   "execution_count": 65,
   "id": "24427ef3",
   "metadata": {},
   "outputs": [
    {
     "data": {
      "image/png": "[encoded data removed]",
      "text/plain": [
       "<Figure size 432x288 with 1 Axes>"
      ]
     },
     "metadata": {
      "needs_background": "light"
     },
     "output_type": "display_data"
    }
   ],
   "source": [
    "plt.plot(df.loc[:,'bathroom'],df.loc[:,'fire insurance (R$)'],linestyle='dashed',linewidth=2, markersize=12)\n",
    "plt.xlabel('bathroom')\n",
    "plt.ylabel('fire insurance')\n",
    "plt.title('2d Diagram')\n",
    "plt.show()\n"
   ]
  }
 ],
 "metadata": {
  "kernelspec": {
   "display_name": "Python 3 (ipykernel)",
   "language": "python",
   "name": "python3"
  },
  "language_info": {
   "codemirror_mode": {
    "name": "ipython",
    "version": 3
   },
   "file_extension": ".py",
   "mimetype": "text/x-python",
   "name": "python",
   "nbconvert_exporter": "python",
   "pygments_lexer": "ipython3",
   "version": "3.10.4"
  }
 },
 "nbformat": 4,
 "nbformat_minor": 5
}
