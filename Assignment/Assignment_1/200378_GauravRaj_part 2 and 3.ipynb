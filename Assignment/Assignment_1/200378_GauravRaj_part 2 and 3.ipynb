{
 "cells": [
  {
   "cell_type": "code",
   "execution_count": 2,
   "id": "e102c1b4",
   "metadata": {},
   "outputs": [],
   "source": [
    "#importing the pandas library and reading the csv file into dataframe \n",
    "\n",
    "import pandas as pd \n",
    "\n",
    "df = pd.read_csv('C:\\\\Users\\\\gaura\\\\Downloads\\\\House_prediction.csv')"
   ]
  },
  {
   "cell_type": "code",
   "execution_count": 19,
   "id": "ce872691",
   "metadata": {},
   "outputs": [
    {
     "name": "stdout",
     "output_type": "stream",
     "text": [
      "                 city  area  rooms  bathroom  parking spaces floor     animal  \\\n",
      "0           São Paulo    70      2         1               1     7      acept   \n",
      "1           São Paulo   320      4         4               0    20      acept   \n",
      "2        Porto Alegre    80      1         1               1     6      acept   \n",
      "3        Porto Alegre    51      2         1               0     2      acept   \n",
      "4           São Paulo    25      1         1               0     1  not acept   \n",
      "...               ...   ...    ...       ...             ...   ...        ...   \n",
      "10687    Porto Alegre    63      2         1               1     5  not acept   \n",
      "10688       São Paulo   285      4         4               4    17      acept   \n",
      "10689  Rio de Janeiro    70      3         3               0     8  not acept   \n",
      "10690  Rio de Janeiro   120      2         2               2     8      acept   \n",
      "10691       São Paulo    80      2         1               0     -      acept   \n",
      "\n",
      "           furniture  hoa (R$)  rent amount (R$)  property tax (R$)  \\\n",
      "0          furnished      2065              3300                211   \n",
      "1      not furnished      1200              4960               1750   \n",
      "2      not furnished      1000              2800                  0   \n",
      "3      not furnished       270              1112                 22   \n",
      "4      not furnished         0               800                 25   \n",
      "...              ...       ...               ...                ...   \n",
      "10687      furnished       402              1478                 24   \n",
      "10688  not furnished      3100             15000                973   \n",
      "10689      furnished       980              6000                332   \n",
      "10690      furnished      1585             12000                279   \n",
      "10691  not furnished         0              1400                165   \n",
      "\n",
      "       fire insurance (R$)  total (R$)  \n",
      "0                       42        5618  \n",
      "1                       63        7973  \n",
      "2                       41        3841  \n",
      "3                       17        1421  \n",
      "4                       11         836  \n",
      "...                    ...         ...  \n",
      "10687                   22        1926  \n",
      "10688                  191       19260  \n",
      "10689                   78        7390  \n",
      "10690                  155       14020  \n",
      "10691                   22        1587  \n",
      "\n",
      "[10692 rows x 13 columns]\n",
      "0        1256.666667\n",
      "1        1808.222222\n",
      "2         862.777778\n",
      "3         321.777778\n",
      "4         188.777778\n",
      "            ...     \n",
      "10687     435.444444\n",
      "10688    4313.444444\n",
      "10689    1650.666667\n",
      "10690    3129.444444\n",
      "10691     361.888889\n",
      "Length: 10692, dtype: float64\n"
     ]
    }
   ],
   "source": [
    "print(df)\n",
    "\n",
    "av= df.mean(axis = 1)\n",
    "print(av)\n",
    "df2 = pd.DataFrame(av)"
   ]
  },
  {
   "cell_type": "code",
   "execution_count": 20,
   "id": "a20bbec2",
   "metadata": {},
   "outputs": [],
   "source": [
    "excol = df[\"city\"]\n",
    "df2 = df2.join(excol)\n"
   ]
  },
  {
   "cell_type": "code",
   "execution_count": 12,
   "id": "20c65286",
   "metadata": {},
   "outputs": [
    {
     "name": "stdout",
     "output_type": "stream",
     "text": [
      "                 0            city\n",
      "0      1256.666667       São Paulo\n",
      "1      1808.222222       São Paulo\n",
      "2       862.777778    Porto Alegre\n",
      "3       321.777778    Porto Alegre\n",
      "4       188.777778       São Paulo\n",
      "...            ...             ...\n",
      "10687   435.444444    Porto Alegre\n",
      "10688  4313.444444       São Paulo\n",
      "10689  1650.666667  Rio de Janeiro\n",
      "10690  3129.444444  Rio de Janeiro\n",
      "10691   361.888889       São Paulo\n",
      "\n",
      "[10692 rows x 2 columns]\n"
     ]
    }
   ],
   "source": [
    "print(df2)"
   ]
  },
  {
   "cell_type": "code",
   "execution_count": 8,
   "id": "c44ec023",
   "metadata": {},
   "outputs": [
    {
     "data": {
      "image/png": "[encoded data removed]",
      "text/plain": [
       "<Figure size 504x252 with 1 Axes>"
      ]
     },
     "metadata": {
      "needs_background": "light"
     },
     "output_type": "display_data"
    }
   ],
   "source": [
    "#importing matplotlib and using it to plot city vs various features \n",
    "\n",
    "from matplotlib import pyplot as plt\n",
    "plt.rcParams[\"figure.figsize\"] = [7.00, 3.50]\n",
    "plt.rcParams[\"figure.autolayout\"] = True\n",
    "columns = [\"City\", \"Area\"]\n",
    "\n",
    "\n",
    "plt.scatter(df.city, df.area)\n",
    "plt.show()"
   ]
  },
  {
   "cell_type": "code",
   "execution_count": 9,
   "id": "1f10c90b",
   "metadata": {},
   "outputs": [
    {
     "data": {
      "image/png": "[encoded data removed]",
      "text/plain": [
       "<Figure size 504x252 with 1 Axes>"
      ]
     },
     "metadata": {
      "needs_background": "light"
     },
     "output_type": "display_data"
    }
   ],
   "source": [
    "plt.rcParams[\"figure.figsize\"] = [7.00, 3.50]\n",
    "plt.rcParams[\"figure.autolayout\"] = True\n",
    "columns = [\"City\", \"rooms\"]\n",
    "\n",
    "\n",
    "plt.scatter(df.city, df.rooms)\n",
    "plt.show()"
   ]
  },
  {
   "cell_type": "code",
   "execution_count": 10,
   "id": "aabc7a87",
   "metadata": {},
   "outputs": [
    {
     "data": {
      "image/png": "[encoded data removed]",
      "text/plain": [
       "<Figure size 504x252 with 1 Axes>"
      ]
     },
     "metadata": {
      "needs_background": "light"
     },
     "output_type": "display_data"
    }
   ],
   "source": [
    "plt.rcParams[\"figure.figsize\"] = [7.00, 3.50]\n",
    "plt.rcParams[\"figure.autolayout\"] = True\n",
    "columns = [\"City\", \"floor\"]\n",
    "\n",
    "\n",
    "plt.scatter(df.city, df.floor)\n",
    "plt.show()"
   ]
  },
  {
   "cell_type": "code",
   "execution_count": null,
   "id": "65a993b5",
   "metadata": {},
   "outputs": [],
   "source": []
  },
  {
   "cell_type": "code",
   "execution_count": null,
   "id": "4beafee4",
   "metadata": {},
   "outputs": [],
   "source": []
  },
  {
   "cell_type": "code",
   "execution_count": null,
   "id": "1b33fae5",
   "metadata": {},
   "outputs": [],
   "source": []
  }
 ],
 "metadata": {
  "kernelspec": {
   "display_name": "Python 3",
   "language": "python",
   "name": "python3"
  },
  "language_info": {
   "codemirror_mode": {
    "name": "ipython",
    "version": 3
   },
   "file_extension": ".py",
   "mimetype": "text/x-python",
   "name": "python",
   "nbconvert_exporter": "python",
   "pygments_lexer": "ipython3",
   "version": "3.8.8"
  }
 },
 "nbformat": 4,
 "nbformat_minor": 5
}
