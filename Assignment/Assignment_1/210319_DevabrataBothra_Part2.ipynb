#!/usr/bin/env python
# coding: utf-8

# In[7]:


import pandas as pd
import numpy as np
from matplotlib import pyplot as g 
c1,c2,c3,c4,c5,area1,rooms1,bathroom1,parkingspaces1,floor1,rentamount1,area2,rooms2,bathroom2,parkingspaces2,floor2,rentamount2,area3,rooms3,bathroom3,parkingspaces3,floor3,rentamount3,area4,rooms4,bathroom4,parkingspaces4,floor4,rentamount4,area5,rooms5,bathroom5,parkingspaces5,floor5,rentamount5=[0 for _ in range(35)]
c1c,c2c,c3c,c4c,c5c=0,0,0,0,0
data=pd.read_excel('DevDLpart1.xlsx')
for i in range(len(data)):
    if(data['city'][i]=='SÃ£o Paulo'):
        area1=area1+data['area'][i]
        rooms1=rooms1+data['rooms'][i]
        bathroom1=bathroom1+data['bathroom'][i]
        parkingspaces1=parkingspaces1+data['parking spaces'][i]
        if (data.loc[i,'floor']!='-'):
            floor1=floor1+data['floor'][i]
            c1c=c1c+1
        rentamount1=rentamount1+data['rent amount (R$)'][i]
        c1=c1+1
    if(data['city'][i]=='Porto Alegre'):
        area2=area2+data['area'][i]
        rooms2=rooms2+data['rooms'][i]
        bathroom2=bathroom2+data['bathroom'][i]
        parkingspaces2=parkingspaces2+data['parking spaces'][i]
        if (data.loc[i,'floor']!='-'):
            floor2=floor2+data['floor'][i]
            c2c=c2c+1
        rentamount2=rentamount2+data['rent amount (R$)'][i]
        c2=c2+1
    if(data['city'][i]=='Rio de Janeiro'):
        area3=area3+data['area'][i]
        rooms3=rooms3+data['rooms'][i]
        bathroom3=bathroom3+data['bathroom'][i]
        parkingspaces3=parkingspaces3+data['parking spaces'][i]
        if (data.loc[i,'floor']!='-'):
            floor3=floor3+data['floor'][i]
            c3c=c3c+1
        rentamount3=rentamount3+data['rent amount (R$)'][i]
        c3=c3+1
    if(data['city'][i]=='Campinas'):
        area4=area4+data['area'][i]
        rooms4=rooms4+data['rooms'][i]
        bathroom4=bathroom4+data['bathroom'][i]
        parkingspaces4=parkingspaces4+data['parking spaces'][i]
        if (data.loc[i,'floor']!='-'):
            floor4=floor4+data['floor'][i]
            c4c=c4c+1
        rentamount4=rentamount4+data['rent amount (R$)'][i]
        c4=c4+1
    if(data['city'][i]=='Belo Horizonte'):
        area5=area5+data['area'][i]
        rooms5=rooms5+data['rooms'][i]
        bathroom5=bathroom5+data['bathroom'][i]
        parkingspaces5=parkingspaces5+data['parking spaces'][i]
        if (data.loc[i,'floor']!='-'):
            floor5=floor5+data['floor'][i]
            c5c=c5c+1
        rentamount5=rentamount5+data['rent amount (R$)'][i]
        c5=c5+1 
area=[area1/c1*0.01,area2/c2*0.01,area3/c3*0.01,area4/c4*0.01,area5/c5*0.01]
rooms=[rooms1/c1,rooms2/c2,rooms3/c3,rooms4/c4,rooms5/c5]
bathroom=[bathroom1/c1,bathroom2/c2,bathroom3/c3,bathroom4/c4,bathroom5/c5]
parkingspaces=[parkingspaces1/c1,parkingspaces2/c2,parkingspaces3/c3,parkingspaces4/c4,parkingspaces5/c5]
floor=[floor1/c1c,floor2/c2c,floor3/c3c,floor4/c4c,floor5/c5c]
rentamount=[rentamount1/c1*0.001,rentamount2/c2*0.001,rentamount3/c3*0.001,rentamount4/c4*0.001,rentamount5/c5*0.001]
City=['SÃ£o Paulo','Porto Alegre','Rio de Janeiro','Campinas','Belo Horizonte']
"""indexing for features
   1 for area
   2 for rooms
   3 for bathroom
   4 for parkingspaces 
   5 for floor
   6 for rentamount
"""
features=[1,2,3,4,5,6]
g.xlabel('features')
g.ylabel('feature-mean')
g.scatter(features,[area[0],rooms[0],bathroom[0],parkingspaces[0],floor[0],rentamount[0]],label=City[0])
g.scatter(features,[area[1],rooms[1],bathroom[1],parkingspaces[1],floor[1],rentamount[1]],label=City[1])
g.scatter(features,[area[2],rooms[2],bathroom[2],parkingspaces[2],floor[2],rentamount[2]],label=City[2])
g.scatter(features,[area[3],rooms[3],bathroom[3],parkingspaces[3],floor[3],rentamount[3]],label=City[3])
g.scatter(features,[area[4],rooms[4],bathroom[4],parkingspaces[4],floor[4],rentamount[4]],label=City[4])
g.legend()
g.show()
print('indexing for features\n') 
print('1 for area\n')
print('2 for rooms\n')
print('3 for bathroom\n')
print('4 for parkingspaces\n') 
print('5 for floor\n')
print('6 for rentamount')
l=[]
for i in range(len(data)):
    if(data['floor'][i]=='-'):
        data.loc[i,'floor']=np.nan
    if(data['furniture'][i]=='furnished'):
        l.append(1)
    elif(data['furniture'][i]=='not furnished'):
        l.append(0)
g.title('property tax dependency on number of rooms')
g.scatter(data['rooms'],data['property tax (R$)'])
g.show()
g.title('property tax dependency on number of bathroom')
g.scatter(data['bathroom'],data['property tax (R$)'])
g.show()
g.title('property tax dependency on number of parkingspaces')
g.scatter(data['parking spaces'],data['property tax (R$)'])
g.show()
g.title('property tax dependency on number of floor')
g.scatter(data['floor'],data['property tax (R$)'])
g.show()
g.title('property tax dependency on area')
g.scatter(data['area'],data['property tax (R$)'])
g.show()
g.title('property tax dependency on furniture')
g.scatter(l,data['property tax (R$)'])
g.show()
g.title('fire insurance (R$) dependency on number of rooms')
g.scatter(data['rooms'],data['fire insurance (R$)'])
g.show()
g.title('fire insurance (R$) dependency on number of bathroom')
g.scatter(data['bathroom'],data['fire insurance (R$)'])
g.show()
g.title('fire insurance (R$) dependency on number of parkingspaces')
g.scatter(data['parking spaces'],data['fire insurance (R$)'])
g.show()
g.title('fire insurance (R$) dependency on number of floor')
g.scatter(data['floor'],data['fire insurance (R$)'],)
g.show()
g.title('fire insurance (R$) dependency on area')
g.scatter(data['area'],data['fire insurance (R$)'])
g.show()
g.title('fire insurance (R$) dependency on furniture')
g.scatter(l,data['fire insurance (R$)'])
g.show()
g.title('hoa (R$) dependency on number of rooms')
g.scatter(data['rooms'],data['hoa (R$)'])
g.show()
g.title('hoa (R$) dependency on number of bathroom')
g.scatter(data['bathroom'],data['hoa (R$)'])
g.show()
g.title('hoa (R$) dependency on number of parkingspaces')
g.scatter(data['parking spaces'],data['hoa (R$)'])
g.show()
g.title('hoa (R$) dependency on number of floor')
g.scatter(data['floor'],data['hoa (R$)'])
g.show()
g.title('hoa (R$) dependency on area')
g.scatter(data['area'],data['hoa (R$)'])
g.show()
g.title('hoa (R$) on furniture')
g.scatter(l,data['hoa (R$)'])
g.show()


# In[ ]:





# In[ ]:




