{
 "cells": [
  {
   "cell_type": "markdown",
   "id": "9c8ccf53",
   "metadata": {},
   "source": [
    "# Q1"
   ]
  },
  {
   "cell_type": "code",
   "execution_count": 1,
   "id": "8cc3deaf",
   "metadata": {},
   "outputs": [],
   "source": [
    "import pandas as pd\n",
    "import numpy as np\n",
    "import matplotlib.pyplot as plt\n",
    "import csv"
   ]
  },
  {
   "cell_type": "code",
   "execution_count": 2,
   "id": "d9b8388e",
   "metadata": {},
   "outputs": [],
   "source": [
    "%matplotlib inline"
   ]
  },
  {
   "cell_type": "code",
   "execution_count": 3,
   "id": "b7d192ce",
   "metadata": {},
   "outputs": [],
   "source": [
    "df = pd.read_csv('House_prediction.csv')"
   ]
  },
  {
   "cell_type": "code",
   "execution_count": 4,
   "id": "8ca48f7c",
   "metadata": {},
   "outputs": [
    {
     "data": {
      "text/html": [
       "<div>\n",
       "<style scoped>\n",
       "    .dataframe tbody tr th:only-of-type {\n",
       "        vertical-align: middle;\n",
       "    }\n",
       "\n",
       "    .dataframe tbody tr th {\n",
       "        vertical-align: top;\n",
       "    }\n",
       "\n",
       "    .dataframe thead th {\n",
       "        text-align: right;\n",
       "    }\n",
       "</style>\n",
       "<table border=\"1\" class=\"dataframe\">\n",
       "  <thead>\n",
       "    <tr style=\"text-align: right;\">\n",
       "      <th></th>\n",
       "      <th>city</th>\n",
       "      <th>area</th>\n",
       "      <th>rooms</th>\n",
       "      <th>bathroom</th>\n",
       "      <th>parking spaces</th>\n",
       "      <th>floor</th>\n",
       "      <th>animal</th>\n",
       "      <th>furniture</th>\n",
       "      <th>hoa (R$)</th>\n",
       "      <th>rent amount (R$)</th>\n",
       "      <th>property tax (R$)</th>\n",
       "      <th>fire insurance (R$)</th>\n",
       "      <th>total (R$)</th>\n",
       "    </tr>\n",
       "  </thead>\n",
       "  <tbody>\n",
       "    <tr>\n",
       "      <th>0</th>\n",
       "      <td>São Paulo</td>\n",
       "      <td>70</td>\n",
       "      <td>2</td>\n",
       "      <td>1</td>\n",
       "      <td>1</td>\n",
       "      <td>7</td>\n",
       "      <td>acept</td>\n",
       "      <td>furnished</td>\n",
       "      <td>2065</td>\n",
       "      <td>3300</td>\n",
       "      <td>211</td>\n",
       "      <td>42</td>\n",
       "      <td>5618</td>\n",
       "    </tr>\n",
       "    <tr>\n",
       "      <th>1</th>\n",
       "      <td>São Paulo</td>\n",
       "      <td>320</td>\n",
       "      <td>4</td>\n",
       "      <td>4</td>\n",
       "      <td>0</td>\n",
       "      <td>20</td>\n",
       "      <td>acept</td>\n",
       "      <td>not furnished</td>\n",
       "      <td>1200</td>\n",
       "      <td>4960</td>\n",
       "      <td>1750</td>\n",
       "      <td>63</td>\n",
       "      <td>7973</td>\n",
       "    </tr>\n",
       "    <tr>\n",
       "      <th>2</th>\n",
       "      <td>Porto Alegre</td>\n",
       "      <td>80</td>\n",
       "      <td>1</td>\n",
       "      <td>1</td>\n",
       "      <td>1</td>\n",
       "      <td>6</td>\n",
       "      <td>acept</td>\n",
       "      <td>not furnished</td>\n",
       "      <td>1000</td>\n",
       "      <td>2800</td>\n",
       "      <td>0</td>\n",
       "      <td>41</td>\n",
       "      <td>3841</td>\n",
       "    </tr>\n",
       "    <tr>\n",
       "      <th>3</th>\n",
       "      <td>Porto Alegre</td>\n",
       "      <td>51</td>\n",
       "      <td>2</td>\n",
       "      <td>1</td>\n",
       "      <td>0</td>\n",
       "      <td>2</td>\n",
       "      <td>acept</td>\n",
       "      <td>not furnished</td>\n",
       "      <td>270</td>\n",
       "      <td>1112</td>\n",
       "      <td>22</td>\n",
       "      <td>17</td>\n",
       "      <td>1421</td>\n",
       "    </tr>\n",
       "    <tr>\n",
       "      <th>4</th>\n",
       "      <td>São Paulo</td>\n",
       "      <td>25</td>\n",
       "      <td>1</td>\n",
       "      <td>1</td>\n",
       "      <td>0</td>\n",
       "      <td>1</td>\n",
       "      <td>not acept</td>\n",
       "      <td>not furnished</td>\n",
       "      <td>0</td>\n",
       "      <td>800</td>\n",
       "      <td>25</td>\n",
       "      <td>11</td>\n",
       "      <td>836</td>\n",
       "    </tr>\n",
       "  </tbody>\n",
       "</table>\n",
       "</div>"
      ],
      "text/plain": [
       "           city  area  rooms  bathroom  parking spaces floor     animal  \\\n",
       "0     São Paulo    70      2         1               1     7      acept   \n",
       "1     São Paulo   320      4         4               0    20      acept   \n",
       "2  Porto Alegre    80      1         1               1     6      acept   \n",
       "3  Porto Alegre    51      2         1               0     2      acept   \n",
       "4     São Paulo    25      1         1               0     1  not acept   \n",
       "\n",
       "       furniture  hoa (R$)  rent amount (R$)  property tax (R$)  \\\n",
       "0      furnished      2065              3300                211   \n",
       "1  not furnished      1200              4960               1750   \n",
       "2  not furnished      1000              2800                  0   \n",
       "3  not furnished       270              1112                 22   \n",
       "4  not furnished         0               800                 25   \n",
       "\n",
       "   fire insurance (R$)  total (R$)  \n",
       "0                   42        5618  \n",
       "1                   63        7973  \n",
       "2                   41        3841  \n",
       "3                   17        1421  \n",
       "4                   11         836  "
      ]
     },
     "execution_count": 4,
     "metadata": {},
     "output_type": "execute_result"
    }
   ],
   "source": [
    "df.head()"
   ]
  },
  {
   "cell_type": "code",
   "execution_count": 5,
   "id": "e95d8db1",
   "metadata": {},
   "outputs": [
    {
     "data": {
      "text/plain": [
       "array(['São Paulo', 'Porto Alegre', 'Rio de Janeiro', 'Campinas',\n",
       "       'Belo Horizonte'], dtype=object)"
      ]
     },
     "execution_count": 5,
     "metadata": {},
     "output_type": "execute_result"
    }
   ],
   "source": [
    "list_cities = df['city'].unique()\n",
    "list_cities"
   ]
  },
  {
   "cell_type": "code",
   "execution_count": 6,
   "id": "3cd6c00e",
   "metadata": {},
   "outputs": [
    {
     "data": {
      "text/plain": [
       "[4652.7937829115,\n",
       " 2337.6999161777035,\n",
       " 3232.904063957362,\n",
       " 2364.290738569754,\n",
       " 3664.1279809220987]"
      ]
     },
     "execution_count": 6,
     "metadata": {},
     "output_type": "execute_result"
    }
   ],
   "source": [
    "list_rent_ammount=[]\n",
    "for element in list_cities:\n",
    "    list_rent_ammount.append(df[df['city']== element]['rent amount (R$)'].mean())\n",
    "list_rent_ammount"
   ]
  },
  {
   "cell_type": "code",
   "execution_count": 7,
   "id": "43ccd1f0",
   "metadata": {},
   "outputs": [
    {
     "data": {
      "text/plain": [
       "Text(0, 0.5, 'Mean Rent Ammount -->>')"
      ]
     },
     "execution_count": 7,
     "metadata": {},
     "output_type": "execute_result"
    },
    {
     "data": {
      "image/png": "[encoded data removed]",
      "text/plain": [
       "<Figure size 432x288 with 1 Axes>"
      ]
     },
     "metadata": {
      "needs_background": "light"
     },
     "output_type": "display_data"
    }
   ],
   "source": [
    "plt.bar(list_cities,list_rent_ammount, color ='maroon',width = 0.4)\n",
    "plt.xlabel(\"City Name -->>\")\n",
    "plt.ylabel(\"Mean Rent Ammount -->>\")"
   ]
  },
  {
   "cell_type": "code",
   "execution_count": 8,
   "id": "917e274a",
   "metadata": {},
   "outputs": [
    {
     "data": {
      "text/plain": [
       "[2.558858501783591,\n",
       " 2.140821458507963,\n",
       " 2.2438374417055296,\n",
       " 2.3552168815943726,\n",
       " 3.0206677265500796]"
      ]
     },
     "execution_count": 8,
     "metadata": {},
     "output_type": "execute_result"
    }
   ],
   "source": [
    "list_rooms=[]\n",
    "for element in list_cities:\n",
    "    list_rooms.append(df[df['city']== element]['rooms'].mean())\n",
    "list_rooms"
   ]
  },
  {
   "cell_type": "code",
   "execution_count": 9,
   "id": "026841d5",
   "metadata": {},
   "outputs": [
    {
     "data": {
      "text/plain": [
       "Text(0, 0.5, 'Mean Number of rooms -->>')"
      ]
     },
     "execution_count": 9,
     "metadata": {},
     "output_type": "execute_result"
    },
    {
     "data": {
      "image/png": "[encoded data removed]",
      "text/plain": [
       "<Figure size 432x288 with 1 Axes>"
      ]
     },
     "metadata": {
      "needs_background": "light"
     },
     "output_type": "display_data"
    }
   ],
   "source": [
    "plt.bar(list_cities,list_rooms, color ='maroon',width = 0.4)\n",
    "plt.xlabel(\"City Name -->>\")\n",
    "plt.ylabel(\"Mean Number of rooms -->>\")\n"
   ]
  },
  {
   "cell_type": "code",
   "execution_count": 14,
   "id": "ad53e90a",
   "metadata": {},
   "outputs": [
    {
     "data": {
      "text/html": [
       "<div>\n",
       "<style scoped>\n",
       "    .dataframe tbody tr th:only-of-type {\n",
       "        vertical-align: middle;\n",
       "    }\n",
       "\n",
       "    .dataframe tbody tr th {\n",
       "        vertical-align: top;\n",
       "    }\n",
       "\n",
       "    .dataframe thead th {\n",
       "        text-align: right;\n",
       "    }\n",
       "</style>\n",
       "<table border=\"1\" class=\"dataframe\">\n",
       "  <thead>\n",
       "    <tr style=\"text-align: right;\">\n",
       "      <th></th>\n",
       "      <th>area</th>\n",
       "      <th>rooms</th>\n",
       "      <th>bathroom</th>\n",
       "      <th>parking spaces</th>\n",
       "      <th>hoa (R$)</th>\n",
       "      <th>rent amount (R$)</th>\n",
       "      <th>property tax (R$)</th>\n",
       "      <th>fire insurance (R$)</th>\n",
       "      <th>total (R$)</th>\n",
       "    </tr>\n",
       "    <tr>\n",
       "      <th>city</th>\n",
       "      <th></th>\n",
       "      <th></th>\n",
       "      <th></th>\n",
       "      <th></th>\n",
       "      <th></th>\n",
       "      <th></th>\n",
       "      <th></th>\n",
       "      <th></th>\n",
       "      <th></th>\n",
       "    </tr>\n",
       "  </thead>\n",
       "  <tbody>\n",
       "    <tr>\n",
       "      <th>Belo Horizonte</th>\n",
       "      <td>207.411765</td>\n",
       "      <td>3.020668</td>\n",
       "      <td>2.402226</td>\n",
       "      <td>1.955485</td>\n",
       "      <td>2324.197138</td>\n",
       "      <td>3664.127981</td>\n",
       "      <td>272.782194</td>\n",
       "      <td>53.675676</td>\n",
       "      <td>6315.242448</td>\n",
       "    </tr>\n",
       "    <tr>\n",
       "      <th>Campinas</th>\n",
       "      <td>137.561547</td>\n",
       "      <td>2.355217</td>\n",
       "      <td>1.960141</td>\n",
       "      <td>1.558030</td>\n",
       "      <td>628.922626</td>\n",
       "      <td>2364.290739</td>\n",
       "      <td>147.657679</td>\n",
       "      <td>32.388042</td>\n",
       "      <td>3173.276671</td>\n",
       "    </tr>\n",
       "    <tr>\n",
       "      <th>Porto Alegre</th>\n",
       "      <td>103.609388</td>\n",
       "      <td>2.140821</td>\n",
       "      <td>1.725901</td>\n",
       "      <td>1.044426</td>\n",
       "      <td>491.618609</td>\n",
       "      <td>2337.699916</td>\n",
       "      <td>124.021794</td>\n",
       "      <td>36.425817</td>\n",
       "      <td>2989.782900</td>\n",
       "    </tr>\n",
       "    <tr>\n",
       "      <th>Rio de Janeiro</th>\n",
       "      <td>105.347768</td>\n",
       "      <td>2.243837</td>\n",
       "      <td>1.756163</td>\n",
       "      <td>0.744171</td>\n",
       "      <td>1079.432378</td>\n",
       "      <td>3232.904064</td>\n",
       "      <td>256.853431</td>\n",
       "      <td>42.483011</td>\n",
       "      <td>4611.684877</td>\n",
       "    </tr>\n",
       "    <tr>\n",
       "      <th>São Paulo</th>\n",
       "      <td>158.899439</td>\n",
       "      <td>2.558859</td>\n",
       "      <td>2.467641</td>\n",
       "      <td>1.877527</td>\n",
       "      <td>1169.627994</td>\n",
       "      <td>4652.793783</td>\n",
       "      <td>495.701716</td>\n",
       "      <td>62.428911</td>\n",
       "      <td>6380.831833</td>\n",
       "    </tr>\n",
       "  </tbody>\n",
       "</table>\n",
       "</div>"
      ],
      "text/plain": [
       "                      area     rooms  bathroom  parking spaces     hoa (R$)  \\\n",
       "city                                                                          \n",
       "Belo Horizonte  207.411765  3.020668  2.402226        1.955485  2324.197138   \n",
       "Campinas        137.561547  2.355217  1.960141        1.558030   628.922626   \n",
       "Porto Alegre    103.609388  2.140821  1.725901        1.044426   491.618609   \n",
       "Rio de Janeiro  105.347768  2.243837  1.756163        0.744171  1079.432378   \n",
       "São Paulo       158.899439  2.558859  2.467641        1.877527  1169.627994   \n",
       "\n",
       "                rent amount (R$)  property tax (R$)  fire insurance (R$)  \\\n",
       "city                                                                       \n",
       "Belo Horizonte       3664.127981         272.782194            53.675676   \n",
       "Campinas             2364.290739         147.657679            32.388042   \n",
       "Porto Alegre         2337.699916         124.021794            36.425817   \n",
       "Rio de Janeiro       3232.904064         256.853431            42.483011   \n",
       "São Paulo            4652.793783         495.701716            62.428911   \n",
       "\n",
       "                 total (R$)  \n",
       "city                         \n",
       "Belo Horizonte  6315.242448  \n",
       "Campinas        3173.276671  \n",
       "Porto Alegre    2989.782900  \n",
       "Rio de Janeiro  4611.684877  \n",
       "São Paulo       6380.831833  "
      ]
     },
     "execution_count": 14,
     "metadata": {},
     "output_type": "execute_result"
    }
   ],
   "source": [
    "df2 = df.groupby('city')\n",
    "df2.mean()"
   ]
  },
  {
   "cell_type": "code",
   "execution_count": 33,
   "id": "10d4996e",
   "metadata": {},
   "outputs": [
    {
     "data": {
      "text/plain": [
       "pandas.core.frame.DataFrame"
      ]
     },
     "execution_count": 33,
     "metadata": {},
     "output_type": "execute_result"
    }
   ],
   "source": [
    "df3=df2.mean()\n",
    "df3\n",
    "type(df3)"
   ]
  },
  {
   "cell_type": "code",
   "execution_count": 35,
   "id": "298102fd",
   "metadata": {},
   "outputs": [
    {
     "data": {
      "text/plain": [
       "city\n",
       "Belo Horizonte    207.411765\n",
       "Campinas          137.561547\n",
       "Porto Alegre      103.609388\n",
       "Rio de Janeiro    105.347768\n",
       "São Paulo         158.899439\n",
       "Name: area, dtype: float64"
      ]
     },
     "execution_count": 35,
     "metadata": {},
     "output_type": "execute_result"
    }
   ],
   "source": [
    "df3['area']"
   ]
  },
  {
   "cell_type": "code",
   "execution_count": 36,
   "id": "7380eb0c",
   "metadata": {},
   "outputs": [
    {
     "data": {
      "text/plain": [
       "<BarContainer object of 5 artists>"
      ]
     },
     "execution_count": 36,
     "metadata": {},
     "output_type": "execute_result"
    },
    {
     "data": {
      "image/png": "[encoded data removed]",
      "text/plain": [
       "<Figure size 432x288 with 1 Axes>"
      ]
     },
     "metadata": {
      "needs_background": "light"
     },
     "output_type": "display_data"
    }
   ],
   "source": [
    "plt.bar(df3.index,df3['area'])"
   ]
  },
  {
   "cell_type": "markdown",
   "id": "e9a57ed0",
   "metadata": {},
   "source": [
    "# Q2"
   ]
  },
  {
   "cell_type": "code",
   "execution_count": 39,
   "id": "0446b0d8",
   "metadata": {},
   "outputs": [
    {
     "data": {
      "text/html": [
       "<div>\n",
       "<style scoped>\n",
       "    .dataframe tbody tr th:only-of-type {\n",
       "        vertical-align: middle;\n",
       "    }\n",
       "\n",
       "    .dataframe tbody tr th {\n",
       "        vertical-align: top;\n",
       "    }\n",
       "\n",
       "    .dataframe thead th {\n",
       "        text-align: right;\n",
       "    }\n",
       "</style>\n",
       "<table border=\"1\" class=\"dataframe\">\n",
       "  <thead>\n",
       "    <tr style=\"text-align: right;\">\n",
       "      <th></th>\n",
       "      <th>city</th>\n",
       "      <th>area</th>\n",
       "      <th>rooms</th>\n",
       "      <th>bathroom</th>\n",
       "      <th>parking spaces</th>\n",
       "      <th>floor</th>\n",
       "      <th>animal</th>\n",
       "      <th>furniture</th>\n",
       "      <th>hoa (R$)</th>\n",
       "      <th>rent amount (R$)</th>\n",
       "      <th>property tax (R$)</th>\n",
       "      <th>fire insurance (R$)</th>\n",
       "      <th>total (R$)</th>\n",
       "    </tr>\n",
       "  </thead>\n",
       "  <tbody>\n",
       "    <tr>\n",
       "      <th>0</th>\n",
       "      <td>São Paulo</td>\n",
       "      <td>70</td>\n",
       "      <td>2</td>\n",
       "      <td>1</td>\n",
       "      <td>1</td>\n",
       "      <td>7</td>\n",
       "      <td>acept</td>\n",
       "      <td>furnished</td>\n",
       "      <td>2065</td>\n",
       "      <td>3300</td>\n",
       "      <td>211</td>\n",
       "      <td>42</td>\n",
       "      <td>5618</td>\n",
       "    </tr>\n",
       "    <tr>\n",
       "      <th>1</th>\n",
       "      <td>São Paulo</td>\n",
       "      <td>320</td>\n",
       "      <td>4</td>\n",
       "      <td>4</td>\n",
       "      <td>0</td>\n",
       "      <td>20</td>\n",
       "      <td>acept</td>\n",
       "      <td>not furnished</td>\n",
       "      <td>1200</td>\n",
       "      <td>4960</td>\n",
       "      <td>1750</td>\n",
       "      <td>63</td>\n",
       "      <td>7973</td>\n",
       "    </tr>\n",
       "    <tr>\n",
       "      <th>2</th>\n",
       "      <td>Porto Alegre</td>\n",
       "      <td>80</td>\n",
       "      <td>1</td>\n",
       "      <td>1</td>\n",
       "      <td>1</td>\n",
       "      <td>6</td>\n",
       "      <td>acept</td>\n",
       "      <td>not furnished</td>\n",
       "      <td>1000</td>\n",
       "      <td>2800</td>\n",
       "      <td>0</td>\n",
       "      <td>41</td>\n",
       "      <td>3841</td>\n",
       "    </tr>\n",
       "  </tbody>\n",
       "</table>\n",
       "</div>"
      ],
      "text/plain": [
       "           city  area  rooms  bathroom  parking spaces floor animal  \\\n",
       "0     São Paulo    70      2         1               1     7  acept   \n",
       "1     São Paulo   320      4         4               0    20  acept   \n",
       "2  Porto Alegre    80      1         1               1     6  acept   \n",
       "\n",
       "       furniture  hoa (R$)  rent amount (R$)  property tax (R$)  \\\n",
       "0      furnished      2065              3300                211   \n",
       "1  not furnished      1200              4960               1750   \n",
       "2  not furnished      1000              2800                  0   \n",
       "\n",
       "   fire insurance (R$)  total (R$)  \n",
       "0                   42        5618  \n",
       "1                   63        7973  \n",
       "2                   41        3841  "
      ]
     },
     "execution_count": 39,
     "metadata": {},
     "output_type": "execute_result"
    }
   ],
   "source": [
    "df.head(3)"
   ]
  },
  {
   "cell_type": "code",
   "execution_count": 40,
   "id": "4fbeab18",
   "metadata": {},
   "outputs": [
    {
     "data": {
      "text/plain": [
       "0.007138618515731213"
      ]
     },
     "execution_count": 40,
     "metadata": {},
     "output_type": "execute_result"
    }
   ],
   "source": [
    "df['hoa (R$)'].corr(df['rooms'])"
   ]
  },
  {
   "cell_type": "markdown",
   "id": "558f3fd9",
   "metadata": {},
   "source": [
    "Correlation is positive means hoa and rooms have a increasing relationship."
   ]
  },
  {
   "cell_type": "code",
   "execution_count": 41,
   "id": "3a38c58b",
   "metadata": {},
   "outputs": [],
   "source": [
    "df['is furnished'] = df['furniture'] == 'furnished'"
   ]
  },
  {
   "cell_type": "code",
   "execution_count": 49,
   "id": "d9814b4c",
   "metadata": {},
   "outputs": [
    {
     "data": {
      "text/html": [
       "<div>\n",
       "<style scoped>\n",
       "    .dataframe tbody tr th:only-of-type {\n",
       "        vertical-align: middle;\n",
       "    }\n",
       "\n",
       "    .dataframe tbody tr th {\n",
       "        vertical-align: top;\n",
       "    }\n",
       "\n",
       "    .dataframe thead th {\n",
       "        text-align: right;\n",
       "    }\n",
       "</style>\n",
       "<table border=\"1\" class=\"dataframe\">\n",
       "  <thead>\n",
       "    <tr style=\"text-align: right;\">\n",
       "      <th></th>\n",
       "      <th>city</th>\n",
       "      <th>area</th>\n",
       "      <th>rooms</th>\n",
       "      <th>bathroom</th>\n",
       "      <th>parking spaces</th>\n",
       "      <th>floor</th>\n",
       "      <th>animal</th>\n",
       "      <th>furniture</th>\n",
       "      <th>hoa (R$)</th>\n",
       "      <th>rent amount (R$)</th>\n",
       "      <th>property tax (R$)</th>\n",
       "      <th>fire insurance (R$)</th>\n",
       "      <th>total (R$)</th>\n",
       "      <th>is furnished</th>\n",
       "    </tr>\n",
       "  </thead>\n",
       "  <tbody>\n",
       "    <tr>\n",
       "      <th>0</th>\n",
       "      <td>São Paulo</td>\n",
       "      <td>70</td>\n",
       "      <td>2</td>\n",
       "      <td>1</td>\n",
       "      <td>1</td>\n",
       "      <td>7</td>\n",
       "      <td>acept</td>\n",
       "      <td>furnished</td>\n",
       "      <td>2065</td>\n",
       "      <td>3300</td>\n",
       "      <td>211</td>\n",
       "      <td>42</td>\n",
       "      <td>5618</td>\n",
       "      <td>True</td>\n",
       "    </tr>\n",
       "    <tr>\n",
       "      <th>1</th>\n",
       "      <td>São Paulo</td>\n",
       "      <td>320</td>\n",
       "      <td>4</td>\n",
       "      <td>4</td>\n",
       "      <td>0</td>\n",
       "      <td>20</td>\n",
       "      <td>acept</td>\n",
       "      <td>not furnished</td>\n",
       "      <td>1200</td>\n",
       "      <td>4960</td>\n",
       "      <td>1750</td>\n",
       "      <td>63</td>\n",
       "      <td>7973</td>\n",
       "      <td>False</td>\n",
       "    </tr>\n",
       "  </tbody>\n",
       "</table>\n",
       "</div>"
      ],
      "text/plain": [
       "        city  area  rooms  bathroom  parking spaces floor animal  \\\n",
       "0  São Paulo    70      2         1               1     7  acept   \n",
       "1  São Paulo   320      4         4               0    20  acept   \n",
       "\n",
       "       furniture  hoa (R$)  rent amount (R$)  property tax (R$)  \\\n",
       "0      furnished      2065              3300                211   \n",
       "1  not furnished      1200              4960               1750   \n",
       "\n",
       "   fire insurance (R$)  total (R$)  is furnished  \n",
       "0                   42        5618          True  \n",
       "1                   63        7973         False  "
      ]
     },
     "execution_count": 49,
     "metadata": {},
     "output_type": "execute_result"
    }
   ],
   "source": [
    "df.head(2)"
   ]
  },
  {
   "cell_type": "code",
   "execution_count": 50,
   "id": "c82a6140",
   "metadata": {},
   "outputs": [
    {
     "data": {
      "text/plain": [
       "0.0034131493549730543"
      ]
     },
     "execution_count": 50,
     "metadata": {},
     "output_type": "execute_result"
    }
   ],
   "source": [
    "df['hoa (R$)'].corr(df['is furnished'].astype(int))"
   ]
  },
  {
   "cell_type": "markdown",
   "id": "dda0d28b",
   "metadata": {},
   "source": [
    "Correlation is positive means hoa and rooms have a increasing relationship."
   ]
  },
  {
   "cell_type": "markdown",
   "id": "42959c7c",
   "metadata": {},
   "source": [
    "Similiarly we can calculate for property tax and fire insurance."
   ]
  },
  {
   "cell_type": "code",
   "execution_count": null,
   "id": "4171175d",
   "metadata": {},
   "outputs": [],
   "source": []
  }
 ],
 "metadata": {
  "kernelspec": {
   "display_name": "Python 3 (ipykernel)",
   "language": "python",
   "name": "python3"
  },
  "language_info": {
   "codemirror_mode": {
    "name": "ipython",
    "version": 3
   },
   "file_extension": ".py",
   "mimetype": "text/x-python",
   "name": "python",
   "nbconvert_exporter": "python",
   "pygments_lexer": "ipython3",
   "version": "3.9.7"
  }
 },
 "nbformat": 4,
 "nbformat_minor": 5
}
