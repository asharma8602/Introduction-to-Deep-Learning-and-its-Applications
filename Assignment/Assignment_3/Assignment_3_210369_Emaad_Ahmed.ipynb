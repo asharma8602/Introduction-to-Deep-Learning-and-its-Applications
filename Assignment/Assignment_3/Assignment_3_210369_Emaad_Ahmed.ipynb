{
 "cells": [
  {
   "cell_type": "code",
   "execution_count": 1,
   "id": "d2d00b72-064c-49f0-8185-385aab4c7461",
   "metadata": {
    "tags": []
   },
   "outputs": [],
   "source": [
    "import torch\n",
    "from torchvision import datasets\n",
    "from torchvision.transforms import ToTensor\n",
    "import matplotlib.pyplot as plt\n",
    "from torch import nn\n",
    "import torch.nn.functional as F\n",
    "from torch import optim\n",
    "from torch.utils.data import DataLoader"
   ]
  },
  {
   "cell_type": "code",
   "execution_count": 71,
   "id": "f516ccec-4903-4c7a-94b1-deaeb14be728",
   "metadata": {},
   "outputs": [],
   "source": [
    "if torch.cuda.is_available():\n",
    "    device = torch.device(\"cuda\")\n",
    "else:\n",
    "    device = torch.device(\"cpu\")        "
   ]
  },
  {
   "cell_type": "code",
   "execution_count": 3,
   "id": "01011155-c4a0-4162-8b3d-1f1ca5205465",
   "metadata": {},
   "outputs": [],
   "source": [
    "train_data = datasets.MNIST(root = 'data', train = True,                         \n",
    "    transform = ToTensor(), download = True,            \n",
    ")\n",
    "test_data = datasets.MNIST(root = 'data', train = False, \n",
    "    transform = ToTensor()\n",
    ")"
   ]
  },
  {
   "cell_type": "code",
   "execution_count": 8,
   "id": "1dcb1add-e5d5-4115-b445-be1b5e0bb985",
   "metadata": {},
   "outputs": [
    {
     "data": {
      "image/png": "[encoded data removed]",
      "text/plain": [
       "<Figure size 432x288 with 1 Axes>"
      ]
     },
     "metadata": {
      "needs_background": "light"
     },
     "output_type": "display_data"
    }
   ],
   "source": [
    "plt.imshow(train_data.data[0], cmap='gray')\n",
    "plt.title('%i' % train_data.targets[0])\n",
    "plt.show()"
   ]
  },
  {
   "cell_type": "code",
   "execution_count": 6,
   "id": "1ca8848d-1a44-47ed-8f97-73d17215ed54",
   "metadata": {},
   "outputs": [],
   "source": [
    "trainloader = torch.utils.data.DataLoader(train_data, batch_size = 100, shuffle = True, num_workers = 1)\n",
    "testloader = torch.utils.data.DataLoader(test_data, batch_size = 100, shuffle = True, num_workers = 1)"
   ]
  },
  {
   "cell_type": "code",
   "execution_count": 9,
   "id": "5613d8a9-7e61-43da-9407-72e615b897b7",
   "metadata": {},
   "outputs": [],
   "source": [
    "sequence_length = 28\n",
    "input_size = 28\n",
    "hidden_size = 128\n",
    "num_layers = 2\n",
    "num_classes = 10\n",
    "batch_size = 100"
   ]
  },
  {
   "cell_type": "code",
   "execution_count": 65,
   "id": "ecb12493-ee96-45f2-aac8-70195c4c765e",
   "metadata": {},
   "outputs": [
    {
     "name": "stdout",
     "output_type": "stream",
     "text": [
      "MRNN(\n",
      "  (lstm): LSTM(28, 128, num_layers=2, batch_first=True)\n",
      "  (fc): Linear(in_features=128, out_features=10, bias=True)\n",
      ")\n"
     ]
    }
   ],
   "source": [
    "class MRNN(nn.Module):\n",
    "    def __init__(self, input_size, hidden_size, num_layers, num_classes):\n",
    "        super(MRNN, self).__init__()\n",
    "        self.hidden_size = hidden_size\n",
    "        self.num_layers = num_layers\n",
    "        self.lstm = nn.LSTM(input_size, hidden_size, num_layers, batch_first=True)\n",
    "        self.fc = nn.Linear(hidden_size, num_classes)\n",
    "        pass\n",
    "    \n",
    "    def forward(self, x):\n",
    "        h0 = torch.zeros(self.num_layers, x.size(0), self.hidden_size).to(device) \n",
    "        c0 = torch.zeros(self.num_layers, x.size(0), self.hidden_size).to(device)\n",
    "        out, hidden = self.lstm(x, (h0, c0))     \n",
    "        out = self.fc(out[:, -1, :])\n",
    "        return out\n",
    "model = MRNN(input_size, hidden_size, num_layers, num_classes).to(device)\n",
    "print(model)\n",
    "        "
   ]
  },
  {
   "cell_type": "code",
   "execution_count": 66,
   "id": "92a5260f-83d4-4011-a85a-a7af66ded9e5",
   "metadata": {},
   "outputs": [],
   "source": [
    "criterion = nn.CrossEntropyLoss()\n",
    "optimizer = optim.Adam(model.parameters(), lr = 0.001)"
   ]
  },
  {
   "cell_type": "code",
   "execution_count": 67,
   "id": "5c24a0ef-b2e9-4955-8b08-f7b4844a3530",
   "metadata": {},
   "outputs": [],
   "source": [
    "def get_accuracy(out, actual_labels, batch_size):\n",
    "    predictions = out.max(dim=1)[1]\n",
    "    correct = (predictions == actual_labels).sum().item()\n",
    "    accuracy = correct/batch_size\n",
    "    \n",
    "    return accuracy"
   ]
  },
  {
   "cell_type": "code",
   "execution_count": 70,
   "id": "55c4cdd4-3665-4140-96e8-a7bc164d7e67",
   "metadata": {
    "tags": []
   },
   "outputs": [
    {
     "name": "stdout",
     "output_type": "stream",
     "text": [
      "Iteration: 500. Loss: 0.029. Accuracy: 98.95\n",
      "Iteration: 1000. Loss: 0.035. Accuracy: 98.63\n",
      "Iteration: 1500. Loss: 0.001. Accuracy: 98.73\n",
      "Iteration: 2000. Loss: 0.000. Accuracy: 99.08\n",
      "Iteration: 2500. Loss: 0.001. Accuracy: 99.10\n",
      "Iteration: 3000. Loss: 0.003. Accuracy: 98.97\n",
      "Iteration: 3500. Loss: 0.001. Accuracy: 98.91\n",
      "Iteration: 4000. Loss: 0.006. Accuracy: 98.83\n",
      "Iteration: 4500. Loss: 0.003. Accuracy: 98.92\n",
      "Iteration: 5000. Loss: 0.010. Accuracy: 98.94\n",
      "Iteration: 5500. Loss: 0.001. Accuracy: 99.16\n",
      "Iteration: 6000. Loss: 0.001. Accuracy: 99.01\n",
      "Iteration: 6500. Loss: 0.001. Accuracy: 98.98\n",
      "Iteration: 7000. Loss: 0.025. Accuracy: 99.05\n",
      "Iteration: 7500. Loss: 0.004. Accuracy: 98.99\n",
      "Iteration: 8000. Loss: 0.001. Accuracy: 98.89\n",
      "Iteration: 8500. Loss: 0.000. Accuracy: 99.02\n",
      "Iteration: 9000. Loss: 0.003. Accuracy: 98.85\n",
      "Iteration: 9500. Loss: 0.089. Accuracy: 98.75\n",
      "Iteration: 10000. Loss: 0.001. Accuracy: 99.09\n",
      "Iteration: 10500. Loss: 0.000. Accuracy: 99.05\n",
      "Iteration: 11000. Loss: 0.000. Accuracy: 99.25\n",
      "Iteration: 11500. Loss: 0.000. Accuracy: 99.04\n",
      "Iteration: 12000. Loss: 0.003. Accuracy: 98.82\n",
      "Iteration: 12500. Loss: 0.019. Accuracy: 99.03\n",
      "Iteration: 13000. Loss: 0.000. Accuracy: 99.11\n",
      "Iteration: 13500. Loss: 0.000. Accuracy: 99.04\n",
      "Iteration: 14000. Loss: 0.000. Accuracy: 99.10\n",
      "Iteration: 14500. Loss: 0.000. Accuracy: 99.05\n",
      "Iteration: 15000. Loss: 0.001. Accuracy: 99.11\n",
      "Iteration: 15500. Loss: 0.000. Accuracy: 99.09\n",
      "Iteration: 16000. Loss: 0.000. Accuracy: 99.05\n",
      "Iteration: 16500. Loss: 0.000. Accuracy: 98.98\n",
      "Iteration: 17000. Loss: 0.000. Accuracy: 99.12\n",
      "Iteration: 17500. Loss: 0.000. Accuracy: 99.15\n",
      "Iteration: 18000. Loss: 0.003. Accuracy: 98.92\n"
     ]
    }
   ],
   "source": [
    "epochs = 30\n",
    "iter = 0\n",
    "for e in range(epochs):\n",
    "    for i,(images,labels) in enumerate(trainloader):\n",
    "        images = images.reshape(-1, sequence_length, input_size).requires_grad_().to(device)\n",
    "        labels = labels.to(device)\n",
    "        output = model(images)\n",
    "        optimizer.zero_grad()\n",
    "        loss = criterion(output,labels)\n",
    "        loss.backward()\n",
    "        optimizer.step()\n",
    "        iter += 1\n",
    "\n",
    "        if iter % 500 == 0:       \n",
    "            correct = 0\n",
    "            total = 0\n",
    "            for images, labels in testloader:\n",
    "                images = images.view(-1, sequence_length, input_size).to(device)\n",
    "                labels = labels.to(device)\n",
    "                outputs = model(images)\n",
    "                _, predicted = torch.max(outputs.data, 1)\n",
    "                total += labels.size(0)\n",
    "                if torch.cuda.is_available():\n",
    "                    correct += (predicted.cpu() == labels.cpu()).sum()\n",
    "                else:\n",
    "                    correct += (predicted == labels).sum()\n",
    "\n",
    "            accuracy = 100 * correct / total\n",
    "\n",
    "            print('Iteration: {}. Loss: {:.3f}. Accuracy: {:.2f}'.format(iter, loss.item(), accuracy))\n",
    "            "
   ]
  },
  {
   "cell_type": "code",
   "execution_count": 72,
   "id": "8cccdf17-497e-4d8a-a2ae-6a11643d5da8",
   "metadata": {},
   "outputs": [
    {
     "name": "stdout",
     "output_type": "stream",
     "text": [
      "Testing Started...\n",
      "TEST | Average Accuracy per 0 Loaders: 0.98000\n",
      "TEST | Average Accuracy per 1 Loaders: 1.97000\n",
      "TEST | Average Accuracy per 2 Loaders: 2.95000\n",
      "TEST | Average Accuracy per 3 Loaders: 3.93000\n",
      "TEST | Average Accuracy per 4 Loaders: 4.93000\n",
      "TEST | Average Accuracy per 5 Loaders: 5.90000\n",
      "TEST | Average Accuracy per 6 Loaders: 6.89000\n",
      "TEST | Average Accuracy per 7 Loaders: 7.89000\n",
      "TEST | Average Accuracy per 8 Loaders: 8.86000\n",
      "TEST | Average Accuracy per 9 Loaders: 9.86000\n",
      "TEST | Average Accuracy per 10 Loaders: 10.84000\n",
      "TEST | Average Accuracy per 11 Loaders: 11.81000\n",
      "TEST | Average Accuracy per 12 Loaders: 12.81000\n",
      "TEST | Average Accuracy per 13 Loaders: 13.80000\n",
      "TEST | Average Accuracy per 14 Loaders: 14.80000\n",
      "TEST | Average Accuracy per 15 Loaders: 15.80000\n",
      "TEST | Average Accuracy per 16 Loaders: 16.80000\n",
      "TEST | Average Accuracy per 17 Loaders: 17.79000\n",
      "TEST | Average Accuracy per 18 Loaders: 18.78000\n",
      "TEST | Average Accuracy per 19 Loaders: 19.78000\n",
      "TEST | Average Accuracy per 20 Loaders: 20.78000\n",
      "TEST | Average Accuracy per 21 Loaders: 21.77000\n",
      "TEST | Average Accuracy per 22 Loaders: 22.76000\n",
      "TEST | Average Accuracy per 23 Loaders: 23.75000\n",
      "TEST | Average Accuracy per 24 Loaders: 24.73000\n",
      "TEST | Average Accuracy per 25 Loaders: 25.72000\n",
      "TEST | Average Accuracy per 26 Loaders: 26.71000\n",
      "TEST | Average Accuracy per 27 Loaders: 27.71000\n",
      "TEST | Average Accuracy per 28 Loaders: 28.70000\n",
      "TEST | Average Accuracy per 29 Loaders: 29.68000\n",
      "TEST | Average Accuracy per 30 Loaders: 30.67000\n",
      "TEST | Average Accuracy per 31 Loaders: 31.66000\n",
      "TEST | Average Accuracy per 32 Loaders: 32.66000\n",
      "TEST | Average Accuracy per 33 Loaders: 33.63000\n",
      "TEST | Average Accuracy per 34 Loaders: 34.61000\n",
      "TEST | Average Accuracy per 35 Loaders: 35.59000\n",
      "TEST | Average Accuracy per 36 Loaders: 36.57000\n",
      "TEST | Average Accuracy per 37 Loaders: 37.57000\n",
      "TEST | Average Accuracy per 38 Loaders: 38.57000\n",
      "TEST | Average Accuracy per 39 Loaders: 39.55000\n",
      "TEST | Average Accuracy per 40 Loaders: 40.55000\n",
      "TEST | Average Accuracy per 41 Loaders: 41.55000\n",
      "TEST | Average Accuracy per 42 Loaders: 42.55000\n",
      "TEST | Average Accuracy per 43 Loaders: 43.54000\n",
      "TEST | Average Accuracy per 44 Loaders: 44.54000\n",
      "TEST | Average Accuracy per 45 Loaders: 45.51000\n",
      "TEST | Average Accuracy per 46 Loaders: 46.50000\n",
      "TEST | Average Accuracy per 47 Loaders: 47.50000\n",
      "TEST | Average Accuracy per 48 Loaders: 48.48000\n",
      "TEST | Average Accuracy per 49 Loaders: 49.48000\n",
      "TEST | Average Accuracy per 50 Loaders: 50.47000\n",
      "TEST | Average Accuracy per 51 Loaders: 51.46000\n",
      "TEST | Average Accuracy per 52 Loaders: 52.45000\n",
      "TEST | Average Accuracy per 53 Loaders: 53.44000\n",
      "TEST | Average Accuracy per 54 Loaders: 54.44000\n",
      "TEST | Average Accuracy per 55 Loaders: 55.43000\n",
      "TEST | Average Accuracy per 56 Loaders: 56.43000\n",
      "TEST | Average Accuracy per 57 Loaders: 57.43000\n",
      "TEST | Average Accuracy per 58 Loaders: 58.42000\n",
      "TEST | Average Accuracy per 59 Loaders: 59.41000\n",
      "TEST | Average Accuracy per 60 Loaders: 60.39000\n",
      "TEST | Average Accuracy per 61 Loaders: 61.38000\n",
      "TEST | Average Accuracy per 62 Loaders: 62.37000\n",
      "TEST | Average Accuracy per 63 Loaders: 63.37000\n",
      "TEST | Average Accuracy per 64 Loaders: 64.36000\n",
      "TEST | Average Accuracy per 65 Loaders: 65.34000\n",
      "TEST | Average Accuracy per 66 Loaders: 66.32000\n",
      "TEST | Average Accuracy per 67 Loaders: 67.29000\n",
      "TEST | Average Accuracy per 68 Loaders: 68.29000\n",
      "TEST | Average Accuracy per 69 Loaders: 69.25000\n",
      "TEST | Average Accuracy per 70 Loaders: 70.23000\n",
      "TEST | Average Accuracy per 71 Loaders: 71.21000\n",
      "TEST | Average Accuracy per 72 Loaders: 72.21000\n",
      "TEST | Average Accuracy per 73 Loaders: 73.20000\n",
      "TEST | Average Accuracy per 74 Loaders: 74.20000\n",
      "TEST | Average Accuracy per 75 Loaders: 75.19000\n",
      "TEST | Average Accuracy per 76 Loaders: 76.17000\n",
      "TEST | Average Accuracy per 77 Loaders: 77.16000\n",
      "TEST | Average Accuracy per 78 Loaders: 78.16000\n",
      "TEST | Average Accuracy per 79 Loaders: 79.15000\n",
      "TEST | Average Accuracy per 80 Loaders: 80.14000\n",
      "TEST | Average Accuracy per 81 Loaders: 81.13000\n",
      "TEST | Average Accuracy per 82 Loaders: 82.13000\n",
      "TEST | Average Accuracy per 83 Loaders: 83.12000\n",
      "TEST | Average Accuracy per 84 Loaders: 84.10000\n",
      "TEST | Average Accuracy per 85 Loaders: 85.09000\n",
      "TEST | Average Accuracy per 86 Loaders: 86.09000\n",
      "TEST | Average Accuracy per 87 Loaders: 87.06000\n",
      "TEST | Average Accuracy per 88 Loaders: 88.05000\n",
      "TEST | Average Accuracy per 89 Loaders: 89.04000\n",
      "TEST | Average Accuracy per 90 Loaders: 90.01000\n",
      "TEST | Average Accuracy per 91 Loaders: 90.99000\n",
      "TEST | Average Accuracy per 92 Loaders: 91.97000\n",
      "TEST | Average Accuracy per 93 Loaders: 92.96000\n",
      "TEST | Average Accuracy per 94 Loaders: 93.95000\n",
      "TEST | Average Accuracy per 95 Loaders: 94.93000\n",
      "TEST | Average Accuracy per 96 Loaders: 95.92000\n",
      "TEST | Average Accuracy per 97 Loaders: 96.92000\n",
      "TEST | Average Accuracy per 98 Loaders: 97.92000\n",
      "TEST | Average Accuracy per 99 Loaders: 98.92000\n"
     ]
    }
   ],
   "source": [
    "print('Testing Started...')\n",
    "test_acc = 0\n",
    "model.eval()\n",
    "    \n",
    "for k, (images, labels) in enumerate(testloader):\n",
    "    images = images.view(-1, sequence_length, input_size).to(device)\n",
    "    labels = labels.to(device)\n",
    "        \n",
    "    out = model(images)\n",
    "\n",
    "    test_acc += get_accuracy(out, labels, batch_size)\n",
    "        \n",
    "    print('TEST | Average Accuracy per {} Loaders: {:.5f}'.format(k, test_acc))"
   ]
  }
 ],
 "metadata": {
  "kernelspec": {
   "display_name": "Python 3 (ipykernel)",
   "language": "python",
   "name": "python3"
  },
  "language_info": {
   "codemirror_mode": {
    "name": "ipython",
    "version": 3
   },
   "file_extension": ".py",
   "mimetype": "text/x-python",
   "name": "python",
   "nbconvert_exporter": "python",
   "pygments_lexer": "ipython3",
   "version": "3.10.4"
  }
 },
 "nbformat": 4,
 "nbformat_minor": 5
}
