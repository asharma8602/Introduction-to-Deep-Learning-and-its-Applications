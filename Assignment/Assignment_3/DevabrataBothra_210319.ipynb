{
 "cells": [
  {
   "cell_type": "code",
   "execution_count": null,
   "id": "386afe5c",
   "metadata": {},
   "outputs": [],
   "source": [
    "import tensorflow as tf\n",
    "from tensorflow.examples.tutorials.mnist import input_data\n",
    "mnist = input_data.read_data_sets(\"MNIST_data/\")\n",
    "n_neurons = 128\n",
    "learning_rate = 0.01\n",
    "batch_size = 128\n",
    "n_epochs = 10\n",
    "n_steps = 28 \n",
    "n_inputs = 28 \n",
    "n_outputs = 10 \n",
    "X = tf.placeholder(tf.float32)\n",
    "y = tf.placeholder(tf.int32)\n",
    "cell = tf.nn.rnn_cell.BasicRNNCell(num_units=n_neurons)\n",
    "output, state = tf.nn.dynamic_rnn(cell, X, dtype=tf.float32)\n",
    "logits = tf.layers.dense(state, n_outputs)\n",
    "cross_entropy = tf.nn.sparse_softmax_cross_entropy_with_logits(labels=y, logits=logits)\n",
    "loss = tf.reduce_mean(cross_entropy)\n",
    "optimizer = tf.train.AdamOptimizer(learning_rate=learning_rate).minimize(loss)\n",
    "prediction = tf.nn.in_top_k(logits, y, 1)\n",
    "accuracy = tf.reduce_mean(tf.cast(prediction, tf.float32))\n",
    "X_test = mnist.test.images \n",
    "X_test = X_test.reshape([-1, n_steps, n_inputs])\n",
    "y_test = mnist.test.labels\n",
    "init = tf.global_variables_initializer()\n",
    "with tf.Session() as sess:\n",
    "    sess.run(init)\n",
    "    n_batches = mnist.train.num_examples // batch_size\n",
    "    for epoch in range(n_epochs):\n",
    "        for batch in range(n_batches):\n",
    "            X_train, y_train = mnist.train.next_batch(batch_size)\n",
    "            X_train = X_train.reshape([-1, n_steps, n_inputs])\n",
    "            sess.run(optimizer, feed_dict={X: X_train, y: y_train})\n",
    "        loss_train, acc_train = sess.run(\n",
    "            [loss, accuracy], feed_dict={X: X_train, y: y_train})\n",
    "        print('Epoch: {}, Train Loss: {:.3f}, Train Acc: {:.3f}'.format(\n",
    "            epoch + 1, loss_train, acc_train))\n",
    "    loss_test, acc_test = sess.run(\n",
    "        [loss, accuracy], feed_dict={X: X_test, y: y_test})\n",
    "    print('Test Loss: {:.3f}, Test Acc: {:.3f}'.format(loss_test, acc_test))"
   ]
  },
  {
   "cell_type": "code",
   "execution_count": null,
   "id": "0267fbf2",
   "metadata": {},
   "outputs": [],
   "source": []
  }
 ],
 "metadata": {
  "kernelspec": {
   "display_name": "Python 3 (ipykernel)",
   "language": "python",
   "name": "python3"
  },
  "language_info": {
   "codemirror_mode": {
    "name": "ipython",
    "version": 3
   },
   "file_extension": ".py",
   "mimetype": "text/x-python",
   "name": "python",
   "nbconvert_exporter": "python",
   "pygments_lexer": "ipython3",
   "version": "3.9.7"
  }
 },
 "nbformat": 4,
 "nbformat_minor": 5
}
