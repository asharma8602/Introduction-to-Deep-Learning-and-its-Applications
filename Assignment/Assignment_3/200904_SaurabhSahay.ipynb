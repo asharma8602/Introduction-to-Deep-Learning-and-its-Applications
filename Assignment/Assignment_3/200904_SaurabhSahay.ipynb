{
 "cells": [
  {
   "cell_type": "markdown",
   "metadata": {},
   "source": [
    "# RNN(LSTM) model on mnist dataset for classification of digits using tensorflow"
   ]
  },
  {
   "cell_type": "code",
   "execution_count": 1,
   "metadata": {
    "id": "qgFQlulmyyas"
   },
   "outputs": [],
   "source": [
    "import tensorflow as tf"
   ]
  },
  {
   "cell_type": "markdown",
   "metadata": {},
   "source": [
    "### Importing various functions from tensorflow.keras"
   ]
  },
  {
   "cell_type": "code",
   "execution_count": 2,
   "metadata": {
    "id": "mgeTTDrWzQzU"
   },
   "outputs": [],
   "source": [
    "from tensorflow.keras.layers import Dense, LSTM, Input, Flatten\n",
    "from tensorflow.keras.models import Model"
   ]
  },
  {
   "cell_type": "markdown",
   "metadata": {},
   "source": [
    "### loading mnist dataset"
   ]
  },
  {
   "cell_type": "code",
   "execution_count": 3,
   "metadata": {
    "colab": {
     "base_uri": "https://localhost:8080/"
    },
    "id": "CpIUMVCPzfri",
    "outputId": "fe465f62-0799-4913-ad4b-5e2fd78e3655"
   },
   "outputs": [
    {
     "name": "stdout",
     "output_type": "stream",
     "text": [
      "x_train.shape  (60000, 28, 28)\n"
     ]
    }
   ],
   "source": [
    "data = tf.keras.datasets.mnist\n",
    "\n",
    "(x_train, y_train), (x_test, y_test) = data.load_data()\n",
    "\n",
    "x_train,x_test = x_train/255.0, x_test/255.0\n",
    "\n",
    "print('x_train.shape ',x_train.shape)"
   ]
  },
  {
   "cell_type": "markdown",
   "metadata": {},
   "source": [
    "### Building model using Functional API"
   ]
  },
  {
   "cell_type": "code",
   "execution_count": 4,
   "metadata": {
    "colab": {
     "base_uri": "https://localhost:8080/"
    },
    "id": "SS9lKX0Y0Buf",
    "outputId": "66f1ee07-47ce-4a15-e88f-8b13225efa4f"
   },
   "outputs": [
    {
     "name": "stdout",
     "output_type": "stream",
     "text": [
      "Model: \"model\"\n",
      "_________________________________________________________________\n",
      " Layer (type)                Output Shape              Param #   \n",
      "=================================================================\n",
      " input_1 (InputLayer)        [(None, 28, 28)]          0         \n",
      "                                                                 \n",
      " lstm (LSTM)                 (None, 64)                23808     \n",
      "                                                                 \n",
      " flatten (Flatten)           (None, 64)                0         \n",
      "                                                                 \n",
      " dense (Dense)               (None, 10)                650       \n",
      "                                                                 \n",
      "=================================================================\n",
      "Total params: 24,458\n",
      "Trainable params: 24,458\n",
      "Non-trainable params: 0\n",
      "_________________________________________________________________\n",
      "None\n"
     ]
    }
   ],
   "source": [
    "i = Input(shape=(28,28))\n",
    "\n",
    "x = LSTM(64, activation = 'relu')(i)\n",
    "x = Flatten()(x)\n",
    "x = Dense(10, activation = 'softmax')(x)\n",
    "\n",
    "model = Model(i,x)\n",
    "print(model.summary())"
   ]
  },
  {
   "cell_type": "code",
   "execution_count": 5,
   "metadata": {
    "id": "VbBA51iL0Ny-"
   },
   "outputs": [],
   "source": [
    "model.compile(optimizer = 'adam',\n",
    "              loss = 'sparse_categorical_crossentropy',\n",
    "              metrics = ['accuracy'])"
   ]
  },
  {
   "cell_type": "markdown",
   "metadata": {},
   "source": [
    "### Training Data along with validation on Test Data"
   ]
  },
  {
   "cell_type": "code",
   "execution_count": 6,
   "metadata": {
    "colab": {
     "base_uri": "https://localhost:8080/"
    },
    "id": "tjiBTDQF0-B6",
    "outputId": "a06bf5b8-195c-43db-ce4d-c2fade8f05d6"
   },
   "outputs": [
    {
     "name": "stdout",
     "output_type": "stream",
     "text": [
      "Epoch 1/20\n",
      "1875/1875 [==============================] - 19s 10ms/step - loss: 0.5657 - accuracy: 0.8148 - val_loss: 0.1475 - val_accuracy: 0.9515\n",
      "Epoch 2/20\n",
      "1875/1875 [==============================] - 17s 9ms/step - loss: 0.1444 - accuracy: 0.9549 - val_loss: 0.1104 - val_accuracy: 0.9653\n",
      "Epoch 3/20\n",
      "1875/1875 [==============================] - 18s 10ms/step - loss: 0.1024 - accuracy: 0.9680 - val_loss: 0.0874 - val_accuracy: 0.9714\n",
      "Epoch 4/20\n",
      "1875/1875 [==============================] - 18s 10ms/step - loss: 0.0813 - accuracy: 0.9747 - val_loss: 0.0863 - val_accuracy: 0.9730\n",
      "Epoch 5/20\n",
      "1875/1875 [==============================] - 18s 10ms/step - loss: 0.0696 - accuracy: 0.9791 - val_loss: 0.0650 - val_accuracy: 0.9774\n",
      "Epoch 6/20\n",
      "1875/1875 [==============================] - 18s 10ms/step - loss: 0.0582 - accuracy: 0.9818 - val_loss: 0.0599 - val_accuracy: 0.9818\n",
      "Epoch 7/20\n",
      "1875/1875 [==============================] - 18s 10ms/step - loss: 0.0503 - accuracy: 0.9845 - val_loss: 0.0481 - val_accuracy: 0.9835\n",
      "Epoch 8/20\n",
      "1875/1875 [==============================] - 17s 9ms/step - loss: 0.0442 - accuracy: 0.9862 - val_loss: 0.0645 - val_accuracy: 0.9808\n",
      "Epoch 9/20\n",
      "1875/1875 [==============================] - 17s 9ms/step - loss: 0.0400 - accuracy: 0.9879 - val_loss: 0.0619 - val_accuracy: 0.9799\n",
      "Epoch 10/20\n",
      "1875/1875 [==============================] - 16s 9ms/step - loss: 0.0355 - accuracy: 0.9886 - val_loss: 0.0398 - val_accuracy: 0.9869\n",
      "Epoch 11/20\n",
      "1875/1875 [==============================] - 16s 8ms/step - loss: 0.0333 - accuracy: 0.9896 - val_loss: 0.0496 - val_accuracy: 0.9842\n",
      "Epoch 12/20\n",
      "1875/1875 [==============================] - 16s 9ms/step - loss: 0.0290 - accuracy: 0.9906 - val_loss: 0.0432 - val_accuracy: 0.9870\n",
      "Epoch 13/20\n",
      "1875/1875 [==============================] - 17s 9ms/step - loss: 0.0267 - accuracy: 0.9913 - val_loss: 0.0349 - val_accuracy: 0.9884\n",
      "Epoch 14/20\n",
      "1875/1875 [==============================] - 16s 9ms/step - loss: 0.0258 - accuracy: 0.9918 - val_loss: 0.0427 - val_accuracy: 0.9871\n",
      "Epoch 15/20\n",
      "1875/1875 [==============================] - 16s 9ms/step - loss: 0.0242 - accuracy: 0.9922 - val_loss: 0.0411 - val_accuracy: 0.9883\n",
      "Epoch 16/20\n",
      "1875/1875 [==============================] - 16s 9ms/step - loss: 0.0229 - accuracy: 0.9926 - val_loss: 0.0457 - val_accuracy: 0.9864\n",
      "Epoch 17/20\n",
      "1875/1875 [==============================] - 17s 9ms/step - loss: 0.0205 - accuracy: 0.9934 - val_loss: 0.0407 - val_accuracy: 0.9875\n",
      "Epoch 18/20\n",
      "1875/1875 [==============================] - 16s 8ms/step - loss: 0.0199 - accuracy: 0.9937 - val_loss: 0.0445 - val_accuracy: 0.9854\n",
      "Epoch 19/20\n",
      "1875/1875 [==============================] - 16s 9ms/step - loss: 0.0177 - accuracy: 0.9944 - val_loss: 0.0400 - val_accuracy: 0.9883\n",
      "Epoch 20/20\n",
      "1875/1875 [==============================] - 16s 9ms/step - loss: 0.0184 - accuracy: 0.9936 - val_loss: 0.0435 - val_accuracy: 0.9880\n"
     ]
    }
   ],
   "source": [
    "r = model.fit(x_train, y_train, validation_data = (x_test, y_test), epochs = 20)"
   ]
  },
  {
   "cell_type": "markdown",
   "metadata": {},
   "source": [
    "### Model loss and accuracy on test data"
   ]
  },
  {
   "cell_type": "code",
   "execution_count": 7,
   "metadata": {
    "colab": {
     "base_uri": "https://localhost:8080/"
    },
    "id": "3cLs4s0Q1KYv",
    "outputId": "102d5fc5-4f74-494b-fb43-59b521d55444"
   },
   "outputs": [
    {
     "name": "stdout",
     "output_type": "stream",
     "text": [
      "313/313 [==============================] - 1s 5ms/step - loss: 0.0435 - accuracy: 0.9880\n"
     ]
    },
    {
     "data": {
      "text/plain": [
       "[0.04354819282889366, 0.9879999756813049]"
      ]
     },
     "execution_count": 7,
     "metadata": {},
     "output_type": "execute_result"
    }
   ],
   "source": [
    "model.evaluate(x_test, y_test)"
   ]
  },
  {
   "cell_type": "markdown",
   "metadata": {},
   "source": [
    "### Plot of loss and val_loss"
   ]
  },
  {
   "cell_type": "code",
   "execution_count": 8,
   "metadata": {
    "colab": {
     "base_uri": "https://localhost:8080/",
     "height": 282
    },
    "id": "mT24c0fO38ry",
    "outputId": "06971efa-2fa0-47e9-df8f-5285c4550b85"
   },
   "outputs": [
    {
     "data": {
      "text/plain": [
       "<matplotlib.legend.Legend at 0x2206f54ab20>"
      ]
     },
     "execution_count": 8,
     "metadata": {},
     "output_type": "execute_result"
    },
    {
     "data": {
      "image/png": "[encoded data removed]",
      "text/plain": [
       "<Figure size 432x288 with 1 Axes>"
      ]
     },
     "metadata": {
      "needs_background": "light"
     },
     "output_type": "display_data"
    }
   ],
   "source": [
    "import matplotlib.pyplot as plt\n",
    "plt.plot(r.history['val_loss'],label = 'val_loss')\n",
    "plt.plot(r.history['loss'],label = 'loss')\n",
    "plt.legend()"
   ]
  },
  {
   "cell_type": "markdown",
   "metadata": {},
   "source": [
    "### Plot of accuracy and val_accuracy"
   ]
  },
  {
   "cell_type": "code",
   "execution_count": 9,
   "metadata": {
    "colab": {
     "base_uri": "https://localhost:8080/",
     "height": 284
    },
    "id": "uGIVigA84Rl8",
    "outputId": "db6c11e6-cb7a-498d-a975-43eff41641be"
   },
   "outputs": [
    {
     "data": {
      "text/plain": [
       "<matplotlib.legend.Legend at 0x2206f660070>"
      ]
     },
     "execution_count": 9,
     "metadata": {},
     "output_type": "execute_result"
    },
    {
     "data": {
      "image/png": "[encoded data removed]",
      "text/plain": [
       "<Figure size 432x288 with 1 Axes>"
      ]
     },
     "metadata": {
      "needs_background": "light"
     },
     "output_type": "display_data"
    }
   ],
   "source": [
    "plt.plot(r.history['val_accuracy'],label = 'val_accuracy')\n",
    "plt.plot(r.history['accuracy'],label = 'accuracy')\n",
    "plt.legend()"
   ]
  },
  {
   "cell_type": "code",
   "execution_count": null,
   "metadata": {
    "id": "omgfq3kg4wCO"
   },
   "outputs": [],
   "source": [
    "\n"
   ]
  }
 ],
 "metadata": {
  "accelerator": "GPU",
  "colab": {
   "name": "Untitled1.ipynb",
   "provenance": []
  },
  "gpuClass": "standard",
  "kernelspec": {
   "display_name": "Python 3 (ipykernel)",
   "language": "python",
   "name": "python3"
  },
  "language_info": {
   "codemirror_mode": {
    "name": "ipython",
    "version": 3
   },
   "file_extension": ".py",
   "mimetype": "text/x-python",
   "name": "python",
   "nbconvert_exporter": "python",
   "pygments_lexer": "ipython3",
   "version": "3.9.7"
  }
 },
 "nbformat": 4,
 "nbformat_minor": 1
}
