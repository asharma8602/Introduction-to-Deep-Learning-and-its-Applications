{
  "nbformat": 4,
  "nbformat_minor": 0,
  "metadata": {
    "colab": {
      "name": "Ankur Ass3 deep learning.ipynb",
      "provenance": [],
      "collapsed_sections": []
    },
    "kernelspec": {
      "display_name": "Python 3",
      "language": "python",
      "name": "python3"
    }
  },
  "cells": [
    {
      "cell_type": "markdown",
      "metadata": {
        "id": "BVq5mz9s8CPL"
      },
      "source": [
        "## Building RNN for Image Identification using PyTorch"
      ]
    },
    {
      "cell_type": "code",
      "metadata": {
        "id": "hicY8Xs6_dI4",
        "outputId": "c945d087-9003-4821-903c-33d8d4853bc7",
        "colab": {
          "base_uri": "https://localhost:8080/"
        }
      },
      "source": [
        "!pip3 install torch torchvision"
      ],
      "execution_count": 1,
      "outputs": [
        {
          "output_type": "stream",
          "name": "stdout",
          "text": [
            "Looking in indexes: https://pypi.org/simple, https://us-python.pkg.dev/colab-wheels/public/simple/\n",
            "Requirement already satisfied: torch in /usr/local/lib/python3.7/dist-packages (1.11.0+cu113)\n",
            "Requirement already satisfied: torchvision in /usr/local/lib/python3.7/dist-packages (0.12.0+cu113)\n",
            "Requirement already satisfied: typing-extensions in /usr/local/lib/python3.7/dist-packages (from torch) (4.1.1)\n",
            "Requirement already satisfied: pillow!=8.3.*,>=5.3.0 in /usr/local/lib/python3.7/dist-packages (from torchvision) (7.1.2)\n",
            "Requirement already satisfied: numpy in /usr/local/lib/python3.7/dist-packages (from torchvision) (1.21.6)\n",
            "Requirement already satisfied: requests in /usr/local/lib/python3.7/dist-packages (from torchvision) (2.23.0)\n",
            "Requirement already satisfied: certifi>=2017.4.17 in /usr/local/lib/python3.7/dist-packages (from requests->torchvision) (2022.6.15)\n",
            "Requirement already satisfied: chardet<4,>=3.0.2 in /usr/local/lib/python3.7/dist-packages (from requests->torchvision) (3.0.4)\n",
            "Requirement already satisfied: urllib3!=1.25.0,!=1.25.1,<1.26,>=1.21.1 in /usr/local/lib/python3.7/dist-packages (from requests->torchvision) (1.24.3)\n",
            "Requirement already satisfied: idna<3,>=2.5 in /usr/local/lib/python3.7/dist-packages (from requests->torchvision) (2.10)\n"
          ]
        }
      ]
    },
    {
      "cell_type": "markdown",
      "metadata": {
        "id": "mXs_oWct-qxY"
      },
      "source": [
        "installing the libs:\n"
      ]
    },
    {
      "cell_type": "code",
      "metadata": {
        "id": "BBuAr4-L8CPN"
      },
      "source": [
        "import torch\n",
        "import torch.nn as nn\n",
        "import torch.nn.functional as F\n",
        "import os\n",
        "import numpy as np"
      ],
      "execution_count": 2,
      "outputs": []
    },
    {
      "cell_type": "markdown",
      "metadata": {
        "id": "EMQfRrRl8CPV"
      },
      "source": [
        "### RNN with A Single Neuron\n",
        "\n",
        "\n"
      ]
    },
    {
      "cell_type": "markdown",
      "metadata": {
        "id": "kHjE4j2x8CPW"
      },
      "source": [
        "Code:"
      ]
    },
    {
      "cell_type": "code",
      "metadata": {
        "id": "qiY3EllI8CPY"
      },
      "source": [
        "class SingleRNN(nn.Module):\n",
        "    def __init__(self, n_inputs, n_neurons):\n",
        "        super(SingleRNN, self).__init__()\n",
        "        self.Wx = torch.randn(n_inputs, n_neurons) # 4x1\n",
        "        self.Wy = torch.randn(n_neurons, n_neurons) # 1x1\n",
        "        self.b = torch.zeros(1, n_neurons) # 1x4\n",
        "    def forward(self, X0, X1):\n",
        "        self.Y0 = torch.tanh(torch.mm(X0, self.Wx) + self.b) \n",
        "        self.Y1 = torch.tanh(torch.mm(self.Y0, self.Wy) +   torch.mm(X1, self.Wx) + self.b)\n",
        "        return self.Y0, self.Y1"
      ],
      "execution_count": 3,
      "outputs": []
    },
    {
      "cell_type": "markdown",
      "metadata": {
        "id": "cP94VBHE8CPc"
      },
      "source": [
        "In the above code, I have implemented a simple one layer,\n",
        "one neuron RNN. \n",
        "I initialized 2 weights, `Wx` and `Wy`; \n",
        "\n",
        "Also my activation function used is 'tanh'\n",
        "\n"
      ]
    },
    {
      "cell_type": "markdown",
      "metadata": {
        "id": "ydSxau_eFpwH"
      },
      "source": [
        "And this is the code to test the model:"
      ]
    },
    {
      "cell_type": "code",
      "metadata": {
        "id": "7a7-kIhj8CPe"
      },
      "source": [
        "N_INPUT = 4\n",
        "N_NEURONS = 1\n",
        "\n",
        "X0_batch = torch.tensor( [ [0,1,2,0], [3,4,5,0], [6,7,8,0], [9,0,1,0] ] ,       dtype = torch.float)\n",
        "X1_batch = torch.tensor( [ [9,8,7,0], [0,0,0,0], [6,5,4,0], [3,2,1,0] ] ,       dtype = torch.float)\n",
        "model = SingleRNN(N_INPUT, N_NEURONS)\n",
        "Y0_val, Y1_val = model(X0_batch, X1_batch)"
      ],
      "execution_count": 4,
      "outputs": []
    },
    {
      "cell_type": "markdown",
      "metadata": {
        "id": "uNaFkJUP8CPj"
      },
      "source": [
        "After we have fed the input into the computation graph, we obtain outputs for each timestep (`Y0`, `Y1`):"
      ]
    },
    {
      "cell_type": "code",
      "metadata": {
        "id": "q-teLNoV8CPl",
        "outputId": "02a11c8f-8854-482c-e4c6-7e1c67c7f1d9",
        "colab": {
          "base_uri": "https://localhost:8080/"
        }
      },
      "source": [
        "print(Y0_val)\n",
        "print(Y1_val)"
      ],
      "execution_count": 5,
      "outputs": [
        {
          "output_type": "stream",
          "name": "stdout",
          "text": [
            "tensor([[-0.8761],\n",
            "        [-1.0000],\n",
            "        [-1.0000],\n",
            "        [-1.0000]])\n",
            "tensor([[-1.0000],\n",
            "        [-0.0997],\n",
            "        [-1.0000],\n",
            "        [-0.9999]])\n"
          ]
        }
      ]
    },
    {
      "cell_type": "markdown",
      "metadata": {
        "id": "n6tcX6ii8CP0"
      },
      "source": [
        "### Increasing Neurons in RNN Layer\n",
        "now we increase neurons innvolved in the network which in turn wants us to increase the input data too\n"
      ]
    },
    {
      "cell_type": "markdown",
      "metadata": {
        "id": "t5e2Eh5dGvnB"
      },
      "source": [
        "CODE:"
      ]
    },
    {
      "cell_type": "code",
      "metadata": {
        "id": "zcEqoDfP8CP2"
      },
      "source": [
        "class BasicRNN(nn.Module):\n",
        "    def __init__(self, n_inputs, n_neurons):\n",
        "        super(BasicRNN, self).__init__()\n",
        "        \n",
        "        self.Wx = torch.randn(n_inputs, n_neurons)\n",
        "        self.Wy = torch.randn(n_neurons, n_neurons) \n",
        "        self.b = torch.zeros(1, n_neurons) \n",
        "    \n",
        "    def forward(self, X0, X1):\n",
        "        self.Y0 = torch.tanh(torch.mm(X0, self.Wx) + self.b) \n",
        "        self.Y1 = torch.tanh(torch.mm(self.Y0, self.Wy) + torch.mm(X1, self.Wx) + self.b) #using mm is better than using matmul\n",
        "        \n",
        "        return self.Y0, self.Y1"
      ],
      "execution_count": 6,
      "outputs": []
    },
    {
      "cell_type": "code",
      "metadata": {
        "id": "xlc4vEf88CP5"
      },
      "source": [
        "N_INPUT = 3 #features in input\n",
        "N_NEURONS = 5 #units in layer\n",
        "\n",
        "X0_batch = torch.tensor([[0,1,2], [3,4,5], [6,7,8], [9,0,1]],  dtype = torch.float)\n",
        "X1_batch = torch.tensor([[9,8,7], [0,0,0], [6,5,4], [3,2,1]],  dtype = torch.float)\n",
        "\n",
        "model = BasicRNN(N_INPUT, N_NEURONS)\n",
        "Y0_val, Y1_val = model(X0_batch, X1_batch)"
      ],
      "execution_count": 7,
      "outputs": []
    },
    {
      "cell_type": "markdown",
      "metadata": {
        "id": "c9VNN7jf8CP9"
      },
      "source": [
        "Now when we print the outputs produced for each time step, it is of size (4x5), which represents the batch size and number of neurons :)\n"
      ]
    },
    {
      "cell_type": "code",
      "metadata": {
        "id": "r1kiEzop8CP-",
        "outputId": "2d295884-e2a0-486e-bb2d-2ec8eb0c1451",
        "colab": {
          "base_uri": "https://localhost:8080/"
        }
      },
      "source": [
        "print(Y0_val)\n",
        "print(Y1_val)"
      ],
      "execution_count": 8,
      "outputs": [
        {
          "output_type": "stream",
          "name": "stdout",
          "text": [
            "tensor([[ 0.9715, -0.9766,  0.0052, -0.9870,  0.5240],\n",
            "        [ 1.0000, -1.0000, -0.9920, -0.9998, -0.5416],\n",
            "        [ 1.0000, -1.0000, -1.0000, -1.0000, -0.9463],\n",
            "        [ 1.0000, -1.0000, -1.0000,  1.0000, -0.9977]])\n",
            "tensor([[ 1.0000, -1.0000, -1.0000, -0.9994, -0.9610],\n",
            "        [-0.9999,  0.9479,  0.7956,  0.8249,  0.9990],\n",
            "        [ 1.0000, -1.0000, -0.9994, -0.7016,  0.6278],\n",
            "        [-0.8624,  0.9527, -0.9756,  0.9990, -0.3854]])\n"
          ]
        }
      ]
    },
    {
      "cell_type": "markdown",
      "metadata": {
        "id": "BRKjsv2t8CQG"
      },
      "source": [
        "### PyTorch Built-in RNN Cell"
      ]
    },
    {
      "cell_type": "code",
      "metadata": {
        "id": "Dp0Wjh4Z8CQI",
        "outputId": "4bf335df-1194-441d-b82a-fcbfdd967696",
        "colab": {
          "base_uri": "https://localhost:8080/"
        }
      },
      "source": [
        "rnn = nn.RNNCell(3, 5) # input x   neurons\n",
        "\n",
        "X_batch = torch.tensor([\n",
        "                        [[0,1,2], [3,4,5], \n",
        "                         [6,7,8], [9,0,1]],\n",
        "                        \n",
        "                        [[9,8,7], [0,0,0], \n",
        "                         [6,5,4], [3,2,1]]\n",
        "                       ], \n",
        "                       dtype = torch.float) \n",
        "\n",
        "hx = torch.randn(4, 5)\n",
        "output = []\n",
        "\n",
        "for i in range(2):\n",
        "    hx = rnn(X_batch[i], hx)\n",
        "    output.append(hx)\n",
        "\n",
        "print(output)"
      ],
      "execution_count": 9,
      "outputs": [
        {
          "output_type": "stream",
          "name": "stdout",
          "text": [
            "[tensor([[ 0.2446,  0.2754,  0.5355,  0.8938,  0.6500],\n",
            "        [-0.1844,  0.9034,  0.6055,  0.9995,  0.8145],\n",
            "        [-0.9652,  0.9980,  0.9763,  1.0000,  0.9820],\n",
            "        [-0.6236, -0.9996, -0.9451,  0.9939, -0.9788]],\n",
            "       grad_fn=<TanhBackward0>), tensor([[-0.9308,  0.9675,  0.9935,  1.0000,  0.9464],\n",
            "        [-0.1899, -0.0358,  0.5168,  0.5522,  0.7270],\n",
            "        [-0.6701,  0.6249,  0.9610,  1.0000,  0.8676],\n",
            "        [ 0.6517, -0.5705,  0.1597,  0.9703, -0.6797]],\n",
            "       grad_fn=<TanhBackward0>)]\n"
          ]
        }
      ]
    },
    {
      "cell_type": "markdown",
      "metadata": {
        "id": "cRNUCsXl8CQN"
      },
      "source": [
        "With the above code, we have basically implemented the same model that was implemented in BasicRNN\n",
        "\n",
        "Next I'll build the computation graph using the same information we used above."
      ]
    },
    {
      "cell_type": "code",
      "metadata": {
        "id": "Opob45Zj8CQP"
      },
      "source": [
        "class CleanBasicRNN(nn.Module):\n",
        "    def __init__(self, batch_size, n_inputs, n_neurons):\n",
        "        super(CleanBasicRNN, self).__init__()\n",
        "        \n",
        "        self.rnn = nn.RNNCell(n_inputs, n_neurons)\n",
        "        self.hx = torch.randn(batch_size, n_neurons) # initialize hidden state\n",
        "        \n",
        "    def forward(self, X):\n",
        "        output = []\n",
        "\n",
        "        for i in range(2):\n",
        "            self.hx = self.rnn(X[i], self.hx)\n",
        "            output.append(self.hx)\n",
        "        \n",
        "        return output, self.hx"
      ],
      "execution_count": 10,
      "outputs": []
    },
    {
      "cell_type": "code",
      "metadata": {
        "id": "oL1yBNis8CQa",
        "outputId": "068e97a8-c771-4afd-ed3a-0396a7032d03",
        "colab": {
          "base_uri": "https://localhost:8080/"
        }
      },
      "source": [
        "FIXED_BATCH_SIZE = 4\n",
        "N_INPUT = 3\n",
        "N_NEURONS = 5\n",
        "\n",
        "X_batch = torch.tensor([\n",
        "                        [[0,1,2], [3,4,5], \n",
        "                         [6,7,8], [9,0,1]],\n",
        "                        [[9,8,7], [0,0,0], \n",
        "                         [6,5,4], [3,2,1]]\n",
        "                       ], \n",
        "                       dtype = torch.float) \n",
        "\n",
        "\n",
        "model = CleanBasicRNN(FIXED_BATCH_SIZE, N_INPUT, N_NEURONS)\n",
        "output_val, states_val = model(X_batch)\n",
        "print(output_val) #outputs\n",
        "print(states_val) #final state"
      ],
      "execution_count": 11,
      "outputs": [
        {
          "output_type": "stream",
          "name": "stdout",
          "text": [
            "[tensor([[-0.8987, -0.5277, -0.4045,  0.5621, -0.8085],\n",
            "        [-0.9978, -0.5322, -0.7543,  0.8798, -0.9833],\n",
            "        [-0.9999, -0.9347, -0.9977,  0.9937, -0.9971],\n",
            "        [-0.9675, -0.9784, -0.3113, -0.9829, -0.9998]],\n",
            "       grad_fn=<TanhBackward0>), tensor([[-1.0000, -0.9918, -0.9956,  0.9711, -0.9989],\n",
            "        [-0.3868,  0.0712,  0.5874,  0.0882,  0.5805],\n",
            "        [-0.9984, -0.9198, -0.8817,  0.7978, -0.9628],\n",
            "        [-0.8891, -0.7765, -0.6650,  0.5481, -0.5822]],\n",
            "       grad_fn=<TanhBackward0>)]\n",
            "tensor([[-1.0000, -0.9918, -0.9956,  0.9711, -0.9989],\n",
            "        [-0.3868,  0.0712,  0.5874,  0.0882,  0.5805],\n",
            "        [-0.9984, -0.9198, -0.8817,  0.7978, -0.9628],\n",
            "        [-0.8891, -0.7765, -0.6650,  0.5481, -0.5822]],\n",
            "       grad_fn=<TanhBackward0>)\n"
          ]
        }
      ]
    },
    {
      "cell_type": "markdown",
      "metadata": {
        "id": "l240cp4g8CQh"
      },
      "source": [
        "Here we don't need to explicitly operate on the weights as shown in the previous code"
      ]
    },
    {
      "cell_type": "markdown",
      "metadata": {
        "id": "n3zn-Ydx8CQi"
      },
      "source": [
        "### RNN for Image Classification"
      ]
    },
    {
      "cell_type": "markdown",
      "metadata": {
        "id": "eTJHs-S-8CQk"
      },
      "source": [
        "IMPORTING MNIST DATABASE AND BUILDING IMAGE IDENTIFIER ON IT\n"
      ]
    },
    {
      "cell_type": "markdown",
      "metadata": {
        "id": "4vnhd2vR8CQo"
      },
      "source": [
        "#### Importing the dataset \n",
        "let's import the MNIST dataset, split it into test and train portions, do a few transformations, and further explore it. "
      ]
    },
    {
      "cell_type": "code",
      "metadata": {
        "id": "6FViVH8w8CQr"
      },
      "source": [
        "import torchvision\n",
        "import torchvision.transforms as transforms"
      ],
      "execution_count": 12,
      "outputs": []
    },
    {
      "cell_type": "code",
      "metadata": {
        "id": "yrNdklIv8CQv"
      },
      "source": [
        "BATCH_SIZE = 64\n",
        "\n",
        "# list all transformations\n",
        "transform = transforms.Compose([transforms.ToTensor()])\n",
        "# download and load training dataset\n",
        "trainset = torchvision.datasets.MNIST(root='./data', train=True, download=True, transform=transform)\n",
        "trainloader = torch.utils.data.DataLoader(trainset, batch_size=BATCH_SIZE, shuffle=True, num_workers=2)\n",
        "# download and load testing dataset\n",
        "testset = torchvision.datasets.MNIST(root='./data', train=False, download=True, transform=transform)\n",
        "testloader = torch.utils.data.DataLoader(testset, batch_size=BATCH_SIZE, shuffle=False, num_workers=2)"
      ],
      "execution_count": 13,
      "outputs": []
    },
    {
      "cell_type": "markdown",
      "metadata": {
        "id": "Ixg3XnDM8CQy"
      },
      "source": [
        "The code above loads and prepares the dataset to be fed into the computation graph "
      ]
    },
    {
      "cell_type": "markdown",
      "metadata": {
        "id": "2f0fVaIV8CQ3"
      },
      "source": [
        "#### Exploring the dataset\n"
      ]
    },
    {
      "cell_type": "code",
      "metadata": {
        "id": "TEKzVTOY8CQ4",
        "outputId": "79b2c83c-ede7-411d-f329-9e8ae1e40357",
        "colab": {
          "base_uri": "https://localhost:8080/",
          "height": 269
        }
      },
      "source": [
        "import matplotlib.pyplot as plt\n",
        "import numpy as np\n",
        "\n",
        "def imshow(img):\n",
        "    npimg = img.numpy()\n",
        "    plt.imshow(np.transpose(npimg, (1, 2, 0)))\n",
        "\n",
        "dataiter = iter(trainloader)\n",
        "images, labels = dataiter.next()\n",
        "\n",
        "imshow(torchvision.utils.make_grid(images))"
      ],
      "execution_count": 14,
      "outputs": [
        {
          "output_type": "display_data",
          "data": {
            "text/plain": [
              "<Figure size 432x288 with 1 Axes>"
            ],
            "image/png": "[encoded data removed]"
          },
          "metadata": {
            "needs_background": "light"
          }
        }
      ]
    },
    {
      "cell_type": "markdown",
      "metadata": {
        "id": "Y7NloDy08CQ9"
      },
      "source": [
        "#### Model\n",
        "Let's construct the computation graph. Below are the parameters:"
      ]
    },
    {
      "cell_type": "code",
      "metadata": {
        "id": "dqjWHTo08CQ-"
      },
      "source": [
        "# parameters \n",
        "N_STEPS = 28\n",
        "N_INPUTS = 28\n",
        "N_NEURONS = 150\n",
        "N_OUTPUTS = 10\n",
        "N_EPOCHS = 20 #no of training iterations"
      ],
      "execution_count": 15,
      "outputs": []
    },
    {
      "cell_type": "markdown",
      "metadata": {
        "id": "gpFu75e88CRB"
      },
      "source": [
        "And finally, here is a figure of the RNN-based classification model we are building:\n"
      ]
    },
    {
      "cell_type": "code",
      "metadata": {
        "id": "14jNZxeg8CRD"
      },
      "source": [
        "class ImageRNN(nn.Module):\n",
        "    def __init__(self, batch_size, n_steps, n_inputs, n_neurons, n_outputs):\n",
        "        super(ImageRNN, self).__init__()\n",
        "        \n",
        "        self.n_neurons = n_neurons\n",
        "        self.batch_size = batch_size\n",
        "        self.n_steps = n_steps\n",
        "        self.n_inputs = n_inputs\n",
        "        self.n_outputs = n_outputs\n",
        "        \n",
        "        self.basic_rnn = nn.RNN(self.n_inputs, self.n_neurons) \n",
        "        \n",
        "        self.FC = nn.Linear(self.n_neurons, self.n_outputs)\n",
        "        \n",
        "    def init_hidden(self,):\n",
        "        # (num_layers, batch_size, n_neurons)\n",
        "        return (torch.zeros(1, self.batch_size, self.n_neurons))\n",
        "        \n",
        "    def forward(self, X):\n",
        "        # X's dimension=(steps,batch,input)\n",
        "        X = X.permute(1, 0, 2) \n",
        "        \n",
        "        self.batch_size = X.size(1)\n",
        "        self.hidden = self.init_hidden()\n",
        "\n",
        "        lstm_out, self.hidden = self.basic_rnn(X, self.hidden)      \n",
        "        out = self.FC(self.hidden)\n",
        "        \n",
        "        return out.view(-1, self.n_outputs)"
      ],
      "execution_count": 16,
      "outputs": []
    },
    {
      "cell_type": "markdown",
      "metadata": {
        "id": "bJUCKm_U8CRK"
      },
      "source": [
        "#### Testing the model"
      ]
    },
    {
      "cell_type": "code",
      "metadata": {
        "id": "P6W0jwK08CRM",
        "outputId": "0cdfbbc1-4448-4d6d-a447-bbf3fa270cf5",
        "colab": {
          "base_uri": "https://localhost:8080/"
        }
      },
      "source": [
        "dataiter = iter(trainloader)\n",
        "images, labels = dataiter.next()\n",
        "model = ImageRNN(BATCH_SIZE, N_STEPS, N_INPUTS, N_NEURONS, N_OUTPUTS)\n",
        "logits = model(images.view(-1, 28,28))\n",
        "print(logits[0:10])"
      ],
      "execution_count": 17,
      "outputs": [
        {
          "output_type": "stream",
          "name": "stdout",
          "text": [
            "tensor([[-1.1126e-01,  9.3737e-03, -6.9560e-03, -1.1252e-01,  9.6524e-03,\n",
            "          7.3706e-02,  6.5035e-02,  1.7344e-02, -4.6952e-03,  1.3059e-02],\n",
            "        [-1.1774e-01,  1.0815e-02,  9.2558e-03, -1.1275e-01,  1.5831e-02,\n",
            "          6.9693e-02,  6.6112e-02, -6.8615e-03,  1.0603e-02,  3.5518e-02],\n",
            "        [-1.1304e-01, -4.5833e-03, -1.5092e-02, -1.8922e-01, -2.6629e-02,\n",
            "          1.0746e-01,  6.8362e-02, -2.4900e-02, -4.3922e-02, -1.2782e-02],\n",
            "        [-1.2878e-01, -1.7255e-02, -1.7445e-02, -1.0325e-01, -1.7231e-04,\n",
            "          6.8286e-02,  6.4328e-02,  1.0524e-02, -8.8058e-03,  2.4174e-02],\n",
            "        [-1.2605e-01, -2.6459e-02, -2.0283e-02, -1.2304e-01,  1.0385e-02,\n",
            "          7.1753e-02,  7.1347e-02,  2.5088e-02, -1.5675e-02,  5.3451e-03],\n",
            "        [-1.2723e-01, -3.9954e-03, -4.0251e-02, -1.0236e-01, -6.8401e-03,\n",
            "          6.7049e-02,  4.7343e-02,  2.7480e-02,  6.6994e-03,  3.7974e-02],\n",
            "        [-1.3505e-01, -9.8193e-03, -2.4651e-02, -9.8852e-02,  2.5242e-03,\n",
            "          7.0225e-02,  6.0150e-02,  1.7828e-02, -5.7520e-03,  3.3663e-02],\n",
            "        [-6.4638e-02, -9.5284e-02, -7.7297e-02, -2.1075e-01,  5.1387e-03,\n",
            "          1.0358e-01,  1.0684e-01,  2.8444e-02, -2.8130e-02, -6.4700e-03],\n",
            "        [-1.3030e-01, -2.1462e-02, -2.1328e-02, -1.0445e-01,  9.2669e-04,\n",
            "          6.6534e-02,  6.6641e-02,  1.0719e-02, -9.8561e-03,  2.0531e-02],\n",
            "        [-1.3133e-01, -1.4421e-02, -1.7471e-02, -1.0448e-01,  3.7080e-04,\n",
            "          6.4748e-02,  6.8517e-02,  1.1080e-02, -5.4256e-03,  3.1113e-02]],\n",
            "       grad_fn=<SliceBackward0>)\n"
          ]
        }
      ]
    },
    {
      "cell_type": "markdown",
      "metadata": {
        "id": "BKDkckp98CRQ"
      },
      "source": [
        "#### Training"
      ]
    },
    {
      "cell_type": "markdown",
      "metadata": {
        "id": "46Qke-c08CRR"
      },
      "source": [
        "Now let's look at the code for training the image classification model. But first, let's declare a few helper functions needed to train the model:"
      ]
    },
    {
      "cell_type": "markdown",
      "source": [
        "HELPER FUNCTIONS:"
      ],
      "metadata": {
        "id": "8_N-EaFqeoow"
      }
    },
    {
      "cell_type": "code",
      "metadata": {
        "id": "BoDWoBuy8CRS"
      },
      "source": [
        "import torch.optim as optim\n",
        "\n",
        "device = torch.device(\"cuda:0\" if torch.cuda.is_available() else \"cpu\")\n",
        "\n",
        "model = ImageRNN(BATCH_SIZE, N_STEPS, N_INPUTS, N_NEURONS, N_OUTPUTS)\n",
        "criterion = nn.CrossEntropyLoss()\n",
        "optimizer = optim.Adam(model.parameters(), lr=0.001)\n",
        "\n",
        "def get_accuracy(logit, target, batch_size):\n",
        "    ''' Obtain accuracy for training round '''\n",
        "    corrects = (torch.max(logit, 1)[1].view(target.size()).data == target.data).sum()\n",
        "    accuracy = 100.0 * corrects/batch_size\n",
        "    return accuracy.item()"
      ],
      "execution_count": 18,
      "outputs": []
    },
    {
      "cell_type": "markdown",
      "metadata": {
        "id": "uvCzj28o8CRX"
      },
      "source": [
        "\"\"torch.device(...)\"\" function tells the program that we want to use the GPU \n",
        "\n",
        "To compute the loss, the function needs both the log probabilities and targets. \n",
        "\n",
        "For activation function I've used loog softmax function\n",
        "\n",
        "Optimization algorithm updateS weights based on the current loss. \n",
        "\n",
        "training our image classification model:"
      ]
    },
    {
      "cell_type": "code",
      "metadata": {
        "id": "LaAmGhZT8CRX",
        "outputId": "b313e647-6756-48de-ef5f-10d82e6b717d",
        "colab": {
          "base_uri": "https://localhost:8080/"
        }
      },
      "source": [
        "for epoch in range(N_EPOCHS):  \n",
        "# loop over the dataset multiple times\n",
        "    train_running_loss = 0.0\n",
        "    train_acc = 0.0\n",
        "    model.train()\n",
        "    \n",
        "    # TRAINING \n",
        "    for i, data in enumerate(trainloader):\n",
        "\n",
        "        optimizer.zero_grad()\n",
        "        # reset hidden states\n",
        "        model.hidden = model.init_hidden() \n",
        "        # inputs\n",
        "        inputs, labels = data\n",
        "        inputs = inputs.view(-1, 28,28) \n",
        "        # forward...backward...optimize\n",
        "        outputs = model(inputs)\n",
        "        loss = criterion(outputs, labels)\n",
        "        loss.backward()\n",
        "        optimizer.step()\n",
        "\n",
        "        train_running_loss += loss.detach().item()\n",
        "        train_acc += get_accuracy(outputs, labels, BATCH_SIZE)\n",
        "         \n",
        "    model.eval()\n",
        "    print('Epoch:  %d | Loss: %.4f | Train Accuracy: %.2f' \n",
        "          %(epoch, train_running_loss / i, train_acc/i)) \n",
        "    #printing accuracy"
      ],
      "execution_count": null,
      "outputs": [
        {
          "output_type": "stream",
          "name": "stdout",
          "text": [
            "Epoch:  0 | Loss: 0.7315 | Train Accuracy: 76.07\n",
            "Epoch:  1 | Loss: 0.2769 | Train Accuracy: 92.05\n",
            "Epoch:  2 | Loss: 0.2000 | Train Accuracy: 94.34\n",
            "Epoch:  3 | Loss: 0.1647 | Train Accuracy: 95.37\n",
            "Epoch:  4 | Loss: 0.1540 | Train Accuracy: 95.73\n",
            "Epoch:  5 | Loss: 0.1402 | Train Accuracy: 96.08\n",
            "Epoch:  6 | Loss: 0.1314 | Train Accuracy: 96.36\n",
            "Epoch:  7 | Loss: 0.1187 | Train Accuracy: 96.64\n",
            "Epoch:  8 | Loss: 0.1228 | Train Accuracy: 96.56\n",
            "Epoch:  9 | Loss: 0.1101 | Train Accuracy: 96.92\n",
            "Epoch:  10 | Loss: 0.1034 | Train Accuracy: 97.09\n",
            "Epoch:  11 | Loss: 0.1011 | Train Accuracy: 97.16\n",
            "Epoch:  12 | Loss: 0.1011 | Train Accuracy: 97.16\n",
            "Epoch:  13 | Loss: 0.0980 | Train Accuracy: 97.26\n",
            "Epoch:  14 | Loss: 0.0869 | Train Accuracy: 97.60\n",
            "Epoch:  15 | Loss: 0.0965 | Train Accuracy: 97.33\n"
          ]
        }
      ]
    },
    {
      "cell_type": "markdown",
      "metadata": {
        "id": "93-DMqi58CRf"
      },
      "source": [
        "computing the accuracy on MNIST dataset:"
      ]
    },
    {
      "cell_type": "code",
      "metadata": {
        "id": "BzeqYT4N8CRi",
        "outputId": "61d92903-13b5-4006-c259-b27325b56eb3",
        "colab": {
          "base_uri": "https://localhost:8080/"
        }
      },
      "source": [
        "test_acc = 0.0\n",
        "for i, data in enumerate(testloader, 0):\n",
        "    inputs, labels = data\n",
        "    inputs = inputs.view(-1, 28, 28)\n",
        "\n",
        "    outputs = model(inputs)\n",
        "\n",
        "    test_acc += get_accuracy(outputs, labels, BATCH_SIZE)\n",
        "        \n",
        "print('Test Accuracy: %.2f'%( test_acc/i))"
      ],
      "execution_count": 21,
      "outputs": [
        {
          "output_type": "stream",
          "name": "stdout",
          "text": [
            "Test Accuracy: 96.19\n"
          ]
        }
      ]
    }
  ]
}
