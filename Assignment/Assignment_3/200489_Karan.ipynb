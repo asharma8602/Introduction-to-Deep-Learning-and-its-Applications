{
  "nbformat": 4,
  "nbformat_minor": 0,
  "metadata": {
    "colab": {
      "name": "Untitled2.ipynb",
      "provenance": [],
      "collapsed_sections": []
    },
    "kernelspec": {
      "name": "python3",
      "display_name": "Python 3"
    },
    "language_info": {
      "name": "python"
    }
  },
  "cells": [
    {
      "cell_type": "code",
      "execution_count": 7,
      "metadata": {
        "id": "g7pTz8e_i0an"
      },
      "outputs": [],
      "source": [
        "from keras.models import Sequential\n",
        "from keras.layers import LSTM, Dense\n",
        "from keras.datasets import mnist\n",
        "from keras.utils import np_utils\n",
        "from keras import initializers\n",
        "\n",
        "def init_weights(shape, name=None):\n",
        "    return initializations.normal(shape, scale=0.01, name=name)\n"
      ]
    },
    {
      "cell_type": "code",
      "source": [
        "batch_size = 128\n",
        "nb_epoch = 50\n",
        "\n",
        "img_rows, img_cols = 28, 28\n",
        "nb_classes = 10\n",
        "\n",
        "nb_lstm_outputs = 30\n",
        "nb_time_steps = img_rows\n",
        "dim_input_vector = img_cols"
      ],
      "metadata": {
        "id": "OQzY5tRwi4CV"
      },
      "execution_count": 8,
      "outputs": []
    },
    {
      "cell_type": "code",
      "source": [
        "(X_train, y_train), (X_test, y_test) = mnist.load_data()\n",
        "print('X_train original shape:', X_train.shape)\n",
        "input_shape = (nb_time_steps, dim_input_vector)\n",
        "\n",
        "X_train = X_train.astype('float32') / 255.\n",
        "X_test = X_test.astype('float32') / 255.\n",
        "Y_train = np_utils.to_categorical(y_train, nb_classes)\n",
        "Y_test = np_utils.to_categorical(y_test, nb_classes)\n",
        "\n",
        "print('X_train shape:', X_train.shape)\n",
        "print(X_train.shape[0], 'train samples')\n",
        "print(X_test.shape[0], 'test samples')"
      ],
      "metadata": {
        "colab": {
          "base_uri": "https://localhost:8080/"
        },
        "id": "EqKcW4pwmL6a",
        "outputId": "87fee708-5ad6-48f1-9438-3ab8256b6a2a"
      },
      "execution_count": 9,
      "outputs": [
        {
          "output_type": "stream",
          "name": "stdout",
          "text": [
            "X_train original shape: (60000, 28, 28)\n",
            "X_train shape: (60000, 28, 28)\n",
            "60000 train samples\n",
            "10000 test samples\n",
            "X_train original shape: (60000, 28, 28)\n",
            "X_train shape: (60000, 28, 28)\n",
            "60000 train samples\n",
            "10000 test samples\n"
          ]
        }
      ]
    },
    {
      "cell_type": "code",
      "source": [
        "model = Sequential()\n",
        "model.add(LSTM(nb_lstm_outputs, input_shape=input_shape))\n",
        "model.add(Dense(nb_classes, activation='softmax'))\n",
        "model.compile(optimizer='rmsprop', loss='categorical_crossentropy', metrics=['accuracy'])\n",
        "model.summary()"
      ],
      "metadata": {
        "colab": {
          "base_uri": "https://localhost:8080/"
        },
        "id": "x3Y-_TRwotyT",
        "outputId": "10f5c2b8-8a1a-44ee-bdbe-7f9203dee27b"
      },
      "execution_count": 10,
      "outputs": [
        {
          "output_type": "stream",
          "name": "stdout",
          "text": [
            "Model: \"sequential\"\n",
            "_________________________________________________________________\n",
            " Layer (type)                Output Shape              Param #   \n",
            "=================================================================\n",
            " lstm (LSTM)                 (None, 30)                7080      \n",
            "                                                                 \n",
            " dense (Dense)               (None, 10)                310       \n",
            "                                                                 \n",
            "=================================================================\n",
            "Total params: 7,390\n",
            "Trainable params: 7,390\n",
            "Non-trainable params: 0\n",
            "_________________________________________________________________\n",
            "Model: \"sequential_1\"\n",
            "_________________________________________________________________\n",
            " Layer (type)                Output Shape              Param #   \n",
            "=================================================================\n",
            " lstm_1 (LSTM)               (None, 30)                7080      \n",
            "                                                                 \n",
            " dense_1 (Dense)             (None, 10)                310       \n",
            "                                                                 \n",
            "=================================================================\n",
            "Total params: 7,390\n",
            "Trainable params: 7,390\n",
            "Non-trainable params: 0\n",
            "_________________________________________________________________\n"
          ]
        }
      ]
    },
    {
      "cell_type": "code",
      "source": [
        "history = model.fit(X_train, Y_train, epochs=nb_epoch, batch_size=batch_size, shuffle=True, verbose=1)"
      ],
      "metadata": {
        "colab": {
          "base_uri": "https://localhost:8080/"
        },
        "id": "SLEQlFlIo4ZG",
        "outputId": "7cbfcfbb-ddae-4d42-d81d-5fb548a387a3"
      },
      "execution_count": 5,
      "outputs": [
        {
          "output_type": "stream",
          "name": "stdout",
          "text": [
            "Epoch 1/50\n",
            "469/469 [==============================] - 17s 28ms/step - loss: 1.0906 - accuracy: 0.6473\n",
            "Epoch 2/50\n",
            "469/469 [==============================] - 9s 20ms/step - loss: 0.4382 - accuracy: 0.8672\n",
            "Epoch 3/50\n",
            "469/469 [==============================] - 10s 21ms/step - loss: 0.2973 - accuracy: 0.9109\n",
            "Epoch 4/50\n",
            "469/469 [==============================] - 9s 20ms/step - loss: 0.2295 - accuracy: 0.9318\n",
            "Epoch 5/50\n",
            "469/469 [==============================] - 10s 20ms/step - loss: 0.1896 - accuracy: 0.9437\n",
            "Epoch 6/50\n",
            "469/469 [==============================] - 9s 20ms/step - loss: 0.1631 - accuracy: 0.9531\n",
            "Epoch 7/50\n",
            "469/469 [==============================] - 9s 20ms/step - loss: 0.1438 - accuracy: 0.9579\n",
            "Epoch 8/50\n",
            "469/469 [==============================] - 9s 20ms/step - loss: 0.1308 - accuracy: 0.9617\n",
            "Epoch 9/50\n",
            "469/469 [==============================] - 10s 20ms/step - loss: 0.1179 - accuracy: 0.9653\n",
            "Epoch 10/50\n",
            "469/469 [==============================] - 10s 20ms/step - loss: 0.1074 - accuracy: 0.9685\n",
            "Epoch 11/50\n",
            "469/469 [==============================] - 10s 21ms/step - loss: 0.0996 - accuracy: 0.9707\n",
            "Epoch 12/50\n",
            "469/469 [==============================] - 9s 20ms/step - loss: 0.0930 - accuracy: 0.9723\n",
            "Epoch 13/50\n",
            "469/469 [==============================] - 9s 20ms/step - loss: 0.0870 - accuracy: 0.9739\n",
            "Epoch 14/50\n",
            "469/469 [==============================] - 9s 20ms/step - loss: 0.0812 - accuracy: 0.9756\n",
            "Epoch 15/50\n",
            "469/469 [==============================] - 9s 20ms/step - loss: 0.0765 - accuracy: 0.9769\n",
            "Epoch 16/50\n",
            "469/469 [==============================] - 9s 20ms/step - loss: 0.0726 - accuracy: 0.9783\n",
            "Epoch 17/50\n",
            "469/469 [==============================] - 9s 20ms/step - loss: 0.0691 - accuracy: 0.9793\n",
            "Epoch 18/50\n",
            "469/469 [==============================] - 10s 21ms/step - loss: 0.0649 - accuracy: 0.9799\n",
            "Epoch 19/50\n",
            "469/469 [==============================] - 10s 21ms/step - loss: 0.0623 - accuracy: 0.9809\n",
            "Epoch 20/50\n",
            "469/469 [==============================] - 9s 20ms/step - loss: 0.0596 - accuracy: 0.9822\n",
            "Epoch 21/50\n",
            "469/469 [==============================] - 9s 20ms/step - loss: 0.0573 - accuracy: 0.9827\n",
            "Epoch 22/50\n",
            "469/469 [==============================] - 11s 22ms/step - loss: 0.0550 - accuracy: 0.9833\n",
            "Epoch 23/50\n",
            "469/469 [==============================] - 9s 20ms/step - loss: 0.0519 - accuracy: 0.9842\n",
            "Epoch 24/50\n",
            "469/469 [==============================] - 9s 20ms/step - loss: 0.0510 - accuracy: 0.9844\n",
            "Epoch 25/50\n",
            "469/469 [==============================] - 9s 20ms/step - loss: 0.0493 - accuracy: 0.9846\n",
            "Epoch 26/50\n",
            "469/469 [==============================] - 9s 20ms/step - loss: 0.0480 - accuracy: 0.9856\n",
            "Epoch 27/50\n",
            "469/469 [==============================] - 10s 20ms/step - loss: 0.0462 - accuracy: 0.9859\n",
            "Epoch 28/50\n",
            "469/469 [==============================] - 9s 20ms/step - loss: 0.0444 - accuracy: 0.9869\n",
            "Epoch 29/50\n",
            "469/469 [==============================] - 10s 20ms/step - loss: 0.0427 - accuracy: 0.9869\n",
            "Epoch 30/50\n",
            "469/469 [==============================] - 10s 20ms/step - loss: 0.0421 - accuracy: 0.9875\n",
            "Epoch 31/50\n",
            "469/469 [==============================] - 10s 21ms/step - loss: 0.0399 - accuracy: 0.9886\n",
            "Epoch 32/50\n",
            "469/469 [==============================] - 9s 20ms/step - loss: 0.0396 - accuracy: 0.9878\n",
            "Epoch 33/50\n",
            "469/469 [==============================] - 9s 20ms/step - loss: 0.0382 - accuracy: 0.9885\n",
            "Epoch 34/50\n",
            "469/469 [==============================] - 9s 20ms/step - loss: 0.0370 - accuracy: 0.9888\n",
            "Epoch 35/50\n",
            "469/469 [==============================] - 9s 20ms/step - loss: 0.0353 - accuracy: 0.9896\n",
            "Epoch 36/50\n",
            "469/469 [==============================] - 9s 20ms/step - loss: 0.0352 - accuracy: 0.9896\n",
            "Epoch 37/50\n",
            "469/469 [==============================] - 9s 20ms/step - loss: 0.0334 - accuracy: 0.9902\n",
            "Epoch 38/50\n",
            "469/469 [==============================] - 14s 30ms/step - loss: 0.0324 - accuracy: 0.9902\n",
            "Epoch 39/50\n",
            "469/469 [==============================] - 9s 20ms/step - loss: 0.0325 - accuracy: 0.9901\n",
            "Epoch 40/50\n",
            "469/469 [==============================] - 9s 20ms/step - loss: 0.0306 - accuracy: 0.9906\n",
            "Epoch 41/50\n",
            "469/469 [==============================] - 9s 20ms/step - loss: 0.0306 - accuracy: 0.9905\n",
            "Epoch 42/50\n",
            "469/469 [==============================] - 9s 20ms/step - loss: 0.0304 - accuracy: 0.9911\n",
            "Epoch 43/50\n",
            "469/469 [==============================] - 9s 20ms/step - loss: 0.0288 - accuracy: 0.9914\n",
            "Epoch 44/50\n",
            "469/469 [==============================] - 10s 21ms/step - loss: 0.0283 - accuracy: 0.9916\n",
            "Epoch 45/50\n",
            "469/469 [==============================] - 10s 22ms/step - loss: 0.0271 - accuracy: 0.9919\n",
            "Epoch 46/50\n",
            "469/469 [==============================] - 10s 21ms/step - loss: 0.0267 - accuracy: 0.9921\n",
            "Epoch 47/50\n",
            "469/469 [==============================] - 10s 22ms/step - loss: 0.0269 - accuracy: 0.9919\n",
            "Epoch 48/50\n",
            "469/469 [==============================] - 10s 20ms/step - loss: 0.0253 - accuracy: 0.9925\n",
            "Epoch 49/50\n",
            "469/469 [==============================] - 9s 20ms/step - loss: 0.0248 - accuracy: 0.9926\n",
            "Epoch 50/50\n",
            "469/469 [==============================] - 10s 20ms/step - loss: 0.0247 - accuracy: 0.9925\n"
          ]
        }
      ]
    },
    {
      "cell_type": "code",
      "source": [
        "evaluation = model.evaluate(X_test, Y_test, batch_size=batch_size, verbose=1)\n",
        "print('Summary: Loss over the test dataset: %.2f, Accuracy: %.2f' % (evaluation[0], evaluation[1]))"
      ],
      "metadata": {
        "colab": {
          "base_uri": "https://localhost:8080/"
        },
        "id": "m4uuf0FNqTmy",
        "outputId": "1642f901-5863-4a40-89cb-b5c04528f8d6"
      },
      "execution_count": 11,
      "outputs": [
        {
          "output_type": "stream",
          "name": "stdout",
          "text": [
            "79/79 [==============================] - 1s 10ms/step - loss: 0.0687 - accuracy: 0.9812\n",
            "Summary: Loss over the test dataset: 0.07, Accuracy: 0.98\n",
            "79/79 [==============================] - 2s 9ms/step - loss: 2.3058 - accuracy: 0.0618\n",
            "Summary: Loss over the test dataset: 2.31, Accuracy: 0.06\n"
          ]
        }
      ]
    }
  ]
}