{
  "nbformat": 4,
  "nbformat_minor": 0,
  "metadata": {
    "colab": {
      "name": "Abhishek_Chaudhary_210036_Assignment3.ipynb",
      "provenance": [],
      "collapsed_sections": []
    },
    "kernelspec": {
      "name": "python3",
      "display_name": "Python 3"
    },
    "language_info": {
      "name": "python"
    }
  },
  "cells": [
    {
      "cell_type": "code",
      "source": [
        "import numpy as np\n",
        "import matplotlib.pyplot as plt\n",
        "from matplotlib.colors import LogNorm\n",
        "!pip3 install torch torchvision\n",
        "import numpy as np\n",
        "import os\n",
        "import torch.nn as nn\n",
        "import torch\n",
        "import torch.nn.functional as F\n",
        "import torchvision.transforms as transforms\n",
        "import torchvision"
      ],
      "metadata": {
        "id": "ppyiQpNXcJdb",
        "colab": {
          "base_uri": "https://localhost:8080/"
        },
        "outputId": "0f8545e8-a366-4bb0-9781-3ae851898c6a"
      },
      "execution_count": 159,
      "outputs": [
        {
          "output_type": "stream",
          "name": "stdout",
          "text": [
            "Looking in indexes: https://pypi.org/simple, https://us-python.pkg.dev/colab-wheels/public/simple/\n",
            "Requirement already satisfied: torch in /usr/local/lib/python3.7/dist-packages (1.11.0+cu113)\n",
            "Requirement already satisfied: torchvision in /usr/local/lib/python3.7/dist-packages (0.12.0+cu113)\n",
            "Requirement already satisfied: typing-extensions in /usr/local/lib/python3.7/dist-packages (from torch) (4.1.1)\n",
            "Requirement already satisfied: requests in /usr/local/lib/python3.7/dist-packages (from torchvision) (2.23.0)\n",
            "Requirement already satisfied: pillow!=8.3.*,>=5.3.0 in /usr/local/lib/python3.7/dist-packages (from torchvision) (7.1.2)\n",
            "Requirement already satisfied: numpy in /usr/local/lib/python3.7/dist-packages (from torchvision) (1.21.6)\n",
            "Requirement already satisfied: certifi>=2017.4.17 in /usr/local/lib/python3.7/dist-packages (from requests->torchvision) (2022.6.15)\n",
            "Requirement already satisfied: chardet<4,>=3.0.2 in /usr/local/lib/python3.7/dist-packages (from requests->torchvision) (3.0.4)\n",
            "Requirement already satisfied: urllib3!=1.25.0,!=1.25.1,<1.26,>=1.21.1 in /usr/local/lib/python3.7/dist-packages (from requests->torchvision) (1.24.3)\n",
            "Requirement already satisfied: idna<3,>=2.5 in /usr/local/lib/python3.7/dist-packages (from requests->torchvision) (2.10)\n"
          ]
        }
      ]
    },
    {
      "cell_type": "code",
      "source": [
        "class rnn_basic(nn.Module):\n",
        "    def __init__(self, inputs, neurons):\n",
        "        super(rnn_basic, self).__init__()\n",
        "        self.x = torch.randn(inputs, neurons)\n",
        "        self.y = torch.randn(neurons, neurons) \n",
        "        self.a = torch.zeros(1, neurons)  \n",
        "    def forward(self, X0, X1):\n",
        "        self.y1 = torch.tanh(torch.matmul(X0, self.x) + self.a) \n",
        "        self.y2 = torch.tanh(torch.matmul(self.y1, self.y) + torch.matmul(X1, self.x) + self.a)\n",
        "        return self.y1, self.y2"
      ],
      "metadata": {
        "id": "qxbGD3HucQJ4"
      },
      "execution_count": 160,
      "outputs": []
    },
    {
      "cell_type": "code",
      "source": [
        "x0 = torch.tensor( [ [0,1,2,0], [3,4,5,0], [6,7,8,0], [9,0,1,0] ] ,dtype = torch.float)\n",
        "x1 = torch.tensor( [ [9,8,7,0], [0,0,0,0], [6,5,4,0], [3,2,1,0] ] ,dtype = torch.float)\n",
        "i = 4 \n",
        "neurons = 5 \n",
        "model = rnn_basic(i, neurons)\n",
        "value_y1, value_y2 = model(x0, x1)"
      ],
      "metadata": {
        "id": "-iPxfRu7cVoE"
      },
      "execution_count": 161,
      "outputs": []
    },
    {
      "cell_type": "code",
      "source": [
        "value_y1"
      ],
      "metadata": {
        "colab": {
          "base_uri": "https://localhost:8080/"
        },
        "id": "OiBW-HjYYZSp",
        "outputId": "824c9487-5650-4d77-c682-f7838fd0d410"
      },
      "execution_count": 162,
      "outputs": [
        {
          "output_type": "execute_result",
          "data": {
            "text/plain": [
              "tensor([[-0.9999, -0.6180, -0.9699, -0.9992,  0.6468],\n",
              "        [-1.0000,  0.0141, -1.0000, -1.0000,  1.0000],\n",
              "        [-1.0000,  0.6352, -1.0000, -1.0000,  1.0000],\n",
              "        [-0.9462,  1.0000,  0.5521,  0.9939,  1.0000]])"
            ]
          },
          "metadata": {},
          "execution_count": 162
        }
      ]
    },
    {
      "cell_type": "code",
      "source": [
        "value_y2"
      ],
      "metadata": {
        "colab": {
          "base_uri": "https://localhost:8080/"
        },
        "id": "ai-pz9N3YdAZ",
        "outputId": "21415606-914f-4506-dcc1-ee8fbdc47a8d"
      },
      "execution_count": 163,
      "outputs": [
        {
          "output_type": "execute_result",
          "data": {
            "text/plain": [
              "tensor([[-1.0000,  0.9872, -1.0000, -1.0000,  1.0000],\n",
              "        [-0.5490, -0.1459,  0.8813, -0.3212,  0.5569],\n",
              "        [-1.0000,  0.9710, -1.0000, -1.0000,  1.0000],\n",
              "        [-0.8560,  0.9789, -0.9806,  0.5832,  0.9960]])"
            ]
          },
          "metadata": {},
          "execution_count": 163
        }
      ]
    },
    {
      "cell_type": "code",
      "source": [
        "class rnn_single(nn.Module):\n",
        "    def __init__(self, inputs, neurons):\n",
        "        self.b = torch.zeros(1, neurons) \n",
        "        super(rnn_single, self).__init__()\n",
        "        self.x = torch.randn(inputs, neurons) \n",
        "        self.y = torch.randn(neurons, neurons) \n",
        "    def forward(self, X0, X1):\n",
        "        self.y1 = torch.tanh(torch.matmul(X0, self.x) + self.b) \n",
        "        self.y2 = torch.tanh(torch.matmul(self.y1, self.y) +   torch.matmul(X1, self.x) + self.b)\n",
        "        return self.y1, self.y2"
      ],
      "metadata": {
        "id": "u1Gq3bqVdLIA"
      },
      "execution_count": 164,
      "outputs": []
    },
    {
      "cell_type": "code",
      "source": [
        "neurons = 1\n",
        "i = 4\n",
        "x0 = torch.tensor( [ [0,1,2,0], [3,4,5,0], [6,7,8,0], [9,0,1,0] ] ,dtype = torch.float)\n",
        "x1 = torch.tensor( [ [9,8,7,0], [0,0,0,0], [6,5,4,0], [3,2,1,0] ] ,dtype = torch.float)\n",
        "model = rnn_single(i, neurons)\n",
        "value_y1, value_y2 = model(x0, x1)"
      ],
      "metadata": {
        "id": "wdpxJF5WdOoV"
      },
      "execution_count": 165,
      "outputs": []
    },
    {
      "cell_type": "code",
      "source": [
        "value_y1"
      ],
      "metadata": {
        "colab": {
          "base_uri": "https://localhost:8080/"
        },
        "id": "5lLXoxyPb7YV",
        "outputId": "587504e8-e4ba-43e7-efb0-f193ed42e673"
      },
      "execution_count": 166,
      "outputs": [
        {
          "output_type": "execute_result",
          "data": {
            "text/plain": [
              "tensor([[-0.4440],\n",
              "        [-1.0000],\n",
              "        [-1.0000],\n",
              "        [-1.0000]])"
            ]
          },
          "metadata": {},
          "execution_count": 166
        }
      ]
    },
    {
      "cell_type": "code",
      "source": [
        "value_y2"
      ],
      "metadata": {
        "colab": {
          "base_uri": "https://localhost:8080/"
        },
        "id": "5McXPo0Sb-Hs",
        "outputId": "24957077-8a01-49a5-b516-4dc9d715d06a"
      },
      "execution_count": 167,
      "outputs": [
        {
          "output_type": "execute_result",
          "data": {
            "text/plain": [
              "tensor([[-1.0000],\n",
              "        [ 0.0553],\n",
              "        [-1.0000],\n",
              "        [-1.0000]])"
            ]
          },
          "metadata": {},
          "execution_count": 167
        }
      ]
    },
    {
      "cell_type": "code",
      "source": [
        "n1 = torch.randn(4, 5)\n",
        "z = torch.tensor([[[0,1,2], [3,4,5], [6,7,8], [9,0,1]],[[9,8,7], [0,0,0], [6,5,4], [3,2,1]]], dtype = torch.float) \n",
        "rnn = nn.RNNCell(3, 5)\n",
        "for j in range(2):\n",
        "    n1 = rnn(z[j], n1)\n",
        "    output = []\n",
        "    output.append(n1)\n",
        "output"
      ],
      "metadata": {
        "colab": {
          "base_uri": "https://localhost:8080/"
        },
        "id": "atiDflVJdUjH",
        "outputId": "018ad923-0587-4483-cca7-201ddd577d80"
      },
      "execution_count": 168,
      "outputs": [
        {
          "output_type": "execute_result",
          "data": {
            "text/plain": [
              "[tensor([[ 0.9978, -0.9605,  0.9999,  0.9820,  0.9985],\n",
              "         [ 0.7935, -0.0086,  0.2407,  0.0497,  0.6999],\n",
              "         [ 0.9891, -0.7445,  0.9967,  0.9522,  0.9882],\n",
              "         [ 0.8531,  0.0209,  0.7317,  0.8171,  0.7887]],\n",
              "        grad_fn=<TanhBackward0>)]"
            ]
          },
          "metadata": {},
          "execution_count": 168
        }
      ]
    },
    {
      "cell_type": "code",
      "source": [
        "class clean_rnn(nn.Module):\n",
        "    def __init__(self, batch_size, inputs, neurons):\n",
        "        super(clean_rnn, self).__init__()\n",
        "        \n",
        "        self.rnn = nn.RNNCell(inputs, neurons)\n",
        "        self.n1 = torch.randn(batch_size, neurons) \n",
        "        \n",
        "    def forward(self, X):\n",
        "        for j in range(2):\n",
        "            self.n1 = self.rnn(X[j], self.n1)\n",
        "            output = []\n",
        "            output.append(self.n1) \n",
        "        return output, self.n1"
      ],
      "metadata": {
        "id": "p_SyIFPtdYKJ"
      },
      "execution_count": 169,
      "outputs": []
    },
    {
      "cell_type": "code",
      "source": [
        "input = 3\n",
        "neurons = 5\n",
        "batch_fix = 4\n",
        "\n",
        "z = torch.tensor([[[0,1,2], [3,4,5], [6,7,8], [9,0,1]],[[9,8,7], [0,0,0], [6,5,4], [3,2,1]]], dtype = torch.float) \n",
        "model = clean_rnn(batch_fix,input, neurons)\n",
        "output_val, states_val = model(z)\n"
      ],
      "metadata": {
        "id": "KoXkvwfNdbX6"
      },
      "execution_count": 170,
      "outputs": []
    },
    {
      "cell_type": "code",
      "source": [
        "output_val"
      ],
      "metadata": {
        "colab": {
          "base_uri": "https://localhost:8080/"
        },
        "id": "Cgxcstx4cD9V",
        "outputId": "8b500021-c00c-40fb-c875-0a8fe66dc5ad"
      },
      "execution_count": 171,
      "outputs": [
        {
          "output_type": "execute_result",
          "data": {
            "text/plain": [
              "[tensor([[-0.9999, -0.9621,  0.9997,  1.0000,  0.9992],\n",
              "         [-0.1715, -0.4392, -0.2777,  0.6919,  0.1095],\n",
              "         [-0.9968, -0.8584,  0.9886,  0.9997,  0.9886],\n",
              "         [-0.9649, -0.4802,  0.3610,  0.9761,  0.9503]],\n",
              "        grad_fn=<TanhBackward0>)]"
            ]
          },
          "metadata": {},
          "execution_count": 171
        }
      ]
    },
    {
      "cell_type": "code",
      "source": [
        "states_val"
      ],
      "metadata": {
        "colab": {
          "base_uri": "https://localhost:8080/"
        },
        "id": "0Vid05LtcKOB",
        "outputId": "0a463ded-bc60-42bd-d5a4-b0d31a6e60f7"
      },
      "execution_count": 172,
      "outputs": [
        {
          "output_type": "execute_result",
          "data": {
            "text/plain": [
              "tensor([[-0.9999, -0.9621,  0.9997,  1.0000,  0.9992],\n",
              "        [-0.1715, -0.4392, -0.2777,  0.6919,  0.1095],\n",
              "        [-0.9968, -0.8584,  0.9886,  0.9997,  0.9886],\n",
              "        [-0.9649, -0.4802,  0.3610,  0.9761,  0.9503]],\n",
              "       grad_fn=<TanhBackward0>)"
            ]
          },
          "metadata": {},
          "execution_count": 172
        }
      ]
    },
    {
      "cell_type": "code",
      "source": [
        "transform = transforms.Compose([transforms.ToTensor()])\n",
        "batch_size = 64\n",
        "set_data = torchvision.datasets.MNIST(root='./data', train=True, download=True, transform=transform)\n",
        "load_data = torch.utils.data.DataLoader(set_data, batch_size=batch_size, shuffle=True, num_workers=2)\n",
        "\n",
        "def imshow(img):\n",
        "    npimg = img.numpy()\n",
        "    plt.imshow(np.transpose(npimg, (1, 2, 0)),cmap ='Greens')\n",
        "\n",
        "imshow(torchvision.utils.make_grid(images))\n",
        "plt.title('MNIST digits dataset', fontweight =\"bold\")\n",
        "plt.show()"
      ],
      "metadata": {
        "colab": {
          "base_uri": "https://localhost:8080/",
          "height": 281
        },
        "id": "TLI7FATadjaW",
        "outputId": "bbe5ae46-3c26-485c-a9be-47c4874a2d22"
      },
      "execution_count": 173,
      "outputs": [
        {
          "output_type": "display_data",
          "data": {
            "text/plain": [
              "<Figure size 432x288 with 1 Axes>"
            ],
            "image/png": "[encoded data removed]"
          },
          "metadata": {
            "needs_background": "light"
          }
        }
      ]
    },
    {
      "cell_type": "code",
      "source": [
        ""
      ],
      "metadata": {
        "id": "ezIJgItjcegb"
      },
      "execution_count": null,
      "outputs": []
    }
  ]
}