{
  "nbformat": 4,
  "nbformat_minor": 0,
  "metadata": {
    "colab": {
      "name": "200771_assignment_3",
      "provenance": [],
      "collapsed_sections": []
    },
    "kernelspec": {
      "name": "python3",
      "display_name": "Python 3"
    },
    "language_info": {
      "name": "python"
    }
  },
  "cells": [
    {
      "cell_type": "code",
      "execution_count": 54,
      "metadata": {
        "id": "RTRWshw_Y3Oz"
      },
      "outputs": [],
      "source": [
        "import torch\n",
        "from torch import nn"
      ]
    },
    {
      "cell_type": "code",
      "source": [
        "import torchvision.datasets as dsets\n",
        "import torchvision.transforms as transforms\n",
        "import matplotlib.pyplot as plt"
      ],
      "metadata": {
        "id": "A_nygSnvY4Mu"
      },
      "execution_count": 55,
      "outputs": []
    },
    {
      "cell_type": "code",
      "source": [
        "EPOCH = 1               \n",
        "BATCH_SIZE = 64\n",
        "TIME_STEP = 28          \n",
        "INPUT_SIZE = 28         \n",
        "LR = 0.01               \n",
        "DOWNLOAD_MNIST = True   "
      ],
      "metadata": {
        "id": "A4ssBElWp8Kf"
      },
      "execution_count": 56,
      "outputs": []
    },
    {
      "cell_type": "code",
      "source": [
        "train_data = dsets.MNIST(\n",
        "    root='./mnist/',\n",
        "    train=True,                         \n",
        "    transform=transforms.ToTensor(),    \n",
        "                                        \n",
        "    download=DOWNLOAD_MNIST,            \n",
        ")"
      ],
      "metadata": {
        "id": "KoHQrhjGqBei"
      },
      "execution_count": 57,
      "outputs": []
    },
    {
      "cell_type": "code",
      "source": [
        "print(train_data.data.size())     \n",
        "print(train_data.targets.size())   \n",
        "plt.imshow(train_data.data[0].numpy(), cmap='gray')\n",
        "plt.title('%i' % train_data.targets[0])\n",
        "plt.show()"
      ],
      "metadata": {
        "colab": {
          "base_uri": "https://localhost:8080/",
          "height": 317
        },
        "id": "ceY22cdUqOr1",
        "outputId": "842adac1-8405-4bb4-d148-c5a9e9e541bb"
      },
      "execution_count": 58,
      "outputs": [
        {
          "output_type": "stream",
          "name": "stdout",
          "text": [
            "torch.Size([60000, 28, 28])\n",
            "torch.Size([60000])\n"
          ]
        },
        {
          "output_type": "display_data",
          "data": {
            "text/plain": [
              "<Figure size 432x288 with 1 Axes>"
            ],
            "image/png": "[encoded data removed]"
          },
          "metadata": {
            "needs_background": "light"
          }
        }
      ]
    },
    {
      "cell_type": "code",
      "source": [
        "train_loader = torch.utils.data.DataLoader(dataset=train_data, batch_size=BATCH_SIZE, shuffle=True)"
      ],
      "metadata": {
        "id": "3L1b-l04qRic"
      },
      "execution_count": 59,
      "outputs": []
    },
    {
      "cell_type": "code",
      "source": [
        "test_data = dsets.MNIST(root='./mnist/', train=False, transform=transforms.ToTensor())\n",
        "test_x = test_data.data.type(torch.FloatTensor)[:2000]/255.   \n",
        "test_y = test_data.targets.numpy()[:2000]    "
      ],
      "metadata": {
        "id": "btHDlOAHqVvJ"
      },
      "execution_count": 60,
      "outputs": []
    },
    {
      "cell_type": "code",
      "source": [
        "class RNN(nn.Module):\n",
        "    def __init__(self):\n",
        "        super(RNN, self).__init__()\n",
        "\n",
        "        self.rnn = nn.LSTM(         \n",
        "            input_size=INPUT_SIZE,\n",
        "            hidden_size=64,         \n",
        "            num_layers=1,           \n",
        "            batch_first=True,       \n",
        "        )\n",
        "\n",
        "        self.out = nn.Linear(64, 10)\n",
        "    def forward(self, x):\n",
        "        \n",
        "        r_out, (h_n, h_c) = self.rnn(x, None)   \n",
        "\n",
        "        \n",
        "        out = self.out(r_out[:, -1, :])\n",
        "        return out"
      ],
      "metadata": {
        "id": "ij6BWjouqnZI"
      },
      "execution_count": 61,
      "outputs": []
    },
    {
      "cell_type": "code",
      "source": [
        ""
      ],
      "metadata": {
        "id": "qcGI2jkcq_Os"
      },
      "execution_count": 61,
      "outputs": []
    },
    {
      "cell_type": "code",
      "source": [
        "rnn = RNN()\n",
        "print(rnn)"
      ],
      "metadata": {
        "colab": {
          "base_uri": "https://localhost:8080/"
        },
        "id": "2FTqDBSKrGsn",
        "outputId": "ca98427e-17f4-4d4f-f020-3cca8907d01a"
      },
      "execution_count": 62,
      "outputs": [
        {
          "output_type": "stream",
          "name": "stdout",
          "text": [
            "RNN(\n",
            "  (rnn): LSTM(28, 64, batch_first=True)\n",
            "  (out): Linear(in_features=64, out_features=10, bias=True)\n",
            ")\n"
          ]
        }
      ]
    },
    {
      "cell_type": "code",
      "source": [
        "optimizer = torch.optim.Adam(rnn.parameters(), lr=LR)   \n",
        "loss_func = nn.CrossEntropyLoss()   "
      ],
      "metadata": {
        "id": "wsZmfcM9rJkQ"
      },
      "execution_count": 63,
      "outputs": []
    },
    {
      "cell_type": "code",
      "source": [
        "for epoch in range(EPOCH):\n",
        "    for step, (b_x, b_y) in enumerate(train_loader):        \n",
        "        b_x = b_x.view(-1, 28, 28)              \n",
        "\n",
        "        output = rnn(b_x)                               \n",
        "        loss = loss_func(output, b_y)                   \n",
        "        optimizer.zero_grad()                           \n",
        "        loss.backward()                                 \n",
        "        optimizer.step()                                \n",
        "\n",
        "        if step % 50 == 0:\n",
        "            test_output = rnn(test_x)                   \n",
        "            pred_y = torch.max(test_output, 1)[1].data.numpy()\n",
        "            accuracy = float((pred_y == test_y).astype(int).sum()) / float(test_y.size)\n",
        "            print('Epoch: ', epoch, '| train loss: %.4f' % loss.data.numpy(), '| test accuracy: %.2f' % accuracy)\n"
      ],
      "metadata": {
        "colab": {
          "base_uri": "https://localhost:8080/"
        },
        "id": "v90Re8wSrW9i",
        "outputId": "3d542cd1-7205-4d11-b556-f6f044ce2ffc"
      },
      "execution_count": 64,
      "outputs": [
        {
          "output_type": "stream",
          "name": "stdout",
          "text": [
            "Epoch:  0 | train loss: 2.3079 | test accuracy: 0.10\n",
            "Epoch:  0 | train loss: 1.0442 | test accuracy: 0.58\n",
            "Epoch:  0 | train loss: 0.5509 | test accuracy: 0.75\n",
            "Epoch:  0 | train loss: 0.4947 | test accuracy: 0.84\n",
            "Epoch:  0 | train loss: 0.2929 | test accuracy: 0.85\n",
            "Epoch:  0 | train loss: 0.4010 | test accuracy: 0.90\n",
            "Epoch:  0 | train loss: 0.4229 | test accuracy: 0.91\n",
            "Epoch:  0 | train loss: 0.3241 | test accuracy: 0.92\n",
            "Epoch:  0 | train loss: 0.2831 | test accuracy: 0.94\n",
            "Epoch:  0 | train loss: 0.1901 | test accuracy: 0.95\n",
            "Epoch:  0 | train loss: 0.1447 | test accuracy: 0.95\n",
            "Epoch:  0 | train loss: 0.1452 | test accuracy: 0.95\n",
            "Epoch:  0 | train loss: 0.1565 | test accuracy: 0.94\n",
            "Epoch:  0 | train loss: 0.3394 | test accuracy: 0.94\n",
            "Epoch:  0 | train loss: 0.1070 | test accuracy: 0.94\n",
            "Epoch:  0 | train loss: 0.1497 | test accuracy: 0.95\n",
            "Epoch:  0 | train loss: 0.1108 | test accuracy: 0.95\n",
            "Epoch:  0 | train loss: 0.1094 | test accuracy: 0.96\n",
            "Epoch:  0 | train loss: 0.2279 | test accuracy: 0.96\n"
          ]
        }
      ]
    },
    {
      "cell_type": "code",
      "source": [
        "test_output = rnn(test_x[:10].view(-1, 28, 28))\n",
        "pred_y = torch.max(test_output, 1)[1].data.numpy()\n",
        "print(pred_y, 'prediction number')\n",
        "print(test_y[:10], 'real number')"
      ],
      "metadata": {
        "colab": {
          "base_uri": "https://localhost:8080/"
        },
        "id": "azNRPDRPs2Lk",
        "outputId": "4f639f84-feb0-43fb-eb3e-531a6b24a4d8"
      },
      "execution_count": 65,
      "outputs": [
        {
          "output_type": "stream",
          "name": "stdout",
          "text": [
            "[7 2 1 0 4 1 4 9 5 9] prediction number\n",
            "[7 2 1 0 4 1 4 9 5 9] real number\n"
          ]
        }
      ]
    },
    {
      "cell_type": "code",
      "source": [
        ""
      ],
      "metadata": {
        "id": "_TLr0qRkrb3N"
      },
      "execution_count": 65,
      "outputs": []
    },
    {
      "cell_type": "code",
      "source": [
        ""
      ],
      "metadata": {
        "id": "Yc82nMk3r7DJ"
      },
      "execution_count": 65,
      "outputs": []
    },
    {
      "cell_type": "code",
      "source": [
        ""
      ],
      "metadata": {
        "id": "eD9Po7Hyryuh"
      },
      "execution_count": 65,
      "outputs": []
    }
  ]
}