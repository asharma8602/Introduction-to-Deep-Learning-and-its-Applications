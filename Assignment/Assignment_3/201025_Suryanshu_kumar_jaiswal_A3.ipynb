{
  "nbformat": 4,
  "nbformat_minor": 0,
  "metadata": {
    "colab": {
      "name": "201025_Suryanshu_kumar_jaiswal_A3.ipynb",
      "provenance": []
    },
    "kernelspec": {
      "name": "python3",
      "display_name": "Python 3"
    },
    "language_info": {
      "name": "python"
    }
  },
  "cells": [
    {
      "cell_type": "markdown",
      "source": [
        "\n",
        "\n",
        "# **Building a recurrent neural network (LSTM) to classify MNIST digits dataset, using TensorFlow**\n",
        "\n"
      ],
      "metadata": {
        "id": "uSMlDmZUi29M"
      }
    },
    {
      "cell_type": "markdown",
      "source": [
        "Importing required libraries"
      ],
      "metadata": {
        "id": "auL4zaJ9jbDw"
      }
    },
    {
      "cell_type": "code",
      "execution_count": 61,
      "metadata": {
        "id": "H7mzGQS4dtdF"
      },
      "outputs": [],
      "source": [
        "import numpy as np\n",
        "import tensorflow.compat.v1 as tf\n",
        "tf.disable_v2_behavior()\n",
        "from tensorflow import keras\n",
        "from tensorflow.keras import layers\n",
        "import matplotlib.pyplot as plt\n",
        "\n",
        "%matplotlib inline\n",
        "import warnings\n",
        "warnings.filterwarnings('ignore')\n"
      ]
    },
    {
      "cell_type": "markdown",
      "source": [
        "lets import MNIST dataset to analyse it "
      ],
      "metadata": {
        "id": "xkQyg9nnnGZ2"
      }
    },
    {
      "cell_type": "markdown",
      "source": [
        "Extract image of 'test' and 'train' along with label of 'test' and 'train' "
      ],
      "metadata": {
        "id": "QaG9Fnjeo4oS"
      }
    },
    {
      "cell_type": "code",
      "source": [
        "(train_images, train_labels), (test_images, test_labels) = tf.keras.datasets.mnist.load_data()"
      ],
      "metadata": {
        "id": "Ia0u7GtrqCLY"
      },
      "execution_count": 48,
      "outputs": []
    },
    {
      "cell_type": "code",
      "source": [
        "mnist"
      ],
      "metadata": {
        "colab": {
          "base_uri": "https://localhost:8080/"
        },
        "id": "DgVx0od0zGL1",
        "outputId": "0d564334-7916-40bf-f700-eb84146aaab7"
      },
      "execution_count": 49,
      "outputs": [
        {
          "output_type": "execute_result",
          "data": {
            "text/plain": [
              "<module 'tensorflow.keras.datasets.mnist' from '/usr/local/lib/python3.7/dist-packages/keras/api/_v2/keras/datasets/mnist/__init__.py'>"
            ]
          },
          "metadata": {},
          "execution_count": 49
        }
      ]
    },
    {
      "cell_type": "code",
      "source": [
        "print (\"Train Images: \", train_images.shape)\n",
        "print (\"Train Labels  \", train_labels.shape)\n",
        "print (\"Test Images:  \" , test_images.shape)\n",
        "print (\"Test Labels:  \", test_labels.shape)"
      ],
      "metadata": {
        "colab": {
          "base_uri": "https://localhost:8080/"
        },
        "id": "PREptn-Hzz9f",
        "outputId": "fc30269e-66e5-4c21-a6d2-4fb4df198ee5"
      },
      "execution_count": 50,
      "outputs": [
        {
          "output_type": "stream",
          "name": "stdout",
          "text": [
            "Train Images:  (60000, 28, 28)\n",
            "Train Labels   (60000,)\n",
            "Test Images:   (10000, 28, 28)\n",
            "Test Labels:   (10000,)\n"
          ]
        }
      ]
    },
    {
      "cell_type": "code",
      "source": [
        "samplesIdx = [110, 111, 112]  \n",
        "\n",
        "from mpl_toolkits.mplot3d import Axes3D\n",
        "fig = plt.figure()\n",
        "\n",
        "ax1 = fig.add_subplot(121)\n",
        "ax1.imshow(test_images[samplesIdx[0]].reshape([28,28]), cmap='gray')\n",
        "\n",
        "\n",
        "xx, yy = np.meshgrid(np.linspace(0,28,28), np.linspace(0,28,28))\n",
        "X =  xx ; Y =  yy\n",
        "Z =  100*np.ones(X.shape)\n",
        "\n",
        "img = test_images[77].reshape([28,28])\n",
        "ax = fig.add_subplot(122, projection='3d')\n",
        "ax.set_zlim((0,200))\n",
        "\n",
        "\n",
        "offset=200\n",
        "for i in samplesIdx:\n",
        "    img = test_images[i].reshape([28,28]).transpose()\n",
        "    ax.contourf(X, Y, img, 200, zdir='z', offset=offset, cmap=\"gray\")\n",
        "    offset -= 100\n",
        "\n",
        "    ax.set_xticks([])\n",
        "ax.set_yticks([])\n",
        "ax.set_zticks([])\n",
        "\n",
        "plt.show()\n",
        "\n",
        "\n",
        "for i in samplesIdx:\n",
        "    print (\"Sample: {0} - Class: {1} - Label Vector: {2} \".format(i, np.nonzero(test_labels[i])[0], test_labels[i]))\n"
      ],
      "metadata": {
        "colab": {
          "base_uri": "https://localhost:8080/",
          "height": 300
        },
        "id": "m233nMtX0VrT",
        "outputId": "5ff11955-dfa1-448c-b4df-ade36c5f3375"
      },
      "execution_count": 59,
      "outputs": [
        {
          "output_type": "display_data",
          "data": {
            "text/plain": [
              "<Figure size 432x288 with 2 Axes>"
            ],
            "image/png": "[encoded data removed]"
          },
          "metadata": {
            "needs_background": "light"
          }
        },
        {
          "output_type": "stream",
          "name": "stdout",
          "text": [
            "Sample: 110 - Class: [0] - Label Vector: 8 \n",
            "Sample: 111 - Class: [0] - Label Vector: 7 \n",
            "Sample: 112 - Class: [0] - Label Vector: 3 \n"
          ]
        }
      ]
    },
    {
      "cell_type": "markdown",
      "source": [
        "**RNN**"
      ],
      "metadata": {
        "id": "CMqSfPb01ON9"
      }
    },
    {
      "cell_type": "markdown",
      "source": [
        "Creating a recurrent Nueral Network"
      ],
      "metadata": {
        "id": "VYxTUUnd4mMB"
      }
    },
    {
      "cell_type": "code",
      "source": [
        "n_input = 28 # MNIST data input (img shape: 28*28)\n",
        "n_steps = 28 # timesteps\n",
        "n_hidden = 128 \n",
        "#hidden LSTM units\n",
        "n_classes = 10 \n",
        "\n",
        "\n",
        "learning_rate = 0.001\n",
        "#mnist is meant to be classified in 10 classes(0-9).\n",
        "training_iters = 100000\n",
        "batch_size = 100\n",
        "#size of batch\n",
        "display_step = 10\n",
        "x = tf.placeholder(dtype=\"float\", shape=[None, n_steps, n_input], name=\"x\") # Current data input shape: (batch_size, n_steps, n_input) [100x28x28]\n",
        "y = tf.placeholder(dtype=\"float\", shape=[None, n_classes], name=\"y\")"
      ],
      "metadata": {
        "id": "R0AzQApk1NC1"
      },
      "execution_count": 53,
      "outputs": []
    },
    {
      "cell_type": "markdown",
      "source": [
        "Creating the weights and bias of the variables."
      ],
      "metadata": {
        "id": "xiI1iHUF26Uu"
      }
    },
    {
      "cell_type": "code",
      "source": [
        "weights = {\n",
        "    'out': tf.Variable(tf.random_normal([n_hidden, n_classes]))\n",
        "}\n",
        "biases = {\n",
        "    'out': tf.Variable(tf.random_normal([n_classes]))\n",
        "}"
      ],
      "metadata": {
        "id": "tABIxUxM22qJ"
      },
      "execution_count": 54,
      "outputs": []
    },
    {
      "cell_type": "markdown",
      "source": [
        "Now that we are receiving inputs of shape  [batch_size,time_steps,n_input] ,we need to convert it into a list of tensors of shape  [batch_size,n_inputs]  of length n_steps so that it can be then fed to static_rnn"
      ],
      "metadata": {
        "id": "n-cEz_0Z74xR"
      }
    },
    {
      "cell_type": "code",
      "source": [
        "input=tf.unstack(x ,n_steps,1)"
      ],
      "metadata": {
        "id": "czcZ8-ky76DB"
      },
      "execution_count": 62,
      "outputs": []
    },
    {
      "cell_type": "code",
      "source": [
        "x"
      ],
      "metadata": {
        "colab": {
          "base_uri": "https://localhost:8080/"
        },
        "id": "k4M6n8478eOp",
        "outputId": "d016dec2-e172-48d9-d015-73d395a3fc1a"
      },
      "execution_count": 65,
      "outputs": [
        {
          "output_type": "execute_result",
          "data": {
            "text/plain": [
              "<tf.Tensor 'x:0' shape=(?, 28, 28) dtype=float32>"
            ]
          },
          "metadata": {},
          "execution_count": 65
        }
      ]
    },
    {
      "cell_type": "markdown",
      "source": [
        "Defining the Network"
      ],
      "metadata": {
        "id": "9xbwIUZH8oJE"
      }
    },
    {
      "cell_type": "code",
      "source": [
        "#lstm_layer=tf.compat.v1.nn.rnn_cell.BasicLSTMCell(n_hidden,forget_bias=1)\n",
        "#outputs,_=tf.compat.v1.nn.rnn.static_rnn(lstm_layer,input,dtype=\"float32\")\n",
        "lstm_cell = tf.compat.v1.nn.rnn_cell.BasicLSTMCell(n_hidden, forget_bias=1.0)"
      ],
      "metadata": {
        "id": "ZueZaDhO8lai"
      },
      "execution_count": 78,
      "outputs": []
    },
    {
      "cell_type": "markdown",
      "source": [
        "Now going to define our network.BY using the layers of BasicLSTMCell and make static_rnn network."
      ],
      "metadata": {
        "id": "-7ec3vW3_eDS"
      }
    },
    {
      "cell_type": "code",
      "source": [
        "outputs, states = tf.nn.dynamic_rnn(lstm_cell, inputs=x, dtype=tf.float32)"
      ],
      "metadata": {
        "colab": {
          "base_uri": "https://localhost:8080/"
        },
        "id": "p0bKO087_X6D",
        "outputId": "38870344-4171-4d62-8df0-e8fa75cf477d"
      },
      "execution_count": 79,
      "outputs": [
        {
          "output_type": "stream",
          "name": "stdout",
          "text": [
            "WARNING:tensorflow:From <ipython-input-79-50defb454fdd>:1: dynamic_rnn (from tensorflow.python.ops.rnn) is deprecated and will be removed in a future version.\n",
            "Instructions for updating:\n",
            "Please use `keras.layers.RNN(cell)`, which is equivalent to this API\n"
          ]
        },
        {
          "output_type": "stream",
          "name": "stderr",
          "text": [
            "WARNING:tensorflow:From <ipython-input-79-50defb454fdd>:1: dynamic_rnn (from tensorflow.python.ops.rnn) is deprecated and will be removed in a future version.\n",
            "Instructions for updating:\n",
            "Please use `keras.layers.RNN(cell)`, which is equivalent to this API\n"
          ]
        },
        {
          "output_type": "stream",
          "name": "stdout",
          "text": [
            "WARNING:tensorflow:From /usr/local/lib/python3.7/dist-packages/keras/layers/legacy_rnn/rnn_cell_impl.py:760: calling Zeros.__init__ (from tensorflow.python.ops.init_ops) with dtype is deprecated and will be removed in a future version.\n",
            "Instructions for updating:\n",
            "Call initializer instance with the dtype argument instead of passing it to the constructor\n"
          ]
        },
        {
          "output_type": "stream",
          "name": "stderr",
          "text": [
            "WARNING:tensorflow:From /usr/local/lib/python3.7/dist-packages/keras/layers/legacy_rnn/rnn_cell_impl.py:760: calling Zeros.__init__ (from tensorflow.python.ops.init_ops) with dtype is deprecated and will be removed in a future version.\n",
            "Instructions for updating:\n",
            "Call initializer instance with the dtype argument instead of passing it to the constructor\n"
          ]
        }
      ]
    },
    {
      "cell_type": "code",
      "source": [
        "outputs.shape"
      ],
      "metadata": {
        "colab": {
          "base_uri": "https://localhost:8080/"
        },
        "id": "EnB7mH1-_1KV",
        "outputId": "7f48f5dc-7acd-4900-a4f2-b95fbdcbf818"
      },
      "execution_count": 82,
      "outputs": [
        {
          "output_type": "execute_result",
          "data": {
            "text/plain": [
              "TensorShape([Dimension(None), Dimension(28), Dimension(128)])"
            ]
          },
          "metadata": {},
          "execution_count": 82
        }
      ]
    },
    {
      "cell_type": "markdown",
      "source": [
        "Reshape"
      ],
      "metadata": {
        "id": "WmcoYZKcAR6U"
      }
    },
    {
      "cell_type": "code",
      "source": [
        "output = tf.reshape(tf.split(outputs, 28, axis=1, num=None, name='split')[-1],[-1,128])\n"
      ],
      "metadata": {
        "id": "GMUNiorYATyw"
      },
      "execution_count": 84,
      "outputs": []
    },
    {
      "cell_type": "markdown",
      "source": [
        "RNN ---->\n",
        "matmul is matrix multipliation "
      ],
      "metadata": {
        "id": "JPUE4MkJAVrc"
      }
    },
    {
      "cell_type": "code",
      "source": [
        "prediction = tf.matmul(output, weights['out']) + biases['out']"
      ],
      "metadata": {
        "id": "2HdxDQCzAYqX"
      },
      "execution_count": 88,
      "outputs": []
    },
    {
      "cell_type": "code",
      "source": [
        "#lets see the prediction\n",
        "prediction"
      ],
      "metadata": {
        "colab": {
          "base_uri": "https://localhost:8080/"
        },
        "id": "y-OW1IqfApat",
        "outputId": "2fed0c0c-61aa-4d82-be08-a60725313c4a"
      },
      "execution_count": 89,
      "outputs": [
        {
          "output_type": "execute_result",
          "data": {
            "text/plain": [
              "<tf.Tensor 'add_1:0' shape=(?, 10) dtype=float32>"
            ]
          },
          "metadata": {},
          "execution_count": 89
        }
      ]
    },
    {
      "cell_type": "code",
      "source": [
        "#loss_function\n",
        "loss=tf.reduce_mean(tf.nn.softmax_cross_entropy_with_logits(logits=prediction,labels=y))\n",
        "#optimization\n",
        "opt=tf.train.AdamOptimizer(learning_rate=learning_rate).minimize(loss)\n",
        "\n",
        "#model evaluation\n",
        "correct_prediction=tf.equal(tf.argmax(prediction,1),tf.argmax(y,1))\n",
        "accuracy=tf.reduce_mean(tf.cast(correct_prediction,tf.float32))"
      ],
      "metadata": {
        "colab": {
          "base_uri": "https://localhost:8080/"
        },
        "id": "swiHlBJ0BQX_",
        "outputId": "738c4428-57cd-41b4-d890-8618bd9d7064"
      },
      "execution_count": 90,
      "outputs": [
        {
          "output_type": "stream",
          "name": "stdout",
          "text": [
            "WARNING:tensorflow:From /usr/local/lib/python3.7/dist-packages/tensorflow/python/util/dispatch.py:1082: softmax_cross_entropy_with_logits (from tensorflow.python.ops.nn_ops) is deprecated and will be removed in a future version.\n",
            "Instructions for updating:\n",
            "\n",
            "Future major versions of TensorFlow will allow gradients to flow\n",
            "into the labels input on backprop by default.\n",
            "\n",
            "See `tf.nn.softmax_cross_entropy_with_logits_v2`.\n",
            "\n"
          ]
        },
        {
          "output_type": "stream",
          "name": "stderr",
          "text": [
            "WARNING:tensorflow:From /usr/local/lib/python3.7/dist-packages/tensorflow/python/util/dispatch.py:1082: softmax_cross_entropy_with_logits (from tensorflow.python.ops.nn_ops) is deprecated and will be removed in a future version.\n",
            "Instructions for updating:\n",
            "\n",
            "Future major versions of TensorFlow will allow gradients to flow\n",
            "into the labels input on backprop by default.\n",
            "\n",
            "See `tf.nn.softmax_cross_entropy_with_logits_v2`.\n",
            "\n"
          ]
        }
      ]
    },
    {
      "cell_type": "markdown",
      "source": [
        "We will form a session to see the model "
      ],
      "metadata": {
        "id": "G0POTAHBD0Mc"
      }
    },
    {
      "cell_type": "code",
      "source": [
        "init = tf.global_variables_initializer()\n",
        "\n",
        "with tf.Session() as sess:\n",
        "    sess.run(init)\n",
        "    step = 1\n",
        "    # while loop to train all \n",
        "    while step * batch_size < training_iters:\n",
        "        batch_x, batch_y = mnist.train.next_batch(batch_size)\n",
        "        batch_x = batch_x.reshape((batch_size, n_steps, n_input))\n",
        "    \n",
        "        # Run optimization \n",
        "        sess.run(optimizer, feed_dict={x: batch_x, y: batch_y})\n",
        "        \n",
        "        if step % display_step == 0:\n",
        "            acc = sess.run(accuracy, feed_dict={x: batch_x, y: batch_y})\n",
        "            loss = sess.run(cost, feed_dict={x: batch_x, y: batch_y})\n",
        "            print(\"Iter \" + str(step*batch_size) + \", Minibatch Loss= \" + \\\n",
        "                  \"{:.6f}\".format(loss) + \", Training Accuracy= \" + \\\n",
        "                  \"{:.5f}\".format(acc))\n",
        "        step =step+ 1\n",
        "    print(\"Optimization Finished!\")\n",
        "\n",
        "    # Calculate accuracy for 128 mnist test images\n",
        "    print(\"Testing Accuracy:\", \\\n",
        "        sess.run(accuracy, feed_dict={x: test_images, y: test_labels}))"
      ],
      "metadata": {
        "id": "gj1SMFWuD5bC"
      },
      "execution_count": null,
      "outputs": []
    }
  ]
}