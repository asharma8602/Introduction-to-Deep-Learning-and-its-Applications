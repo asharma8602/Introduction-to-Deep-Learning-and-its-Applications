{
  "nbformat": 4,
  "nbformat_minor": 0,
  "metadata": {
    "colab": {
      "name": "MNIST classification using RNN.ipynb",
      "provenance": [],
      "collapsed_sections": []
    },
    "kernelspec": {
      "name": "python3",
      "display_name": "Python 3"
    },
    "language_info": {
      "name": "python"
    }
  },
  "cells": [
    {
      "cell_type": "code",
      "execution_count": null,
      "metadata": {
        "id": "QY6mQDx63_ls"
      },
      "outputs": [],
      "source": [
        "import tensorflow as tf\n",
        "import tensorflow.keras.layers as KL\n",
        "import matplotlib.pyplot as plt\n",
        "import numpy as np"
      ]
    },
    {
      "cell_type": "code",
      "source": [
        "#Loading MNIST dataset\n",
        "(x_train,y_train),(x_test,y_test)=keras.datasets.mnist.load_data()"
      ],
      "metadata": {
        "id": "IyF77Ns64TIc"
      },
      "execution_count": null,
      "outputs": []
    },
    {
      "cell_type": "code",
      "source": [
        "print(len(x_train))\n",
        "print(x_train.shape)"
      ],
      "metadata": {
        "colab": {
          "base_uri": "https://localhost:8080/"
        },
        "id": "cBjIoHxN4ptL",
        "outputId": "329bd834-8e46-43cc-9c4d-ae93de37828e"
      },
      "execution_count": null,
      "outputs": [
        {
          "output_type": "stream",
          "name": "stdout",
          "text": [
            "60000\n",
            "(60000, 28, 28)\n"
          ]
        }
      ]
    },
    {
      "cell_type": "code",
      "source": [
        "x_train=x_train/255\n",
        "x_test=x_test/255\n",
        "# This is known as scaling the values\n",
        "# It helps in improving the accuracy while training the neural network"
      ],
      "metadata": {
        "id": "H-Nn6crSBRqq"
      },
      "execution_count": null,
      "outputs": []
    },
    {
      "cell_type": "code",
      "source": [
        "model=keras.Sequential([\n",
        "                        KL.LSTM(64, input_shape=(28,28)),\n",
        "                        KL.Dense(10, activation=\"sigmoid\")\n",
        "])\n",
        "#Sequential accepts layers as elemments\n",
        "#Dense means all the neurons here in one layer are connected to every other neuron in another layer \n",
        "model.compile(\n",
        "    optimizer='adam',\n",
        "    loss='sparse_categorical_crossentropy',\n",
        "    metrics=['accuracy']\n",
        ")\n",
        "model.fit(x_train,y_train,epochs=10)\n",
        "#this is supplying the training set\n",
        "#epochs is the no. of iteraton our neural network is going to run the array"
      ],
      "metadata": {
        "colab": {
          "base_uri": "https://localhost:8080/"
        },
        "id": "qsrBbcJV3lqc",
        "outputId": "6137e4de-db3d-47bf-b495-8e3eb64c9d47"
      },
      "execution_count": null,
      "outputs": [
        {
          "output_type": "stream",
          "name": "stdout",
          "text": [
            "Epoch 1/10\n",
            "1875/1875 [==============================] - 29s 15ms/step - loss: 0.6882 - accuracy: 0.7704\n",
            "Epoch 2/10\n",
            "1875/1875 [==============================] - 27s 14ms/step - loss: 0.3961 - accuracy: 0.8679\n",
            "Epoch 3/10\n",
            "1875/1875 [==============================] - 27s 15ms/step - loss: 0.3319 - accuracy: 0.8889\n",
            "Epoch 4/10\n",
            "1875/1875 [==============================] - 27s 14ms/step - loss: 0.3005 - accuracy: 0.9003\n",
            "Epoch 5/10\n",
            "1875/1875 [==============================] - 28s 15ms/step - loss: 0.2777 - accuracy: 0.9064\n",
            "Epoch 6/10\n",
            "1875/1875 [==============================] - 27s 14ms/step - loss: 0.2558 - accuracy: 0.9147\n",
            "Epoch 7/10\n",
            "1875/1875 [==============================] - 27s 14ms/step - loss: 0.2438 - accuracy: 0.9174\n",
            "Epoch 8/10\n",
            "1875/1875 [==============================] - 27s 15ms/step - loss: 0.2315 - accuracy: 0.9215\n",
            "Epoch 9/10\n",
            "1875/1875 [==============================] - 27s 14ms/step - loss: 0.2205 - accuracy: 0.9259\n",
            "Epoch 10/10\n",
            "1875/1875 [==============================] - 27s 14ms/step - loss: 0.2114 - accuracy: 0.9290\n"
          ]
        },
        {
          "output_type": "execute_result",
          "data": {
            "text/plain": [
              "<keras.callbacks.History at 0x7fad7906e4d0>"
            ]
          },
          "metadata": {},
          "execution_count": 56
        }
      ]
    },
    {
      "cell_type": "code",
      "source": [
        "model.evaluate(x_test,y_test)"
      ],
      "metadata": {
        "colab": {
          "base_uri": "https://localhost:8080/"
        },
        "id": "wNaK1M4w2hMD",
        "outputId": "a90859fd-d117-4d62-91b8-20c80aa9958e"
      },
      "execution_count": null,
      "outputs": [
        {
          "output_type": "stream",
          "name": "stdout",
          "text": [
            "313/313 [==============================] - 3s 7ms/step - loss: 0.2407 - accuracy: 0.9214\n"
          ]
        },
        {
          "output_type": "execute_result",
          "data": {
            "text/plain": [
              "[0.2407352328300476, 0.9214000105857849]"
            ]
          },
          "metadata": {},
          "execution_count": 57
        }
      ]
    },
    {
      "cell_type": "code",
      "source": [
        "y_predicted=model.predict(x_test)\n",
        "y_predicted[0]\n",
        "## Y_predicted stores the probability that the neural network has predicted, with which the each given figure matches each of the valus from 0-9."
      ],
      "metadata": {
        "colab": {
          "base_uri": "https://localhost:8080/"
        },
        "id": "o75L9U2l5kOH",
        "outputId": "be3ae9a9-03eb-467b-e792-4c1820ced2b8"
      },
      "execution_count": null,
      "outputs": [
        {
          "output_type": "execute_result",
          "data": {
            "text/plain": [
              "array([4.6644823e-07, 2.0185764e-05, 3.4810280e-05, 1.1356701e-03,\n",
              "       2.4589428e-05, 3.7091362e-04, 3.4589270e-08, 9.9485153e-01,\n",
              "       1.4918595e-05, 3.5468936e-03], dtype=float32)"
            ]
          },
          "metadata": {},
          "execution_count": 32
        }
      ]
    },
    {
      "cell_type": "markdown",
      "source": [
        "Now I will show how accurately the neural network will predict the handwritten number."
      ],
      "metadata": {
        "id": "cDLCPSiA6jF0"
      }
    },
    {
      "cell_type": "markdown",
      "source": [
        "\n",
        "\n",
        "\n",
        "Test 1- "
      ],
      "metadata": {
        "id": "-Pmi3FKT7Jt0"
      }
    },
    {
      "cell_type": "code",
      "source": [
        "for i in range (10):\n",
        "  plt.matshow(x_test[i])"
      ],
      "metadata": {
        "colab": {
          "base_uri": "https://localhost:8080/",
          "height": 1000
        },
        "id": "PbgY9nzx5ubl",
        "outputId": "cf1e31a0-57ec-4806-9976-e10887af18ac"
      },
      "execution_count": null,
      "outputs": [
        {
          "output_type": "display_data",
          "data": {
            "text/plain": [
              "<Figure size 288x288 with 1 Axes>"
            ],
            "image/png": "[encoded data removed]"
          },
          "metadata": {
            "needs_background": "light"
          }
        },
        {
          "output_type": "display_data",
          "data": {
            "text/plain": [
              "<Figure size 288x288 with 1 Axes>"
            ],
            "image/png": "[encoded data removed]"
          },
          "metadata": {
            "needs_background": "light"
          }
        },
        {
          "output_type": "display_data",
          "data": {
            "text/plain": [
              "<Figure size 288x288 with 1 Axes>"
            ],
            "image/png": "[encoded data removed]"
          },
          "metadata": {
            "needs_background": "light"
          }
        },
        {
          "output_type": "display_data",
          "data": {
            "text/plain": [
              "<Figure size 288x288 with 1 Axes>"
            ],
            "image/png": "[encoded data removed]"
          },
          "metadata": {
            "needs_background": "light"
          }
        },
        {
          "output_type": "display_data",
          "data": {
            "text/plain": [
              "<Figure size 288x288 with 1 Axes>"
            ],
            "image/png": "[encoded data removed]"
          },
          "metadata": {
            "needs_background": "light"
          }
        },
        {
          "output_type": "display_data",
          "data": {
            "text/plain": [
              "<Figure size 288x288 with 1 Axes>"
            ],
            "image/png": "[encoded data removed]"
          },
          "metadata": {
            "needs_background": "light"
          }
        },
        {
          "output_type": "display_data",
          "data": {
            "text/plain": [
              "<Figure size 288x288 with 1 Axes>"
            ],
            "image/png": "[encoded data removed]"
          },
          "metadata": {
            "needs_background": "light"
          }
        },
        {
          "output_type": "display_data",
          "data": {
            "text/plain": [
              "<Figure size 288x288 with 1 Axes>"
            ],
            "image/png": "[encoded data removed]"
          },
          "metadata": {
            "needs_background": "light"
          }
        },
        {
          "output_type": "display_data",
          "data": {
            "text/plain": [
              "<Figure size 288x288 with 1 Axes>"
            ],
            "image/png": "[encoded data removed]"
          },
          "metadata": {
            "needs_background": "light"
          }
        },
        {
          "output_type": "display_data",
          "data": {
            "text/plain": [
              "<Figure size 288x288 with 1 Axes>"
            ],
            "image/png": "[encoded data removed]"
          },
          "metadata": {
            "needs_background": "light"
          }
        }
      ]
    },
    {
      "cell_type": "code",
      "source": [
        "y_predicted_labels=[np.argmax(i) for i in y_predicted]\n",
        "y_predicted_labels[:10]"
      ],
      "metadata": {
        "colab": {
          "base_uri": "https://localhost:8080/"
        },
        "id": "rtHOuzWM68HG",
        "outputId": "2a41853d-aa6c-4027-9c36-21a0e37a0034"
      },
      "execution_count": null,
      "outputs": [
        {
          "output_type": "execute_result",
          "data": {
            "text/plain": [
              "[7, 2, 1, 0, 4, 1, 4, 9, 6, 9]"
            ]
          },
          "metadata": {},
          "execution_count": 59
        }
      ]
    }
  ]
}