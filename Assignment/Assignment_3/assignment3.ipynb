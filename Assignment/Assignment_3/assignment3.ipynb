{
  "nbformat": 4,
  "nbformat_minor": 0,
  "metadata": {
    "colab": {
      "name": "Untitled1.ipynb",
      "provenance": []
    },
    "kernelspec": {
      "name": "python3",
      "display_name": "Python 3"
    },
    "language_info": {
      "name": "python"
    }
  },
  "cells": [
    {
      "cell_type": "code",
      "execution_count": 2,
      "metadata": {
        "id": "pNYNTCU72aRY"
      },
      "outputs": [],
      "source": [
        "from keras.models import Sequential\n",
        "from keras.layers import LSTM, Dense\n",
        "from keras.datasets import mnist\n",
        "from keras.utils import np_utils\n",
        "from keras import initializers"
      ]
    },
    {
      "cell_type": "code",
      "source": [
        "def init_weights(shape, name=None):\n",
        "    return initializers.normal(shape, scale=0.01, name=name)"
      ],
      "metadata": {
        "id": "oxHcvL_r2hSA"
      },
      "execution_count": 4,
      "outputs": []
    },
    {
      "cell_type": "code",
      "source": [
        "batch_size = 128\n",
        "nb_epoch = 50\n",
        "\n",
        "img_rows, img_cols = 28, 28\n",
        "nb_classes = 10\n",
        "\n",
        "nb_lstm_outputs = 30\n",
        "nb_time_steps = img_rows\n",
        "dim_input_vector = img_cols"
      ],
      "metadata": {
        "id": "bRJKU8jU2h64"
      },
      "execution_count": 6,
      "outputs": []
    },
    {
      "cell_type": "code",
      "source": [
        "(X_train, y_train), (X_test, y_test) = mnist.load_data()\n",
        "print('X_train original shape:', X_train.shape)\n",
        "input_shape = (nb_time_steps, dim_input_vector)\n",
        "\n",
        "X_train = X_train.astype('float32') / 255.\n",
        "X_test = X_test.astype('float32') / 255.\n",
        "Y_train = np_utils.to_categorical(y_train, nb_classes)\n",
        "Y_test = np_utils.to_categorical(y_test, nb_classes)\n",
        "\n",
        "print('X_train shape:', X_train.shape)\n",
        "print(X_train.shape[0], 'train samples')\n",
        "print(X_test.shape[0], 'test samples')"
      ],
      "metadata": {
        "colab": {
          "base_uri": "https://localhost:8080/"
        },
        "id": "7gAabrP_3U-J",
        "outputId": "2db04eb4-6bf6-4231-fab7-4ab37f879a59"
      },
      "execution_count": 9,
      "outputs": [
        {
          "output_type": "stream",
          "name": "stdout",
          "text": [
            "X_train original shape: (60000, 28, 28)\n",
            "X_train shape: (60000, 28, 28)\n",
            "60000 train samples\n",
            "10000 test samples\n"
          ]
        }
      ]
    },
    {
      "cell_type": "code",
      "source": [
        "model = Sequential()\n",
        "model.add(LSTM(nb_lstm_outputs, input_shape=input_shape))\n",
        "model.add(Dense(nb_classes, activation='softmax'))\n",
        "model.compile(optimizer='rmsprop', loss='categorical_crossentropy', metrics=['accuracy'])\n",
        "model.summary()"
      ],
      "metadata": {
        "colab": {
          "base_uri": "https://localhost:8080/"
        },
        "id": "ktFXtcNp4ElY",
        "outputId": "5e985923-57c0-4a59-da61-3071c1141ec3"
      },
      "execution_count": 11,
      "outputs": [
        {
          "output_type": "stream",
          "name": "stdout",
          "text": [
            "Model: \"sequential_2\"\n",
            "_________________________________________________________________\n",
            " Layer (type)                Output Shape              Param #   \n",
            "=================================================================\n",
            " lstm_2 (LSTM)               (None, 30)                7080      \n",
            "                                                                 \n",
            " dense (Dense)               (None, 10)                310       \n",
            "                                                                 \n",
            "=================================================================\n",
            "Total params: 7,390\n",
            "Trainable params: 7,390\n",
            "Non-trainable params: 0\n",
            "_________________________________________________________________\n"
          ]
        }
      ]
    },
    {
      "cell_type": "code",
      "source": [
        "history = model.fit(X_train, Y_train, epochs = nb_epoch ,batch_size=batch_size, shuffle=True, verbose=1)"
      ],
      "metadata": {
        "colab": {
          "base_uri": "https://localhost:8080/"
        },
        "id": "O9zlSHNw4jBo",
        "outputId": "0687fe21-7843-4940-aa6d-dcae2fa488ad"
      },
      "execution_count": 15,
      "outputs": [
        {
          "output_type": "stream",
          "name": "stdout",
          "text": [
            "Epoch 1/50\n",
            "469/469 [==============================] - 7s 16ms/step - loss: 0.3764 - accuracy: 0.8899\n",
            "Epoch 2/50\n",
            "469/469 [==============================] - 7s 16ms/step - loss: 0.2452 - accuracy: 0.9265\n",
            "Epoch 3/50\n",
            "469/469 [==============================] - 7s 16ms/step - loss: 0.1880 - accuracy: 0.9447\n",
            "Epoch 4/50\n",
            "469/469 [==============================] - 7s 16ms/step - loss: 0.1588 - accuracy: 0.9536\n",
            "Epoch 5/50\n",
            "469/469 [==============================] - 8s 16ms/step - loss: 0.1391 - accuracy: 0.9590\n",
            "Epoch 6/50\n",
            "469/469 [==============================] - 7s 16ms/step - loss: 0.1245 - accuracy: 0.9626\n",
            "Epoch 7/50\n",
            "469/469 [==============================] - 7s 16ms/step - loss: 0.1128 - accuracy: 0.9658\n",
            "Epoch 8/50\n",
            "469/469 [==============================] - 8s 17ms/step - loss: 0.1035 - accuracy: 0.9688\n",
            "Epoch 9/50\n",
            "469/469 [==============================] - 7s 16ms/step - loss: 0.0955 - accuracy: 0.9715\n",
            "Epoch 10/50\n",
            "469/469 [==============================] - 7s 15ms/step - loss: 0.0876 - accuracy: 0.9737\n",
            "Epoch 11/50\n",
            "469/469 [==============================] - 7s 15ms/step - loss: 0.0821 - accuracy: 0.9750\n",
            "Epoch 12/50\n",
            "469/469 [==============================] - 8s 16ms/step - loss: 0.0773 - accuracy: 0.9762\n",
            "Epoch 13/50\n",
            "469/469 [==============================] - 9s 19ms/step - loss: 0.0732 - accuracy: 0.9780\n",
            "Epoch 14/50\n",
            "469/469 [==============================] - 7s 15ms/step - loss: 0.0680 - accuracy: 0.9794\n",
            "Epoch 15/50\n",
            "469/469 [==============================] - 8s 17ms/step - loss: 0.0655 - accuracy: 0.9802\n",
            "Epoch 16/50\n",
            "469/469 [==============================] - 7s 16ms/step - loss: 0.0608 - accuracy: 0.9818\n",
            "Epoch 17/50\n",
            "469/469 [==============================] - 7s 15ms/step - loss: 0.0582 - accuracy: 0.9828\n",
            "Epoch 18/50\n",
            "469/469 [==============================] - 7s 16ms/step - loss: 0.0566 - accuracy: 0.9833\n",
            "Epoch 19/50\n",
            "469/469 [==============================] - 7s 15ms/step - loss: 0.0536 - accuracy: 0.9838\n",
            "Epoch 20/50\n",
            "469/469 [==============================] - 8s 16ms/step - loss: 0.0512 - accuracy: 0.9849\n",
            "Epoch 21/50\n",
            "469/469 [==============================] - 7s 15ms/step - loss: 0.0491 - accuracy: 0.9848\n",
            "Epoch 22/50\n",
            "469/469 [==============================] - 7s 15ms/step - loss: 0.0477 - accuracy: 0.9851\n",
            "Epoch 23/50\n",
            "469/469 [==============================] - 7s 15ms/step - loss: 0.0467 - accuracy: 0.9858\n",
            "Epoch 24/50\n",
            "469/469 [==============================] - 7s 15ms/step - loss: 0.0449 - accuracy: 0.9862\n",
            "Epoch 25/50\n",
            "469/469 [==============================] - 7s 15ms/step - loss: 0.0434 - accuracy: 0.9867\n",
            "Epoch 26/50\n",
            "469/469 [==============================] - 7s 15ms/step - loss: 0.0424 - accuracy: 0.9872\n",
            "Epoch 27/50\n",
            "469/469 [==============================] - 7s 16ms/step - loss: 0.0410 - accuracy: 0.9872\n",
            "Epoch 28/50\n",
            "469/469 [==============================] - 7s 15ms/step - loss: 0.0388 - accuracy: 0.9878\n",
            "Epoch 29/50\n",
            "469/469 [==============================] - 7s 15ms/step - loss: 0.0386 - accuracy: 0.9879\n",
            "Epoch 30/50\n",
            "469/469 [==============================] - 7s 15ms/step - loss: 0.0377 - accuracy: 0.9884\n",
            "Epoch 31/50\n",
            "469/469 [==============================] - 8s 17ms/step - loss: 0.0358 - accuracy: 0.9891\n",
            "Epoch 32/50\n",
            "469/469 [==============================] - 7s 15ms/step - loss: 0.0349 - accuracy: 0.9892\n",
            "Epoch 33/50\n",
            "469/469 [==============================] - 7s 15ms/step - loss: 0.0344 - accuracy: 0.9896\n",
            "Epoch 34/50\n",
            "469/469 [==============================] - 7s 15ms/step - loss: 0.0325 - accuracy: 0.9900\n",
            "Epoch 35/50\n",
            "469/469 [==============================] - 7s 15ms/step - loss: 0.0322 - accuracy: 0.9902\n",
            "Epoch 36/50\n",
            "469/469 [==============================] - 11s 23ms/step - loss: 0.0315 - accuracy: 0.9906\n",
            "Epoch 37/50\n",
            "469/469 [==============================] - 8s 18ms/step - loss: 0.0310 - accuracy: 0.9906\n",
            "Epoch 38/50\n",
            "469/469 [==============================] - 7s 16ms/step - loss: 0.0298 - accuracy: 0.9906\n",
            "Epoch 39/50\n",
            "469/469 [==============================] - 8s 16ms/step - loss: 0.0291 - accuracy: 0.9909\n",
            "Epoch 40/50\n",
            "469/469 [==============================] - 8s 16ms/step - loss: 0.0279 - accuracy: 0.9911\n",
            "Epoch 41/50\n",
            "469/469 [==============================] - 7s 16ms/step - loss: 0.0282 - accuracy: 0.9915\n",
            "Epoch 42/50\n",
            "469/469 [==============================] - 7s 16ms/step - loss: 0.0270 - accuracy: 0.9918\n",
            "Epoch 43/50\n",
            "469/469 [==============================] - 8s 16ms/step - loss: 0.0264 - accuracy: 0.9918\n",
            "Epoch 44/50\n",
            "469/469 [==============================] - 7s 16ms/step - loss: 0.0257 - accuracy: 0.9915\n",
            "Epoch 45/50\n",
            "469/469 [==============================] - 7s 16ms/step - loss: 0.0245 - accuracy: 0.9924\n",
            "Epoch 46/50\n",
            "469/469 [==============================] - 7s 16ms/step - loss: 0.0245 - accuracy: 0.9926\n",
            "Epoch 47/50\n",
            "469/469 [==============================] - 7s 16ms/step - loss: 0.0244 - accuracy: 0.9924\n",
            "Epoch 48/50\n",
            "469/469 [==============================] - 9s 18ms/step - loss: 0.0231 - accuracy: 0.9928\n",
            "Epoch 49/50\n",
            "469/469 [==============================] - 7s 16ms/step - loss: 0.0222 - accuracy: 0.9931\n",
            "Epoch 50/50\n",
            "469/469 [==============================] - 7s 15ms/step - loss: 0.0217 - accuracy: 0.9933\n"
          ]
        }
      ]
    },
    {
      "cell_type": "code",
      "source": [
        "import matplotlib.pyplot as plt\n",
        "\n",
        "plt.plot(history.history['accuracy'])\n",
        "plt.title('model accuracy')\n",
        "plt.xlabel('epotch')\n",
        "plt.ylabel('accuracy')\n",
        "plt.legend(['train'], loc='upper left')\n",
        "plt.show()"
      ],
      "metadata": {
        "colab": {
          "base_uri": "https://localhost:8080/",
          "height": 295
        },
        "id": "YiFX5hbe5T1g",
        "outputId": "29cac1d4-fc2e-46bc-8442-81a21da3d914"
      },
      "execution_count": 16,
      "outputs": [
        {
          "output_type": "display_data",
          "data": {
            "text/plain": [
              "<Figure size 432x288 with 1 Axes>"
            ],
            "image/png": "[encoded data removed]"
          },
          "metadata": {
            "needs_background": "light"
          }
        }
      ]
    },
    {
      "cell_type": "code",
      "source": [
        "plt.plot(history.history['loss'])\n",
        "plt.title('model loss')\n",
        "plt.xlabel('epotch')\n",
        "plt.ylabel('loss')\n",
        "plt.legend(['train'], loc='upper right')\n",
        "plt.show()"
      ],
      "metadata": {
        "colab": {
          "base_uri": "https://localhost:8080/",
          "height": 295
        },
        "id": "boYkiSH67wIl",
        "outputId": "467ba025-9201-4d9f-9164-bcadc55f63ac"
      },
      "execution_count": 18,
      "outputs": [
        {
          "output_type": "display_data",
          "data": {
            "text/plain": [
              "<Figure size 432x288 with 1 Axes>"
            ],
            "image/png": "[encoded data removed]"
          },
          "metadata": {
            "needs_background": "light"
          }
        }
      ]
    },
    {
      "cell_type": "code",
      "source": [
        "evaluation = model.evaluate(X_test, Y_test, batch_size=batch_size, verbose=1)\n",
        "print('Summary: Loss over the test dataset: %.2f, Accuracy: %.2f' % (evaluation[0], evaluation[1]))"
      ],
      "metadata": {
        "colab": {
          "base_uri": "https://localhost:8080/"
        },
        "id": "YS9Zc2Id74WW",
        "outputId": "0a835876-6ee3-4fa7-a5b7-9b0db18476da"
      },
      "execution_count": 19,
      "outputs": [
        {
          "output_type": "stream",
          "name": "stdout",
          "text": [
            "79/79 [==============================] - 1s 7ms/step - loss: 0.0575 - accuracy: 0.9839\n",
            "Summary: Loss over the test dataset: 0.06, Accuracy: 0.98\n"
          ]
        }
      ]
    }
  ]
}