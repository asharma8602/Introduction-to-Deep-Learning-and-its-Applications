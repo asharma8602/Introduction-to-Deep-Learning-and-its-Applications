{
  "nbformat": 4,
  "nbformat_minor": 0,
  "metadata": {
    "colab": {
      "name": "Assignment3.ipynb",
      "provenance": []
    },
    "kernelspec": {
      "name": "python3",
      "display_name": "Python 3"
    },
    "language_info": {
      "name": "python"
    }
  },
  "cells": [
    {
      "cell_type": "code",
      "execution_count": 21,
      "metadata": {
        "id": "fqBfYhScMG2J"
      },
      "outputs": [],
      "source": [
        "import tensorflow as tf\n",
        "import matplotlib.pyplot as plt\n"
      ]
    },
    {
      "cell_type": "code",
      "source": [
        "(x_train, y_train), (x_test, y_test) = tf.keras.datasets.mnist.load_data() "
      ],
      "metadata": {
        "id": "Aq7zcRClMkkL"
      },
      "execution_count": 22,
      "outputs": []
    },
    {
      "cell_type": "code",
      "source": [
        "print(x_train.shape)\n",
        "print(y_train.shape)\n",
        "print(x_test.shape)\n",
        "print(y_test.shape)"
      ],
      "metadata": {
        "colab": {
          "base_uri": "https://localhost:8080/"
        },
        "id": "E7Jfypp0My4z",
        "outputId": "a1c50c5a-045a-4d54-8a71-08d6e85d53fc"
      },
      "execution_count": 23,
      "outputs": [
        {
          "output_type": "stream",
          "name": "stdout",
          "text": [
            "(60000, 28, 28)\n",
            "(60000,)\n",
            "(10000, 28, 28)\n",
            "(10000,)\n"
          ]
        }
      ]
    },
    {
      "cell_type": "code",
      "source": [
        "x_test = x_test.reshape(-1,28,28,1)\n",
        "x_train = x_train.reshape(-1,28,28,1)"
      ],
      "metadata": {
        "id": "Y4FPiC3IOT1g"
      },
      "execution_count": 24,
      "outputs": []
    },
    {
      "cell_type": "code",
      "source": [
        "# Creating Model\n",
        "inputs = tf.keras.layers.Input(shape=(28, 28))\n",
        "x = tf.keras.layers.SimpleRNN(64, activation ='relu')(inputs) \n",
        "outputs = tf.keras.layers.Dense(10, activation=\"softmax\")(x)\n",
        "\n",
        "model = tf.keras.models.Model(inputs,outputs)\n",
        "model.summary()"
      ],
      "metadata": {
        "colab": {
          "base_uri": "https://localhost:8080/"
        },
        "id": "eaKGkjHOOlve",
        "outputId": "8c36ff4f-19a8-4f42-8b40-94efbef89f78"
      },
      "execution_count": 25,
      "outputs": [
        {
          "output_type": "stream",
          "name": "stdout",
          "text": [
            "Model: \"model_1\"\n",
            "_________________________________________________________________\n",
            " Layer (type)                Output Shape              Param #   \n",
            "=================================================================\n",
            " input_9 (InputLayer)        [(None, 28, 28)]          0         \n",
            "                                                                 \n",
            " simple_rnn_3 (SimpleRNN)    (None, 64)                5952      \n",
            "                                                                 \n",
            " dense_3 (Dense)             (None, 10)                650       \n",
            "                                                                 \n",
            "=================================================================\n",
            "Total params: 6,602\n",
            "Trainable params: 6,602\n",
            "Non-trainable params: 0\n",
            "_________________________________________________________________\n"
          ]
        }
      ]
    },
    {
      "cell_type": "code",
      "source": [
        "# Compiling Model\n",
        "model.compile(optimizer=\"adam\",\n",
        "                loss=\"sparse_categorical_crossentropy\",\n",
        "                metrics=[\"acc\"])\n",
        "model.fit(x_train,y_train,validation_split=0.2,epochs=10)"
      ],
      "metadata": {
        "colab": {
          "base_uri": "https://localhost:8080/"
        },
        "id": "_LeIvJkBS9bj",
        "outputId": "fd17a0b9-614f-40cc-b778-c90368933364"
      },
      "execution_count": 53,
      "outputs": [
        {
          "output_type": "stream",
          "name": "stdout",
          "text": [
            "Epoch 1/10\n",
            "1500/1500 [==============================] - 12s 8ms/step - loss: 0.1851 - acc: 0.9513 - val_loss: 0.2153 - val_acc: 0.9526\n",
            "Epoch 2/10\n",
            "1500/1500 [==============================] - 12s 8ms/step - loss: 0.1880 - acc: 0.9498 - val_loss: 0.2489 - val_acc: 0.9489\n",
            "Epoch 3/10\n",
            "1500/1500 [==============================] - 12s 8ms/step - loss: 0.1775 - acc: 0.9527 - val_loss: 0.2165 - val_acc: 0.9572\n",
            "Epoch 4/10\n",
            "1500/1500 [==============================] - 11s 8ms/step - loss: 0.1836 - acc: 0.9512 - val_loss: 0.1863 - val_acc: 0.9563\n",
            "Epoch 5/10\n",
            "1500/1500 [==============================] - 11s 8ms/step - loss: 0.1810 - acc: 0.9510 - val_loss: 0.1781 - val_acc: 0.9542\n",
            "Epoch 6/10\n",
            "1500/1500 [==============================] - 12s 8ms/step - loss: 0.2067 - acc: 0.9461 - val_loss: 0.1878 - val_acc: 0.9563\n",
            "Epoch 7/10\n",
            "1500/1500 [==============================] - 11s 8ms/step - loss: 0.1724 - acc: 0.9545 - val_loss: 0.1971 - val_acc: 0.9534\n",
            "Epoch 8/10\n",
            "1500/1500 [==============================] - 12s 8ms/step - loss: 0.1955 - acc: 0.9488 - val_loss: 0.1876 - val_acc: 0.9572\n",
            "Epoch 9/10\n",
            "1500/1500 [==============================] - 12s 8ms/step - loss: 0.1843 - acc: 0.9507 - val_loss: 0.1858 - val_acc: 0.9572\n",
            "Epoch 10/10\n",
            "1500/1500 [==============================] - 11s 8ms/step - loss: 0.1862 - acc: 0.9508 - val_loss: 0.2335 - val_acc: 0.9436\n"
          ]
        },
        {
          "output_type": "execute_result",
          "data": {
            "text/plain": [
              "<keras.callbacks.History at 0x7f779afe3490>"
            ]
          },
          "metadata": {},
          "execution_count": 53
        }
      ]
    },
    {
      "cell_type": "code",
      "source": [
        "model.fit(x_train,y_train,validation_split=0.2,epochs=10)"
      ],
      "metadata": {
        "colab": {
          "base_uri": "https://localhost:8080/"
        },
        "id": "zFd7oyp3r92d",
        "outputId": "07f779d5-0750-440d-a8ab-155faa1b2f9d"
      },
      "execution_count": 59,
      "outputs": [
        {
          "output_type": "stream",
          "name": "stdout",
          "text": [
            "Epoch 1/10\n",
            "1500/1500 [==============================] - 12s 8ms/step - loss: 0.1838 - acc: 0.9518 - val_loss: 0.2183 - val_acc: 0.9513\n",
            "Epoch 2/10\n",
            "1500/1500 [==============================] - 11s 8ms/step - loss: 0.1881 - acc: 0.9509 - val_loss: 0.2072 - val_acc: 0.9536\n",
            "Epoch 3/10\n",
            "1500/1500 [==============================] - 11s 7ms/step - loss: 0.1648 - acc: 0.9564 - val_loss: 0.1930 - val_acc: 0.9542\n",
            "Epoch 4/10\n",
            "1500/1500 [==============================] - 11s 8ms/step - loss: 0.1684 - acc: 0.9559 - val_loss: 0.1997 - val_acc: 0.9546\n",
            "Epoch 5/10\n",
            "1500/1500 [==============================] - 11s 8ms/step - loss: 0.1785 - acc: 0.9525 - val_loss: 0.1801 - val_acc: 0.9569\n",
            "Epoch 6/10\n",
            "1500/1500 [==============================] - 11s 7ms/step - loss: 0.1694 - acc: 0.9546 - val_loss: 0.1806 - val_acc: 0.9565\n",
            "Epoch 7/10\n",
            "1500/1500 [==============================] - 11s 7ms/step - loss: 0.1834 - acc: 0.9522 - val_loss: 0.3718 - val_acc: 0.9032\n",
            "Epoch 8/10\n",
            "1500/1500 [==============================] - 11s 8ms/step - loss: 0.1701 - acc: 0.9548 - val_loss: 0.3607 - val_acc: 0.9169\n",
            "Epoch 9/10\n",
            "1500/1500 [==============================] - 11s 7ms/step - loss: 0.2464 - acc: 0.9372 - val_loss: 0.4020 - val_acc: 0.9327\n",
            "Epoch 10/10\n",
            "1500/1500 [==============================] - 11s 8ms/step - loss: 0.1992 - acc: 0.9463 - val_loss: 0.1768 - val_acc: 0.9549\n"
          ]
        },
        {
          "output_type": "execute_result",
          "data": {
            "text/plain": [
              "<keras.callbacks.History at 0x7f779abf81d0>"
            ]
          },
          "metadata": {},
          "execution_count": 59
        }
      ]
    },
    {
      "cell_type": "code",
      "source": [
        "model.fit(x_train,y_train,validation_split=0.2,epochs=10)"
      ],
      "metadata": {
        "colab": {
          "base_uri": "https://localhost:8080/"
        },
        "id": "NRCREhe6u-Ha",
        "outputId": "460eb40d-af2f-40c8-f4e4-87d03aedbfb5"
      },
      "execution_count": 67,
      "outputs": [
        {
          "output_type": "stream",
          "name": "stdout",
          "text": [
            "Epoch 1/10\n",
            "1500/1500 [==============================] - 12s 8ms/step - loss: 0.1680 - acc: 0.9546 - val_loss: 0.1838 - val_acc: 0.9572\n",
            "Epoch 2/10\n",
            "1500/1500 [==============================] - 11s 7ms/step - loss: 0.1784 - acc: 0.9532 - val_loss: 0.1717 - val_acc: 0.9597\n",
            "Epoch 3/10\n",
            "1500/1500 [==============================] - 12s 8ms/step - loss: 0.1731 - acc: 0.9548 - val_loss: 0.1741 - val_acc: 0.9601\n",
            "Epoch 4/10\n",
            "1500/1500 [==============================] - 11s 7ms/step - loss: 0.2194 - acc: 0.9425 - val_loss: 0.2933 - val_acc: 0.9274\n",
            "Epoch 5/10\n",
            "1500/1500 [==============================] - 11s 7ms/step - loss: 0.1986 - acc: 0.9471 - val_loss: 0.2229 - val_acc: 0.9428\n",
            "Epoch 6/10\n",
            "1500/1500 [==============================] - 11s 8ms/step - loss: 0.1744 - acc: 0.9541 - val_loss: 0.2192 - val_acc: 0.9457\n",
            "Epoch 7/10\n",
            "1500/1500 [==============================] - 11s 7ms/step - loss: 0.1902 - acc: 0.9483 - val_loss: 0.1868 - val_acc: 0.9545\n",
            "Epoch 8/10\n",
            "1500/1500 [==============================] - 11s 8ms/step - loss: 0.1864 - acc: 0.9500 - val_loss: 0.2178 - val_acc: 0.9452\n",
            "Epoch 9/10\n",
            "1500/1500 [==============================] - 11s 7ms/step - loss: 0.1825 - acc: 0.9524 - val_loss: 0.2761 - val_acc: 0.9355\n",
            "Epoch 10/10\n",
            "1500/1500 [==============================] - 11s 8ms/step - loss: 0.1715 - acc: 0.9545 - val_loss: 0.1962 - val_acc: 0.9516\n"
          ]
        },
        {
          "output_type": "execute_result",
          "data": {
            "text/plain": [
              "<keras.callbacks.History at 0x7f779814a890>"
            ]
          },
          "metadata": {},
          "execution_count": 67
        }
      ]
    },
    {
      "cell_type": "code",
      "source": [
        "#Test functions\n",
        "import numpy as np\n",
        "def Test(i): \n",
        "  plt.imshow(x_test[i].reshape(28,28))\n",
        "  pred = model.predict(x_test[i].reshape(1,28,28,1))\n",
        "  pred = np.argmax(pred)\n",
        "  plt.title(\"Predicted:\"+str(pred)+\", Actual:\"+str(y_test[i]))\n",
        "  plt.show()"
      ],
      "metadata": {
        "id": "MCaINbhwgtQD"
      },
      "execution_count": 68,
      "outputs": []
    },
    {
      "cell_type": "code",
      "source": [
        "# Check the test\n",
        "# Test(<Put the number to check>)\n",
        "Test(89)"
      ],
      "metadata": {
        "colab": {
          "base_uri": "https://localhost:8080/",
          "height": 281
        },
        "id": "u7VtcSE4j2ho",
        "outputId": "1866d9f6-aa80-48ce-9481-91b40e620875"
      },
      "execution_count": 74,
      "outputs": [
        {
          "output_type": "display_data",
          "data": {
            "text/plain": [
              "<Figure size 432x288 with 1 Axes>"
            ],
            "image/png": "[encoded data removed]"
          },
          "metadata": {
            "needs_background": "light"
          }
        }
      ]
    }
  ]
}