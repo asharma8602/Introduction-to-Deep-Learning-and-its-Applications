{
  "nbformat": 4,
  "nbformat_minor": 0,
  "metadata": {
    "colab": {
      "name": "210094_Akshat.ipynb",
      "provenance": []
    },
    "kernelspec": {
      "name": "python3",
      "display_name": "Python 3"
    },
    "language_info": {
      "name": "python"
    }
  },
  "cells": [
    {
      "cell_type": "code",
      "execution_count": null,
      "metadata": {
        "colab": {
          "base_uri": "https://localhost:8080/"
        },
        "id": "W3p1lJwDevvi",
        "outputId": "e971f52c-03e3-4fc8-ad1f-4fab9f9cc072"
      },
      "outputs": [
        {
          "output_type": "stream",
          "name": "stdout",
          "text": [
            "Model: \"model_3\"\n",
            "_________________________________________________________________\n",
            " Layer (type)                Output Shape              Param #   \n",
            "=================================================================\n",
            " input_9 (InputLayer)        [(None, 28, 28)]          0         \n",
            "                                                                 \n",
            " lstm (LSTM)                 (None, 64)                23808     \n",
            "                                                                 \n",
            " dense_5 (Dense)             (None, 10)                650       \n",
            "                                                                 \n",
            "=================================================================\n",
            "Total params: 24,458\n",
            "Trainable params: 24,458\n",
            "Non-trainable params: 0\n",
            "_________________________________________________________________\n",
            "Epoch 1/5\n",
            "1875/1875 [==============================] - 27s 14ms/step - loss: 0.5216 - acc: 0.8318\n",
            "Epoch 2/5\n",
            "1875/1875 [==============================] - 27s 14ms/step - loss: 0.1556 - acc: 0.9536\n",
            "Epoch 3/5\n",
            "1875/1875 [==============================] - 27s 14ms/step - loss: 0.1122 - acc: 0.9671\n",
            "Epoch 4/5\n",
            "1875/1875 [==============================] - 27s 14ms/step - loss: 0.0879 - acc: 0.9736\n",
            "Epoch 5/5\n",
            "1875/1875 [==============================] - 26s 14ms/step - loss: 0.0729 - acc: 0.9777\n",
            "313/313 [==============================] - 2s 6ms/step - loss: 0.0744 - acc: 0.9782\n",
            "Loss:  0.07439503818750381 Accuracy: 0.9782000184059143\n"
          ]
        }
      ],
      "source": [
        "import tensorflow as tf\n",
        "import tensorflow.keras.layers as KL\n",
        "\n",
        "data=tf.keras.datasets.mnist\n",
        "(x_train, y_train),(x_test,y_test)=data.load_data()\n",
        "x_train=x_train/255.0\n",
        "x_test=x_test/255.0\n",
        "inputs=KL.Input(shape=(28,28))\n",
        "x=KL.LSTM(64, activation=\"relu\")(inputs)\n",
        "\n",
        "output=KL.Dense(10,activation=\"softmax\")(x)\n",
        "\n",
        "model=tf.keras.models.Model(inputs,output)\n",
        "model.summary()\n",
        "model.compile(optimizer=\"adam\",loss=\"sparse_categorical_crossentropy\",metrics=[\"acc\"])\n",
        "model.fit(x_train,y_train,epochs=5)\n",
        "loss,acc=model.evaluate(x_test,y_test)\n",
        "print(\"Loss: \",loss,\"Accuracy:\",acc)\n"
      ]
    }
  ]
}