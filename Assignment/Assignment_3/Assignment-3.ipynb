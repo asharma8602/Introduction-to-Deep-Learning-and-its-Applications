{
  "cells": [
    {
      "cell_type": "markdown",
      "metadata": {
        "id": "fUNWwbAULGBp"
      },
      "source": [
        "Import TensorFlow, matplotlib, MNIST dataset and visualisation of the handwritten number."
      ]
    },
    {
      "cell_type": "code",
      "execution_count": 20,
      "metadata": {
        "colab": {
          "base_uri": "https://localhost:8080/",
          "height": 372
        },
        "id": "U489fA5rNof-",
        "outputId": "dbda992d-0795-4d6f-b38d-f43c1f11d369"
      },
      "outputs": [
        {
          "name": "stdout",
          "output_type": "stream",
          "text": [
            "7\n"
          ]
        },
        {
          "data": {
            "text/plain": [
              "<matplotlib.image.AxesImage at 0x7f4f9aac0eb0>"
            ]
          },
          "execution_count": 20,
          "metadata": {},
          "output_type": "execute_result"
        },
        {
          "data": {
            "image/png": "[encoded data removed]",
            "text/plain": [
              "<Figure size 432x288 with 1 Axes>"
            ]
          },
          "metadata": {
            "needs_background": "light"
          },
          "output_type": "display_data"
        }
      ],
      "source": [
        "import tensorflow as tf\n",
        "import matplotlib.pyplot as plt\n",
        "(x_train, y_train), (x_test, y_test) = tf.keras.datasets.mnist.load_data()\n",
        "image_index = 5473\n",
        "print(y_train[image_index])\n",
        "plt.imshow(x_train[image_index], cmap='Greys')"
      ]
    },
    {
      "cell_type": "markdown",
      "metadata": {
        "id": "FxxGltoPNrR2"
      },
      "source": [
        "Size of the image."
      ]
    },
    {
      "cell_type": "code",
      "execution_count": 21,
      "metadata": {
        "colab": {
          "base_uri": "https://localhost:8080/"
        },
        "id": "2Sy_VnuyOLMu",
        "outputId": "2b3f1677-c5b8-4c4a-b95f-7b080f1634f1"
      },
      "outputs": [
        {
          "data": {
            "text/plain": [
              "(60000, 28, 28)"
            ]
          },
          "execution_count": 21,
          "metadata": {},
          "output_type": "execute_result"
        }
      ],
      "source": [
        "x_train.shape"
      ]
    },
    {
      "cell_type": "markdown",
      "metadata": {},
      "source": [
        "Reshaping and Normalizing the Images."
      ]
    },
    {
      "cell_type": "code",
      "execution_count": 22,
      "metadata": {
        "colab": {
          "base_uri": "https://localhost:8080/"
        },
        "id": "fxNFy4xUONb1",
        "outputId": "03d79d0c-50cd-47c7-eef0-5c2cc8151aa9"
      },
      "outputs": [
        {
          "name": "stdout",
          "output_type": "stream",
          "text": [
            "x_train shape: (60000, 28, 28, 1)\n",
            "Number of images in x_train 60000\n",
            "Number of images in x_test 10000\n"
          ]
        }
      ],
      "source": [
        "x_train = x_train.reshape(x_train.shape[0], 28, 28, 1)\n",
        "x_test = x_test.reshape(x_test.shape[0], 28, 28, 1)\n",
        "input_shape = (28, 28, 1)\n",
        "x_train = x_train.astype('float32')\n",
        "x_test = x_test.astype('float32')\n",
        "x_train /= 255\n",
        "x_test /= 255\n",
        "print('x_train shape:', x_train.shape)\n",
        "print('Number of images in x_train', x_train.shape[0])\n",
        "print('Number of images in x_test', x_test.shape[0])"
      ]
    },
    {
      "cell_type": "markdown",
      "metadata": {},
      "source": [
        "Building the Convolutional Neural Network"
      ]
    },
    {
      "cell_type": "code",
      "execution_count": 23,
      "metadata": {
        "id": "chOVr_L4OU9B"
      },
      "outputs": [],
      "source": [
        "from tensorflow.keras.models import Sequential\n",
        "from tensorflow.keras.layers import Dense, Conv2D, Dropout, Flatten, MaxPooling2D\n",
        "model = Sequential()\n",
        "model.add(Conv2D(28, kernel_size=(3,3), input_shape=input_shape))\n",
        "model.add(MaxPooling2D(pool_size=(2, 2)))\n",
        "model.add(Flatten())\n",
        "model.add(Dense(128, activation=tf.nn.relu))\n",
        "model.add(Dropout(0.2))\n",
        "model.add(Dense(10,activation=tf.nn.softmax))"
      ]
    },
    {
      "cell_type": "markdown",
      "metadata": {},
      "source": [
        "Compiling and Fitting the Model."
      ]
    },
    {
      "cell_type": "code",
      "execution_count": 24,
      "metadata": {
        "colab": {
          "base_uri": "https://localhost:8080/"
        },
        "id": "Wq-lRBAmObDX",
        "outputId": "cf693b19-6b01-4749-a3bf-139fc8f1d201"
      },
      "outputs": [
        {
          "name": "stdout",
          "output_type": "stream",
          "text": [
            "Epoch 1/25\n",
            "1875/1875 [==============================] - 15s 8ms/step - loss: 0.2087 - accuracy: 0.9375\n",
            "Epoch 2/25\n",
            "1875/1875 [==============================] - 16s 8ms/step - loss: 0.0835 - accuracy: 0.9742\n",
            "Epoch 3/25\n",
            "1875/1875 [==============================] - 16s 8ms/step - loss: 0.0583 - accuracy: 0.9818\n",
            "Epoch 4/25\n",
            "1875/1875 [==============================] - 17s 9ms/step - loss: 0.0449 - accuracy: 0.9855\n",
            "Epoch 5/25\n",
            "1875/1875 [==============================] - 16s 9ms/step - loss: 0.0348 - accuracy: 0.9886\n",
            "Epoch 6/25\n",
            "1875/1875 [==============================] - 15s 8ms/step - loss: 0.0287 - accuracy: 0.9904\n",
            "Epoch 7/25\n",
            "1875/1875 [==============================] - 15s 8ms/step - loss: 0.0231 - accuracy: 0.9922\n",
            "Epoch 8/25\n",
            "1875/1875 [==============================] - 15s 8ms/step - loss: 0.0222 - accuracy: 0.9924\n",
            "Epoch 9/25\n",
            "1875/1875 [==============================] - 14s 8ms/step - loss: 0.0207 - accuracy: 0.9926\n",
            "Epoch 10/25\n",
            "1875/1875 [==============================] - 15s 8ms/step - loss: 0.0180 - accuracy: 0.9940\n",
            "Epoch 11/25\n",
            "1875/1875 [==============================] - 15s 8ms/step - loss: 0.0158 - accuracy: 0.9946\n",
            "Epoch 12/25\n",
            "1875/1875 [==============================] - 15s 8ms/step - loss: 0.0150 - accuracy: 0.9948\n",
            "Epoch 13/25\n",
            "1875/1875 [==============================] - 15s 8ms/step - loss: 0.0129 - accuracy: 0.9957\n",
            "Epoch 14/25\n",
            "1875/1875 [==============================] - 15s 8ms/step - loss: 0.0131 - accuracy: 0.9955\n",
            "Epoch 15/25\n",
            "1875/1875 [==============================] - 15s 8ms/step - loss: 0.0117 - accuracy: 0.9960\n",
            "Epoch 16/25\n",
            "1875/1875 [==============================] - 15s 8ms/step - loss: 0.0148 - accuracy: 0.9954\n",
            "Epoch 17/25\n",
            "1875/1875 [==============================] - 15s 8ms/step - loss: 0.0109 - accuracy: 0.9963\n",
            "Epoch 18/25\n",
            "1875/1875 [==============================] - 14s 8ms/step - loss: 0.0103 - accuracy: 0.9965\n",
            "Epoch 19/25\n",
            "1875/1875 [==============================] - 15s 8ms/step - loss: 0.0111 - accuracy: 0.9961\n",
            "Epoch 20/25\n",
            "1875/1875 [==============================] - 15s 8ms/step - loss: 0.0104 - accuracy: 0.9967\n",
            "Epoch 21/25\n",
            "1875/1875 [==============================] - 15s 8ms/step - loss: 0.0111 - accuracy: 0.9963\n",
            "Epoch 22/25\n",
            "1875/1875 [==============================] - 15s 8ms/step - loss: 0.0089 - accuracy: 0.9972\n",
            "Epoch 23/25\n",
            "1875/1875 [==============================] - 15s 8ms/step - loss: 0.0116 - accuracy: 0.9962\n",
            "Epoch 24/25\n",
            "1875/1875 [==============================] - 15s 8ms/step - loss: 0.0104 - accuracy: 0.9969\n",
            "Epoch 25/25\n",
            "1875/1875 [==============================] - 15s 8ms/step - loss: 0.0095 - accuracy: 0.9972\n"
          ]
        },
        {
          "data": {
            "text/plain": [
              "<keras.callbacks.History at 0x7f4f9aaf7f70>"
            ]
          },
          "execution_count": 24,
          "metadata": {},
          "output_type": "execute_result"
        }
      ],
      "source": [
        "model.compile(optimizer='adam', \n",
        "              loss='sparse_categorical_crossentropy', \n",
        "              metrics=['accuracy'])\n",
        "model.fit(x=x_train,y=y_train, epochs=25)"
      ]
    },
    {
      "cell_type": "markdown",
      "metadata": {},
      "source": [
        "Evaluating the Model."
      ]
    },
    {
      "cell_type": "code",
      "execution_count": 25,
      "metadata": {
        "id": "YVK2l9S7Odw0"
      },
      "outputs": [
        {
          "name": "stdout",
          "output_type": "stream",
          "text": [
            "313/313 [==============================] - 1s 3ms/step - loss: 0.0807 - accuracy: 0.9865\n"
          ]
        },
        {
          "data": {
            "text/plain": [
              "[0.08065182715654373, 0.9865000247955322]"
            ]
          },
          "execution_count": 25,
          "metadata": {},
          "output_type": "execute_result"
        }
      ],
      "source": [
        "model.evaluate(x_test, y_test)"
      ]
    },
    {
      "cell_type": "markdown",
      "metadata": {},
      "source": [
        "Here we can see that we have acheived 98.65% accuracy."
      ]
    },
    {
      "cell_type": "markdown",
      "metadata": {},
      "source": []
    }
  ],
  "metadata": {
    "colab": {
      "name": "Untitled0.ipynb",
      "provenance": []
    },
    "kernelspec": {
      "display_name": "Python 3.8.10 64-bit",
      "language": "python",
      "name": "python3"
    },
    "language_info": {
      "codemirror_mode": {
        "name": "ipython",
        "version": 3
      },
      "file_extension": ".py",
      "mimetype": "text/x-python",
      "name": "python",
      "nbconvert_exporter": "python",
      "pygments_lexer": "ipython3",
      "version": "3.8.10"
    },
    "vscode": {
      "interpreter": {
        "hash": "916dbcbb3f70747c44a77c7bcd40155683ae19c65e1c03b4aa3499c5328201f1"
      }
    }
  },
  "nbformat": 4,
  "nbformat_minor": 0
}
