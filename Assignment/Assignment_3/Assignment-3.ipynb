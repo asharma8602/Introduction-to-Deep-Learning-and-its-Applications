{
  "cells": [
    {
      "cell_type": "markdown",
      "metadata": {
        "id": "fUNWwbAULGBp"
      },
      "source": [
        "### Import TensorFlow, matplotlib and MNIST dataset."
      ]
    },
    {
      "cell_type": "code",
      "execution_count": 16,
      "metadata": {
        "colab": {
          "base_uri": "https://localhost:8080/",
          "height": 372
        },
        "id": "U489fA5rNof-",
        "outputId": "dbda992d-0795-4d6f-b38d-f43c1f11d369"
      },
      "outputs": [],
      "source": [
        "import tensorflow as tf\n",
        "import matplotlib.pyplot as plt\n",
        "import tensorflow.keras.layers\n",
        "(x_train, y_train), (x_test, y_test) = tf.keras.datasets.mnist.load_data()\n",
        "x_train, x_test = x_train/255.0, x_test/255.0"
      ]
    },
    {
      "cell_type": "markdown",
      "metadata": {},
      "source": [
        "### Visualisation."
      ]
    },
    {
      "cell_type": "code",
      "execution_count": 23,
      "metadata": {},
      "outputs": [
        {
          "name": "stdout",
          "output_type": "stream",
          "text": [
            "7\n"
          ]
        },
        {
          "data": {
            "text/plain": [
              "<matplotlib.image.AxesImage at 0x7f44688c2ac0>"
            ]
          },
          "execution_count": 23,
          "metadata": {},
          "output_type": "execute_result"
        },
        {
          "data": {
            "image/png": "[encoded data removed]",
            "text/plain": [
              "<Figure size 432x288 with 1 Axes>"
            ]
          },
          "metadata": {
            "needs_background": "light"
          },
          "output_type": "display_data"
        }
      ],
      "source": [
        "image_index = 5473\n",
        "print(y_train[image_index])\n",
        "plt.imshow(x_train[image_index], cmap='Greys')"
      ]
    },
    {
      "cell_type": "markdown",
      "metadata": {
        "id": "FxxGltoPNrR2"
      },
      "source": [
        "### Size of the image."
      ]
    },
    {
      "cell_type": "code",
      "execution_count": 18,
      "metadata": {
        "colab": {
          "base_uri": "https://localhost:8080/"
        },
        "id": "2Sy_VnuyOLMu",
        "outputId": "2b3f1677-c5b8-4c4a-b95f-7b080f1634f1"
      },
      "outputs": [
        {
          "data": {
            "text/plain": [
              "(60000, 28, 28)"
            ]
          },
          "execution_count": 18,
          "metadata": {},
          "output_type": "execute_result"
        }
      ],
      "source": [
        "x_train.shape"
      ]
    },
    {
      "cell_type": "markdown",
      "metadata": {},
      "source": [
        "### Building the Model"
      ]
    },
    {
      "cell_type": "code",
      "execution_count": 20,
      "metadata": {
        "colab": {
          "base_uri": "https://localhost:8080/"
        },
        "id": "fxNFy4xUONb1",
        "outputId": "03d79d0c-50cd-47c7-eef0-5c2cc8151aa9"
      },
      "outputs": [
        {
          "name": "stdout",
          "output_type": "stream",
          "text": [
            "Model: \"model_1\"\n",
            "_________________________________________________________________\n",
            " Layer (type)                Output Shape              Param #   \n",
            "=================================================================\n",
            " input_2 (InputLayer)        [(None, 28, 28)]          0         \n",
            "                                                                 \n",
            " lstm_1 (LSTM)               (None, 64)                23808     \n",
            "                                                                 \n",
            " dense_1 (Dense)             (None, 10)                650       \n",
            "                                                                 \n",
            "=================================================================\n",
            "Total params: 24,458\n",
            "Trainable params: 24,458\n",
            "Non-trainable params: 0\n",
            "_________________________________________________________________\n"
          ]
        }
      ],
      "source": [
        "input = tensorflow.keras.layers.Input(shape = (28,28))\n",
        "x = tensorflow.keras.layers.LSTM(64, activation = \"relu\")(input)\n",
        "out = tensorflow.keras.layers.Dense(10, activation = \"softmax\")(x)\n",
        "model = tf.keras.models.Model(input, out)\n",
        "model.summary()"
      ]
    },
    {
      "cell_type": "markdown",
      "metadata": {},
      "source": [
        "### Model Training"
      ]
    },
    {
      "cell_type": "code",
      "execution_count": 21,
      "metadata": {
        "colab": {
          "base_uri": "https://localhost:8080/"
        },
        "id": "Wq-lRBAmObDX",
        "outputId": "cf693b19-6b01-4749-a3bf-139fc8f1d201"
      },
      "outputs": [
        {
          "name": "stdout",
          "output_type": "stream",
          "text": [
            "Epoch 1/25\n",
            "1875/1875 [==============================] - 23s 12ms/step - loss: 0.5686 - acc: 0.8132\n",
            "Epoch 2/25\n",
            "1875/1875 [==============================] - 22s 12ms/step - loss: 0.1620 - acc: 0.9513\n",
            "Epoch 3/25\n",
            "1875/1875 [==============================] - 22s 12ms/step - loss: 0.1114 - acc: 0.9666\n",
            "Epoch 4/25\n",
            "1875/1875 [==============================] - 23s 12ms/step - loss: 0.0893 - acc: 0.9731\n",
            "Epoch 5/25\n",
            "1875/1875 [==============================] - 22s 12ms/step - loss: 0.0728 - acc: 0.9781\n",
            "Epoch 6/25\n",
            "1875/1875 [==============================] - 22s 12ms/step - loss: 0.0622 - acc: 0.9809\n",
            "Epoch 7/25\n",
            "1875/1875 [==============================] - 23s 12ms/step - loss: 0.0554 - acc: 0.9827\n",
            "Epoch 8/25\n",
            "1875/1875 [==============================] - 22s 12ms/step - loss: 0.0473 - acc: 0.9854\n",
            "Epoch 9/25\n",
            "1875/1875 [==============================] - 22s 12ms/step - loss: 0.0434 - acc: 0.9865\n",
            "Epoch 10/25\n",
            "1875/1875 [==============================] - 23s 12ms/step - loss: 0.0391 - acc: 0.9876\n",
            "Epoch 11/25\n",
            "1875/1875 [==============================] - 21s 11ms/step - loss: 0.0355 - acc: 0.9887\n",
            "Epoch 12/25\n",
            "1875/1875 [==============================] - 21s 11ms/step - loss: 0.0322 - acc: 0.9900\n",
            "Epoch 13/25\n",
            "1875/1875 [==============================] - 22s 12ms/step - loss: 0.0292 - acc: 0.9911\n",
            "Epoch 14/25\n",
            "1875/1875 [==============================] - 22s 12ms/step - loss: 0.0263 - acc: 0.9919\n",
            "Epoch 15/25\n",
            "1875/1875 [==============================] - 22s 12ms/step - loss: 0.0251 - acc: 0.9918\n",
            "Epoch 16/25\n",
            "1875/1875 [==============================] - 22s 12ms/step - loss: 0.0228 - acc: 0.9930\n",
            "Epoch 17/25\n",
            "1875/1875 [==============================] - 22s 12ms/step - loss: 0.0216 - acc: 0.9931\n",
            "Epoch 18/25\n",
            "1875/1875 [==============================] - 22s 12ms/step - loss: 0.0191 - acc: 0.9938\n",
            "Epoch 19/25\n",
            "1875/1875 [==============================] - 22s 12ms/step - loss: 0.0188 - acc: 0.9936\n",
            "Epoch 20/25\n",
            "1875/1875 [==============================] - 22s 12ms/step - loss: 0.0186 - acc: 0.9941\n",
            "Epoch 21/25\n",
            "1875/1875 [==============================] - 22s 12ms/step - loss: 0.0165 - acc: 0.9948\n",
            "Epoch 22/25\n",
            "1875/1875 [==============================] - 22s 12ms/step - loss: 0.0157 - acc: 0.9952\n",
            "Epoch 23/25\n",
            "1875/1875 [==============================] - 23s 12ms/step - loss: 0.0146 - acc: 0.9953\n",
            "Epoch 24/25\n",
            "1875/1875 [==============================] - 22s 12ms/step - loss: 0.0149 - acc: 0.9952\n",
            "Epoch 25/25\n",
            "1875/1875 [==============================] - 22s 12ms/step - loss: 0.0133 - acc: 0.9956\n"
          ]
        }
      ],
      "source": [
        "model.compile(optimizer  =\"adam\", loss = \"sparse_categorical_crossentropy\", metrics = [\"acc\"])\n",
        "fitted_model = model.fit(x_train, y_train, epochs = 25)"
      ]
    },
    {
      "cell_type": "markdown",
      "metadata": {},
      "source": [
        "### Evaluating the Model."
      ]
    },
    {
      "cell_type": "code",
      "execution_count": 22,
      "metadata": {
        "id": "YVK2l9S7Odw0"
      },
      "outputs": [
        {
          "name": "stdout",
          "output_type": "stream",
          "text": [
            "313/313 [==============================] - 2s 6ms/step - loss: 0.0420 - acc: 0.9888\n",
            "Loss: 0.04199618101119995, Accuracy: 0.9887999892234802\n"
          ]
        }
      ],
      "source": [
        "loss, accuracy = model.evaluate(x_test, y_test)\n",
        "print(\"Loss: {0}, Accuracy: {1}\".format(loss, accuracy))"
      ]
    },
    {
      "cell_type": "markdown",
      "metadata": {},
      "source": [
        "Here we can see that we have acheived 98.88% accuracy."
      ]
    },
    {
      "cell_type": "markdown",
      "metadata": {},
      "source": []
    }
  ],
  "metadata": {
    "colab": {
      "name": "Untitled0.ipynb",
      "provenance": []
    },
    "kernelspec": {
      "display_name": "Python 3.8.10 64-bit",
      "language": "python",
      "name": "python3"
    },
    "language_info": {
      "codemirror_mode": {
        "name": "ipython",
        "version": 3
      },
      "file_extension": ".py",
      "mimetype": "text/x-python",
      "name": "python",
      "nbconvert_exporter": "python",
      "pygments_lexer": "ipython3",
      "version": "3.8.10"
    },
    "vscode": {
      "interpreter": {
        "hash": "916dbcbb3f70747c44a77c7bcd40155683ae19c65e1c03b4aa3499c5328201f1"
      }
    }
  },
  "nbformat": 4,
  "nbformat_minor": 0
}
