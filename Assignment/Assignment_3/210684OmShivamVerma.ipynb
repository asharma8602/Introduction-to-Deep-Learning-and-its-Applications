{
  "nbformat": 4,
  "nbformat_minor": 0,
  "metadata": {
    "colab": {
      "name": "StamaticsProjAssgn3.ipynb",
      "provenance": [],
      "collapsed_sections": []
    },
    "kernelspec": {
      "name": "python3",
      "display_name": "Python 3"
    },
    "language_info": {
      "name": "python"
    },
    "accelerator": "GPU",
    "gpuClass": "standard"
  },
  "cells": [
    {
      "cell_type": "code",
      "execution_count": 1,
      "metadata": {
        "id": "495MKyknAC-v"
      },
      "outputs": [],
      "source": [
        "import numpy as np\n",
        "import pandas as pd\n",
        "import matplotlib as mpl\n",
        "mpl.use('nbagg')\n",
        "import matplotlib.pyplot as plt\n",
        "plt.ioff()\n",
        "import tensorflow as tf\n",
        "\n",
        "%load_ext autoreload\n",
        "%autoreload 2\n",
        "%reload_ext autoreload"
      ]
    },
    {
      "cell_type": "code",
      "source": [
        "# Load the MNIST dataset\n",
        "(x_train, y_train), (x_test, y_test) = tf.keras.datasets.mnist.load_data()"
      ],
      "metadata": {
        "id": "HdeQrivCCixE"
      },
      "execution_count": 2,
      "outputs": []
    },
    {
      "cell_type": "code",
      "source": [
        "# View dimensions and some training images\n",
        "print(\"x_train:\", x_train.shape)\n",
        "print(\"y_train:\", y_train.shape)\n",
        "print(\"x_test:\", x_test.shape)\n",
        "print(\"y_test:\", y_test.shape)"
      ],
      "metadata": {
        "colab": {
          "base_uri": "https://localhost:8080/"
        },
        "id": "JbLjnzsrEKJQ",
        "outputId": "67dda6f7-0d9c-4924-d44e-190d685d2fea"
      },
      "execution_count": 3,
      "outputs": [
        {
          "output_type": "stream",
          "name": "stdout",
          "text": [
            "x_train: (60000, 28, 28)\n",
            "y_train: (60000,)\n",
            "x_test: (10000, 28, 28)\n",
            "y_test: (10000,)\n"
          ]
        }
      ]
    },
    {
      "cell_type": "code",
      "source": [
        "# Normalisation of inputs\n",
        "x_train = x_train.astype('float32') / 255.0\n",
        "x_test = x_test.astype('float32') / 255.0"
      ],
      "metadata": {
        "id": "drSYY9byNkj7"
      },
      "execution_count": 4,
      "outputs": []
    },
    {
      "cell_type": "code",
      "source": [
        "# Getting labels and convert to one-hot label\n",
        "labels = [0, 1, 2, 3, 4, 5, 6, 7, 8, 9]\n",
        "\n",
        "y_train = tf.one_hot(y_train, len(labels)).numpy()\n",
        "y_test = tf.one_hot(y_test, len(labels)).numpy()"
      ],
      "metadata": {
        "id": "7KrQTMyIadnE"
      },
      "execution_count": 5,
      "outputs": []
    },
    {
      "cell_type": "code",
      "source": [
        "# View the dimensions again\n",
        "print(\"x_train:\", x_train.shape)\n",
        "print(\"y_train:\", y_train.shape)\n",
        "print(\"x_test:\", x_test.shape)\n",
        "print(\"y_test:\", y_test.shape)\n",
        "\n",
        "fig, axes = plt.subplots(3, 10, figsize=[20, 6])\n",
        "for i, j in zip(list(np.repeat(list(range(3)), 10)), list(range(10))*3):\n",
        "    axes[i][j].imshow(x_train[i+j], cmap='gray', vmin=0, vmax=1)\n",
        "    axes[i][j].set(xticks = (), yticks = (), title = str(y_train[i+j].argmax()))\n",
        "fig.show()"
      ],
      "metadata": {
        "colab": {
          "base_uri": "https://localhost:8080/",
          "height": 444
        },
        "id": "WrbuZxrzO8SL",
        "outputId": "9d177a7c-dbdc-42c8-be28-6480b379a59e"
      },
      "execution_count": 6,
      "outputs": [
        {
          "output_type": "stream",
          "name": "stdout",
          "text": [
            "x_train: (60000, 28, 28)\n",
            "y_train: (60000, 10)\n",
            "x_test: (10000, 28, 28)\n",
            "y_test: (10000, 10)\n"
          ]
        },
        {
          "output_type": "display_data",
          "data": {
            "text/plain": [
              "<Figure size 1440x432 with 30 Axes>"
            ],
            "image/png": "[encoded data removed]"
          },
          "metadata": {}
        }
      ]
    },
    {
      "cell_type": "code",
      "source": [
        "# Creating the model`\n",
        "input_layer = tf.keras.layers.Input(shape = tuple(x_train.shape[1:]), name = \"Input_Layer\")\n",
        "LSTM_layer_1 = tf.keras.layers.LSTM(units = 50, return_sequences = True, name = \"LSTM_Layer_1\")(input_layer)\n",
        "LSTM_layer_2 = tf.keras.layers.LSTM(units = 50, name = \"LSTM_Layer_2\")(LSTM_layer_1)\n",
        "output_layer = tf.keras.layers.Dense(units = 10, activation = 'softmax', name = \"Dense_Output_Layer\")(LSTM_layer_2)\n",
        "\n",
        "model = tf.keras.Model(input_layer, output_layer)\n",
        "model.summary()"
      ],
      "metadata": {
        "id": "oZa1bicqPG9d",
        "colab": {
          "base_uri": "https://localhost:8080/"
        },
        "outputId": "7c10bea7-9d2f-4d7d-99f0-a884e677fa37"
      },
      "execution_count": 7,
      "outputs": [
        {
          "output_type": "stream",
          "name": "stdout",
          "text": [
            "Model: \"model\"\n",
            "_________________________________________________________________\n",
            " Layer (type)                Output Shape              Param #   \n",
            "=================================================================\n",
            " Input_Layer (InputLayer)    [(None, 28, 28)]          0         \n",
            "                                                                 \n",
            " LSTM_Layer_1 (LSTM)         (None, 28, 50)            15800     \n",
            "                                                                 \n",
            " LSTM_Layer_2 (LSTM)         (None, 50)                20200     \n",
            "                                                                 \n",
            " Dense_Output_Layer (Dense)  (None, 10)                510       \n",
            "                                                                 \n",
            "=================================================================\n",
            "Total params: 36,510\n",
            "Trainable params: 36,510\n",
            "Non-trainable params: 0\n",
            "_________________________________________________________________\n"
          ]
        }
      ]
    },
    {
      "cell_type": "code",
      "source": [
        "# Compile the model\n",
        "model.compile(\n",
        "    optimizer = tf.keras.optimizers.Adam(),\n",
        "    loss = tf.keras.losses.CategoricalCrossentropy(),\n",
        "    metrics = [\"accuracy\"]\n",
        ")"
      ],
      "metadata": {
        "id": "UEvJOkpWqi3A"
      },
      "execution_count": 8,
      "outputs": []
    },
    {
      "cell_type": "code",
      "source": [
        "# Train the model\n",
        "epochs = 25\n",
        "\n",
        "history = model.fit(\n",
        "    x = x_train,\n",
        "    y = y_train,\n",
        "    validation_data = (x_test, y_test),\n",
        "    epochs = epochs,\n",
        "    verbose = 2,\n",
        ")"
      ],
      "metadata": {
        "colab": {
          "base_uri": "https://localhost:8080/"
        },
        "id": "rqnIK8obsvB2",
        "outputId": "c6be5a92-583d-491e-cfb9-3d6c7b1c89e3"
      },
      "execution_count": 9,
      "outputs": [
        {
          "output_type": "stream",
          "name": "stdout",
          "text": [
            "Epoch 1/25\n",
            "1875/1875 - 20s - loss: 0.4113 - accuracy: 0.8679 - val_loss: 0.1723 - val_accuracy: 0.9486 - 20s/epoch - 11ms/step\n",
            "Epoch 2/25\n",
            "1875/1875 - 11s - loss: 0.1240 - accuracy: 0.9625 - val_loss: 0.0957 - val_accuracy: 0.9710 - 11s/epoch - 6ms/step\n",
            "Epoch 3/25\n",
            "1875/1875 - 11s - loss: 0.0856 - accuracy: 0.9744 - val_loss: 0.0798 - val_accuracy: 0.9760 - 11s/epoch - 6ms/step\n",
            "Epoch 4/25\n",
            "1875/1875 - 10s - loss: 0.0644 - accuracy: 0.9802 - val_loss: 0.0603 - val_accuracy: 0.9810 - 10s/epoch - 6ms/step\n",
            "Epoch 5/25\n",
            "1875/1875 - 11s - loss: 0.0536 - accuracy: 0.9833 - val_loss: 0.0523 - val_accuracy: 0.9841 - 11s/epoch - 6ms/step\n",
            "Epoch 6/25\n",
            "1875/1875 - 10s - loss: 0.0435 - accuracy: 0.9865 - val_loss: 0.0507 - val_accuracy: 0.9841 - 10s/epoch - 6ms/step\n",
            "Epoch 7/25\n",
            "1875/1875 - 10s - loss: 0.0377 - accuracy: 0.9884 - val_loss: 0.0552 - val_accuracy: 0.9829 - 10s/epoch - 5ms/step\n",
            "Epoch 8/25\n",
            "1875/1875 - 10s - loss: 0.0324 - accuracy: 0.9903 - val_loss: 0.0443 - val_accuracy: 0.9871 - 10s/epoch - 5ms/step\n",
            "Epoch 9/25\n",
            "1875/1875 - 11s - loss: 0.0302 - accuracy: 0.9905 - val_loss: 0.0473 - val_accuracy: 0.9862 - 11s/epoch - 6ms/step\n",
            "Epoch 10/25\n",
            "1875/1875 - 11s - loss: 0.0267 - accuracy: 0.9917 - val_loss: 0.0422 - val_accuracy: 0.9870 - 11s/epoch - 6ms/step\n",
            "Epoch 11/25\n",
            "1875/1875 - 10s - loss: 0.0248 - accuracy: 0.9922 - val_loss: 0.0445 - val_accuracy: 0.9858 - 10s/epoch - 5ms/step\n",
            "Epoch 12/25\n",
            "1875/1875 - 11s - loss: 0.0213 - accuracy: 0.9934 - val_loss: 0.0452 - val_accuracy: 0.9869 - 11s/epoch - 6ms/step\n",
            "Epoch 13/25\n",
            "1875/1875 - 10s - loss: 0.0198 - accuracy: 0.9938 - val_loss: 0.0425 - val_accuracy: 0.9881 - 10s/epoch - 5ms/step\n",
            "Epoch 14/25\n",
            "1875/1875 - 10s - loss: 0.0182 - accuracy: 0.9939 - val_loss: 0.0460 - val_accuracy: 0.9861 - 10s/epoch - 6ms/step\n",
            "Epoch 15/25\n",
            "1875/1875 - 10s - loss: 0.0169 - accuracy: 0.9949 - val_loss: 0.0384 - val_accuracy: 0.9896 - 10s/epoch - 6ms/step\n",
            "Epoch 16/25\n",
            "1875/1875 - 10s - loss: 0.0159 - accuracy: 0.9947 - val_loss: 0.0378 - val_accuracy: 0.9897 - 10s/epoch - 5ms/step\n",
            "Epoch 17/25\n",
            "1875/1875 - 10s - loss: 0.0143 - accuracy: 0.9955 - val_loss: 0.0547 - val_accuracy: 0.9832 - 10s/epoch - 6ms/step\n",
            "Epoch 18/25\n",
            "1875/1875 - 10s - loss: 0.0133 - accuracy: 0.9958 - val_loss: 0.0436 - val_accuracy: 0.9880 - 10s/epoch - 6ms/step\n",
            "Epoch 19/25\n",
            "1875/1875 - 10s - loss: 0.0129 - accuracy: 0.9960 - val_loss: 0.0477 - val_accuracy: 0.9868 - 10s/epoch - 6ms/step\n",
            "Epoch 20/25\n",
            "1875/1875 - 10s - loss: 0.0114 - accuracy: 0.9966 - val_loss: 0.0451 - val_accuracy: 0.9883 - 10s/epoch - 5ms/step\n",
            "Epoch 21/25\n",
            "1875/1875 - 11s - loss: 0.0113 - accuracy: 0.9964 - val_loss: 0.0442 - val_accuracy: 0.9883 - 11s/epoch - 6ms/step\n",
            "Epoch 22/25\n",
            "1875/1875 - 10s - loss: 0.0095 - accuracy: 0.9968 - val_loss: 0.0401 - val_accuracy: 0.9892 - 10s/epoch - 6ms/step\n",
            "Epoch 23/25\n",
            "1875/1875 - 11s - loss: 0.0105 - accuracy: 0.9965 - val_loss: 0.0418 - val_accuracy: 0.9883 - 11s/epoch - 6ms/step\n",
            "Epoch 24/25\n",
            "1875/1875 - 10s - loss: 0.0089 - accuracy: 0.9971 - val_loss: 0.0410 - val_accuracy: 0.9887 - 10s/epoch - 5ms/step\n",
            "Epoch 25/25\n",
            "1875/1875 - 11s - loss: 0.0084 - accuracy: 0.9974 - val_loss: 0.0405 - val_accuracy: 0.9892 - 11s/epoch - 6ms/step\n"
          ]
        }
      ]
    },
    {
      "cell_type": "code",
      "source": [
        "# Plot accuracy v/s epoch graph\n",
        "ax = plt.subplot()\n",
        "\n",
        "plt.xlim(0, epochs + 1)\n",
        "plt.xlabel(\"Epochs\")\n",
        "plt.ylabel(\"Accuracy\")\n",
        "\n",
        "ax.set_ylim(bottom = min(history.history['accuracy'] + history.history['val_accuracy']) - 0.01)\n",
        "training_acc, = ax.plot(range(1, epochs+1), history.history['accuracy'], color=\"blue\")\n",
        "test_acc, = ax.plot(range(1, epochs+1), history.history['val_accuracy'], color=\"orange\")\n",
        "\n",
        "plt.legend([training_acc, test_acc], [\"Accuracy on Training Data\", \"Accuracy on Test Data\"])\n",
        "\n",
        "plt.show()"
      ],
      "metadata": {
        "colab": {
          "base_uri": "https://localhost:8080/",
          "height": 283
        },
        "id": "2xdPWSkDN4-s",
        "outputId": "8ba84b3f-9811-40b6-c158-5ca675fc3eec"
      },
      "execution_count": 10,
      "outputs": [
        {
          "output_type": "display_data",
          "data": {
            "text/plain": [
              "<Figure size 432x288 with 1 Axes>"
            ],
            "image/png": "[encoded data removed]"
          },
          "metadata": {
            "needs_background": "light"
          }
        }
      ]
    },
    {
      "cell_type": "code",
      "source": [
        "# Test the model for a random image in the test data\n",
        "import random\n",
        "\n",
        "img_idx = random.randint(0, 9999)\n",
        "\n",
        "prediction = model.predict(x_test[img_idx].reshape(1, *x_test.shape[1:])).argmax()\n",
        "\n",
        "print(\"The prediction is \", prediction, \", and the value is \", y_test[img_idx].argmax(), sep='')\n",
        "\n",
        "ax = plt.subplot()\n",
        "ax.imshow(x_test[img_idx], cmap='gray', vmin=0, vmax=1)\n",
        "ax.set(xticks = [], yticks = [])\n",
        "plt.show()\n",
        "\n"
      ],
      "metadata": {
        "colab": {
          "base_uri": "https://localhost:8080/",
          "height": 269
        },
        "id": "36dB3PfICHNg",
        "outputId": "3d8f9042-2133-4fdb-b23c-e792a60dd420"
      },
      "execution_count": 11,
      "outputs": [
        {
          "output_type": "stream",
          "name": "stdout",
          "text": [
            "The prediction is 0, and the value is 0\n"
          ]
        },
        {
          "output_type": "display_data",
          "data": {
            "text/plain": [
              "<Figure size 432x288 with 1 Axes>"
            ],
            "image/png": "[encoded data removed]"
          },
          "metadata": {}
        }
      ]
    }
  ]
}