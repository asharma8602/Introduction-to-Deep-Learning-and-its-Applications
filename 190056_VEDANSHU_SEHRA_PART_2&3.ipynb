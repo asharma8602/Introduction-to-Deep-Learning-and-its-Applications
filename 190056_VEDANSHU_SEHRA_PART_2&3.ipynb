{
  "nbformat": 4,
  "nbformat_minor": 0,
  "metadata": {
    "colab": {
      "name": "190056_VEDANSHU_SEHRA_PART_2&3.ipynb",
      "provenance": [],
      "collapsed_sections": [],
      "authorship_tag": "ABX9TyNq7FDUtOR37Ly5mBnlWu9C",
      "include_colab_link": true
    },
    "kernelspec": {
      "name": "python3",
      "display_name": "Python 3"
    },
    "language_info": {
      "name": "python"
    }
  },
  "cells": [
    {
      "cell_type": "markdown",
      "metadata": {
        "id": "view-in-github",
        "colab_type": "text"
      },
      "source": [
        "<a href=\"https://colab.research.google.com/github/vedanshu786/Introduction-to-Deep-Learning-and-its-Applications/blob/main/190056_VEDANSHU_SEHRA_PART_2%263.ipynb\" target=\"_parent\"><img src=\"https://colab.research.google.com/assets/colab-badge.svg\" alt=\"Open In Colab\"/></a>"
      ]
    },
    {
      "cell_type": "code",
      "execution_count": null,
      "metadata": {
        "id": "TG4Utsvq3iLK"
      },
      "outputs": [],
      "source": [
        "import pandas as pd"
      ]
    },
    {
      "cell_type": "code",
      "source": [
        "from google.colab import drive\n",
        "drive.mount('/content/grive',force_remount=True)"
      ],
      "metadata": {
        "colab": {
          "base_uri": "https://localhost:8080/"
        },
        "id": "6b8HpnKb4k17",
        "outputId": "cfadd81e-aa12-45c7-d89e-07273e52423c"
      },
      "execution_count": null,
      "outputs": [
        {
          "output_type": "stream",
          "name": "stdout",
          "text": [
            "Mounted at /content/grive\n"
          ]
        }
      ]
    },
    {
      "cell_type": "code",
      "source": [
        "df = pd.read_csv('/content/grive/MyDrive/House_prediction.csv')\n",
        "df.head(40)"
      ],
      "metadata": {
        "colab": {
          "base_uri": "https://localhost:8080/",
          "height": 1000
        },
        "id": "V5YUVQFH5ctV",
        "outputId": "06ea965e-f875-4cc9-89df-ad22a67b0960"
      },
      "execution_count": null,
      "outputs": [
        {
          "output_type": "execute_result",
          "data": {
            "text/plain": [
              "              city  area  rooms  bathroom  parking spaces floor     animal  \\\n",
              "0        São Paulo    70      2         1               1     7      acept   \n",
              "1        São Paulo   320      4         4               0    20      acept   \n",
              "2     Porto Alegre    80      1         1               1     6      acept   \n",
              "3     Porto Alegre    51      2         1               0     2      acept   \n",
              "4        São Paulo    25      1         1               0     1  not acept   \n",
              "5        São Paulo   376      3         3               7     -      acept   \n",
              "6   Rio de Janeiro    72      2         1               0     7      acept   \n",
              "7        São Paulo   213      4         4               4     4      acept   \n",
              "8        São Paulo   152      2         2               1     3      acept   \n",
              "9   Rio de Janeiro    35      1         1               0     2      acept   \n",
              "10       São Paulo    26      1         1               0     2      acept   \n",
              "11        Campinas    46      1         1               1    10      acept   \n",
              "12       São Paulo    36      1         1               0    11      acept   \n",
              "13       São Paulo    55      1         1               1     2      acept   \n",
              "14       São Paulo   100      2         2               2    24      acept   \n",
              "15        Campinas   330      4         6               6     -      acept   \n",
              "16       São Paulo   110      2         2               1     1      acept   \n",
              "17  Rio de Janeiro    88      2         3               1     9  not acept   \n",
              "18  Rio de Janeiro    56      2         1               0     8      acept   \n",
              "19       São Paulo   600      4         5               6     -      acept   \n",
              "20       São Paulo   100      7         4               0     -      acept   \n",
              "21  Belo Horizonte    42      1         1               1    17  not acept   \n",
              "22       São Paulo   160      3         2               2    18      acept   \n",
              "23       São Paulo    35      1         1               0     -      acept   \n",
              "24  Rio de Janeiro    90      3         2               1     7      acept   \n",
              "25       São Paulo    49      1         1               1    10      acept   \n",
              "26       São Paulo    41      1         1               1     5  not acept   \n",
              "27  Belo Horizonte    64      2         2               1    11      acept   \n",
              "28        Campinas   208      3         2               4     -      acept   \n",
              "29       São Paulo    20      1         1               0     5      acept   \n",
              "30       São Paulo    55      2         2               2     6      acept   \n",
              "31       São Paulo    32      1         1               0     3      acept   \n",
              "32       São Paulo    80      2         2               1    11      acept   \n",
              "33  Rio de Janeiro    45      1         1               1    10      acept   \n",
              "34       São Paulo   350      4         4               3     8      acept   \n",
              "35    Porto Alegre    38      1         1               2    11  not acept   \n",
              "36       São Paulo    30      1         1               0     1      acept   \n",
              "37  Belo Horizonte    80      3         2               1     -      acept   \n",
              "38       São Paulo    70      2         1               0     -  not acept   \n",
              "39    Porto Alegre    40      1         1               1     6      acept   \n",
              "\n",
              "        furniture  hoa (R$)  rent amount (R$)  property tax (R$)  \\\n",
              "0       furnished      2065              3300                211   \n",
              "1   not furnished      1200              4960               1750   \n",
              "2   not furnished      1000              2800                  0   \n",
              "3   not furnished       270              1112                 22   \n",
              "4   not furnished         0               800                 25   \n",
              "5   not furnished         0              8000                834   \n",
              "6   not furnished       740              1900                 85   \n",
              "7   not furnished      2254              3223               1735   \n",
              "8       furnished      1000             15000                250   \n",
              "9       furnished       590              2300                 35   \n",
              "10      furnished       470              2100                150   \n",
              "11  not furnished       550               580                 43   \n",
              "12  not furnished       359              2100                 70   \n",
              "13      furnished       790              4200                224   \n",
              "14      furnished       900              4370                 17   \n",
              "15      furnished       680              8000                328   \n",
              "16  not furnished       700              3000                122   \n",
              "17      furnished      1614              3500                221   \n",
              "18  not furnished       800              1220                  0   \n",
              "19  not furnished         0             12000               9500   \n",
              "20  not furnished         0              3800                118   \n",
              "21      furnished       470              2690                172   \n",
              "22      furnished      1530              1900                167   \n",
              "23  not furnished         0              1100                  3   \n",
              "24  not furnished       800              1800                118   \n",
              "25  not furnished       480              3500                 42   \n",
              "26      furnished       600              3000                  0   \n",
              "27  not furnished       352              1500                 80   \n",
              "28  not furnished         0              3180                100   \n",
              "29      furnished       602              1800                130   \n",
              "30  not furnished       780              1068                142   \n",
              "31  not furnished       515              1700                 29   \n",
              "32  not furnished      1208              2550                216   \n",
              "33      furnished      2450              2500                593   \n",
              "34  not furnished      2100              4000                500   \n",
              "35  not furnished       450              1750                  0   \n",
              "36  not furnished       460              1600                  0   \n",
              "37  not furnished         0             11000                425   \n",
              "38  not furnished         0              1150                 59   \n",
              "39      furnished       390              2990                  0   \n",
              "\n",
              "    fire insurance (R$)  total (R$)  \n",
              "0                    42        5618  \n",
              "1                    63        7973  \n",
              "2                    41        3841  \n",
              "3                    17        1421  \n",
              "4                    11         836  \n",
              "5                   121        8955  \n",
              "6                    25        2750  \n",
              "7                    41        7253  \n",
              "8                   191       16440  \n",
              "9                    30        2955  \n",
              "10                   27        2747  \n",
              "11                    8        1181  \n",
              "12                   27        2556  \n",
              "13                   54        5268  \n",
              "14                   56        5343  \n",
              "15                  121        9129  \n",
              "16                   39        3861  \n",
              "17                   16        5351  \n",
              "18                   16        2036  \n",
              "19                  181       21680  \n",
              "20                   58        3976  \n",
              "21                   36        3368  \n",
              "22                   25        3622  \n",
              "23                   14        1117  \n",
              "24                   24        2742  \n",
              "25                   45        4067  \n",
              "26                   39        3639  \n",
              "27                   20        1952  \n",
              "28                   48        3328  \n",
              "29                   23        2555  \n",
              "30                   14        2004  \n",
              "31                   22        2266  \n",
              "32                   33        4007  \n",
              "33                   33        5576  \n",
              "34                   51        6651  \n",
              "35                   26        2226  \n",
              "36                   21        2081  \n",
              "37                  181       11610  \n",
              "38                   18        1227  \n",
              "39                   44        3424  "
            ],
            "text/html": [
              "\n",
              "  <div id=\"df-444c3790-73dc-4f44-9ad8-24c6daafae6c\">\n",
              "    <div class=\"colab-df-container\">\n",
              "      <div>\n",
              "<style scoped>\n",
              "    .dataframe tbody tr th:only-of-type {\n",
              "        vertical-align: middle;\n",
              "    }\n",
              "\n",
              "    .dataframe tbody tr th {\n",
              "        vertical-align: top;\n",
              "    }\n",
              "\n",
              "    .dataframe thead th {\n",
              "        text-align: right;\n",
              "    }\n",
              "</style>\n",
              "<table border=\"1\" class=\"dataframe\">\n",
              "  <thead>\n",
              "    <tr style=\"text-align: right;\">\n",
              "      <th></th>\n",
              "      <th>city</th>\n",
              "      <th>area</th>\n",
              "      <th>rooms</th>\n",
              "      <th>bathroom</th>\n",
              "      <th>parking spaces</th>\n",
              "      <th>floor</th>\n",
              "      <th>animal</th>\n",
              "      <th>furniture</th>\n",
              "      <th>hoa (R$)</th>\n",
              "      <th>rent amount (R$)</th>\n",
              "      <th>property tax (R$)</th>\n",
              "      <th>fire insurance (R$)</th>\n",
              "      <th>total (R$)</th>\n",
              "    </tr>\n",
              "  </thead>\n",
              "  <tbody>\n",
              "    <tr>\n",
              "      <th>0</th>\n",
              "      <td>São Paulo</td>\n",
              "      <td>70</td>\n",
              "      <td>2</td>\n",
              "      <td>1</td>\n",
              "      <td>1</td>\n",
              "      <td>7</td>\n",
              "      <td>acept</td>\n",
              "      <td>furnished</td>\n",
              "      <td>2065</td>\n",
              "      <td>3300</td>\n",
              "      <td>211</td>\n",
              "      <td>42</td>\n",
              "      <td>5618</td>\n",
              "    </tr>\n",
              "    <tr>\n",
              "      <th>1</th>\n",
              "      <td>São Paulo</td>\n",
              "      <td>320</td>\n",
              "      <td>4</td>\n",
              "      <td>4</td>\n",
              "      <td>0</td>\n",
              "      <td>20</td>\n",
              "      <td>acept</td>\n",
              "      <td>not furnished</td>\n",
              "      <td>1200</td>\n",
              "      <td>4960</td>\n",
              "      <td>1750</td>\n",
              "      <td>63</td>\n",
              "      <td>7973</td>\n",
              "    </tr>\n",
              "    <tr>\n",
              "      <th>2</th>\n",
              "      <td>Porto Alegre</td>\n",
              "      <td>80</td>\n",
              "      <td>1</td>\n",
              "      <td>1</td>\n",
              "      <td>1</td>\n",
              "      <td>6</td>\n",
              "      <td>acept</td>\n",
              "      <td>not furnished</td>\n",
              "      <td>1000</td>\n",
              "      <td>2800</td>\n",
              "      <td>0</td>\n",
              "      <td>41</td>\n",
              "      <td>3841</td>\n",
              "    </tr>\n",
              "    <tr>\n",
              "      <th>3</th>\n",
              "      <td>Porto Alegre</td>\n",
              "      <td>51</td>\n",
              "      <td>2</td>\n",
              "      <td>1</td>\n",
              "      <td>0</td>\n",
              "      <td>2</td>\n",
              "      <td>acept</td>\n",
              "      <td>not furnished</td>\n",
              "      <td>270</td>\n",
              "      <td>1112</td>\n",
              "      <td>22</td>\n",
              "      <td>17</td>\n",
              "      <td>1421</td>\n",
              "    </tr>\n",
              "    <tr>\n",
              "      <th>4</th>\n",
              "      <td>São Paulo</td>\n",
              "      <td>25</td>\n",
              "      <td>1</td>\n",
              "      <td>1</td>\n",
              "      <td>0</td>\n",
              "      <td>1</td>\n",
              "      <td>not acept</td>\n",
              "      <td>not furnished</td>\n",
              "      <td>0</td>\n",
              "      <td>800</td>\n",
              "      <td>25</td>\n",
              "      <td>11</td>\n",
              "      <td>836</td>\n",
              "    </tr>\n",
              "    <tr>\n",
              "      <th>5</th>\n",
              "      <td>São Paulo</td>\n",
              "      <td>376</td>\n",
              "      <td>3</td>\n",
              "      <td>3</td>\n",
              "      <td>7</td>\n",
              "      <td>-</td>\n",
              "      <td>acept</td>\n",
              "      <td>not furnished</td>\n",
              "      <td>0</td>\n",
              "      <td>8000</td>\n",
              "      <td>834</td>\n",
              "      <td>121</td>\n",
              "      <td>8955</td>\n",
              "    </tr>\n",
              "    <tr>\n",
              "      <th>6</th>\n",
              "      <td>Rio de Janeiro</td>\n",
              "      <td>72</td>\n",
              "      <td>2</td>\n",
              "      <td>1</td>\n",
              "      <td>0</td>\n",
              "      <td>7</td>\n",
              "      <td>acept</td>\n",
              "      <td>not furnished</td>\n",
              "      <td>740</td>\n",
              "      <td>1900</td>\n",
              "      <td>85</td>\n",
              "      <td>25</td>\n",
              "      <td>2750</td>\n",
              "    </tr>\n",
              "    <tr>\n",
              "      <th>7</th>\n",
              "      <td>São Paulo</td>\n",
              "      <td>213</td>\n",
              "      <td>4</td>\n",
              "      <td>4</td>\n",
              "      <td>4</td>\n",
              "      <td>4</td>\n",
              "      <td>acept</td>\n",
              "      <td>not furnished</td>\n",
              "      <td>2254</td>\n",
              "      <td>3223</td>\n",
              "      <td>1735</td>\n",
              "      <td>41</td>\n",
              "      <td>7253</td>\n",
              "    </tr>\n",
              "    <tr>\n",
              "      <th>8</th>\n",
              "      <td>São Paulo</td>\n",
              "      <td>152</td>\n",
              "      <td>2</td>\n",
              "      <td>2</td>\n",
              "      <td>1</td>\n",
              "      <td>3</td>\n",
              "      <td>acept</td>\n",
              "      <td>furnished</td>\n",
              "      <td>1000</td>\n",
              "      <td>15000</td>\n",
              "      <td>250</td>\n",
              "      <td>191</td>\n",
              "      <td>16440</td>\n",
              "    </tr>\n",
              "    <tr>\n",
              "      <th>9</th>\n",
              "      <td>Rio de Janeiro</td>\n",
              "      <td>35</td>\n",
              "      <td>1</td>\n",
              "      <td>1</td>\n",
              "      <td>0</td>\n",
              "      <td>2</td>\n",
              "      <td>acept</td>\n",
              "      <td>furnished</td>\n",
              "      <td>590</td>\n",
              "      <td>2300</td>\n",
              "      <td>35</td>\n",
              "      <td>30</td>\n",
              "      <td>2955</td>\n",
              "    </tr>\n",
              "    <tr>\n",
              "      <th>10</th>\n",
              "      <td>São Paulo</td>\n",
              "      <td>26</td>\n",
              "      <td>1</td>\n",
              "      <td>1</td>\n",
              "      <td>0</td>\n",
              "      <td>2</td>\n",
              "      <td>acept</td>\n",
              "      <td>furnished</td>\n",
              "      <td>470</td>\n",
              "      <td>2100</td>\n",
              "      <td>150</td>\n",
              "      <td>27</td>\n",
              "      <td>2747</td>\n",
              "    </tr>\n",
              "    <tr>\n",
              "      <th>11</th>\n",
              "      <td>Campinas</td>\n",
              "      <td>46</td>\n",
              "      <td>1</td>\n",
              "      <td>1</td>\n",
              "      <td>1</td>\n",
              "      <td>10</td>\n",
              "      <td>acept</td>\n",
              "      <td>not furnished</td>\n",
              "      <td>550</td>\n",
              "      <td>580</td>\n",
              "      <td>43</td>\n",
              "      <td>8</td>\n",
              "      <td>1181</td>\n",
              "    </tr>\n",
              "    <tr>\n",
              "      <th>12</th>\n",
              "      <td>São Paulo</td>\n",
              "      <td>36</td>\n",
              "      <td>1</td>\n",
              "      <td>1</td>\n",
              "      <td>0</td>\n",
              "      <td>11</td>\n",
              "      <td>acept</td>\n",
              "      <td>not furnished</td>\n",
              "      <td>359</td>\n",
              "      <td>2100</td>\n",
              "      <td>70</td>\n",
              "      <td>27</td>\n",
              "      <td>2556</td>\n",
              "    </tr>\n",
              "    <tr>\n",
              "      <th>13</th>\n",
              "      <td>São Paulo</td>\n",
              "      <td>55</td>\n",
              "      <td>1</td>\n",
              "      <td>1</td>\n",
              "      <td>1</td>\n",
              "      <td>2</td>\n",
              "      <td>acept</td>\n",
              "      <td>furnished</td>\n",
              "      <td>790</td>\n",
              "      <td>4200</td>\n",
              "      <td>224</td>\n",
              "      <td>54</td>\n",
              "      <td>5268</td>\n",
              "    </tr>\n",
              "    <tr>\n",
              "      <th>14</th>\n",
              "      <td>São Paulo</td>\n",
              "      <td>100</td>\n",
              "      <td>2</td>\n",
              "      <td>2</td>\n",
              "      <td>2</td>\n",
              "      <td>24</td>\n",
              "      <td>acept</td>\n",
              "      <td>furnished</td>\n",
              "      <td>900</td>\n",
              "      <td>4370</td>\n",
              "      <td>17</td>\n",
              "      <td>56</td>\n",
              "      <td>5343</td>\n",
              "    </tr>\n",
              "    <tr>\n",
              "      <th>15</th>\n",
              "      <td>Campinas</td>\n",
              "      <td>330</td>\n",
              "      <td>4</td>\n",
              "      <td>6</td>\n",
              "      <td>6</td>\n",
              "      <td>-</td>\n",
              "      <td>acept</td>\n",
              "      <td>furnished</td>\n",
              "      <td>680</td>\n",
              "      <td>8000</td>\n",
              "      <td>328</td>\n",
              "      <td>121</td>\n",
              "      <td>9129</td>\n",
              "    </tr>\n",
              "    <tr>\n",
              "      <th>16</th>\n",
              "      <td>São Paulo</td>\n",
              "      <td>110</td>\n",
              "      <td>2</td>\n",
              "      <td>2</td>\n",
              "      <td>1</td>\n",
              "      <td>1</td>\n",
              "      <td>acept</td>\n",
              "      <td>not furnished</td>\n",
              "      <td>700</td>\n",
              "      <td>3000</td>\n",
              "      <td>122</td>\n",
              "      <td>39</td>\n",
              "      <td>3861</td>\n",
              "    </tr>\n",
              "    <tr>\n",
              "      <th>17</th>\n",
              "      <td>Rio de Janeiro</td>\n",
              "      <td>88</td>\n",
              "      <td>2</td>\n",
              "      <td>3</td>\n",
              "      <td>1</td>\n",
              "      <td>9</td>\n",
              "      <td>not acept</td>\n",
              "      <td>furnished</td>\n",
              "      <td>1614</td>\n",
              "      <td>3500</td>\n",
              "      <td>221</td>\n",
              "      <td>16</td>\n",
              "      <td>5351</td>\n",
              "    </tr>\n",
              "    <tr>\n",
              "      <th>18</th>\n",
              "      <td>Rio de Janeiro</td>\n",
              "      <td>56</td>\n",
              "      <td>2</td>\n",
              "      <td>1</td>\n",
              "      <td>0</td>\n",
              "      <td>8</td>\n",
              "      <td>acept</td>\n",
              "      <td>not furnished</td>\n",
              "      <td>800</td>\n",
              "      <td>1220</td>\n",
              "      <td>0</td>\n",
              "      <td>16</td>\n",
              "      <td>2036</td>\n",
              "    </tr>\n",
              "    <tr>\n",
              "      <th>19</th>\n",
              "      <td>São Paulo</td>\n",
              "      <td>600</td>\n",
              "      <td>4</td>\n",
              "      <td>5</td>\n",
              "      <td>6</td>\n",
              "      <td>-</td>\n",
              "      <td>acept</td>\n",
              "      <td>not furnished</td>\n",
              "      <td>0</td>\n",
              "      <td>12000</td>\n",
              "      <td>9500</td>\n",
              "      <td>181</td>\n",
              "      <td>21680</td>\n",
              "    </tr>\n",
              "    <tr>\n",
              "      <th>20</th>\n",
              "      <td>São Paulo</td>\n",
              "      <td>100</td>\n",
              "      <td>7</td>\n",
              "      <td>4</td>\n",
              "      <td>0</td>\n",
              "      <td>-</td>\n",
              "      <td>acept</td>\n",
              "      <td>not furnished</td>\n",
              "      <td>0</td>\n",
              "      <td>3800</td>\n",
              "      <td>118</td>\n",
              "      <td>58</td>\n",
              "      <td>3976</td>\n",
              "    </tr>\n",
              "    <tr>\n",
              "      <th>21</th>\n",
              "      <td>Belo Horizonte</td>\n",
              "      <td>42</td>\n",
              "      <td>1</td>\n",
              "      <td>1</td>\n",
              "      <td>1</td>\n",
              "      <td>17</td>\n",
              "      <td>not acept</td>\n",
              "      <td>furnished</td>\n",
              "      <td>470</td>\n",
              "      <td>2690</td>\n",
              "      <td>172</td>\n",
              "      <td>36</td>\n",
              "      <td>3368</td>\n",
              "    </tr>\n",
              "    <tr>\n",
              "      <th>22</th>\n",
              "      <td>São Paulo</td>\n",
              "      <td>160</td>\n",
              "      <td>3</td>\n",
              "      <td>2</td>\n",
              "      <td>2</td>\n",
              "      <td>18</td>\n",
              "      <td>acept</td>\n",
              "      <td>furnished</td>\n",
              "      <td>1530</td>\n",
              "      <td>1900</td>\n",
              "      <td>167</td>\n",
              "      <td>25</td>\n",
              "      <td>3622</td>\n",
              "    </tr>\n",
              "    <tr>\n",
              "      <th>23</th>\n",
              "      <td>São Paulo</td>\n",
              "      <td>35</td>\n",
              "      <td>1</td>\n",
              "      <td>1</td>\n",
              "      <td>0</td>\n",
              "      <td>-</td>\n",
              "      <td>acept</td>\n",
              "      <td>not furnished</td>\n",
              "      <td>0</td>\n",
              "      <td>1100</td>\n",
              "      <td>3</td>\n",
              "      <td>14</td>\n",
              "      <td>1117</td>\n",
              "    </tr>\n",
              "    <tr>\n",
              "      <th>24</th>\n",
              "      <td>Rio de Janeiro</td>\n",
              "      <td>90</td>\n",
              "      <td>3</td>\n",
              "      <td>2</td>\n",
              "      <td>1</td>\n",
              "      <td>7</td>\n",
              "      <td>acept</td>\n",
              "      <td>not furnished</td>\n",
              "      <td>800</td>\n",
              "      <td>1800</td>\n",
              "      <td>118</td>\n",
              "      <td>24</td>\n",
              "      <td>2742</td>\n",
              "    </tr>\n",
              "    <tr>\n",
              "      <th>25</th>\n",
              "      <td>São Paulo</td>\n",
              "      <td>49</td>\n",
              "      <td>1</td>\n",
              "      <td>1</td>\n",
              "      <td>1</td>\n",
              "      <td>10</td>\n",
              "      <td>acept</td>\n",
              "      <td>not furnished</td>\n",
              "      <td>480</td>\n",
              "      <td>3500</td>\n",
              "      <td>42</td>\n",
              "      <td>45</td>\n",
              "      <td>4067</td>\n",
              "    </tr>\n",
              "    <tr>\n",
              "      <th>26</th>\n",
              "      <td>São Paulo</td>\n",
              "      <td>41</td>\n",
              "      <td>1</td>\n",
              "      <td>1</td>\n",
              "      <td>1</td>\n",
              "      <td>5</td>\n",
              "      <td>not acept</td>\n",
              "      <td>furnished</td>\n",
              "      <td>600</td>\n",
              "      <td>3000</td>\n",
              "      <td>0</td>\n",
              "      <td>39</td>\n",
              "      <td>3639</td>\n",
              "    </tr>\n",
              "    <tr>\n",
              "      <th>27</th>\n",
              "      <td>Belo Horizonte</td>\n",
              "      <td>64</td>\n",
              "      <td>2</td>\n",
              "      <td>2</td>\n",
              "      <td>1</td>\n",
              "      <td>11</td>\n",
              "      <td>acept</td>\n",
              "      <td>not furnished</td>\n",
              "      <td>352</td>\n",
              "      <td>1500</td>\n",
              "      <td>80</td>\n",
              "      <td>20</td>\n",
              "      <td>1952</td>\n",
              "    </tr>\n",
              "    <tr>\n",
              "      <th>28</th>\n",
              "      <td>Campinas</td>\n",
              "      <td>208</td>\n",
              "      <td>3</td>\n",
              "      <td>2</td>\n",
              "      <td>4</td>\n",
              "      <td>-</td>\n",
              "      <td>acept</td>\n",
              "      <td>not furnished</td>\n",
              "      <td>0</td>\n",
              "      <td>3180</td>\n",
              "      <td>100</td>\n",
              "      <td>48</td>\n",
              "      <td>3328</td>\n",
              "    </tr>\n",
              "    <tr>\n",
              "      <th>29</th>\n",
              "      <td>São Paulo</td>\n",
              "      <td>20</td>\n",
              "      <td>1</td>\n",
              "      <td>1</td>\n",
              "      <td>0</td>\n",
              "      <td>5</td>\n",
              "      <td>acept</td>\n",
              "      <td>furnished</td>\n",
              "      <td>602</td>\n",
              "      <td>1800</td>\n",
              "      <td>130</td>\n",
              "      <td>23</td>\n",
              "      <td>2555</td>\n",
              "    </tr>\n",
              "    <tr>\n",
              "      <th>30</th>\n",
              "      <td>São Paulo</td>\n",
              "      <td>55</td>\n",
              "      <td>2</td>\n",
              "      <td>2</td>\n",
              "      <td>2</td>\n",
              "      <td>6</td>\n",
              "      <td>acept</td>\n",
              "      <td>not furnished</td>\n",
              "      <td>780</td>\n",
              "      <td>1068</td>\n",
              "      <td>142</td>\n",
              "      <td>14</td>\n",
              "      <td>2004</td>\n",
              "    </tr>\n",
              "    <tr>\n",
              "      <th>31</th>\n",
              "      <td>São Paulo</td>\n",
              "      <td>32</td>\n",
              "      <td>1</td>\n",
              "      <td>1</td>\n",
              "      <td>0</td>\n",
              "      <td>3</td>\n",
              "      <td>acept</td>\n",
              "      <td>not furnished</td>\n",
              "      <td>515</td>\n",
              "      <td>1700</td>\n",
              "      <td>29</td>\n",
              "      <td>22</td>\n",
              "      <td>2266</td>\n",
              "    </tr>\n",
              "    <tr>\n",
              "      <th>32</th>\n",
              "      <td>São Paulo</td>\n",
              "      <td>80</td>\n",
              "      <td>2</td>\n",
              "      <td>2</td>\n",
              "      <td>1</td>\n",
              "      <td>11</td>\n",
              "      <td>acept</td>\n",
              "      <td>not furnished</td>\n",
              "      <td>1208</td>\n",
              "      <td>2550</td>\n",
              "      <td>216</td>\n",
              "      <td>33</td>\n",
              "      <td>4007</td>\n",
              "    </tr>\n",
              "    <tr>\n",
              "      <th>33</th>\n",
              "      <td>Rio de Janeiro</td>\n",
              "      <td>45</td>\n",
              "      <td>1</td>\n",
              "      <td>1</td>\n",
              "      <td>1</td>\n",
              "      <td>10</td>\n",
              "      <td>acept</td>\n",
              "      <td>furnished</td>\n",
              "      <td>2450</td>\n",
              "      <td>2500</td>\n",
              "      <td>593</td>\n",
              "      <td>33</td>\n",
              "      <td>5576</td>\n",
              "    </tr>\n",
              "    <tr>\n",
              "      <th>34</th>\n",
              "      <td>São Paulo</td>\n",
              "      <td>350</td>\n",
              "      <td>4</td>\n",
              "      <td>4</td>\n",
              "      <td>3</td>\n",
              "      <td>8</td>\n",
              "      <td>acept</td>\n",
              "      <td>not furnished</td>\n",
              "      <td>2100</td>\n",
              "      <td>4000</td>\n",
              "      <td>500</td>\n",
              "      <td>51</td>\n",
              "      <td>6651</td>\n",
              "    </tr>\n",
              "    <tr>\n",
              "      <th>35</th>\n",
              "      <td>Porto Alegre</td>\n",
              "      <td>38</td>\n",
              "      <td>1</td>\n",
              "      <td>1</td>\n",
              "      <td>2</td>\n",
              "      <td>11</td>\n",
              "      <td>not acept</td>\n",
              "      <td>not furnished</td>\n",
              "      <td>450</td>\n",
              "      <td>1750</td>\n",
              "      <td>0</td>\n",
              "      <td>26</td>\n",
              "      <td>2226</td>\n",
              "    </tr>\n",
              "    <tr>\n",
              "      <th>36</th>\n",
              "      <td>São Paulo</td>\n",
              "      <td>30</td>\n",
              "      <td>1</td>\n",
              "      <td>1</td>\n",
              "      <td>0</td>\n",
              "      <td>1</td>\n",
              "      <td>acept</td>\n",
              "      <td>not furnished</td>\n",
              "      <td>460</td>\n",
              "      <td>1600</td>\n",
              "      <td>0</td>\n",
              "      <td>21</td>\n",
              "      <td>2081</td>\n",
              "    </tr>\n",
              "    <tr>\n",
              "      <th>37</th>\n",
              "      <td>Belo Horizonte</td>\n",
              "      <td>80</td>\n",
              "      <td>3</td>\n",
              "      <td>2</td>\n",
              "      <td>1</td>\n",
              "      <td>-</td>\n",
              "      <td>acept</td>\n",
              "      <td>not furnished</td>\n",
              "      <td>0</td>\n",
              "      <td>11000</td>\n",
              "      <td>425</td>\n",
              "      <td>181</td>\n",
              "      <td>11610</td>\n",
              "    </tr>\n",
              "    <tr>\n",
              "      <th>38</th>\n",
              "      <td>São Paulo</td>\n",
              "      <td>70</td>\n",
              "      <td>2</td>\n",
              "      <td>1</td>\n",
              "      <td>0</td>\n",
              "      <td>-</td>\n",
              "      <td>not acept</td>\n",
              "      <td>not furnished</td>\n",
              "      <td>0</td>\n",
              "      <td>1150</td>\n",
              "      <td>59</td>\n",
              "      <td>18</td>\n",
              "      <td>1227</td>\n",
              "    </tr>\n",
              "    <tr>\n",
              "      <th>39</th>\n",
              "      <td>Porto Alegre</td>\n",
              "      <td>40</td>\n",
              "      <td>1</td>\n",
              "      <td>1</td>\n",
              "      <td>1</td>\n",
              "      <td>6</td>\n",
              "      <td>acept</td>\n",
              "      <td>furnished</td>\n",
              "      <td>390</td>\n",
              "      <td>2990</td>\n",
              "      <td>0</td>\n",
              "      <td>44</td>\n",
              "      <td>3424</td>\n",
              "    </tr>\n",
              "  </tbody>\n",
              "</table>\n",
              "</div>\n",
              "      <button class=\"colab-df-convert\" onclick=\"convertToInteractive('df-444c3790-73dc-4f44-9ad8-24c6daafae6c')\"\n",
              "              title=\"Convert this dataframe to an interactive table.\"\n",
              "              style=\"display:none;\">\n",
              "        \n",
              "  <svg xmlns=\"http://www.w3.org/2000/svg\" height=\"24px\"viewBox=\"0 0 24 24\"\n",
              "       width=\"24px\">\n",
              "    <path d=\"M0 0h24v24H0V0z\" fill=\"none\"/>\n",
              "    <path d=\"M18.56 5.44l.94 2.06.94-2.06 2.06-.94-2.06-.94-.94-2.06-.94 2.06-2.06.94zm-11 1L8.5 8.5l.94-2.06 2.06-.94-2.06-.94L8.5 2.5l-.94 2.06-2.06.94zm10 10l.94 2.06.94-2.06 2.06-.94-2.06-.94-.94-2.06-.94 2.06-2.06.94z\"/><path d=\"M17.41 7.96l-1.37-1.37c-.4-.4-.92-.59-1.43-.59-.52 0-1.04.2-1.43.59L10.3 9.45l-7.72 7.72c-.78.78-.78 2.05 0 2.83L4 21.41c.39.39.9.59 1.41.59.51 0 1.02-.2 1.41-.59l7.78-7.78 2.81-2.81c.8-.78.8-2.07 0-2.86zM5.41 20L4 18.59l7.72-7.72 1.47 1.35L5.41 20z\"/>\n",
              "  </svg>\n",
              "      </button>\n",
              "      \n",
              "  <style>\n",
              "    .colab-df-container {\n",
              "      display:flex;\n",
              "      flex-wrap:wrap;\n",
              "      gap: 12px;\n",
              "    }\n",
              "\n",
              "    .colab-df-convert {\n",
              "      background-color: #E8F0FE;\n",
              "      border: none;\n",
              "      border-radius: 50%;\n",
              "      cursor: pointer;\n",
              "      display: none;\n",
              "      fill: #1967D2;\n",
              "      height: 32px;\n",
              "      padding: 0 0 0 0;\n",
              "      width: 32px;\n",
              "    }\n",
              "\n",
              "    .colab-df-convert:hover {\n",
              "      background-color: #E2EBFA;\n",
              "      box-shadow: 0px 1px 2px rgba(60, 64, 67, 0.3), 0px 1px 3px 1px rgba(60, 64, 67, 0.15);\n",
              "      fill: #174EA6;\n",
              "    }\n",
              "\n",
              "    [theme=dark] .colab-df-convert {\n",
              "      background-color: #3B4455;\n",
              "      fill: #D2E3FC;\n",
              "    }\n",
              "\n",
              "    [theme=dark] .colab-df-convert:hover {\n",
              "      background-color: #434B5C;\n",
              "      box-shadow: 0px 1px 3px 1px rgba(0, 0, 0, 0.15);\n",
              "      filter: drop-shadow(0px 1px 2px rgba(0, 0, 0, 0.3));\n",
              "      fill: #FFFFFF;\n",
              "    }\n",
              "  </style>\n",
              "\n",
              "      <script>\n",
              "        const buttonEl =\n",
              "          document.querySelector('#df-444c3790-73dc-4f44-9ad8-24c6daafae6c button.colab-df-convert');\n",
              "        buttonEl.style.display =\n",
              "          google.colab.kernel.accessAllowed ? 'block' : 'none';\n",
              "\n",
              "        async function convertToInteractive(key) {\n",
              "          const element = document.querySelector('#df-444c3790-73dc-4f44-9ad8-24c6daafae6c');\n",
              "          const dataTable =\n",
              "            await google.colab.kernel.invokeFunction('convertToInteractive',\n",
              "                                                     [key], {});\n",
              "          if (!dataTable) return;\n",
              "\n",
              "          const docLinkHtml = 'Like what you see? Visit the ' +\n",
              "            '<a target=\"_blank\" href=https://colab.research.google.com/notebooks/data_table.ipynb>data table notebook</a>'\n",
              "            + ' to learn more about interactive tables.';\n",
              "          element.innerHTML = '';\n",
              "          dataTable['output_type'] = 'display_data';\n",
              "          await google.colab.output.renderOutput(dataTable, element);\n",
              "          const docLink = document.createElement('div');\n",
              "          docLink.innerHTML = docLinkHtml;\n",
              "          element.appendChild(docLink);\n",
              "        }\n",
              "      </script>\n",
              "    </div>\n",
              "  </div>\n",
              "  "
            ]
          },
          "metadata": {},
          "execution_count": 10
        }
      ]
    },
    {
      "cell_type": "code",
      "source": [
        "df.describe()"
      ],
      "metadata": {
        "colab": {
          "base_uri": "https://localhost:8080/",
          "height": 398
        },
        "id": "u_kqK5F66o1M",
        "outputId": "f770e57a-4e13-4aad-c18f-d45b4cd74f1f"
      },
      "execution_count": null,
      "outputs": [
        {
          "output_type": "execute_result",
          "data": {
            "text/plain": [
              "               area         rooms      bathroom  parking spaces      hoa (R$)  \\\n",
              "count  10692.000000  10692.000000  10692.000000    10692.000000  1.069200e+04   \n",
              "mean     149.217920      2.506079      2.236813        1.609147  1.174022e+03   \n",
              "std      537.016942      1.171266      1.407198        1.589521  1.559231e+04   \n",
              "min       11.000000      1.000000      1.000000        0.000000  0.000000e+00   \n",
              "25%       56.000000      2.000000      1.000000        0.000000  1.700000e+02   \n",
              "50%       90.000000      2.000000      2.000000        1.000000  5.600000e+02   \n",
              "75%      182.000000      3.000000      3.000000        2.000000  1.237500e+03   \n",
              "max    46335.000000     13.000000     10.000000       12.000000  1.117000e+06   \n",
              "\n",
              "       rent amount (R$)  property tax (R$)  fire insurance (R$)    total (R$)  \n",
              "count      10692.000000       10692.000000         10692.000000  1.069200e+04  \n",
              "mean        3896.247194         366.704358            53.300879  5.490487e+03  \n",
              "std         3408.545518        3107.832321            47.768031  1.648473e+04  \n",
              "min          450.000000           0.000000             3.000000  4.990000e+02  \n",
              "25%         1530.000000          38.000000            21.000000  2.061750e+03  \n",
              "50%         2661.000000         125.000000            36.000000  3.581500e+03  \n",
              "75%         5000.000000         375.000000            68.000000  6.768000e+03  \n",
              "max        45000.000000      313700.000000           677.000000  1.120000e+06  "
            ],
            "text/html": [
              "\n",
              "  <div id=\"df-837debac-694d-4d39-b5df-f0d705c304ca\">\n",
              "    <div class=\"colab-df-container\">\n",
              "      <div>\n",
              "<style scoped>\n",
              "    .dataframe tbody tr th:only-of-type {\n",
              "        vertical-align: middle;\n",
              "    }\n",
              "\n",
              "    .dataframe tbody tr th {\n",
              "        vertical-align: top;\n",
              "    }\n",
              "\n",
              "    .dataframe thead th {\n",
              "        text-align: right;\n",
              "    }\n",
              "</style>\n",
              "<table border=\"1\" class=\"dataframe\">\n",
              "  <thead>\n",
              "    <tr style=\"text-align: right;\">\n",
              "      <th></th>\n",
              "      <th>area</th>\n",
              "      <th>rooms</th>\n",
              "      <th>bathroom</th>\n",
              "      <th>parking spaces</th>\n",
              "      <th>hoa (R$)</th>\n",
              "      <th>rent amount (R$)</th>\n",
              "      <th>property tax (R$)</th>\n",
              "      <th>fire insurance (R$)</th>\n",
              "      <th>total (R$)</th>\n",
              "    </tr>\n",
              "  </thead>\n",
              "  <tbody>\n",
              "    <tr>\n",
              "      <th>count</th>\n",
              "      <td>10692.000000</td>\n",
              "      <td>10692.000000</td>\n",
              "      <td>10692.000000</td>\n",
              "      <td>10692.000000</td>\n",
              "      <td>1.069200e+04</td>\n",
              "      <td>10692.000000</td>\n",
              "      <td>10692.000000</td>\n",
              "      <td>10692.000000</td>\n",
              "      <td>1.069200e+04</td>\n",
              "    </tr>\n",
              "    <tr>\n",
              "      <th>mean</th>\n",
              "      <td>149.217920</td>\n",
              "      <td>2.506079</td>\n",
              "      <td>2.236813</td>\n",
              "      <td>1.609147</td>\n",
              "      <td>1.174022e+03</td>\n",
              "      <td>3896.247194</td>\n",
              "      <td>366.704358</td>\n",
              "      <td>53.300879</td>\n",
              "      <td>5.490487e+03</td>\n",
              "    </tr>\n",
              "    <tr>\n",
              "      <th>std</th>\n",
              "      <td>537.016942</td>\n",
              "      <td>1.171266</td>\n",
              "      <td>1.407198</td>\n",
              "      <td>1.589521</td>\n",
              "      <td>1.559231e+04</td>\n",
              "      <td>3408.545518</td>\n",
              "      <td>3107.832321</td>\n",
              "      <td>47.768031</td>\n",
              "      <td>1.648473e+04</td>\n",
              "    </tr>\n",
              "    <tr>\n",
              "      <th>min</th>\n",
              "      <td>11.000000</td>\n",
              "      <td>1.000000</td>\n",
              "      <td>1.000000</td>\n",
              "      <td>0.000000</td>\n",
              "      <td>0.000000e+00</td>\n",
              "      <td>450.000000</td>\n",
              "      <td>0.000000</td>\n",
              "      <td>3.000000</td>\n",
              "      <td>4.990000e+02</td>\n",
              "    </tr>\n",
              "    <tr>\n",
              "      <th>25%</th>\n",
              "      <td>56.000000</td>\n",
              "      <td>2.000000</td>\n",
              "      <td>1.000000</td>\n",
              "      <td>0.000000</td>\n",
              "      <td>1.700000e+02</td>\n",
              "      <td>1530.000000</td>\n",
              "      <td>38.000000</td>\n",
              "      <td>21.000000</td>\n",
              "      <td>2.061750e+03</td>\n",
              "    </tr>\n",
              "    <tr>\n",
              "      <th>50%</th>\n",
              "      <td>90.000000</td>\n",
              "      <td>2.000000</td>\n",
              "      <td>2.000000</td>\n",
              "      <td>1.000000</td>\n",
              "      <td>5.600000e+02</td>\n",
              "      <td>2661.000000</td>\n",
              "      <td>125.000000</td>\n",
              "      <td>36.000000</td>\n",
              "      <td>3.581500e+03</td>\n",
              "    </tr>\n",
              "    <tr>\n",
              "      <th>75%</th>\n",
              "      <td>182.000000</td>\n",
              "      <td>3.000000</td>\n",
              "      <td>3.000000</td>\n",
              "      <td>2.000000</td>\n",
              "      <td>1.237500e+03</td>\n",
              "      <td>5000.000000</td>\n",
              "      <td>375.000000</td>\n",
              "      <td>68.000000</td>\n",
              "      <td>6.768000e+03</td>\n",
              "    </tr>\n",
              "    <tr>\n",
              "      <th>max</th>\n",
              "      <td>46335.000000</td>\n",
              "      <td>13.000000</td>\n",
              "      <td>10.000000</td>\n",
              "      <td>12.000000</td>\n",
              "      <td>1.117000e+06</td>\n",
              "      <td>45000.000000</td>\n",
              "      <td>313700.000000</td>\n",
              "      <td>677.000000</td>\n",
              "      <td>1.120000e+06</td>\n",
              "    </tr>\n",
              "  </tbody>\n",
              "</table>\n",
              "</div>\n",
              "      <button class=\"colab-df-convert\" onclick=\"convertToInteractive('df-837debac-694d-4d39-b5df-f0d705c304ca')\"\n",
              "              title=\"Convert this dataframe to an interactive table.\"\n",
              "              style=\"display:none;\">\n",
              "        \n",
              "  <svg xmlns=\"http://www.w3.org/2000/svg\" height=\"24px\"viewBox=\"0 0 24 24\"\n",
              "       width=\"24px\">\n",
              "    <path d=\"M0 0h24v24H0V0z\" fill=\"none\"/>\n",
              "    <path d=\"M18.56 5.44l.94 2.06.94-2.06 2.06-.94-2.06-.94-.94-2.06-.94 2.06-2.06.94zm-11 1L8.5 8.5l.94-2.06 2.06-.94-2.06-.94L8.5 2.5l-.94 2.06-2.06.94zm10 10l.94 2.06.94-2.06 2.06-.94-2.06-.94-.94-2.06-.94 2.06-2.06.94z\"/><path d=\"M17.41 7.96l-1.37-1.37c-.4-.4-.92-.59-1.43-.59-.52 0-1.04.2-1.43.59L10.3 9.45l-7.72 7.72c-.78.78-.78 2.05 0 2.83L4 21.41c.39.39.9.59 1.41.59.51 0 1.02-.2 1.41-.59l7.78-7.78 2.81-2.81c.8-.78.8-2.07 0-2.86zM5.41 20L4 18.59l7.72-7.72 1.47 1.35L5.41 20z\"/>\n",
              "  </svg>\n",
              "      </button>\n",
              "      \n",
              "  <style>\n",
              "    .colab-df-container {\n",
              "      display:flex;\n",
              "      flex-wrap:wrap;\n",
              "      gap: 12px;\n",
              "    }\n",
              "\n",
              "    .colab-df-convert {\n",
              "      background-color: #E8F0FE;\n",
              "      border: none;\n",
              "      border-radius: 50%;\n",
              "      cursor: pointer;\n",
              "      display: none;\n",
              "      fill: #1967D2;\n",
              "      height: 32px;\n",
              "      padding: 0 0 0 0;\n",
              "      width: 32px;\n",
              "    }\n",
              "\n",
              "    .colab-df-convert:hover {\n",
              "      background-color: #E2EBFA;\n",
              "      box-shadow: 0px 1px 2px rgba(60, 64, 67, 0.3), 0px 1px 3px 1px rgba(60, 64, 67, 0.15);\n",
              "      fill: #174EA6;\n",
              "    }\n",
              "\n",
              "    [theme=dark] .colab-df-convert {\n",
              "      background-color: #3B4455;\n",
              "      fill: #D2E3FC;\n",
              "    }\n",
              "\n",
              "    [theme=dark] .colab-df-convert:hover {\n",
              "      background-color: #434B5C;\n",
              "      box-shadow: 0px 1px 3px 1px rgba(0, 0, 0, 0.15);\n",
              "      filter: drop-shadow(0px 1px 2px rgba(0, 0, 0, 0.3));\n",
              "      fill: #FFFFFF;\n",
              "    }\n",
              "  </style>\n",
              "\n",
              "      <script>\n",
              "        const buttonEl =\n",
              "          document.querySelector('#df-837debac-694d-4d39-b5df-f0d705c304ca button.colab-df-convert');\n",
              "        buttonEl.style.display =\n",
              "          google.colab.kernel.accessAllowed ? 'block' : 'none';\n",
              "\n",
              "        async function convertToInteractive(key) {\n",
              "          const element = document.querySelector('#df-837debac-694d-4d39-b5df-f0d705c304ca');\n",
              "          const dataTable =\n",
              "            await google.colab.kernel.invokeFunction('convertToInteractive',\n",
              "                                                     [key], {});\n",
              "          if (!dataTable) return;\n",
              "\n",
              "          const docLinkHtml = 'Like what you see? Visit the ' +\n",
              "            '<a target=\"_blank\" href=https://colab.research.google.com/notebooks/data_table.ipynb>data table notebook</a>'\n",
              "            + ' to learn more about interactive tables.';\n",
              "          element.innerHTML = '';\n",
              "          dataTable['output_type'] = 'display_data';\n",
              "          await google.colab.output.renderOutput(dataTable, element);\n",
              "          const docLink = document.createElement('div');\n",
              "          docLink.innerHTML = docLinkHtml;\n",
              "          element.appendChild(docLink);\n",
              "        }\n",
              "      </script>\n",
              "    </div>\n",
              "  </div>\n",
              "  "
            ]
          },
          "metadata": {},
          "execution_count": 11
        }
      ]
    },
    {
      "cell_type": "code",
      "source": [
        "city=[]\n",
        "for i in range(0,len(df)):\n",
        "  if str(df.iloc[i,0]) not in city:\n",
        "    city.append(str(df.iloc[i,0]))\n",
        "    \n",
        "city"
      ],
      "metadata": {
        "colab": {
          "base_uri": "https://localhost:8080/"
        },
        "id": "mOkA79mk6u6p",
        "outputId": "bd670718-0c13-4da8-e65c-50c8fb4206c2"
      },
      "execution_count": null,
      "outputs": [
        {
          "output_type": "execute_result",
          "data": {
            "text/plain": [
              "['São Paulo', 'Porto Alegre', 'Rio de Janeiro', 'Campinas', 'Belo Horizonte']"
            ]
          },
          "metadata": {},
          "execution_count": 31
        }
      ]
    },
    {
      "cell_type": "code",
      "source": [
        "sum_rent = [0]*len(city);\n",
        "sum_area = [0]*len(city);\n",
        "sum_room = [0]*len(city);\n",
        "sum_bathroom= [0]*len(city);\n",
        "sum_parking= [0]*len(city);\n",
        "sum_hoa= [0]*len(city);\n",
        "sum_propertytax= [0]*len(city);\n",
        "sum_fire= [0]*len(city);\n",
        "instant_rent=[0]*len(city);\n",
        "for j in range (0,len(city)):\n",
        "  for i in range(0,len(df)):\n",
        "    if df.iloc[i,0]==city[j]:\n",
        "\n",
        "      sum_rent[j] = sum_rent[j]+df.iloc[i,9];\n",
        "      sum_area[j] = sum_area[j]+df.iloc[i,1];\n",
        "      sum_room[j] = sum_room[j]+df.iloc[i,2];\n",
        "      sum_bathroom[j] = sum_bathroom[j]+df.iloc[i,3];\n",
        "      sum_parking[j] = sum_parking[j]+df.iloc[i,4];\n",
        "      sum_hoa[j]=sum_hoa[j]+df.iloc[i,8];\n",
        "      sum_propertytax[j] = sum_propertytax[j]+df.iloc[i,10];\n",
        "      sum_fire[j] = sum_fire[j] +df.iloc[i,11];\n",
        "      instant_rent[j] = instant_rent[j]+1;\n",
        "\n",
        "instant_rent\n"
      ],
      "metadata": {
        "colab": {
          "base_uri": "https://localhost:8080/"
        },
        "id": "YvbvoT9R7o3Z",
        "outputId": "dc46ed54-66c9-4da8-c9f8-45087db471cf"
      },
      "execution_count": null,
      "outputs": [
        {
          "output_type": "execute_result",
          "data": {
            "text/plain": [
              "[5887, 1193, 1501, 853, 1258]"
            ]
          },
          "metadata": {},
          "execution_count": 40
        }
      ]
    },
    {
      "cell_type": "code",
      "source": [
        "avg_rent =[0]*len(city);\n",
        "avg_area=[0]*len(city);\n",
        "avg_room=[0]*len(city);\n",
        "avg_bathroom=[0]*len(city);\n",
        "avg_parking=[0]*len(city);\n",
        "avg_hoa=[0]*len(city);\n",
        "avg_propertytax=[0]*len(city);\n",
        "avg_fire=[0]*len(city);\n",
        "\n",
        "for i in range(0,len(city)):\n",
        "  avg_rent[i] = sum_rent[i]/instant_rent[i];\n",
        "  avg_area[i] = sum_area[i]/instant_rent[i];\n",
        "  avg_room[i]=sum_room[i]/instant_rent[i];\n",
        "  avg_bathroom[i]=sum_bathroom[i]//instant_rent[i];\n",
        "  avg_parking[i]=sum_parking[i]/instant_rent[i];\n",
        "  avg_hoa[i]=sum_hoa[i]/instant_rent[i];\n",
        "  avg_propertytax[i]=sum_propertytax[i]/instant_rent[i];\n",
        "  avg_fire[i]=sum_fire[i]/instant_rent[i];\n"
      ],
      "metadata": {
        "id": "YgzCROljDMZe"
      },
      "execution_count": null,
      "outputs": []
    },
    {
      "cell_type": "code",
      "source": [
        "import matplotlib.pyplot as plt\n",
        "a = city\n",
        "b = avg_rent\n",
        "width = 0.5\n",
        "f = plt.figure()\n",
        "f.set_figwidth(15)\n",
        "plt.bar(a,b,color='green') \n",
        "plt.xlabel('CITY')\n",
        "plt.ylabel('AVERAGE RENT')"
      ],
      "metadata": {
        "colab": {
          "base_uri": "https://localhost:8080/",
          "height": 296
        },
        "id": "S8hEylZ4JGLC",
        "outputId": "3206619a-671e-43e8-eaa4-1cf225379323"
      },
      "execution_count": null,
      "outputs": [
        {
          "output_type": "execute_result",
          "data": {
            "text/plain": [
              "Text(0, 0.5, 'AVERAGE RENT')"
            ]
          },
          "metadata": {},
          "execution_count": 47
        },
        {
          "output_type": "display_data",
          "data": {
            "text/plain": [
              "<Figure size 1080x288 with 1 Axes>"
            ],
            "image/png": "[encoded data removed]"
          },
          "metadata": {
            "needs_background": "light"
          }
        }
      ]
    },
    {
      "cell_type": "code",
      "source": [
        "a = city\n",
        "b = avg_area\n",
        "width = 0.5\n",
        "f = plt.figure()\n",
        "f.set_figwidth(15)\n",
        "plt.bar(a,b,color='green') \n",
        "plt.xlabel('CITY')\n",
        "plt.ylabel('AVERAGE AREA')"
      ],
      "metadata": {
        "colab": {
          "base_uri": "https://localhost:8080/",
          "height": 296
        },
        "id": "JwxkItx1L0A3",
        "outputId": "2ca41143-364d-436a-9097-2d717ef059e0"
      },
      "execution_count": null,
      "outputs": [
        {
          "output_type": "execute_result",
          "data": {
            "text/plain": [
              "Text(0, 0.5, 'AVERAGE AREA')"
            ]
          },
          "metadata": {},
          "execution_count": 49
        },
        {
          "output_type": "display_data",
          "data": {
            "text/plain": [
              "<Figure size 1080x288 with 1 Axes>"
            ],
            "image/png": "[encoded data removed]"
          },
          "metadata": {
            "needs_background": "light"
          }
        }
      ]
    },
    {
      "cell_type": "code",
      "source": [
        "a = city\n",
        "b = avg_room\n",
        "width = 1\n",
        "f = plt.figure()\n",
        "f.set_figwidth(15)\n",
        "plt.bar(a,b,color='green') \n",
        "plt.xlabel('CITY')\n",
        "plt.ylabel('AVERAGE ROOMS')"
      ],
      "metadata": {
        "colab": {
          "base_uri": "https://localhost:8080/",
          "height": 296
        },
        "id": "Zf1pQpqNMXTZ",
        "outputId": "175c493a-03d1-40ac-ba04-ef28367d96d4"
      },
      "execution_count": null,
      "outputs": [
        {
          "output_type": "execute_result",
          "data": {
            "text/plain": [
              "Text(0, 0.5, 'AVERAGE ROOMS')"
            ]
          },
          "metadata": {},
          "execution_count": 51
        },
        {
          "output_type": "display_data",
          "data": {
            "text/plain": [
              "<Figure size 1080x288 with 1 Axes>"
            ],
            "image/png": "[encoded data removed]"
          },
          "metadata": {
            "needs_background": "light"
          }
        }
      ]
    },
    {
      "cell_type": "code",
      "source": [
        "a = city\n",
        "b = avg_bathroom\n",
        "width = 1\n",
        "f = plt.figure()\n",
        "f.set_figwidth(15)\n",
        "plt.bar(a,b,color='green') \n",
        "plt.xlabel('CITY')\n",
        "plt.ylabel('AVERAGE BATHROOM')"
      ],
      "metadata": {
        "colab": {
          "base_uri": "https://localhost:8080/",
          "height": 296
        },
        "id": "eGCM7oKRMiBV",
        "outputId": "2f312066-38e6-4e61-b7b9-8ba13ba42292"
      },
      "execution_count": null,
      "outputs": [
        {
          "output_type": "execute_result",
          "data": {
            "text/plain": [
              "Text(0, 0.5, 'AVERAGE BATHROOM')"
            ]
          },
          "metadata": {},
          "execution_count": 52
        },
        {
          "output_type": "display_data",
          "data": {
            "text/plain": [
              "<Figure size 1080x288 with 1 Axes>"
            ],
            "image/png": "[encoded data removed]"
          },
          "metadata": {
            "needs_background": "light"
          }
        }
      ]
    },
    {
      "cell_type": "code",
      "source": [
        "a = city\n",
        "b = avg_parking\n",
        "width = 1\n",
        "f = plt.figure()\n",
        "f.set_figwidth(15)\n",
        "plt.bar(a,b,color='green') \n",
        "plt.xlabel('CITY')\n",
        "plt.ylabel('AVERAGE PARKINGS')"
      ],
      "metadata": {
        "colab": {
          "base_uri": "https://localhost:8080/",
          "height": 296
        },
        "id": "a_bgpDAGN-90",
        "outputId": "052c5f2d-9591-43b7-cf67-a3bc89bda6e4"
      },
      "execution_count": null,
      "outputs": [
        {
          "output_type": "execute_result",
          "data": {
            "text/plain": [
              "Text(0, 0.5, 'AVERAGE PARKINGS')"
            ]
          },
          "metadata": {},
          "execution_count": 53
        },
        {
          "output_type": "display_data",
          "data": {
            "text/plain": [
              "<Figure size 1080x288 with 1 Axes>"
            ],
            "image/png": "[encoded data removed]"
          },
          "metadata": {
            "needs_background": "light"
          }
        }
      ]
    },
    {
      "cell_type": "code",
      "source": [
        "a = city\n",
        "b = avg_hoa\n",
        "width = 1\n",
        "f = plt.figure()\n",
        "f.set_figwidth(15)\n",
        "plt.bar(a,b,color='green') \n",
        "plt.xlabel('CITY')\n",
        "plt.ylabel('AVERAGE HOA')"
      ],
      "metadata": {
        "colab": {
          "base_uri": "https://localhost:8080/",
          "height": 296
        },
        "id": "pNMCPTF_OIsj",
        "outputId": "1acf02c2-1fbc-44e3-ae45-846c01eda2ae"
      },
      "execution_count": null,
      "outputs": [
        {
          "output_type": "execute_result",
          "data": {
            "text/plain": [
              "Text(0, 0.5, 'AVERAGE HOA')"
            ]
          },
          "metadata": {},
          "execution_count": 54
        },
        {
          "output_type": "display_data",
          "data": {
            "text/plain": [
              "<Figure size 1080x288 with 1 Axes>"
            ],
            "image/png": "[encoded data removed]"
          },
          "metadata": {
            "needs_background": "light"
          }
        }
      ]
    },
    {
      "cell_type": "code",
      "source": [
        "a = city\n",
        "b = avg_propertytax\n",
        "width = 1\n",
        "f = plt.figure()\n",
        "f.set_figwidth(15)\n",
        "plt.bar(a,b,color='green') \n",
        "plt.xlabel('CITY')\n",
        "plt.ylabel('AVERAGE PROPERTY TAX')"
      ],
      "metadata": {
        "colab": {
          "base_uri": "https://localhost:8080/",
          "height": 296
        },
        "id": "AORuyhZvORPy",
        "outputId": "9c66ed48-39ae-43cc-e18f-2ab826e01a0f"
      },
      "execution_count": null,
      "outputs": [
        {
          "output_type": "execute_result",
          "data": {
            "text/plain": [
              "Text(0, 0.5, 'AVERAGE PROPERTY TAX')"
            ]
          },
          "metadata": {},
          "execution_count": 55
        },
        {
          "output_type": "display_data",
          "data": {
            "text/plain": [
              "<Figure size 1080x288 with 1 Axes>"
            ],
            "image/png": "[encoded data removed]"
          },
          "metadata": {
            "needs_background": "light"
          }
        }
      ]
    },
    {
      "cell_type": "code",
      "source": [
        "a = city\n",
        "b = avg_fire\n",
        "width = 1\n",
        "f = plt.figure()\n",
        "f.set_figwidth(15)\n",
        "plt.bar(a,b,color='green') \n",
        "plt.xlabel('CITY')\n",
        "plt.ylabel('AVERAGE FIRE')"
      ],
      "metadata": {
        "colab": {
          "base_uri": "https://localhost:8080/",
          "height": 296
        },
        "id": "tiICBClQOaHc",
        "outputId": "1750cf3c-cf45-4789-bed1-475dfa548f3b"
      },
      "execution_count": null,
      "outputs": [
        {
          "output_type": "execute_result",
          "data": {
            "text/plain": [
              "Text(0, 0.5, 'AVERAGE FIRE')"
            ]
          },
          "metadata": {},
          "execution_count": 56
        },
        {
          "output_type": "display_data",
          "data": {
            "text/plain": [
              "<Figure size 1080x288 with 1 Axes>"
            ],
            "image/png": "[encoded data removed]"
          },
          "metadata": {
            "needs_background": "light"
          }
        }
      ]
    },
    {
      "cell_type": "code",
      "source": [
        "# LETS US TRY TO FIND OUT SOME SORT OF DEPENDENCE"
      ],
      "metadata": {
        "id": "1Eq8z6xkOicT"
      },
      "execution_count": null,
      "outputs": []
    },
    {
      "cell_type": "code",
      "source": [
        "#plt.plot(avg_propertytax, avg_rent, color='red', linewidth=3)\n",
        "plt.scatter(avg_propertytax, avg_rent, color='darkgreen', marker='^')\n",
        "plt.xlim(0,600)\n",
        "\n",
        "plt.xlabel('PROPERT TAX')\n",
        "plt.ylabel('RENT')\n",
        "plt.show()"
      ],
      "metadata": {
        "colab": {
          "base_uri": "https://localhost:8080/",
          "height": 279
        },
        "id": "o2ZjOQ6mSiyU",
        "outputId": "ba2e2660-9af9-4ed6-9e88-2656b7a6cf9c"
      },
      "execution_count": null,
      "outputs": [
        {
          "output_type": "display_data",
          "data": {
            "text/plain": [
              "<Figure size 432x288 with 1 Axes>"
            ],
            "image/png": "[encoded data removed]"
          },
          "metadata": {
            "needs_background": "light"
          }
        }
      ]
    },
    {
      "cell_type": "code",
      "source": [
        "#as the rent increases preperty_tax increases.\n"
      ],
      "metadata": {
        "id": "ANIz4eoHUGZE"
      },
      "execution_count": null,
      "outputs": []
    },
    {
      "cell_type": "code",
      "source": [
        "plt.scatter(avg_room, avg_rent, color='darkgreen', marker='^')\n",
        "plt.xlim(0,5)\n",
        "\n",
        "plt.xlabel('ROOMS')\n",
        "plt.ylabel('RENT')\n",
        "plt.show()"
      ],
      "metadata": {
        "colab": {
          "base_uri": "https://localhost:8080/",
          "height": 279
        },
        "id": "EFVS-HqKVmk2",
        "outputId": "2db1019a-7e15-4750-b4c9-41901ce83179"
      },
      "execution_count": null,
      "outputs": [
        {
          "output_type": "display_data",
          "data": {
            "text/plain": [
              "<Figure size 432x288 with 1 Axes>"
            ],
            "image/png": "[encoded data removed]"
          },
          "metadata": {
            "needs_background": "light"
          }
        }
      ]
    },
    {
      "cell_type": "code",
      "source": [
        "#NO CONCLUSION CAN BE DRAWN FROM IT."
      ],
      "metadata": {
        "id": "oAoBjS9oVwd4"
      },
      "execution_count": null,
      "outputs": []
    },
    {
      "cell_type": "code",
      "source": [
        "plt.scatter(avg_room, avg_rent, color='darkgreen', marker='^')\n",
        "plt.xlim(0,5)\n",
        "\n",
        "plt.xlabel('ROOMS')\n",
        "plt.ylabel('RENT')\n",
        "plt.show()"
      ],
      "metadata": {
        "id": "vMDrlT-rWVsP"
      },
      "execution_count": null,
      "outputs": []
    }
  ]
}