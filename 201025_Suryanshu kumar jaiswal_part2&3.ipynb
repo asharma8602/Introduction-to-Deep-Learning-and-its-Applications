{
  "nbformat": 4,
  "nbformat_minor": 0,
  "metadata": {
    "colab": {
      "name": "part2&3_assignment01.ipynb",
      "provenance": [],
      "collapsed_sections": []
    },
    "kernelspec": {
      "name": "python3",
      "display_name": "Python 3"
    },
    "language_info": {
      "name": "python"
    }
  },
  "cells": [
    {
      "cell_type": "markdown",
      "source": [
        "here we are importing two important libraries i.e. pandas and matplotlib"
      ],
      "metadata": {
        "id": "SDopwuQfn3yQ"
      }
    },
    {
      "cell_type": "code",
      "execution_count": 146,
      "metadata": {
        "id": "1Ub8Y5LulWrO"
      },
      "outputs": [],
      "source": [
        "import pandas as pd\n",
        "from matplotlib import pyplot as plt"
      ]
    },
    {
      "cell_type": "markdown",
      "source": [
        "**TASK**"
      ],
      "metadata": {
        "id": "l5rjaVEAn2Xr"
      }
    },
    {
      "cell_type": "markdown",
      "source": [
        "1. City-wise plotting of mean of features such as rent amount, rooms, area, floor, etc.\n",
        "Through this, you will be able to analyze which choice is the most possible(not the most preferable).\n",
        "\n",
        "2. Try to find a dependence of House Association Tax, property tax, and fire insurance on other features.\n",
        "Not a formula but something intuitive like if it is increasing/decreasing with no of rooms or being furnished or not."
      ],
      "metadata": {
        "id": "_NyyG91tqlyL"
      }
    },
    {
      "cell_type": "markdown",
      "source": [
        "import csv file to notebook"
      ],
      "metadata": {
        "id": "NgHU4t-Zsd_4"
      }
    },
    {
      "cell_type": "code",
      "source": [
        "from google.colab import files\n",
        "uploaded = files.upload()"
      ],
      "metadata": {
        "colab": {
          "resources": {
            "http://localhost:8080/nbextensions/google.colab/files.js": {
              "data": "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",
              "ok": true,
              "headers": [
                [
                  "content-type",
                  "application/javascript"
                ]
              ],
              "status": 200,
              "status_text": ""
            }
          },
          "base_uri": "https://localhost:8080/",
          "height": 73
        },
        "id": "-aP8mvWCr9Yj",
        "outputId": "d31c74d8-f8c0-4996-b1b8-36a2ad2d7112"
      },
      "execution_count": 147,
      "outputs": [
        {
          "output_type": "display_data",
          "data": {
            "text/plain": [
              "<IPython.core.display.HTML object>"
            ],
            "text/html": [
              "\n",
              "     <input type=\"file\" id=\"files-a5a0374a-1df5-418e-83a7-d350e1178a1d\" name=\"files[]\" multiple disabled\n",
              "        style=\"border:none\" />\n",
              "     <output id=\"result-a5a0374a-1df5-418e-83a7-d350e1178a1d\">\n",
              "      Upload widget is only available when the cell has been executed in the\n",
              "      current browser session. Please rerun this cell to enable.\n",
              "      </output>\n",
              "      <script src=\"/nbextensions/google.colab/files.js\"></script> "
            ]
          },
          "metadata": {}
        },
        {
          "output_type": "stream",
          "name": "stdout",
          "text": [
            "Saving House_prediction.csv to House_prediction (1).csv\n"
          ]
        }
      ]
    },
    {
      "cell_type": "markdown",
      "source": [
        "store csv file dataframe "
      ],
      "metadata": {
        "id": "vefVX4c_sj2C"
      }
    },
    {
      "cell_type": "code",
      "source": [
        "import io\n",
        "df = pd.read_csv(io.BytesIO(uploaded['House_prediction.csv']))\n",
        "df"
      ],
      "metadata": {
        "colab": {
          "base_uri": "https://localhost:8080/",
          "height": 641
        },
        "id": "3lMqaSJ-sVPp",
        "outputId": "302b1b08-0c1c-43fc-9ff3-0cf34c0ced4a"
      },
      "execution_count": 148,
      "outputs": [
        {
          "output_type": "execute_result",
          "data": {
            "text/plain": [
              "                 city  area  rooms  bathroom  parking_spaces floor     animal  \\\n",
              "0           São Paulo    70      2         1               1     7      acept   \n",
              "1           São Paulo   320      4         4               0    20      acept   \n",
              "2        Porto Alegre    80      1         1               1     6      acept   \n",
              "3        Porto Alegre    51      2         1               0     2      acept   \n",
              "4           São Paulo    25      1         1               0     1  not acept   \n",
              "...               ...   ...    ...       ...             ...   ...        ...   \n",
              "10687    Porto Alegre    63      2         1               1     5  not acept   \n",
              "10688       São Paulo   285      4         4               4    17      acept   \n",
              "10689  Rio de Janeiro    70      3         3               0     8  not acept   \n",
              "10690  Rio de Janeiro   120      2         2               2     8      acept   \n",
              "10691       São Paulo    80      2         1               0     -      acept   \n",
              "\n",
              "           furniture   hoa  rent_amount  property_tax  fire_insurance  total  \\\n",
              "0          furnished  2065         3300           211              42   5618   \n",
              "1      not furnished  1200         4960          1750              63   7973   \n",
              "2      not furnished  1000         2800             0              41   3841   \n",
              "3      not furnished   270         1112            22              17   1421   \n",
              "4      not furnished     0          800            25              11    836   \n",
              "...              ...   ...          ...           ...             ...    ...   \n",
              "10687      furnished   402         1478            24              22   1926   \n",
              "10688  not furnished  3100        15000           973             191  19260   \n",
              "10689      furnished   980         6000           332              78   7390   \n",
              "10690      furnished  1585        12000           279             155  14020   \n",
              "10691  not furnished     0         1400           165              22   1587   \n",
              "\n",
              "       Unnamed: 13  Unnamed: 14  \n",
              "0              NaN          NaN  \n",
              "1              NaN          NaN  \n",
              "2              NaN          NaN  \n",
              "3              NaN          NaN  \n",
              "4              NaN          NaN  \n",
              "...            ...          ...  \n",
              "10687          NaN          NaN  \n",
              "10688          NaN          NaN  \n",
              "10689          NaN          NaN  \n",
              "10690          NaN          NaN  \n",
              "10691          NaN          NaN  \n",
              "\n",
              "[10692 rows x 15 columns]"
            ],
            "text/html": [
              "\n",
              "  <div id=\"df-8a68cc84-ecdd-4f11-b476-252c9a89dba7\">\n",
              "    <div class=\"colab-df-container\">\n",
              "      <div>\n",
              "<style scoped>\n",
              "    .dataframe tbody tr th:only-of-type {\n",
              "        vertical-align: middle;\n",
              "    }\n",
              "\n",
              "    .dataframe tbody tr th {\n",
              "        vertical-align: top;\n",
              "    }\n",
              "\n",
              "    .dataframe thead th {\n",
              "        text-align: right;\n",
              "    }\n",
              "</style>\n",
              "<table border=\"1\" class=\"dataframe\">\n",
              "  <thead>\n",
              "    <tr style=\"text-align: right;\">\n",
              "      <th></th>\n",
              "      <th>city</th>\n",
              "      <th>area</th>\n",
              "      <th>rooms</th>\n",
              "      <th>bathroom</th>\n",
              "      <th>parking_spaces</th>\n",
              "      <th>floor</th>\n",
              "      <th>animal</th>\n",
              "      <th>furniture</th>\n",
              "      <th>hoa</th>\n",
              "      <th>rent_amount</th>\n",
              "      <th>property_tax</th>\n",
              "      <th>fire_insurance</th>\n",
              "      <th>total</th>\n",
              "      <th>Unnamed: 13</th>\n",
              "      <th>Unnamed: 14</th>\n",
              "    </tr>\n",
              "  </thead>\n",
              "  <tbody>\n",
              "    <tr>\n",
              "      <th>0</th>\n",
              "      <td>São Paulo</td>\n",
              "      <td>70</td>\n",
              "      <td>2</td>\n",
              "      <td>1</td>\n",
              "      <td>1</td>\n",
              "      <td>7</td>\n",
              "      <td>acept</td>\n",
              "      <td>furnished</td>\n",
              "      <td>2065</td>\n",
              "      <td>3300</td>\n",
              "      <td>211</td>\n",
              "      <td>42</td>\n",
              "      <td>5618</td>\n",
              "      <td>NaN</td>\n",
              "      <td>NaN</td>\n",
              "    </tr>\n",
              "    <tr>\n",
              "      <th>1</th>\n",
              "      <td>São Paulo</td>\n",
              "      <td>320</td>\n",
              "      <td>4</td>\n",
              "      <td>4</td>\n",
              "      <td>0</td>\n",
              "      <td>20</td>\n",
              "      <td>acept</td>\n",
              "      <td>not furnished</td>\n",
              "      <td>1200</td>\n",
              "      <td>4960</td>\n",
              "      <td>1750</td>\n",
              "      <td>63</td>\n",
              "      <td>7973</td>\n",
              "      <td>NaN</td>\n",
              "      <td>NaN</td>\n",
              "    </tr>\n",
              "    <tr>\n",
              "      <th>2</th>\n",
              "      <td>Porto Alegre</td>\n",
              "      <td>80</td>\n",
              "      <td>1</td>\n",
              "      <td>1</td>\n",
              "      <td>1</td>\n",
              "      <td>6</td>\n",
              "      <td>acept</td>\n",
              "      <td>not furnished</td>\n",
              "      <td>1000</td>\n",
              "      <td>2800</td>\n",
              "      <td>0</td>\n",
              "      <td>41</td>\n",
              "      <td>3841</td>\n",
              "      <td>NaN</td>\n",
              "      <td>NaN</td>\n",
              "    </tr>\n",
              "    <tr>\n",
              "      <th>3</th>\n",
              "      <td>Porto Alegre</td>\n",
              "      <td>51</td>\n",
              "      <td>2</td>\n",
              "      <td>1</td>\n",
              "      <td>0</td>\n",
              "      <td>2</td>\n",
              "      <td>acept</td>\n",
              "      <td>not furnished</td>\n",
              "      <td>270</td>\n",
              "      <td>1112</td>\n",
              "      <td>22</td>\n",
              "      <td>17</td>\n",
              "      <td>1421</td>\n",
              "      <td>NaN</td>\n",
              "      <td>NaN</td>\n",
              "    </tr>\n",
              "    <tr>\n",
              "      <th>4</th>\n",
              "      <td>São Paulo</td>\n",
              "      <td>25</td>\n",
              "      <td>1</td>\n",
              "      <td>1</td>\n",
              "      <td>0</td>\n",
              "      <td>1</td>\n",
              "      <td>not acept</td>\n",
              "      <td>not furnished</td>\n",
              "      <td>0</td>\n",
              "      <td>800</td>\n",
              "      <td>25</td>\n",
              "      <td>11</td>\n",
              "      <td>836</td>\n",
              "      <td>NaN</td>\n",
              "      <td>NaN</td>\n",
              "    </tr>\n",
              "    <tr>\n",
              "      <th>...</th>\n",
              "      <td>...</td>\n",
              "      <td>...</td>\n",
              "      <td>...</td>\n",
              "      <td>...</td>\n",
              "      <td>...</td>\n",
              "      <td>...</td>\n",
              "      <td>...</td>\n",
              "      <td>...</td>\n",
              "      <td>...</td>\n",
              "      <td>...</td>\n",
              "      <td>...</td>\n",
              "      <td>...</td>\n",
              "      <td>...</td>\n",
              "      <td>...</td>\n",
              "      <td>...</td>\n",
              "    </tr>\n",
              "    <tr>\n",
              "      <th>10687</th>\n",
              "      <td>Porto Alegre</td>\n",
              "      <td>63</td>\n",
              "      <td>2</td>\n",
              "      <td>1</td>\n",
              "      <td>1</td>\n",
              "      <td>5</td>\n",
              "      <td>not acept</td>\n",
              "      <td>furnished</td>\n",
              "      <td>402</td>\n",
              "      <td>1478</td>\n",
              "      <td>24</td>\n",
              "      <td>22</td>\n",
              "      <td>1926</td>\n",
              "      <td>NaN</td>\n",
              "      <td>NaN</td>\n",
              "    </tr>\n",
              "    <tr>\n",
              "      <th>10688</th>\n",
              "      <td>São Paulo</td>\n",
              "      <td>285</td>\n",
              "      <td>4</td>\n",
              "      <td>4</td>\n",
              "      <td>4</td>\n",
              "      <td>17</td>\n",
              "      <td>acept</td>\n",
              "      <td>not furnished</td>\n",
              "      <td>3100</td>\n",
              "      <td>15000</td>\n",
              "      <td>973</td>\n",
              "      <td>191</td>\n",
              "      <td>19260</td>\n",
              "      <td>NaN</td>\n",
              "      <td>NaN</td>\n",
              "    </tr>\n",
              "    <tr>\n",
              "      <th>10689</th>\n",
              "      <td>Rio de Janeiro</td>\n",
              "      <td>70</td>\n",
              "      <td>3</td>\n",
              "      <td>3</td>\n",
              "      <td>0</td>\n",
              "      <td>8</td>\n",
              "      <td>not acept</td>\n",
              "      <td>furnished</td>\n",
              "      <td>980</td>\n",
              "      <td>6000</td>\n",
              "      <td>332</td>\n",
              "      <td>78</td>\n",
              "      <td>7390</td>\n",
              "      <td>NaN</td>\n",
              "      <td>NaN</td>\n",
              "    </tr>\n",
              "    <tr>\n",
              "      <th>10690</th>\n",
              "      <td>Rio de Janeiro</td>\n",
              "      <td>120</td>\n",
              "      <td>2</td>\n",
              "      <td>2</td>\n",
              "      <td>2</td>\n",
              "      <td>8</td>\n",
              "      <td>acept</td>\n",
              "      <td>furnished</td>\n",
              "      <td>1585</td>\n",
              "      <td>12000</td>\n",
              "      <td>279</td>\n",
              "      <td>155</td>\n",
              "      <td>14020</td>\n",
              "      <td>NaN</td>\n",
              "      <td>NaN</td>\n",
              "    </tr>\n",
              "    <tr>\n",
              "      <th>10691</th>\n",
              "      <td>São Paulo</td>\n",
              "      <td>80</td>\n",
              "      <td>2</td>\n",
              "      <td>1</td>\n",
              "      <td>0</td>\n",
              "      <td>-</td>\n",
              "      <td>acept</td>\n",
              "      <td>not furnished</td>\n",
              "      <td>0</td>\n",
              "      <td>1400</td>\n",
              "      <td>165</td>\n",
              "      <td>22</td>\n",
              "      <td>1587</td>\n",
              "      <td>NaN</td>\n",
              "      <td>NaN</td>\n",
              "    </tr>\n",
              "  </tbody>\n",
              "</table>\n",
              "<p>10692 rows × 15 columns</p>\n",
              "</div>\n",
              "      <button class=\"colab-df-convert\" onclick=\"convertToInteractive('df-8a68cc84-ecdd-4f11-b476-252c9a89dba7')\"\n",
              "              title=\"Convert this dataframe to an interactive table.\"\n",
              "              style=\"display:none;\">\n",
              "        \n",
              "  <svg xmlns=\"http://www.w3.org/2000/svg\" height=\"24px\"viewBox=\"0 0 24 24\"\n",
              "       width=\"24px\">\n",
              "    <path d=\"M0 0h24v24H0V0z\" fill=\"none\"/>\n",
              "    <path d=\"M18.56 5.44l.94 2.06.94-2.06 2.06-.94-2.06-.94-.94-2.06-.94 2.06-2.06.94zm-11 1L8.5 8.5l.94-2.06 2.06-.94-2.06-.94L8.5 2.5l-.94 2.06-2.06.94zm10 10l.94 2.06.94-2.06 2.06-.94-2.06-.94-.94-2.06-.94 2.06-2.06.94z\"/><path d=\"M17.41 7.96l-1.37-1.37c-.4-.4-.92-.59-1.43-.59-.52 0-1.04.2-1.43.59L10.3 9.45l-7.72 7.72c-.78.78-.78 2.05 0 2.83L4 21.41c.39.39.9.59 1.41.59.51 0 1.02-.2 1.41-.59l7.78-7.78 2.81-2.81c.8-.78.8-2.07 0-2.86zM5.41 20L4 18.59l7.72-7.72 1.47 1.35L5.41 20z\"/>\n",
              "  </svg>\n",
              "      </button>\n",
              "      \n",
              "  <style>\n",
              "    .colab-df-container {\n",
              "      display:flex;\n",
              "      flex-wrap:wrap;\n",
              "      gap: 12px;\n",
              "    }\n",
              "\n",
              "    .colab-df-convert {\n",
              "      background-color: #E8F0FE;\n",
              "      border: none;\n",
              "      border-radius: 50%;\n",
              "      cursor: pointer;\n",
              "      display: none;\n",
              "      fill: #1967D2;\n",
              "      height: 32px;\n",
              "      padding: 0 0 0 0;\n",
              "      width: 32px;\n",
              "    }\n",
              "\n",
              "    .colab-df-convert:hover {\n",
              "      background-color: #E2EBFA;\n",
              "      box-shadow: 0px 1px 2px rgba(60, 64, 67, 0.3), 0px 1px 3px 1px rgba(60, 64, 67, 0.15);\n",
              "      fill: #174EA6;\n",
              "    }\n",
              "\n",
              "    [theme=dark] .colab-df-convert {\n",
              "      background-color: #3B4455;\n",
              "      fill: #D2E3FC;\n",
              "    }\n",
              "\n",
              "    [theme=dark] .colab-df-convert:hover {\n",
              "      background-color: #434B5C;\n",
              "      box-shadow: 0px 1px 3px 1px rgba(0, 0, 0, 0.15);\n",
              "      filter: drop-shadow(0px 1px 2px rgba(0, 0, 0, 0.3));\n",
              "      fill: #FFFFFF;\n",
              "    }\n",
              "  </style>\n",
              "\n",
              "      <script>\n",
              "        const buttonEl =\n",
              "          document.querySelector('#df-8a68cc84-ecdd-4f11-b476-252c9a89dba7 button.colab-df-convert');\n",
              "        buttonEl.style.display =\n",
              "          google.colab.kernel.accessAllowed ? 'block' : 'none';\n",
              "\n",
              "        async function convertToInteractive(key) {\n",
              "          const element = document.querySelector('#df-8a68cc84-ecdd-4f11-b476-252c9a89dba7');\n",
              "          const dataTable =\n",
              "            await google.colab.kernel.invokeFunction('convertToInteractive',\n",
              "                                                     [key], {});\n",
              "          if (!dataTable) return;\n",
              "\n",
              "          const docLinkHtml = 'Like what you see? Visit the ' +\n",
              "            '<a target=\"_blank\" href=https://colab.research.google.com/notebooks/data_table.ipynb>data table notebook</a>'\n",
              "            + ' to learn more about interactive tables.';\n",
              "          element.innerHTML = '';\n",
              "          dataTable['output_type'] = 'display_data';\n",
              "          await google.colab.output.renderOutput(dataTable, element);\n",
              "          const docLink = document.createElement('div');\n",
              "          docLink.innerHTML = docLinkHtml;\n",
              "          element.appendChild(docLink);\n",
              "        }\n",
              "      </script>\n",
              "    </div>\n",
              "  </div>\n",
              "  "
            ]
          },
          "metadata": {},
          "execution_count": 148
        }
      ]
    },
    {
      "cell_type": "markdown",
      "source": [
        "Printing different city present in the data set"
      ],
      "metadata": {
        "id": "SAWPJFSQ5W-e"
      }
    },
    {
      "cell_type": "code",
      "source": [
        "def match(val):\n",
        "  check=1\n",
        "  for j in range(0,len(city_name)):\n",
        "    if(city_name[j]==val):\n",
        "      check=0\n",
        "  return check\n",
        "\n",
        "print(df.city)\n",
        "city_name=list([])\n",
        "city_name.append(df.city[0])\n",
        "for i in range(1,len(df.city)):\n",
        "  if(match(df.city[i])==1):\n",
        "    city_name.append(df.city[i])\n",
        "print(city_name)"
      ],
      "metadata": {
        "colab": {
          "base_uri": "https://localhost:8080/"
        },
        "id": "aew9OgPXwjU2",
        "outputId": "621a6e4b-8b9d-4d29-e1a3-77b7c95e9f77"
      },
      "execution_count": 149,
      "outputs": [
        {
          "output_type": "stream",
          "name": "stdout",
          "text": [
            "0             São Paulo\n",
            "1             São Paulo\n",
            "2          Porto Alegre\n",
            "3          Porto Alegre\n",
            "4             São Paulo\n",
            "              ...      \n",
            "10687      Porto Alegre\n",
            "10688         São Paulo\n",
            "10689    Rio de Janeiro\n",
            "10690    Rio de Janeiro\n",
            "10691         São Paulo\n",
            "Name: city, Length: 10692, dtype: object\n",
            "['São Paulo', 'Porto Alegre', 'Rio de Janeiro', 'Campinas', 'Belo Horizonte']\n"
          ]
        }
      ]
    },
    {
      "cell_type": "markdown",
      "source": [
        "Let find number of houses citywise"
      ],
      "metadata": {
        "id": "pz-VIBU96Dlp"
      }
    },
    {
      "cell_type": "code",
      "source": [
        "city_num=list([])\n",
        "for i in range (0,5):\n",
        "  a=0\n",
        "  for j in range(0,len(df.city)):\n",
        "    if(df.city[j]==city_name[i]):\n",
        "      a=a+1\n",
        "  city_num.append(a)\n",
        "print(city_num)\n"
      ],
      "metadata": {
        "colab": {
          "base_uri": "https://localhost:8080/"
        },
        "id": "YWdW8vMv6OQ1",
        "outputId": "4b451544-420b-458a-d1d8-36bc41625231"
      },
      "execution_count": 152,
      "outputs": [
        {
          "output_type": "stream",
          "name": "stdout",
          "text": [
            "[5887, 1193, 1501, 853, 1258]\n"
          ]
        }
      ]
    },
    {
      "cell_type": "markdown",
      "source": [
        "Now ,we are going to find  mean of features such as rent , area , rooms , floor etc. "
      ],
      "metadata": {
        "id": "96NrFbRg7fZS"
      }
    },
    {
      "cell_type": "code",
      "source": [
        "## total rent amount of houses citywise  \n",
        "df.rent_amount\t\n",
        "city_rent=list([])\n",
        "for i in range (0,5):\n",
        "  sum=0\n",
        "  for j in range (0,10692):\n",
        "    if(df.city[j]==city_name[i]):\n",
        "      sum=sum+df.rent_amount[j]\n",
        "  city_rent.append(sum)\n",
        "print(city_rent)\n",
        "    "
      ],
      "metadata": {
        "colab": {
          "base_uri": "https://localhost:8080/"
        },
        "id": "1fysmSq376it",
        "outputId": "ca571602-8c77-4ba9-98d7-7ab649ac33bd"
      },
      "execution_count": 153,
      "outputs": [
        {
          "output_type": "stream",
          "name": "stdout",
          "text": [
            "[27390997, 2788876, 4852589, 2016740, 4609473]\n"
          ]
        }
      ]
    },
    {
      "cell_type": "code",
      "source": [
        "##average rent amount citywise \n",
        "for i in range (0,5):\n",
        "  city_rent[i]=city_rent[i]/city_num[i]\n",
        "print(city_rent)"
      ],
      "metadata": {
        "colab": {
          "base_uri": "https://localhost:8080/"
        },
        "id": "YJN7CtqFF0tH",
        "outputId": "ee371c2b-b0c3-498a-c1d4-ff185da80f8a"
      },
      "execution_count": 154,
      "outputs": [
        {
          "output_type": "stream",
          "name": "stdout",
          "text": [
            "[4652.7937829115, 2337.6999161777035, 3232.904063957362, 2364.290738569754, 3664.1279809220987]\n"
          ]
        }
      ]
    },
    {
      "cell_type": "code",
      "source": [
        "## mean property tax of houses citywise  \n",
        "df.property_tax\t\n",
        "city_property_tax=list([])\n",
        "for i in range (0,5):\n",
        "  sum=0\n",
        "  for j in range (0,10692):\n",
        "    if(df.city[j]==city_name[i]):\n",
        "      sum=sum+df.property_tax[j]\n",
        "  city_property_tax.append(sum/city_num[i])\n",
        "print(city_property_tax)\n",
        "    "
      ],
      "metadata": {
        "colab": {
          "base_uri": "https://localhost:8080/"
        },
        "id": "joJyk372Hm5Q",
        "outputId": "30149ead-0429-40b4-c8af-aa53d47f4052"
      },
      "execution_count": 155,
      "outputs": [
        {
          "output_type": "stream",
          "name": "stdout",
          "text": [
            "[495.70171564464073, 124.02179379715004, 256.85343104596933, 147.65767878077375, 272.78219395866455]\n"
          ]
        }
      ]
    },
    {
      "cell_type": "code",
      "source": [
        "## mean fire insurance of houses citywise  \n",
        "df.fire_insurance\t\n",
        "city_fire_insurance=list([])\n",
        "for i in range (0,5):\n",
        "  sum=0\n",
        "  for j in range (0,10692):\n",
        "    if(df.city[j]==city_name[i]):\n",
        "      sum=sum+df.fire_insurance[j]\n",
        "  city_fire_insurance.append(sum/city_num[i])\n",
        "print(city_fire_insurance)\n",
        "    "
      ],
      "metadata": {
        "colab": {
          "base_uri": "https://localhost:8080/"
        },
        "id": "1alwwvbQKP8U",
        "outputId": "cc43e0aa-7054-4f8c-b65d-e38b925f419b"
      },
      "execution_count": 156,
      "outputs": [
        {
          "output_type": "stream",
          "name": "stdout",
          "text": [
            "[62.42891116018345, 36.42581726739313, 42.48301132578281, 32.38804220398593, 53.67567567567568]\n"
          ]
        }
      ]
    },
    {
      "cell_type": "code",
      "source": [
        "## mean hoa amount of houses citywise  \n",
        "df.hoa\t\n",
        "city_hoa=list([])\n",
        "for i in range (0,5):\n",
        "  sum=0\n",
        "  for j in range (0,10692):\n",
        "    if(df.city[j]==city_name[i]):\n",
        "      sum=sum+df.hoa[j]\n",
        "  city_hoa.append(sum/city_num[i])\n",
        "print(city_hoa)\n",
        "    "
      ],
      "metadata": {
        "colab": {
          "base_uri": "https://localhost:8080/"
        },
        "id": "0pYMuudhLHp3",
        "outputId": "3fa8a11c-85ca-483e-92e6-bab01207baf0"
      },
      "execution_count": 157,
      "outputs": [
        {
          "output_type": "stream",
          "name": "stdout",
          "text": [
            "[1169.627993884831, 491.61860854987424, 1079.4323784143903, 628.9226260257914, 2324.197138314785]\n"
          ]
        }
      ]
    },
    {
      "cell_type": "code",
      "source": [
        "## mean of total amount of houses citywise  \n",
        "df.total\n",
        "city_total=list([])\n",
        "for i in range (0,5):\n",
        "  sum=0\n",
        "  for j in range (0,10692):\n",
        "    if(df.city[j]==city_name[i]):\n",
        "      sum=sum+df.total[j]\n",
        "  city_total.append(sum/city_num[i])\n",
        "print(city_total)\n",
        "    "
      ],
      "metadata": {
        "colab": {
          "base_uri": "https://localhost:8080/"
        },
        "id": "hJLVv8MaLp-v",
        "outputId": "a7e9027b-e662-4773-b4b0-9f2241b31116"
      },
      "execution_count": 159,
      "outputs": [
        {
          "output_type": "stream",
          "name": "stdout",
          "text": [
            "[6380.831832852047, 2989.782900251467, 4611.6848767488345, 3173.276670574443, 6315.242448330684]\n"
          ]
        }
      ]
    },
    {
      "cell_type": "markdown",
      "source": [
        "lets draw table and bar chart of mean value of different features with respect to the cities"
      ],
      "metadata": {
        "id": "KNshBYkHMBeS"
      }
    },
    {
      "cell_type": "code",
      "source": [
        "info={\n",
        "    \"City\":city_name,\n",
        "    \"City_count\":city_num,\n",
        "    \"City_hoa\":city_hoa,\n",
        "    \"City_rent_amount\":city_rent,\n",
        "    \"City_property_tax\":city_property_tax,\n",
        "    \"City_fire_insurance\":city_fire_insurance,\n",
        "    \"City_total\":city_total\n",
        "}\n",
        "#print(info)\n",
        "pd.DataFrame(info).to_csv('out.csv', index=False)\n",
        "df1 = pd.read_csv('out.csv')\n",
        "print(df1)"
      ],
      "metadata": {
        "colab": {
          "base_uri": "https://localhost:8080/"
        },
        "id": "ZQq8XpY8MN6K",
        "outputId": "dc966595-af68-4e82-e0c5-6487bb331a69"
      },
      "execution_count": 160,
      "outputs": [
        {
          "output_type": "stream",
          "name": "stdout",
          "text": [
            "             City  City_count     City_hoa  City_rent_amount  \\\n",
            "0       São Paulo        5887  1169.627994       4652.793783   \n",
            "1    Porto Alegre        1193   491.618609       2337.699916   \n",
            "2  Rio de Janeiro        1501  1079.432378       3232.904064   \n",
            "3        Campinas         853   628.922626       2364.290739   \n",
            "4  Belo Horizonte        1258  2324.197138       3664.127981   \n",
            "\n",
            "   City_property_tax  City_fire_insurance   City_total  \n",
            "0         495.701716            62.428911  6380.831833  \n",
            "1         124.021794            36.425817  2989.782900  \n",
            "2         256.853431            42.483011  4611.684877  \n",
            "3         147.657679            32.388042  3173.276671  \n",
            "4         272.782194            53.675676  6315.242448  \n"
          ]
        }
      ]
    },
    {
      "cell_type": "markdown",
      "source": [
        "plots"
      ],
      "metadata": {
        "id": "RBZozEU9Oc7s"
      }
    },
    {
      "cell_type": "code",
      "source": [
        "fig=plt.figure(figsize=(12,8))\n",
        "plt.bar(info[\"City\"], info[\"City_total\"], color ='g', width = 0.6)\n",
        "plt.xlabel(\"City \")\n",
        "plt.ylabel(\"Mean Total expenditure in city \")"
      ],
      "metadata": {
        "colab": {
          "base_uri": "https://localhost:8080/",
          "height": 514
        },
        "id": "9oTyc9HLOfWE",
        "outputId": "d1b3e21b-9a62-40e8-b0bd-050438260f53"
      },
      "execution_count": 161,
      "outputs": [
        {
          "output_type": "execute_result",
          "data": {
            "text/plain": [
              "Text(0, 0.5, 'Mean Total expenditure in city ')"
            ]
          },
          "metadata": {},
          "execution_count": 161
        },
        {
          "output_type": "display_data",
          "data": {
            "text/plain": [
              "<Figure size 864x576 with 1 Axes>"
            ],
            "image/png": "[encoded data removed]"
          },
          "metadata": {
            "needs_background": "light"
          }
        }
      ]
    },
    {
      "cell_type": "markdown",
      "source": [
        "Similarily , We can plot diffrent graph of Amount needed citywise"
      ],
      "metadata": {
        "id": "sxbIdlxATTBm"
      }
    },
    {
      "cell_type": "markdown",
      "source": [
        "Lets Analyse The mean of the floors, rooms , area , bathroom and parking spaces "
      ],
      "metadata": {
        "id": "4GYMQWNTTfyl"
      }
    },
    {
      "cell_type": "code",
      "source": [
        "## mean of area of houses citywise  \n",
        "df.area\n",
        "city_area=list([])\n",
        "for i in range (0,5):\n",
        "  sum=0\n",
        "  for j in range (0,10692):\n",
        "    if(df.city[j]==city_name[i]):\n",
        "      sum=sum+df.area[j]\n",
        "  city_area.append(sum/city_num[i])\n",
        "print(city_area)\n",
        "    "
      ],
      "metadata": {
        "colab": {
          "base_uri": "https://localhost:8080/"
        },
        "id": "0v-y-2pvT0K3",
        "outputId": "1739607f-32ad-4671-c9e8-25c197ca5e63"
      },
      "execution_count": 162,
      "outputs": [
        {
          "output_type": "stream",
          "name": "stdout",
          "text": [
            "[158.89943944284016, 103.60938809723386, 105.34776815456362, 137.56154747948418, 207.41176470588235]\n"
          ]
        }
      ]
    },
    {
      "cell_type": "code",
      "source": [
        "## mean of rooms of houses citywise  \n",
        "df.rooms\n",
        "city_rooms=list([])\n",
        "for i in range (0,5):\n",
        "  sum=0\n",
        "  for j in range (0,10692):\n",
        "    if(df.city[j]==city_name[i]):\n",
        "      sum=sum+df.rooms[j]\n",
        "  city_rooms.append(sum/city_num[i])\n",
        "print(city_rooms)\n",
        "    "
      ],
      "metadata": {
        "colab": {
          "base_uri": "https://localhost:8080/"
        },
        "id": "A77ua-zRUu-i",
        "outputId": "506eb7b6-073a-4359-cca0-4ada12dfd525"
      },
      "execution_count": 163,
      "outputs": [
        {
          "output_type": "stream",
          "name": "stdout",
          "text": [
            "[2.558858501783591, 2.140821458507963, 2.2438374417055296, 2.3552168815943726, 3.0206677265500796]\n"
          ]
        }
      ]
    },
    {
      "cell_type": "code",
      "source": [
        "## mean of bathrooms of houses citywise  \n",
        "df.bathroom\n",
        "city_bathroom=list([])\n",
        "for i in range (0,5):\n",
        "  sum=0\n",
        "  for j in range (0,10692):\n",
        "    if(df.city[j]==city_name[i]):\n",
        "      sum=sum+df.bathroom[j]\n",
        "  city_bathroom.append(sum/city_num[i])\n",
        "print(city_bathroom)\n",
        "    "
      ],
      "metadata": {
        "colab": {
          "base_uri": "https://localhost:8080/"
        },
        "id": "6rIvxTyKVFb1",
        "outputId": "f86a2ed3-9471-4e46-aaae-5a6e472b9c79"
      },
      "execution_count": 164,
      "outputs": [
        {
          "output_type": "stream",
          "name": "stdout",
          "text": [
            "[2.467640563954476, 1.7259010896898574, 1.7561625582944704, 1.9601406799531067, 2.4022257551669317]\n"
          ]
        }
      ]
    },
    {
      "cell_type": "code",
      "source": [
        "## mean of parking_spaces of houses citywise  \n",
        "df.parking_spaces\n",
        "city_parking_spaces=list([])\n",
        "for i in range (0,5):\n",
        "  sum=0\n",
        "  for j in range (0,10692):\n",
        "    if(df.city[j]==city_name[i]):\n",
        "      sum=sum+df.parking_spaces[j]\n",
        "  city_parking_spaces.append(sum/city_num[i])\n",
        "print(city_parking_spaces)\n",
        "    "
      ],
      "metadata": {
        "colab": {
          "base_uri": "https://localhost:8080/"
        },
        "id": "HFVyx12eVcvh",
        "outputId": "ae0244ae-6634-4d54-9f93-b528ff973b9d"
      },
      "execution_count": 165,
      "outputs": [
        {
          "output_type": "stream",
          "name": "stdout",
          "text": [
            "[1.8775267538644471, 1.044425817267393, 0.7441705529646903, 1.5580304806565064, 1.9554848966613672]\n"
          ]
        }
      ]
    },
    {
      "cell_type": "code",
      "source": [
        "## mean of floor of houses citywise  \n",
        "\n",
        "for i in range(0,10692):\n",
        "  if(df.floor[i]=='-'):\n",
        "    df.floor[i]=0\n",
        "print(df.floor)\n",
        "\n",
        "city_floor=list([])\n",
        "for i in range (0,5):\n",
        "  sum=0\n",
        "  for j in range (0,10692):\n",
        "    if(df.city[j]==city_name[i]):\n",
        "      sum= sum+ int(df.floor[j])\n",
        "  city_floor.append(sum/city_num[i])\n",
        "print(city_floor)\n",
        "   "
      ],
      "metadata": {
        "colab": {
          "base_uri": "https://localhost:8080/"
        },
        "id": "Ftdwzu1TVzLQ",
        "outputId": "ec2a14eb-105c-43ba-ede2-d2c9f3c77f71"
      },
      "execution_count": 167,
      "outputs": [
        {
          "output_type": "stream",
          "name": "stdout",
          "text": [
            "0         7\n",
            "1        20\n",
            "2         6\n",
            "3         2\n",
            "4         1\n",
            "         ..\n",
            "10687     5\n",
            "10688    17\n",
            "10689     8\n",
            "10690     8\n",
            "10691     0\n",
            "Name: floor, Length: 10692, dtype: object\n",
            "[5.626465092576864, 3.9186923721709976, 5.250499666888741, 4.280187573270809, 3.860890302066773]\n"
          ]
        }
      ]
    },
    {
      "cell_type": "markdown",
      "source": [
        "Lets draw the bar graph and chart of the different data with respect to city"
      ],
      "metadata": {
        "id": "gGAiJ3OpZV49"
      }
    },
    {
      "cell_type": "code",
      "source": [
        "info_1={\n",
        "    \"City\":city_name,\n",
        "    \"Area\":city_area,\n",
        "    \"Rooms\":city_rooms,\n",
        "    \"Bathroom\":city_bathroom,\n",
        "    \"Parking_spaces\":city_parking_spaces,\n",
        "    \"Floor\":city_floor\n",
        "}\n",
        "#print(info_1)\n",
        "pd.DataFrame(info_1).to_csv('out1.csv', index=False)\n",
        "df2 = pd.read_csv('out1.csv')\n",
        "print(df2)"
      ],
      "metadata": {
        "colab": {
          "base_uri": "https://localhost:8080/"
        },
        "id": "Jsu_Cv4AZqRj",
        "outputId": "7ebbabae-e47f-4d4d-c1f5-9de6a70c407a"
      },
      "execution_count": 168,
      "outputs": [
        {
          "output_type": "stream",
          "name": "stdout",
          "text": [
            "             City        Area     Rooms  Bathroom  Parking_spaces     Floor\n",
            "0       São Paulo  158.899439  2.558859  2.467641        1.877527  5.626465\n",
            "1    Porto Alegre  103.609388  2.140821  1.725901        1.044426  3.918692\n",
            "2  Rio de Janeiro  105.347768  2.243837  1.756163        0.744171  5.250500\n",
            "3        Campinas  137.561547  2.355217  1.960141        1.558030  4.280188\n",
            "4  Belo Horizonte  207.411765  3.020668  2.402226        1.955485  3.860890\n"
          ]
        }
      ]
    },
    {
      "cell_type": "code",
      "source": [
        "plt.figure(figsize=(10,8))\n",
        "plt.bar(info_1[\"City\"], info_1[\"Area\"], color ='g', width = 0.6)\n",
        "plt.ylabel(\"Area of the house \")\n",
        "plt.xlabel(\"city \")"
      ],
      "metadata": {
        "colab": {
          "base_uri": "https://localhost:8080/",
          "height": 514
        },
        "id": "MSdE0etPaf8T",
        "outputId": "22a6ddeb-8c91-4b1d-8183-f42dca64a1aa"
      },
      "execution_count": 135,
      "outputs": [
        {
          "output_type": "execute_result",
          "data": {
            "text/plain": [
              "Text(0.5, 0, 'city ')"
            ]
          },
          "metadata": {},
          "execution_count": 135
        },
        {
          "output_type": "display_data",
          "data": {
            "text/plain": [
              "<Figure size 720x576 with 1 Axes>"
            ],
            "image/png": "[encoded data removed]"
          },
          "metadata": {
            "needs_background": "light"
          }
        }
      ]
    },
    {
      "cell_type": "code",
      "source": [
        "plt.figure(figsize=(10,8))\n",
        "plt.bar(info_1[\"City\"], info_1[\"Rooms\"], color ='g', width = 0.6)\n",
        "plt.ylabel(\"Room in the house \")\n",
        "plt.xlabel(\"city \")"
      ],
      "metadata": {
        "colab": {
          "base_uri": "https://localhost:8080/",
          "height": 514
        },
        "id": "YNeB1KrTbzcQ",
        "outputId": "ea13c25e-7cc4-4495-e6ce-6d8067203568"
      },
      "execution_count": 169,
      "outputs": [
        {
          "output_type": "execute_result",
          "data": {
            "text/plain": [
              "Text(0.5, 0, 'city ')"
            ]
          },
          "metadata": {},
          "execution_count": 169
        },
        {
          "output_type": "display_data",
          "data": {
            "text/plain": [
              "<Figure size 720x576 with 1 Axes>"
            ],
            "image/png": "[encoded data removed]"
          },
          "metadata": {
            "needs_background": "light"
          }
        }
      ]
    },
    {
      "cell_type": "code",
      "source": [
        "plt.figure(figsize=(10,8))\n",
        "plt.bar(info_1[\"City\"], info_1[\"Floor\"], color ='g', width = 0.6)\n",
        "plt.ylabel(\"floor in the house \")\n",
        "plt.xlabel(\"city \")"
      ],
      "metadata": {
        "colab": {
          "base_uri": "https://localhost:8080/",
          "height": 514
        },
        "id": "_jrRB8Whb_yz",
        "outputId": "6c9776ff-6565-4db0-ded9-c25a5560aa4d"
      },
      "execution_count": 171,
      "outputs": [
        {
          "output_type": "execute_result",
          "data": {
            "text/plain": [
              "Text(0.5, 0, 'city ')"
            ]
          },
          "metadata": {},
          "execution_count": 171
        },
        {
          "output_type": "display_data",
          "data": {
            "text/plain": [
              "<Figure size 720x576 with 1 Axes>"
            ],
            "image/png": "[encoded data removed]"
          },
          "metadata": {
            "needs_background": "light"
          }
        }
      ]
    },
    {
      "cell_type": "markdown",
      "source": [
        "In the similar fashion , we can plot different different bar graph . we are having mean data of all values stored to us."
      ],
      "metadata": {
        "id": "AUGK42jacOSM"
      }
    },
    {
      "cell_type": "markdown",
      "source": [
        "We are going to check furniture status of the houses in different cities."
      ],
      "metadata": {
        "id": "SYS45iwfcpVx"
      }
    },
    {
      "cell_type": "code",
      "source": [
        "df.furniture\n",
        "city_furniture=list([])\n",
        "for i in range (0,5):\n",
        "  sum=0\n",
        "  for j in range (0,10692):\n",
        "    if(df.city[j]==city_name[i]):\n",
        "      if(df.furniture[j]==\"furnished\"):\n",
        "       sum=sum+1\n",
        "  city_furniture.append(sum)\n",
        "print(city_furniture)\n",
        "print(city_num)"
      ],
      "metadata": {
        "colab": {
          "base_uri": "https://localhost:8080/"
        },
        "id": "NbgFjiqFdBGm",
        "outputId": "2370abe3-bd1f-4cc3-cf28-606c6d24f5c2"
      },
      "execution_count": 173,
      "outputs": [
        {
          "output_type": "stream",
          "name": "stdout",
          "text": [
            "[1593, 319, 406, 111, 177]\n",
            "[5887, 1193, 1501, 853, 1258]\n"
          ]
        }
      ]
    },
    {
      "cell_type": "markdown",
      "source": [
        "above ,\n",
        "it imply that out of 5887 houses in city 01 , only 1593 houses are furnished. and same goes for others\n",
        "\n"
      ],
      "metadata": {
        "id": "rwEES8xAeQ5a"
      }
    },
    {
      "cell_type": "markdown",
      "source": [
        "upon focusing statement 2 of the problem  statement , we try to make corrilation between total expenditure and area and rooms "
      ],
      "metadata": {
        "id": "KYaviS34ezWo"
      }
    },
    {
      "cell_type": "code",
      "source": [
        "info_2={\n",
        "    \"City\":city_name,\n",
        "    \"Total amount\":city_total,\n",
        "    \"Total area\":city_area,\n",
        "    \"Rooms\":city_rooms\n",
        "}\n",
        "pd.DataFrame(info_2).to_csv('out2.csv', index=False)\n",
        "df3 = pd.read_csv('out2.csv')\n",
        "print(df3)"
      ],
      "metadata": {
        "colab": {
          "base_uri": "https://localhost:8080/"
        },
        "id": "JzyJWK0kfatN",
        "outputId": "bb0a6537-6065-48ed-8df3-f929ccd2702f"
      },
      "execution_count": 174,
      "outputs": [
        {
          "output_type": "stream",
          "name": "stdout",
          "text": [
            "             City  Total amount  Total area     Rooms\n",
            "0       São Paulo   6380.831833  158.899439  2.558859\n",
            "1    Porto Alegre   2989.782900  103.609388  2.140821\n",
            "2  Rio de Janeiro   4611.684877  105.347768  2.243837\n",
            "3        Campinas   3173.276671  137.561547  2.355217\n",
            "4  Belo Horizonte   6315.242448  207.411765  3.020668\n"
          ]
        }
      ]
    },
    {
      "cell_type": "markdown",
      "source": [
        "We see that mean of number of room available is approximately same for all city except Belo Horizonte.\n",
        "    hence let us analyse amount needed per square area\n",
        "\n",
        "    ------->\n",
        "    for Sao paulo ,\n",
        "            6380.831833/158.899439=40.156 amount per unit area.\n",
        "    for Porto Alegre ,\n",
        "            2989.782900/103.609388=28.856 amount per unit area .\n",
        "    for Rio de Janeiro ,\n",
        "            4611.684877/105.347768=43.776 amount per unit area.\n",
        "    for Campinas ,\n",
        "            3173.276671/137.561547=23.068 amount per unit area.\n",
        "    for Belo Horizonate ,\n",
        "            6315.242448/207.411765=30.448 amount per unit area .\n",
        "\n",
        "      similarily we can analyse different critrea. "
      ],
      "metadata": {
        "id": "GFxf9yRLgWrA"
      }
    },
    {
      "cell_type": "markdown",
      "source": [
        "**THANK YOU **\n",
        "\n",
        "> \n",
        "THE END\n"
      ],
      "metadata": {
        "id": "xHtiJykpjTKI"
      }
    }
  ]
}